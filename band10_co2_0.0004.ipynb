{
 "cells": [
  {
   "cell_type": "code",
   "execution_count": 54,
   "metadata": {},
   "outputs": [
    {
     "data": {
      "text/html": [
       "\n",
       "    <div class=\"bk-root\">\n",
       "        <a href=\"https://bokeh.pydata.org\" target=\"_blank\" class=\"bk-logo bk-logo-small bk-logo-notebook\"></a>\n",
       "        <span id=\"1c73fd70-987f-4ced-b8c7-fb5367e7ebd7\">Loading BokehJS ...</span>\n",
       "    </div>"
      ]
     },
     "metadata": {},
     "output_type": "display_data"
    },
    {
     "data": {
      "application/javascript": [
       "\n",
       "(function(root) {\n",
       "  function now() {\n",
       "    return new Date();\n",
       "  }\n",
       "\n",
       "  var force = true;\n",
       "\n",
       "  if (typeof (root._bokeh_onload_callbacks) === \"undefined\" || force === true) {\n",
       "    root._bokeh_onload_callbacks = [];\n",
       "    root._bokeh_is_loading = undefined;\n",
       "  }\n",
       "\n",
       "  var JS_MIME_TYPE = 'application/javascript';\n",
       "  var HTML_MIME_TYPE = 'text/html';\n",
       "  var EXEC_MIME_TYPE = 'application/vnd.bokehjs_exec.v0+json';\n",
       "  var CLASS_NAME = 'output_bokeh rendered_html';\n",
       "\n",
       "  /**\n",
       "   * Render data to the DOM node\n",
       "   */\n",
       "  function render(props, node) {\n",
       "    var script = document.createElement(\"script\");\n",
       "    node.appendChild(script);\n",
       "  }\n",
       "\n",
       "  /**\n",
       "   * Handle when an output is cleared or removed\n",
       "   */\n",
       "  function handleClearOutput(event, handle) {\n",
       "    var cell = handle.cell;\n",
       "\n",
       "    var id = cell.output_area._bokeh_element_id;\n",
       "    var server_id = cell.output_area._bokeh_server_id;\n",
       "    // Clean up Bokeh references\n",
       "    if (id !== undefined) {\n",
       "      Bokeh.index[id].model.document.clear();\n",
       "      delete Bokeh.index[id];\n",
       "    }\n",
       "\n",
       "    if (server_id !== undefined) {\n",
       "      // Clean up Bokeh references\n",
       "      var cmd = \"from bokeh.io.state import curstate; print(curstate().uuid_to_server['\" + server_id + \"'].get_sessions()[0].document.roots[0]._id)\";\n",
       "      cell.notebook.kernel.execute(cmd, {\n",
       "        iopub: {\n",
       "          output: function(msg) {\n",
       "            var element_id = msg.content.text.trim();\n",
       "            Bokeh.index[element_id].model.document.clear();\n",
       "            delete Bokeh.index[element_id];\n",
       "          }\n",
       "        }\n",
       "      });\n",
       "      // Destroy server and session\n",
       "      var cmd = \"import bokeh.io.notebook as ion; ion.destroy_server('\" + server_id + \"')\";\n",
       "      cell.notebook.kernel.execute(cmd);\n",
       "    }\n",
       "  }\n",
       "\n",
       "  /**\n",
       "   * Handle when a new output is added\n",
       "   */\n",
       "  function handleAddOutput(event, handle) {\n",
       "    var output_area = handle.output_area;\n",
       "    var output = handle.output;\n",
       "\n",
       "    // limit handleAddOutput to display_data with EXEC_MIME_TYPE content only\n",
       "    if ((output.output_type != \"display_data\") || (!output.data.hasOwnProperty(EXEC_MIME_TYPE))) {\n",
       "      return\n",
       "    }\n",
       "\n",
       "    var toinsert = output_area.element.find(\".\" + CLASS_NAME.split(' ')[0]);\n",
       "\n",
       "    if (output.metadata[EXEC_MIME_TYPE][\"id\"] !== undefined) {\n",
       "      toinsert[toinsert.length - 1].firstChild.textContent = output.data[JS_MIME_TYPE];\n",
       "      // store reference to embed id on output_area\n",
       "      output_area._bokeh_element_id = output.metadata[EXEC_MIME_TYPE][\"id\"];\n",
       "    }\n",
       "    if (output.metadata[EXEC_MIME_TYPE][\"server_id\"] !== undefined) {\n",
       "      var bk_div = document.createElement(\"div\");\n",
       "      bk_div.innerHTML = output.data[HTML_MIME_TYPE];\n",
       "      var script_attrs = bk_div.children[0].attributes;\n",
       "      for (var i = 0; i < script_attrs.length; i++) {\n",
       "        toinsert[toinsert.length - 1].firstChild.setAttribute(script_attrs[i].name, script_attrs[i].value);\n",
       "      }\n",
       "      // store reference to server id on output_area\n",
       "      output_area._bokeh_server_id = output.metadata[EXEC_MIME_TYPE][\"server_id\"];\n",
       "    }\n",
       "  }\n",
       "\n",
       "  function register_renderer(events, OutputArea) {\n",
       "\n",
       "    function append_mime(data, metadata, element) {\n",
       "      // create a DOM node to render to\n",
       "      var toinsert = this.create_output_subarea(\n",
       "        metadata,\n",
       "        CLASS_NAME,\n",
       "        EXEC_MIME_TYPE\n",
       "      );\n",
       "      this.keyboard_manager.register_events(toinsert);\n",
       "      // Render to node\n",
       "      var props = {data: data, metadata: metadata[EXEC_MIME_TYPE]};\n",
       "      render(props, toinsert[toinsert.length - 1]);\n",
       "      element.append(toinsert);\n",
       "      return toinsert\n",
       "    }\n",
       "\n",
       "    /* Handle when an output is cleared or removed */\n",
       "    events.on('clear_output.CodeCell', handleClearOutput);\n",
       "    events.on('delete.Cell', handleClearOutput);\n",
       "\n",
       "    /* Handle when a new output is added */\n",
       "    events.on('output_added.OutputArea', handleAddOutput);\n",
       "\n",
       "    /**\n",
       "     * Register the mime type and append_mime function with output_area\n",
       "     */\n",
       "    OutputArea.prototype.register_mime_type(EXEC_MIME_TYPE, append_mime, {\n",
       "      /* Is output safe? */\n",
       "      safe: true,\n",
       "      /* Index of renderer in `output_area.display_order` */\n",
       "      index: 0\n",
       "    });\n",
       "  }\n",
       "\n",
       "  // register the mime type if in Jupyter Notebook environment and previously unregistered\n",
       "  if (root.Jupyter !== undefined) {\n",
       "    var events = require('base/js/events');\n",
       "    var OutputArea = require('notebook/js/outputarea').OutputArea;\n",
       "\n",
       "    if (OutputArea.prototype.mime_types().indexOf(EXEC_MIME_TYPE) == -1) {\n",
       "      register_renderer(events, OutputArea);\n",
       "    }\n",
       "  }\n",
       "\n",
       "  \n",
       "  if (typeof (root._bokeh_timeout) === \"undefined\" || force === true) {\n",
       "    root._bokeh_timeout = Date.now() + 5000;\n",
       "    root._bokeh_failed_load = false;\n",
       "  }\n",
       "\n",
       "  var NB_LOAD_WARNING = {'data': {'text/html':\n",
       "     \"<div style='background-color: #fdd'>\\n\"+\n",
       "     \"<p>\\n\"+\n",
       "     \"BokehJS does not appear to have successfully loaded. If loading BokehJS from CDN, this \\n\"+\n",
       "     \"may be due to a slow or bad network connection. Possible fixes:\\n\"+\n",
       "     \"</p>\\n\"+\n",
       "     \"<ul>\\n\"+\n",
       "     \"<li>re-rerun `output_notebook()` to attempt to load from CDN again, or</li>\\n\"+\n",
       "     \"<li>use INLINE resources instead, as so:</li>\\n\"+\n",
       "     \"</ul>\\n\"+\n",
       "     \"<code>\\n\"+\n",
       "     \"from bokeh.resources import INLINE\\n\"+\n",
       "     \"output_notebook(resources=INLINE)\\n\"+\n",
       "     \"</code>\\n\"+\n",
       "     \"</div>\"}};\n",
       "\n",
       "  function display_loaded() {\n",
       "    var el = document.getElementById(\"1c73fd70-987f-4ced-b8c7-fb5367e7ebd7\");\n",
       "    if (el != null) {\n",
       "      el.textContent = \"BokehJS is loading...\";\n",
       "    }\n",
       "    if (root.Bokeh !== undefined) {\n",
       "      if (el != null) {\n",
       "        el.textContent = \"BokehJS \" + root.Bokeh.version + \" successfully loaded.\";\n",
       "      }\n",
       "    } else if (Date.now() < root._bokeh_timeout) {\n",
       "      setTimeout(display_loaded, 100)\n",
       "    }\n",
       "  }\n",
       "\n",
       "\n",
       "  function run_callbacks() {\n",
       "    try {\n",
       "      root._bokeh_onload_callbacks.forEach(function(callback) { callback() });\n",
       "    }\n",
       "    finally {\n",
       "      delete root._bokeh_onload_callbacks\n",
       "    }\n",
       "    console.info(\"Bokeh: all callbacks have finished\");\n",
       "  }\n",
       "\n",
       "  function load_libs(js_urls, callback) {\n",
       "    root._bokeh_onload_callbacks.push(callback);\n",
       "    if (root._bokeh_is_loading > 0) {\n",
       "      console.log(\"Bokeh: BokehJS is being loaded, scheduling callback at\", now());\n",
       "      return null;\n",
       "    }\n",
       "    if (js_urls == null || js_urls.length === 0) {\n",
       "      run_callbacks();\n",
       "      return null;\n",
       "    }\n",
       "    console.log(\"Bokeh: BokehJS not loaded, scheduling load and callback at\", now());\n",
       "    root._bokeh_is_loading = js_urls.length;\n",
       "    for (var i = 0; i < js_urls.length; i++) {\n",
       "      var url = js_urls[i];\n",
       "      var s = document.createElement('script');\n",
       "      s.src = url;\n",
       "      s.async = false;\n",
       "      s.onreadystatechange = s.onload = function() {\n",
       "        root._bokeh_is_loading--;\n",
       "        if (root._bokeh_is_loading === 0) {\n",
       "          console.log(\"Bokeh: all BokehJS libraries loaded\");\n",
       "          run_callbacks()\n",
       "        }\n",
       "      };\n",
       "      s.onerror = function() {\n",
       "        console.warn(\"failed to load library \" + url);\n",
       "      };\n",
       "      console.log(\"Bokeh: injecting script tag for BokehJS library: \", url);\n",
       "      document.getElementsByTagName(\"head\")[0].appendChild(s);\n",
       "    }\n",
       "  };var element = document.getElementById(\"1c73fd70-987f-4ced-b8c7-fb5367e7ebd7\");\n",
       "  if (element == null) {\n",
       "    console.log(\"Bokeh: ERROR: autoload.js configured with elementid '1c73fd70-987f-4ced-b8c7-fb5367e7ebd7' but no matching script tag was found. \")\n",
       "    return false;\n",
       "  }\n",
       "\n",
       "  var js_urls = [\"https://cdn.pydata.org/bokeh/release/bokeh-0.12.16.min.js\", \"https://cdn.pydata.org/bokeh/release/bokeh-widgets-0.12.16.min.js\", \"https://cdn.pydata.org/bokeh/release/bokeh-tables-0.12.16.min.js\", \"https://cdn.pydata.org/bokeh/release/bokeh-gl-0.12.16.min.js\"];\n",
       "\n",
       "  var inline_js = [\n",
       "    function(Bokeh) {\n",
       "      Bokeh.set_log_level(\"info\");\n",
       "    },\n",
       "    \n",
       "    function(Bokeh) {\n",
       "      \n",
       "    },\n",
       "    function(Bokeh) {\n",
       "      console.log(\"Bokeh: injecting CSS: https://cdn.pydata.org/bokeh/release/bokeh-0.12.16.min.css\");\n",
       "      Bokeh.embed.inject_css(\"https://cdn.pydata.org/bokeh/release/bokeh-0.12.16.min.css\");\n",
       "      console.log(\"Bokeh: injecting CSS: https://cdn.pydata.org/bokeh/release/bokeh-widgets-0.12.16.min.css\");\n",
       "      Bokeh.embed.inject_css(\"https://cdn.pydata.org/bokeh/release/bokeh-widgets-0.12.16.min.css\");\n",
       "      console.log(\"Bokeh: injecting CSS: https://cdn.pydata.org/bokeh/release/bokeh-tables-0.12.16.min.css\");\n",
       "      Bokeh.embed.inject_css(\"https://cdn.pydata.org/bokeh/release/bokeh-tables-0.12.16.min.css\");\n",
       "    }\n",
       "  ];\n",
       "\n",
       "  function run_inline_js() {\n",
       "    \n",
       "    if ((root.Bokeh !== undefined) || (force === true)) {\n",
       "      for (var i = 0; i < inline_js.length; i++) {\n",
       "        inline_js[i].call(root, root.Bokeh);\n",
       "      }if (force === true) {\n",
       "        display_loaded();\n",
       "      }} else if (Date.now() < root._bokeh_timeout) {\n",
       "      setTimeout(run_inline_js, 100);\n",
       "    } else if (!root._bokeh_failed_load) {\n",
       "      console.log(\"Bokeh: BokehJS failed to load within specified timeout.\");\n",
       "      root._bokeh_failed_load = true;\n",
       "    } else if (force !== true) {\n",
       "      var cell = $(document.getElementById(\"1c73fd70-987f-4ced-b8c7-fb5367e7ebd7\")).parents('.cell').data().cell;\n",
       "      cell.output_area.append_execute_result(NB_LOAD_WARNING)\n",
       "    }\n",
       "\n",
       "  }\n",
       "\n",
       "  if (root._bokeh_is_loading === 0) {\n",
       "    console.log(\"Bokeh: BokehJS loaded, going straight to plotting\");\n",
       "    run_inline_js();\n",
       "  } else {\n",
       "    load_libs(js_urls, function() {\n",
       "      console.log(\"Bokeh: BokehJS plotting callback run at\", now());\n",
       "      run_inline_js();\n",
       "    });\n",
       "  }\n",
       "}(window));"
      ],
      "application/vnd.bokehjs_load.v0+json": "\n(function(root) {\n  function now() {\n    return new Date();\n  }\n\n  var force = true;\n\n  if (typeof (root._bokeh_onload_callbacks) === \"undefined\" || force === true) {\n    root._bokeh_onload_callbacks = [];\n    root._bokeh_is_loading = undefined;\n  }\n\n  \n\n  \n  if (typeof (root._bokeh_timeout) === \"undefined\" || force === true) {\n    root._bokeh_timeout = Date.now() + 5000;\n    root._bokeh_failed_load = false;\n  }\n\n  var NB_LOAD_WARNING = {'data': {'text/html':\n     \"<div style='background-color: #fdd'>\\n\"+\n     \"<p>\\n\"+\n     \"BokehJS does not appear to have successfully loaded. If loading BokehJS from CDN, this \\n\"+\n     \"may be due to a slow or bad network connection. Possible fixes:\\n\"+\n     \"</p>\\n\"+\n     \"<ul>\\n\"+\n     \"<li>re-rerun `output_notebook()` to attempt to load from CDN again, or</li>\\n\"+\n     \"<li>use INLINE resources instead, as so:</li>\\n\"+\n     \"</ul>\\n\"+\n     \"<code>\\n\"+\n     \"from bokeh.resources import INLINE\\n\"+\n     \"output_notebook(resources=INLINE)\\n\"+\n     \"</code>\\n\"+\n     \"</div>\"}};\n\n  function display_loaded() {\n    var el = document.getElementById(\"1c73fd70-987f-4ced-b8c7-fb5367e7ebd7\");\n    if (el != null) {\n      el.textContent = \"BokehJS is loading...\";\n    }\n    if (root.Bokeh !== undefined) {\n      if (el != null) {\n        el.textContent = \"BokehJS \" + root.Bokeh.version + \" successfully loaded.\";\n      }\n    } else if (Date.now() < root._bokeh_timeout) {\n      setTimeout(display_loaded, 100)\n    }\n  }\n\n\n  function run_callbacks() {\n    try {\n      root._bokeh_onload_callbacks.forEach(function(callback) { callback() });\n    }\n    finally {\n      delete root._bokeh_onload_callbacks\n    }\n    console.info(\"Bokeh: all callbacks have finished\");\n  }\n\n  function load_libs(js_urls, callback) {\n    root._bokeh_onload_callbacks.push(callback);\n    if (root._bokeh_is_loading > 0) {\n      console.log(\"Bokeh: BokehJS is being loaded, scheduling callback at\", now());\n      return null;\n    }\n    if (js_urls == null || js_urls.length === 0) {\n      run_callbacks();\n      return null;\n    }\n    console.log(\"Bokeh: BokehJS not loaded, scheduling load and callback at\", now());\n    root._bokeh_is_loading = js_urls.length;\n    for (var i = 0; i < js_urls.length; i++) {\n      var url = js_urls[i];\n      var s = document.createElement('script');\n      s.src = url;\n      s.async = false;\n      s.onreadystatechange = s.onload = function() {\n        root._bokeh_is_loading--;\n        if (root._bokeh_is_loading === 0) {\n          console.log(\"Bokeh: all BokehJS libraries loaded\");\n          run_callbacks()\n        }\n      };\n      s.onerror = function() {\n        console.warn(\"failed to load library \" + url);\n      };\n      console.log(\"Bokeh: injecting script tag for BokehJS library: \", url);\n      document.getElementsByTagName(\"head\")[0].appendChild(s);\n    }\n  };var element = document.getElementById(\"1c73fd70-987f-4ced-b8c7-fb5367e7ebd7\");\n  if (element == null) {\n    console.log(\"Bokeh: ERROR: autoload.js configured with elementid '1c73fd70-987f-4ced-b8c7-fb5367e7ebd7' but no matching script tag was found. \")\n    return false;\n  }\n\n  var js_urls = [\"https://cdn.pydata.org/bokeh/release/bokeh-0.12.16.min.js\", \"https://cdn.pydata.org/bokeh/release/bokeh-widgets-0.12.16.min.js\", \"https://cdn.pydata.org/bokeh/release/bokeh-tables-0.12.16.min.js\", \"https://cdn.pydata.org/bokeh/release/bokeh-gl-0.12.16.min.js\"];\n\n  var inline_js = [\n    function(Bokeh) {\n      Bokeh.set_log_level(\"info\");\n    },\n    \n    function(Bokeh) {\n      \n    },\n    function(Bokeh) {\n      console.log(\"Bokeh: injecting CSS: https://cdn.pydata.org/bokeh/release/bokeh-0.12.16.min.css\");\n      Bokeh.embed.inject_css(\"https://cdn.pydata.org/bokeh/release/bokeh-0.12.16.min.css\");\n      console.log(\"Bokeh: injecting CSS: https://cdn.pydata.org/bokeh/release/bokeh-widgets-0.12.16.min.css\");\n      Bokeh.embed.inject_css(\"https://cdn.pydata.org/bokeh/release/bokeh-widgets-0.12.16.min.css\");\n      console.log(\"Bokeh: injecting CSS: https://cdn.pydata.org/bokeh/release/bokeh-tables-0.12.16.min.css\");\n      Bokeh.embed.inject_css(\"https://cdn.pydata.org/bokeh/release/bokeh-tables-0.12.16.min.css\");\n    }\n  ];\n\n  function run_inline_js() {\n    \n    if ((root.Bokeh !== undefined) || (force === true)) {\n      for (var i = 0; i < inline_js.length; i++) {\n        inline_js[i].call(root, root.Bokeh);\n      }if (force === true) {\n        display_loaded();\n      }} else if (Date.now() < root._bokeh_timeout) {\n      setTimeout(run_inline_js, 100);\n    } else if (!root._bokeh_failed_load) {\n      console.log(\"Bokeh: BokehJS failed to load within specified timeout.\");\n      root._bokeh_failed_load = true;\n    } else if (force !== true) {\n      var cell = $(document.getElementById(\"1c73fd70-987f-4ced-b8c7-fb5367e7ebd7\")).parents('.cell').data().cell;\n      cell.output_area.append_execute_result(NB_LOAD_WARNING)\n    }\n\n  }\n\n  if (root._bokeh_is_loading === 0) {\n    console.log(\"Bokeh: BokehJS loaded, going straight to plotting\");\n    run_inline_js();\n  } else {\n    load_libs(js_urls, function() {\n      console.log(\"Bokeh: BokehJS plotting callback run at\", now());\n      run_inline_js();\n    });\n  }\n}(window));"
     },
     "metadata": {},
     "output_type": "display_data"
    }
   ],
   "source": [
    "%reload_ext autoreload\n",
    "%autoreload 2\n",
    "%matplotlib inline\n",
    "from IPython import display\n",
    "from pathlib import *\n",
    "import pandas as pd\n",
    "import xarray as xr\n",
    "from bokeh.palettes import all_palettes\n",
    "from bokeh.io import show, output_notebook\n",
    "from bokeh.layouts import gridplot\n",
    "from climatools.plot.plot import *\n",
    "output_notebook()"
   ]
  },
  {
   "cell_type": "code",
   "execution_count": 36,
   "metadata": {},
   "outputs": [
    {
     "name": "stdout",
     "output_type": "stream",
     "text": [
      "err_427256  fort.20   fort.402\tlblcom.f\t     out_427256\r\n",
      "fort.10     fort.400  fort.403\tlblnew-bestfit-sw.f\r\n",
      "fort.19     fort.401  fort.9\tlblnew-sw.exe\r\n"
     ]
    }
   ],
   "source": [
    "! ls ../crdnew-sw/band10_-_co2_0.0004/"
   ]
  },
  {
   "cell_type": "code",
   "execution_count": 37,
   "metadata": {
    "collapsed": true
   },
   "outputs": [],
   "source": [
    "PATH = Path('../crdnew-sw/band10_-_co2_0.0004/')"
   ]
  },
  {
   "cell_type": "code",
   "execution_count": 38,
   "metadata": {},
   "outputs": [],
   "source": [
    "np.random.seed(30)"
   ]
  },
  {
   "cell_type": "code",
   "execution_count": 51,
   "metadata": {
    "scrolled": false
   },
   "outputs": [
    {
     "data": {
      "text/html": [
       "\n",
       "<div class=\"bk-root\">\n",
       "    <div class=\"bk-plotdiv\" id=\"183a5020-4d82-47e6-a48f-5b80f3111aa2\"></div>\n",
       "</div>"
      ]
     },
     "metadata": {},
     "output_type": "display_data"
    },
    {
     "data": {
      "application/javascript": [
       "(function(root) {\n",
       "  function embed_document(root) {\n",
       "    \n",
       "  var docs_json = {\"584db08f-7797-4a95-ad72-684f63252e02\":{\"roots\":{\"references\":[{\"attributes\":{\"callback\":null,\"data\":{\"x\":{\"__ndarray__\":\"xOHUIO+Aa0BQuIkg74BrQF3gbiDvgGtAQO1DIO+Aa0D33ggg74BrQLv4sh/vgGtAxn03H++Aa0CH9IAe74BrQDighB3vgGtAu40XHO+Aa0CPawka74BrQAbNGRfvgGtAVlLdEu+Aa0BfZcgM74BrQFMDDwTvgGtAKUOP9+6Aa0DWmMbl7oBrQIB1ZszugGtAKhE0qO6Aa0AhTpJ07oBrQLEH5irugGtAkVK/we2Aa0AhsO4v7YBrQPG8VGzsgGtANG0YaOuAa0DTii0M6oBrQHm/XTjogGtArjO2vuWAa0BnaitZ4oBrQAHyyprdgGtAGAHb4taAa0At6N4/zYBrQBSbCzO/gGtAu3ZxNKqAa0DXHYP8iYBrQN6Y+WlXgGtAOCKMXQqAa0ARuODSsn9rQE74ADhRf2tAa5lO4+V+a0Cur1wMcX5rQIf/MufyfWtAgDkGpmt9a0Cc07h523xrQNzfj5FCfGtASgMmDaF7a0BOXFSs9nprQL0EAvhCemtAwuIuyoV5a0BaiIpIv3hrQOADppnvd2tAKv3n3RZ3a0BgtnQ3NXZrQLygU8pKdWtAshrgvFd0a0AXBlU4XHNrQKzkQmlYcmtAi9n1f0xxa0AKWauwOHBrQKddTDMdb2tAX1/KRPpta0A7Bwkw0GxrQLxd7TCfa2tAe3Vlgmdqa0ArTYxdKWlrQH/cfvnkZ2tAO4ICjJpma0A7ruNLSmVrQCdFVHb0Y2tA8+wsWZlia0A6XwVbOWFrQDdGPvHUX2tAsiDehGxea0C1nsZiAF1rQGl9wsCQW2tA\",\"dtype\":\"float64\",\"shape\":[75]},\"y\":{\"__ndarray__\":\"YTJVMCqpMz8tQxzr4jZKPy9uowG8BVI/+n5qvHSTWD8VjErqBDRhP+CcEaW9wWc/CRueXinLcD/UK2UZ4lh3P/yp8dJNYoA/x7q4jQbwhj92cRsN4C2QP/5l9+RhoZY/WDm0yHa+nz8Sg8DKoUWmPyo6kst/SK8/J6CJsOHptT/J5T+k376+P8UgsHJokcU/ih9j7lpCzj+e76fGSzfVP4enV8oyxN0//yH99nXg5D8qOpLLf0jtP2FUUiegifQ/c9cS8kHP/D+/DpwzojQEQIEmwoanVwxAVOOlm8TgE0Dgvg6cM+IbQAMJih9jjiNAH/RsVn1uK0CTqYJRST0zQHicoiO5/DpAaCJseHrtQkDNzMzMzIxKQM3MzMzMeFJAZmZmZmZqWEAAAAAAAFxeQM3MzMzMJmJAmpmZmZkfZUBmZmZmZhhoQDMzMzMzEWtAAAAAAAAKbkBmZmZmZoFwQM3MzMzM/XFAMzMzMzN6c0CamZmZmfZ0QAAAAAAAc3ZAZmZmZmbvd0DNzMzMzGt5QDMzMzMz6HpAmpmZmZlkfEAAAAAAAOF9QGZmZmZmXX9AZmZmZuZsgECamZmZGSuBQM3MzMxM6YFAAAAAAICngkAzMzMzs2WDQGZmZmbmI4RAmpmZmRnihEDNzMzMTKCFQAAAAACAXoZAMzMzM7Mch0BmZmZm5tqHQJqZmZkZmYhAzczMzExXiUAAAAAAgBWKQDMzMzOz04pAZmZmZuaRi0CamZmZGVCMQM3MzMxMDo1AAAAAAIDMjUAzMzMzs4qOQGZmZmbmSI9A\",\"dtype\":\"float64\",\"shape\":[75]}},\"selected\":{\"id\":\"ee3ac009-5459-49e8-86c8-d1a8c5fb7b3d\",\"type\":\"Selection\"},\"selection_policy\":{\"id\":\"b93fffab-027d-4c92-ae23-acd59910d0fe\",\"type\":\"UnionRenderers\"}},\"id\":\"996c77fa-9bb5-4f38-9ae6-a8c59e599f28\",\"type\":\"ColumnDataSource\"},{\"attributes\":{\"callback\":null,\"data\":{\"x\":{\"__ndarray__\":\"FID7EfGYE0DAgaAO8ZgTQNLoSA3xmBNAbYNFC/GYE0CRUZYI8ZgTQMaGjwTxmBNADiMx//CYE0ACwXf28JgTQKNgY+rwmBNAFNBE2PCYE0DwqRi+8JgTQG0j2JfwmBNA0tgkYPCYE0AUaEUO8JgTQEo90ZbvmBNAwflY6u6YE0CqdQvy7ZgTQNQoA4vsmBNAO16aheqYE0AqB6uY55gTQIxXMFzjmBNAygHUN92YE0C9eg2o1JgTQF1dgEPJmBNAgxYSMLqYE0A6OH3ipZgTQPX5pOqJmBNA5iu7P2KYE0Dgnd+kJ5gTQEp45/XMlxNA1j/jHTuXE0DtIpbeSJYTQMzlq4mqlBNADGL7JNKRE0ByN0a6uIwTQO1RTYOBgxNAOV9P6LNzE0CLTEToNWATQFoU8hhQSRNAUckxQD8vE0BJGUiCNhITQA7jZp9k8hJA7usCVvXPEkAaqOc4EqsSQNnKrijjgxJAUq62g41aEkBNL85rLi8SQLLjlsHeARJA+SaXEL3SEUCjZptd76ERQC4z8MyZbxFA4qdY0t07EUAkQfoe3AYRQHrcXKG00BBARCG4gIaZEEBtgpgZcGEQQL08OgGPKBBAp1BI+P/dD0DUQuryvWkPQPm2RwyO9A5AwwcbQ6V+DkAFnv9HOwgOQKHMUCZ/kQ1ASn5hhZ0aDUBKo7iZwKMMQARgdi4QLQxA+GkeuLG2C0A6fwuZyEALQOeXd4t2ywpAfUzWbtxWCkDy+bTMGuMJQH3M5vVQcAlARemYFJv+CECeQDtUEY4IQKU9kILIHghA\",\"dtype\":\"float64\",\"shape\":[75]},\"y\":{\"__ndarray__\":\"YTJVMCqpMz8tQxzr4jZKPy9uowG8BVI/+n5qvHSTWD8VjErqBDRhP+CcEaW9wWc/CRueXinLcD/UK2UZ4lh3P/yp8dJNYoA/x7q4jQbwhj92cRsN4C2QP/5l9+RhoZY/WDm0yHa+nz8Sg8DKoUWmPyo6kst/SK8/J6CJsOHptT/J5T+k376+P8UgsHJokcU/ih9j7lpCzj+e76fGSzfVP4enV8oyxN0//yH99nXg5D8qOpLLf0jtP2FUUiegifQ/c9cS8kHP/D+/DpwzojQEQIEmwoanVwxAVOOlm8TgE0Dgvg6cM+IbQAMJih9jjiNAH/RsVn1uK0CTqYJRST0zQHicoiO5/DpAaCJseHrtQkDNzMzMzIxKQM3MzMzMeFJAZmZmZmZqWEAAAAAAAFxeQM3MzMzMJmJAmpmZmZkfZUBmZmZmZhhoQDMzMzMzEWtAAAAAAAAKbkBmZmZmZoFwQM3MzMzM/XFAMzMzMzN6c0CamZmZmfZ0QAAAAAAAc3ZAZmZmZmbvd0DNzMzMzGt5QDMzMzMz6HpAmpmZmZlkfEAAAAAAAOF9QGZmZmZmXX9AZmZmZuZsgECamZmZGSuBQM3MzMxM6YFAAAAAAICngkAzMzMzs2WDQGZmZmbmI4RAmpmZmRnihEDNzMzMTKCFQAAAAACAXoZAMzMzM7Mch0BmZmZm5tqHQJqZmZkZmYhAzczMzExXiUAAAAAAgBWKQDMzMzOz04pAZmZmZuaRi0CamZmZGVCMQM3MzMxMDo1AAAAAAIDMjUAzMzMzs4qOQGZmZmbmSI9A\",\"dtype\":\"float64\",\"shape\":[75]}},\"selected\":{\"id\":\"28118861-7721-4b5d-8e67-e1d478539b1d\",\"type\":\"Selection\"},\"selection_policy\":{\"id\":\"3d1c1a0c-518a-4f02-9321-fbf3d267fd7d\",\"type\":\"UnionRenderers\"}},\"id\":\"f97c1ee9-deeb-42b4-b1b5-0775541b5188\",\"type\":\"ColumnDataSource\"},{\"attributes\":{\"line_alpha\":0.7913613431731464,\"line_color\":\"#e377c2\",\"line_dash\":[6],\"line_width\":1.2772586160604131,\"x\":{\"field\":\"x\"},\"y\":{\"field\":\"y\"}},\"id\":\"0dd2e5ce-3812-44ee-811c-76f4227a811d\",\"type\":\"Line\"},{\"attributes\":{\"line_alpha\":0.1,\"line_color\":\"#1f77b4\",\"line_dash\":[6],\"line_width\":1.2772586160604131,\"x\":{\"field\":\"x\"},\"y\":{\"field\":\"y\"}},\"id\":\"e83b8fed-c2aa-4da8-9d17-cfb0995f4761\",\"type\":\"Line\"},{\"attributes\":{\"data_source\":{\"id\":\"f97c1ee9-deeb-42b4-b1b5-0775541b5188\",\"type\":\"ColumnDataSource\"},\"glyph\":{\"id\":\"0dd2e5ce-3812-44ee-811c-76f4227a811d\",\"type\":\"Line\"},\"hover_glyph\":null,\"muted_glyph\":null,\"nonselection_glyph\":{\"id\":\"e83b8fed-c2aa-4da8-9d17-cfb0995f4761\",\"type\":\"Line\"},\"selection_glyph\":null,\"view\":{\"id\":\"1f291307-a034-43a3-9d58-9af6aa1c46f8\",\"type\":\"CDSView\"}},\"id\":\"2082ef18-c9fe-4b8d-86b6-5f37760d4945\",\"type\":\"GlyphRenderer\"},{\"attributes\":{\"axis_label\":\"flux\",\"formatter\":{\"id\":\"ca8b50b0-f06a-4e20-8614-0f43bd7d288c\",\"type\":\"BasicTickFormatter\"},\"plot\":{\"id\":\"5f922513-f665-442e-b87b-4501bca45ae8\",\"subtype\":\"Figure\",\"type\":\"Plot\"},\"ticker\":{\"id\":\"81cd3469-1afd-440a-be0f-daec16cd388d\",\"type\":\"BasicTicker\"}},\"id\":\"a1d54577-fcad-45a0-858a-b8d2c858ecc5\",\"type\":\"LinearAxis\"},{\"attributes\":{\"source\":{\"id\":\"f97c1ee9-deeb-42b4-b1b5-0775541b5188\",\"type\":\"ColumnDataSource\"}},\"id\":\"1f291307-a034-43a3-9d58-9af6aa1c46f8\",\"type\":\"CDSView\"},{\"attributes\":{\"line_alpha\":0.8492648767016329,\"line_color\":\"#9467bd\",\"line_dash\":[6,4,2,4],\"line_width\":2.0562254553040358,\"x\":{\"field\":\"x\"},\"y\":{\"field\":\"y\"}},\"id\":\"f2d56bc2-ae0e-4794-8ca9-8dca333bc979\",\"type\":\"Line\"},{\"attributes\":{\"line_alpha\":0.1,\"line_color\":\"#1f77b4\",\"line_dash\":[6,4,2,4],\"line_width\":2.0562254553040358,\"x\":{\"field\":\"x\"},\"y\":{\"field\":\"y\"}},\"id\":\"6c7a5f9d-30b8-4f3d-8227-d6aee4bde6f3\",\"type\":\"Line\"},{\"attributes\":{\"line_alpha\":0.8117081003287956,\"line_color\":\"#2ca02c\",\"line_width\":1.7411399762387365,\"x\":{\"field\":\"x\"},\"y\":{\"field\":\"y\"}},\"id\":\"8906cd35-fc78-4033-a7ac-56966bcc0256\",\"type\":\"Line\"},{\"attributes\":{\"data_source\":{\"id\":\"996c77fa-9bb5-4f38-9ae6-a8c59e599f28\",\"type\":\"ColumnDataSource\"},\"glyph\":{\"id\":\"f2d56bc2-ae0e-4794-8ca9-8dca333bc979\",\"type\":\"Line\"},\"hover_glyph\":null,\"muted_glyph\":null,\"nonselection_glyph\":{\"id\":\"6c7a5f9d-30b8-4f3d-8227-d6aee4bde6f3\",\"type\":\"Line\"},\"selection_glyph\":null,\"view\":{\"id\":\"41f06981-b98a-4f82-bd76-3034cfd4a841\",\"type\":\"CDSView\"}},\"id\":\"2c90c34e-e4e0-40fd-a04e-916065f15436\",\"type\":\"GlyphRenderer\"},{\"attributes\":{\"source\":{\"id\":\"996c77fa-9bb5-4f38-9ae6-a8c59e599f28\",\"type\":\"ColumnDataSource\"}},\"id\":\"41f06981-b98a-4f82-bd76-3034cfd4a841\",\"type\":\"CDSView\"},{\"attributes\":{},\"id\":\"ca8b50b0-f06a-4e20-8614-0f43bd7d288c\",\"type\":\"BasicTickFormatter\"},{\"attributes\":{\"plot\":null,\"text\":\"\"},\"id\":\"849127ff-ebad-46b8-910d-63c60ede06c8\",\"type\":\"Title\"},{\"attributes\":{\"label\":{\"value\":\"1\"},\"renderers\":[{\"id\":\"c18ee2a7-779f-4fb0-8be7-d9f1e37eafcf\",\"type\":\"GlyphRenderer\"}]},\"id\":\"70b06b42-e44f-41d2-8be9-fe4f661ac8bc\",\"type\":\"LegendItem\"},{\"attributes\":{},\"id\":\"43f6145e-5641-4851-8154-b1c880e0c983\",\"type\":\"BasicTickFormatter\"},{\"attributes\":{\"above\":[{\"id\":\"ac4f163a-acba-43d6-acf3-cd045a43a1a5\",\"type\":\"Legend\"}],\"below\":[{\"id\":\"a1d54577-fcad-45a0-858a-b8d2c858ecc5\",\"type\":\"LinearAxis\"}],\"left\":[{\"id\":\"2505a4b5-731e-4889-916a-ff5831ff444a\",\"type\":\"LinearAxis\"}],\"plot_width\":500,\"renderers\":[{\"id\":\"a1d54577-fcad-45a0-858a-b8d2c858ecc5\",\"type\":\"LinearAxis\"},{\"id\":\"fdd51757-8fc7-47cd-962e-5912e72cbaea\",\"type\":\"Grid\"},{\"id\":\"2505a4b5-731e-4889-916a-ff5831ff444a\",\"type\":\"LinearAxis\"},{\"id\":\"57a2b09c-07d7-4579-b937-c3c778db9e07\",\"type\":\"Grid\"},{\"id\":\"d2ea6fa3-0e34-462d-bf56-36675b06314c\",\"type\":\"BoxAnnotation\"},{\"id\":\"c18ee2a7-779f-4fb0-8be7-d9f1e37eafcf\",\"type\":\"GlyphRenderer\"},{\"id\":\"c2034db7-55ce-4fd6-bcbc-464284b88e5f\",\"type\":\"GlyphRenderer\"},{\"id\":\"247858f2-ecc9-418e-9459-7b899b40a837\",\"type\":\"GlyphRenderer\"},{\"id\":\"4382fe4b-c970-4e7d-9a98-2b7ab03be2bf\",\"type\":\"GlyphRenderer\"},{\"id\":\"3d651600-6abf-4c7e-a719-6089e11eedf7\",\"type\":\"GlyphRenderer\"},{\"id\":\"5d5a8170-58bf-428b-9f9c-5fb427020d2f\",\"type\":\"GlyphRenderer\"},{\"id\":\"2082ef18-c9fe-4b8d-86b6-5f37760d4945\",\"type\":\"GlyphRenderer\"},{\"id\":\"2c90c34e-e4e0-40fd-a04e-916065f15436\",\"type\":\"GlyphRenderer\"},{\"id\":\"ac4f163a-acba-43d6-acf3-cd045a43a1a5\",\"type\":\"Legend\"}],\"title\":{\"id\":\"849127ff-ebad-46b8-910d-63c60ede06c8\",\"type\":\"Title\"},\"toolbar\":{\"id\":\"4c57460a-7a69-438b-adaa-e5fb9f387f01\",\"type\":\"Toolbar\"},\"x_range\":{\"id\":\"9902e228-1c94-44fc-b7df-00e3f3551663\",\"type\":\"Range1d\"},\"x_scale\":{\"id\":\"c147e047-ceff-4434-bd1e-3ae2a50e9c78\",\"type\":\"LinearScale\"},\"y_range\":{\"id\":\"8081a156-1485-4b4a-81b5-0328d155e20c\",\"type\":\"Range1d\"},\"y_scale\":{\"id\":\"50283bb8-474b-4918-af29-c921d6550bfc\",\"type\":\"LinearScale\"}},\"id\":\"5f922513-f665-442e-b87b-4501bca45ae8\",\"subtype\":\"Figure\",\"type\":\"Plot\"},{\"attributes\":{\"label\":{\"value\":\"2\"},\"renderers\":[{\"id\":\"c2034db7-55ce-4fd6-bcbc-464284b88e5f\",\"type\":\"GlyphRenderer\"}]},\"id\":\"c2176d8a-6591-4f90-bee7-aad4563f76e7\",\"type\":\"LegendItem\"},{\"attributes\":{\"line_alpha\":0.8536278310105345,\"line_color\":\"#1f77b4\",\"line_dash\":[6,4,2,4],\"line_width\":3.519654860839082,\"x\":{\"field\":\"x\"},\"y\":{\"field\":\"y\"}},\"id\":\"dda6d7dd-1a75-4f24-94d9-6a2a801ed10b\",\"type\":\"Line\"},{\"attributes\":{},\"id\":\"f43c0c18-6076-494d-9a38-3c3a8afcc6cb\",\"type\":\"UnionRenderers\"},{\"attributes\":{\"data_source\":{\"id\":\"3d6610e9-406f-41ac-a197-4afcab5f74aa\",\"type\":\"ColumnDataSource\"},\"glyph\":{\"id\":\"dda6d7dd-1a75-4f24-94d9-6a2a801ed10b\",\"type\":\"Line\"},\"hover_glyph\":null,\"muted_glyph\":null,\"nonselection_glyph\":{\"id\":\"927be98a-6224-4b35-bdaa-ef372287de44\",\"type\":\"Line\"},\"selection_glyph\":null,\"view\":{\"id\":\"a156656a-7931-4fe8-9bb2-d3fe2910728e\",\"type\":\"CDSView\"}},\"id\":\"247858f2-ecc9-418e-9459-7b899b40a837\",\"type\":\"GlyphRenderer\"},{\"attributes\":{\"label\":{\"value\":\"3\"},\"renderers\":[{\"id\":\"247858f2-ecc9-418e-9459-7b899b40a837\",\"type\":\"GlyphRenderer\"}]},\"id\":\"8a6ec5e9-d4fc-40e9-963c-6a2669c16cfd\",\"type\":\"LegendItem\"},{\"attributes\":{\"source\":{\"id\":\"addb6291-c819-4f7b-a899-b79f494060e2\",\"type\":\"ColumnDataSource\"}},\"id\":\"9fae4e92-4016-4f27-b3bf-6b87d970026c\",\"type\":\"CDSView\"},{\"attributes\":{},\"id\":\"0341b876-e478-4e69-b788-40df115349ba\",\"type\":\"UnionRenderers\"},{\"attributes\":{\"label\":{\"value\":\"4\"},\"renderers\":[{\"id\":\"4382fe4b-c970-4e7d-9a98-2b7ab03be2bf\",\"type\":\"GlyphRenderer\"}]},\"id\":\"efe7700f-782e-470b-a991-0beaf884e8c4\",\"type\":\"LegendItem\"},{\"attributes\":{\"data_source\":{\"id\":\"331fe37f-79ff-4d84-b291-dbe204dc7df6\",\"type\":\"ColumnDataSource\"},\"glyph\":{\"id\":\"68688162-0f7d-436d-a547-e84de54ee417\",\"type\":\"Line\"},\"hover_glyph\":null,\"muted_glyph\":null,\"nonselection_glyph\":{\"id\":\"9329069d-e9a1-4f94-9d66-e6c51d7653d4\",\"type\":\"Line\"},\"selection_glyph\":null,\"view\":{\"id\":\"fc537e01-8b5c-4da3-b6da-5533cb62c5e0\",\"type\":\"CDSView\"}},\"id\":\"5d5a8170-58bf-428b-9f9c-5fb427020d2f\",\"type\":\"GlyphRenderer\"},{\"attributes\":{\"label\":{\"value\":\"5\"},\"renderers\":[{\"id\":\"3d651600-6abf-4c7e-a719-6089e11eedf7\",\"type\":\"GlyphRenderer\"}]},\"id\":\"6b27c79a-d3b9-4fa5-9779-6618880e2d17\",\"type\":\"LegendItem\"},{\"attributes\":{\"label\":{\"value\":\"6\"},\"renderers\":[{\"id\":\"5d5a8170-58bf-428b-9f9c-5fb427020d2f\",\"type\":\"GlyphRenderer\"}]},\"id\":\"34f9fa72-e498-47a9-a701-9d0e951ec153\",\"type\":\"LegendItem\"},{\"attributes\":{\"source\":{\"id\":\"331fe37f-79ff-4d84-b291-dbe204dc7df6\",\"type\":\"ColumnDataSource\"}},\"id\":\"fc537e01-8b5c-4da3-b6da-5533cb62c5e0\",\"type\":\"CDSView\"},{\"attributes\":{\"label\":{\"value\":\"7\"},\"renderers\":[{\"id\":\"2082ef18-c9fe-4b8d-86b6-5f37760d4945\",\"type\":\"GlyphRenderer\"}]},\"id\":\"60b3d521-0fab-4d80-a66f-4fd01a9173d6\",\"type\":\"LegendItem\"},{\"attributes\":{\"label\":{\"value\":\"8\"},\"renderers\":[{\"id\":\"2c90c34e-e4e0-40fd-a04e-916065f15436\",\"type\":\"GlyphRenderer\"}]},\"id\":\"e08661c2-0017-474f-8c26-8bcd919c6461\",\"type\":\"LegendItem\"},{\"attributes\":{\"line_alpha\":0.1,\"line_color\":\"#1f77b4\",\"line_dash\":[2,4],\"line_width\":1.4742071602458204,\"x\":{\"field\":\"x\"},\"y\":{\"field\":\"y\"}},\"id\":\"4692bf80-a62f-49a8-941c-7d3847d12f3a\",\"type\":\"Line\"},{\"attributes\":{},\"id\":\"eae68a4a-fff4-44e4-be44-a8df0cd95aff\",\"type\":\"UnionRenderers\"},{\"attributes\":{},\"id\":\"3a94e8e9-67d0-4921-85f5-bcfcb8201629\",\"type\":\"Selection\"},{\"attributes\":{},\"id\":\"28118861-7721-4b5d-8e67-e1d478539b1d\",\"type\":\"Selection\"},{\"attributes\":{},\"id\":\"3ea6a423-4e2c-46b3-a30a-af022af68d17\",\"type\":\"Selection\"},{\"attributes\":{},\"id\":\"da97d5d7-2bdf-41cc-b75b-718bfcf647d6\",\"type\":\"Selection\"},{\"attributes\":{\"callback\":null,\"data\":{\"x\":{\"__ndarray__\":\"/gxOyPdasD+dy9yVwFqwP5dUjkWqWrA/YHgEu4pasD/cxU1wXlqwP/ZIILEfWrA/sgGmRsdZsD/4fhd0SlmwP4Fn70qaWLA/MFBr/aFXsD8BwmYERFawP/HIaZlWVLA/Du73WZ9RsD+vGcfly02wP+jgNqZpSLA/QybwudlAsD/gE4gqPjawP4CYpRliJ7A/28ZdjJoSsD/c7Pb2OuuvP7LI4Vmjmq8/5HiyWf0qrz95kQn4NZKuPw9+JB3Mw60/xPIAeSOxrD8q8rlNl0mrP/5O7tLhfKk/Uz9OHGk+pz8kin+ORYmkP/0HYBy/ZKE/L1YvGo3Xmz9oUDyAqKiUPy1QvfsEzIs/4MY9yHi1gD/puo1ZOEFyP0DOqLcOJ2M/YwUiOOzGVD8OxsLvKpRKP2jwMTdjwUI/UtBQUEg6PD8O2FkdzjY2PzcPUK/OEDI/ggY4ENQhLj8imxaCPaIpPzJolVe2KCY/dgb80LtnIz/7pMEKQyYhP4+6xvwWfB4/pSDs0o40Gz8gF6yjcF4YPwCiiUVG5hU/5T9JJky9Ez+AtYvlbdcRP5UNzlRGKxA/2uv2vI9hDT+zW+xyIcEKP29SCwSFagg/ztrQQVVUBj+eIqiWhHYEP7ud2J60ywI/8XnNxNdLAT9JnHh7zuX/PmYc2UsJd/0+KS7gyLBI+z44c0D5WE35PoKlHatSgvc+1PLiSJDf9T4sW5DSEWX0PlcMkbLJCvM+VQbl6LfQ8T4BvdMRfrHwPrlgulo4Wu8+iaiRr2d87T5yUS0iisnrPlDP1E5BPOo+\",\"dtype\":\"float64\",\"shape\":[75]},\"y\":{\"__ndarray__\":\"YTJVMCqpMz8tQxzr4jZKPy9uowG8BVI/+n5qvHSTWD8VjErqBDRhP+CcEaW9wWc/CRueXinLcD/UK2UZ4lh3P/yp8dJNYoA/x7q4jQbwhj92cRsN4C2QP/5l9+RhoZY/WDm0yHa+nz8Sg8DKoUWmPyo6kst/SK8/J6CJsOHptT/J5T+k376+P8UgsHJokcU/ih9j7lpCzj+e76fGSzfVP4enV8oyxN0//yH99nXg5D8qOpLLf0jtP2FUUiegifQ/c9cS8kHP/D+/DpwzojQEQIEmwoanVwxAVOOlm8TgE0Dgvg6cM+IbQAMJih9jjiNAH/RsVn1uK0CTqYJRST0zQHicoiO5/DpAaCJseHrtQkDNzMzMzIxKQM3MzMzMeFJAZmZmZmZqWEAAAAAAAFxeQM3MzMzMJmJAmpmZmZkfZUBmZmZmZhhoQDMzMzMzEWtAAAAAAAAKbkBmZmZmZoFwQM3MzMzM/XFAMzMzMzN6c0CamZmZmfZ0QAAAAAAAc3ZAZmZmZmbvd0DNzMzMzGt5QDMzMzMz6HpAmpmZmZlkfEAAAAAAAOF9QGZmZmZmXX9AZmZmZuZsgECamZmZGSuBQM3MzMxM6YFAAAAAAICngkAzMzMzs2WDQGZmZmbmI4RAmpmZmRnihEDNzMzMTKCFQAAAAACAXoZAMzMzM7Mch0BmZmZm5tqHQJqZmZkZmYhAzczMzExXiUAAAAAAgBWKQDMzMzOz04pAZmZmZuaRi0CamZmZGVCMQM3MzMxMDo1AAAAAAIDMjUAzMzMzs4qOQGZmZmbmSI9A\",\"dtype\":\"float64\",\"shape\":[75]}},\"selected\":{\"id\":\"da97d5d7-2bdf-41cc-b75b-718bfcf647d6\",\"type\":\"Selection\"},\"selection_policy\":{\"id\":\"0341b876-e478-4e69-b788-40df115349ba\",\"type\":\"UnionRenderers\"}},\"id\":\"addb6291-c819-4f7b-a899-b79f494060e2\",\"type\":\"ColumnDataSource\"},{\"attributes\":{\"data_source\":{\"id\":\"01bb074c-66f7-4849-9b79-353411d5413e\",\"type\":\"ColumnDataSource\"},\"glyph\":{\"id\":\"fad970cd-e05f-4a28-a1fb-d82a039b3a48\",\"type\":\"Line\"},\"hover_glyph\":null,\"muted_glyph\":null,\"nonselection_glyph\":{\"id\":\"f9f8fb4b-1db0-4c8a-bf30-2c0927fc1477\",\"type\":\"Line\"},\"selection_glyph\":null,\"view\":{\"id\":\"c8cf0c73-e317-45cf-bf51-9afa958d3b39\",\"type\":\"CDSView\"}},\"id\":\"c18ee2a7-779f-4fb0-8be7-d9f1e37eafcf\",\"type\":\"GlyphRenderer\"},{\"attributes\":{},\"id\":\"6001d74b-fdd2-43f8-b194-d746d6bfc85a\",\"type\":\"Selection\"},{\"attributes\":{\"source\":{\"id\":\"6c616f0c-9386-436d-9711-a672bbf85b0a\",\"type\":\"ColumnDataSource\"}},\"id\":\"72e2862d-ce4d-4ba3-a71c-5619a796c9d3\",\"type\":\"CDSView\"},{\"attributes\":{},\"id\":\"894faeee-3899-4e2d-bf05-f60af115ea15\",\"type\":\"UnionRenderers\"},{\"attributes\":{\"data_source\":{\"id\":\"6c616f0c-9386-436d-9711-a672bbf85b0a\",\"type\":\"ColumnDataSource\"},\"glyph\":{\"id\":\"bc35d2a6-87ba-4253-aabc-1be2963cfa1c\",\"type\":\"Line\"},\"hover_glyph\":null,\"muted_glyph\":null,\"nonselection_glyph\":{\"id\":\"4692bf80-a62f-49a8-941c-7d3847d12f3a\",\"type\":\"Line\"},\"selection_glyph\":null,\"view\":{\"id\":\"72e2862d-ce4d-4ba3-a71c-5619a796c9d3\",\"type\":\"CDSView\"}},\"id\":\"4382fe4b-c970-4e7d-9a98-2b7ab03be2bf\",\"type\":\"GlyphRenderer\"},{\"attributes\":{\"line_alpha\":0.9337931063276776,\"line_color\":\"#17becf\",\"line_dash\":[6],\"line_width\":2.6100338799018634,\"x\":{\"field\":\"x\"},\"y\":{\"field\":\"y\"}},\"id\":\"fad970cd-e05f-4a28-a1fb-d82a039b3a48\",\"type\":\"Line\"},{\"attributes\":{},\"id\":\"3d1c1a0c-518a-4f02-9321-fbf3d267fd7d\",\"type\":\"UnionRenderers\"},{\"attributes\":{},\"id\":\"ee3ac009-5459-49e8-86c8-d1a8c5fb7b3d\",\"type\":\"Selection\"},{\"attributes\":{},\"id\":\"b93fffab-027d-4c92-ae23-acd59910d0fe\",\"type\":\"UnionRenderers\"},{\"attributes\":{\"line_alpha\":0.1,\"line_color\":\"#1f77b4\",\"line_dash\":[2,4,6,4],\"line_width\":3.189586673724839,\"x\":{\"field\":\"x\"},\"y\":{\"field\":\"y\"}},\"id\":\"9329069d-e9a1-4f94-9d66-e6c51d7653d4\",\"type\":\"Line\"},{\"attributes\":{},\"id\":\"e74be7ce-851e-4f70-b111-2ae9434c221e\",\"type\":\"Selection\"},{\"attributes\":{\"callback\":null,\"data\":{\"x\":{\"__ndarray__\":\"vuMtumnxnT+oGnv+ze6dP1uGzTrC7Z0/PnXubkzsnT8CmoxTQuqdP+fikIlr550/caPx2XTjnT9nlLI18N2dP7ZoIug/1p0/dkqsMY3LnT8lyRjErLydP5piaTsBqJ0/FomFMVSLnT9uGlcznWOdP1DRieu1LJ0/Rl3vJ/jgnD/jYndH53icP7GZ8Anh6ps/jTFmAckqmz/wK3u3HiqaP0Xwv5Xs2Jg/Nl2JH+cmlz9Ur3ShZgaVP2XYcnhScJI/v7cr7FDqjj+L7xf1QX2IP+Mex+YVFYI/tKz7x0J0eD+E82dHw4xtP/XQJblP0F4/ybHU/vd1Sj9EhSwDtbUxP9L8c8kfqRE/9GB7+6186j6fOMKasQXAPo3ttaD3xpA+K2mkKSsbYD46jDDijnlFPgAAAAAAAAAAAAAAAAAAAAAAAAAAAAAAAAAAAAAAAAAAAAAAAAAAAAAAAAAAAAAAAAAAAAAAAAAAAAAAAAAAAAAAAAAAAAAAAAAAAAAAAAAAAAAAAAAAAAAAAAAAAAAAAAAAAAAAAAAAAAAAAAAAAAAAAAAAAAAAAAAAAAAAAAAAAAAAAAAAAAAAAAAAAAAAAAAAAAAAAAAAAAAAAAAAAAAAAAAAAAAAAAAAAAAAAAAAAAAAAAAAAAAAAAAAAAAAAAAAAAAAAAAAAAAAAAAAAAAAAAAAAAAAAAAAAAAAAAAAAAAAAAAAAAAAAAAAAAAAAAAAAAAAAAAAAAAAAAAAAAAAAAAAAAAAAAAAAAAAAAAAAAAAAAAAAAAAAAAAAAAAAAAAAAAAAAAA\",\"dtype\":\"float64\",\"shape\":[75]},\"y\":{\"__ndarray__\":\"YTJVMCqpMz8tQxzr4jZKPy9uowG8BVI/+n5qvHSTWD8VjErqBDRhP+CcEaW9wWc/CRueXinLcD/UK2UZ4lh3P/yp8dJNYoA/x7q4jQbwhj92cRsN4C2QP/5l9+RhoZY/WDm0yHa+nz8Sg8DKoUWmPyo6kst/SK8/J6CJsOHptT/J5T+k376+P8UgsHJokcU/ih9j7lpCzj+e76fGSzfVP4enV8oyxN0//yH99nXg5D8qOpLLf0jtP2FUUiegifQ/c9cS8kHP/D+/DpwzojQEQIEmwoanVwxAVOOlm8TgE0Dgvg6cM+IbQAMJih9jjiNAH/RsVn1uK0CTqYJRST0zQHicoiO5/DpAaCJseHrtQkDNzMzMzIxKQM3MzMzMeFJAZmZmZmZqWEAAAAAAAFxeQM3MzMzMJmJAmpmZmZkfZUBmZmZmZhhoQDMzMzMzEWtAAAAAAAAKbkBmZmZmZoFwQM3MzMzM/XFAMzMzMzN6c0CamZmZmfZ0QAAAAAAAc3ZAZmZmZmbvd0DNzMzMzGt5QDMzMzMz6HpAmpmZmZlkfEAAAAAAAOF9QGZmZmZmXX9AZmZmZuZsgECamZmZGSuBQM3MzMxM6YFAAAAAAICngkAzMzMzs2WDQGZmZmbmI4RAmpmZmRnihEDNzMzMTKCFQAAAAACAXoZAMzMzM7Mch0BmZmZm5tqHQJqZmZkZmYhAzczMzExXiUAAAAAAgBWKQDMzMzOz04pAZmZmZuaRi0CamZmZGVCMQM3MzMxMDo1AAAAAAIDMjUAzMzMzs4qOQGZmZmbmSI9A\",\"dtype\":\"float64\",\"shape\":[75]}},\"selected\":{\"id\":\"3ea6a423-4e2c-46b3-a30a-af022af68d17\",\"type\":\"Selection\"},\"selection_policy\":{\"id\":\"eae68a4a-fff4-44e4-be44-a8df0cd95aff\",\"type\":\"UnionRenderers\"}},\"id\":\"01bb074c-66f7-4849-9b79-353411d5413e\",\"type\":\"ColumnDataSource\"},{\"attributes\":{\"line_alpha\":0.1,\"line_color\":\"#1f77b4\",\"line_dash\":[6,4,2,4],\"line_width\":3.519654860839082,\"x\":{\"field\":\"x\"},\"y\":{\"field\":\"y\"}},\"id\":\"927be98a-6224-4b35-bdaa-ef372287de44\",\"type\":\"Line\"},{\"attributes\":{\"axis_label\":\"pressure [mb]\",\"formatter\":{\"id\":\"43f6145e-5641-4851-8154-b1c880e0c983\",\"type\":\"BasicTickFormatter\"},\"plot\":{\"id\":\"5f922513-f665-442e-b87b-4501bca45ae8\",\"subtype\":\"Figure\",\"type\":\"Plot\"},\"ticker\":{\"id\":\"c85c3457-239a-4df9-b962-045f6a851051\",\"type\":\"BasicTicker\"}},\"id\":\"2505a4b5-731e-4889-916a-ff5831ff444a\",\"type\":\"LinearAxis\"},{\"attributes\":{\"callback\":null,\"data\":{\"x\":{\"__ndarray__\":\"abqmWQPI3j+gH6HBAcjeP46o1BUByN4/Zb3eHgDI3j9Cz0XH/sfeP/D4Wdn8x94/VsbxCfrH3j/t+yYD9sfeP4Wxpi7wx94/m6jn1efH3j/REETM28feP11PtnnKx94/gcPyhLHH3j92Uj6IjcfeP8C6AdFZx94/dXMz1A/H3j/yT9tMpsbeP/hzhrkPxt4/3bhBxDjF3j+8mCSeBcTePzdM2Y5Owt4/9g6WNdq/3j/CCr/tbLzePzYE6HPFt94/UBZC93qx3j+XKXuF5KjeP9AdUHgBnd4/QThVrTuM3j8VlQX64XPeP2fa9iRNT94/jeJF9KUW3j+UE+0qpLzdP/bydfjvKt0/jTM8rCY+3D8vgil3XcfaP3VA0Nkbn9g/719R+Anz1T+R0YWBfMPTP+UDKxx7FdI/yltD42jS0D9zyDgMB77PPxjP4r1RSM4/tZVNbzUhzT9ZyeCLozDMP2rj425rZss/kd0e56q3yj+VbkNzOhzKP5qHn0E7jsk/w+6/vmsKyT/UtmEUBI/IP3pd+QvBGsg/uR4Bs62sxz9YSAp2DUTHP/iwcsNK4MY/7EzjD+2Axj9inwCKkSXGP+N402fmzcU/dWjkNad5xT8W/fxSmijFPyKWYoGO2sQ/hcjQTlmPxD+vZL/V10bEP1sXbUTmAMQ/37zdN2O9wz9BW5T6LnzDP7pdedorPcM/aTsBqD0Awz8/g7g4S8XCP1es6ZM/jMI/rLwuDQ1Vwj+JkOMcrx/CP9uwOxcl7ME/cbhmXWm6wT9vGD9sbYrBP+VNVQwdXME/\",\"dtype\":\"float64\",\"shape\":[75]},\"y\":{\"__ndarray__\":\"YTJVMCqpMz8tQxzr4jZKPy9uowG8BVI/+n5qvHSTWD8VjErqBDRhP+CcEaW9wWc/CRueXinLcD/UK2UZ4lh3P/yp8dJNYoA/x7q4jQbwhj92cRsN4C2QP/5l9+RhoZY/WDm0yHa+nz8Sg8DKoUWmPyo6kst/SK8/J6CJsOHptT/J5T+k376+P8UgsHJokcU/ih9j7lpCzj+e76fGSzfVP4enV8oyxN0//yH99nXg5D8qOpLLf0jtP2FUUiegifQ/c9cS8kHP/D+/DpwzojQEQIEmwoanVwxAVOOlm8TgE0Dgvg6cM+IbQAMJih9jjiNAH/RsVn1uK0CTqYJRST0zQHicoiO5/DpAaCJseHrtQkDNzMzMzIxKQM3MzMzMeFJAZmZmZmZqWEAAAAAAAFxeQM3MzMzMJmJAmpmZmZkfZUBmZmZmZhhoQDMzMzMzEWtAAAAAAAAKbkBmZmZmZoFwQM3MzMzM/XFAMzMzMzN6c0CamZmZmfZ0QAAAAAAAc3ZAZmZmZmbvd0DNzMzMzGt5QDMzMzMz6HpAmpmZmZlkfEAAAAAAAOF9QGZmZmZmXX9AZmZmZuZsgECamZmZGSuBQM3MzMxM6YFAAAAAAICngkAzMzMzs2WDQGZmZmbmI4RAmpmZmRnihEDNzMzMTKCFQAAAAACAXoZAMzMzM7Mch0BmZmZm5tqHQJqZmZkZmYhAzczMzExXiUAAAAAAgBWKQDMzMzOz04pAZmZmZuaRi0CamZmZGVCMQM3MzMxMDo1AAAAAAIDMjUAzMzMzs4qOQGZmZmbmSI9A\",\"dtype\":\"float64\",\"shape\":[75]}},\"selected\":{\"id\":\"6001d74b-fdd2-43f8-b194-d746d6bfc85a\",\"type\":\"Selection\"},\"selection_policy\":{\"id\":\"894faeee-3899-4e2d-bf05-f60af115ea15\",\"type\":\"UnionRenderers\"}},\"id\":\"6c616f0c-9386-436d-9711-a672bbf85b0a\",\"type\":\"ColumnDataSource\"},{\"attributes\":{\"line_alpha\":0.1,\"line_color\":\"#1f77b4\",\"line_dash\":[2,4],\"line_width\":3.720060789794627,\"x\":{\"field\":\"x\"},\"y\":{\"field\":\"y\"}},\"id\":\"fafec6aa-7d6b-4caa-9ad1-e8d4cbef54bc\",\"type\":\"Line\"},{\"attributes\":{},\"id\":\"4cc150a6-c0ad-4dc3-b4ea-281bb90a60c6\",\"type\":\"Selection\"},{\"attributes\":{\"items\":[{\"id\":\"70b06b42-e44f-41d2-8be9-fe4f661ac8bc\",\"type\":\"LegendItem\"},{\"id\":\"c2176d8a-6591-4f90-bee7-aad4563f76e7\",\"type\":\"LegendItem\"},{\"id\":\"8a6ec5e9-d4fc-40e9-963c-6a2669c16cfd\",\"type\":\"LegendItem\"},{\"id\":\"efe7700f-782e-470b-a991-0beaf884e8c4\",\"type\":\"LegendItem\"},{\"id\":\"6b27c79a-d3b9-4fa5-9779-6618880e2d17\",\"type\":\"LegendItem\"},{\"id\":\"34f9fa72-e498-47a9-a701-9d0e951ec153\",\"type\":\"LegendItem\"},{\"id\":\"60b3d521-0fab-4d80-a66f-4fd01a9173d6\",\"type\":\"LegendItem\"},{\"id\":\"e08661c2-0017-474f-8c26-8bcd919c6461\",\"type\":\"LegendItem\"}],\"label_text_font_size\":{\"value\":\"8pt\"},\"location\":\"top_center\",\"orientation\":\"horizontal\",\"plot\":{\"id\":\"5f922513-f665-442e-b87b-4501bca45ae8\",\"subtype\":\"Figure\",\"type\":\"Plot\"}},\"id\":\"ac4f163a-acba-43d6-acf3-cd045a43a1a5\",\"type\":\"Legend\"},{\"attributes\":{\"line_alpha\":0.9354602527318274,\"line_color\":\"#ff9896\",\"line_dash\":[2,4,6,4],\"line_width\":3.189586673724839,\"x\":{\"field\":\"x\"},\"y\":{\"field\":\"y\"}},\"id\":\"68688162-0f7d-436d-a547-e84de54ee417\",\"type\":\"Line\"},{\"attributes\":{\"callback\":null,\"data\":{\"x\":{\"__ndarray__\":\"X8pEOtHoyD+IuJy/x+jIP8WaPvnD6Mg/V1Nhhb7oyD8O+rHNtujIP21NBLur6Mg/FX2yIJzoyD8PBmTQhejIPxMM5xpm6Mg/ucRw+TjoyD8KrT2i+OfIPxW/MR2d58g/KNfSqxrnyD/4HonyYObIP8f7zLRY5cg/tuSnJ+LjyD8ByEO+z+HIPzRwevbg3sg/ldFMILrayD9Jeyh22dTIP/DM20OIzMg/zWcvkcHAyD89amUlWrDIP5iHjhXjmcg/pORyD0t7yD8sZdfFhlHIPxsvevpKGMg/RW/IcW3Jxz9opw/ytFvHPwMs6no/wcY/HZBjb1LmxT+RHPo45LDEPyHChV2QBMM/mr1DvDvTwD8BzGvb5ny8PwCKsjNcT7c/P8SrUbQXsz91TCcjeI2wP2/V+eBKsK0/hfRv8rYtqz/acaLhvTipP+wp/3tsoqc/B4StRGZPpj/HrIuZTC6lP7diPb1rM6Q/XJLiZ0xWoz/1D0MnW4+iP2tzEDKY2KE/oJrcOd4uoT9aD18mipCgP2iwqfOo+J8/u8cl0Fjinj9Zg3uOXdydP1Q9NlU55Zw/jdjEVaf7mz+M2OVjkB6bP8ND3pMDTZo/sw7kLC6GmT962ob2VsmYP0Q8TNrYFZg/JM8WjCFrlz/WV/TarsiWPzaJi+3/LZY/8qoY+JualT9XNAg5EA6VP3O6j1Dxh5Q/AXnhlNoHlD/GpSptcY2TP4twk1FlGJM/BA+hhHiokj+/RWlnfz2SP1DT/GtY15E/MwWlR9d1kT9i7RjswBiRPyn3EpXTv5A/\",\"dtype\":\"float64\",\"shape\":[75]},\"y\":{\"__ndarray__\":\"YTJVMCqpMz8tQxzr4jZKPy9uowG8BVI/+n5qvHSTWD8VjErqBDRhP+CcEaW9wWc/CRueXinLcD/UK2UZ4lh3P/yp8dJNYoA/x7q4jQbwhj92cRsN4C2QP/5l9+RhoZY/WDm0yHa+nz8Sg8DKoUWmPyo6kst/SK8/J6CJsOHptT/J5T+k376+P8UgsHJokcU/ih9j7lpCzj+e76fGSzfVP4enV8oyxN0//yH99nXg5D8qOpLLf0jtP2FUUiegifQ/c9cS8kHP/D+/DpwzojQEQIEmwoanVwxAVOOlm8TgE0Dgvg6cM+IbQAMJih9jjiNAH/RsVn1uK0CTqYJRST0zQHicoiO5/DpAaCJseHrtQkDNzMzMzIxKQM3MzMzMeFJAZmZmZmZqWEAAAAAAAFxeQM3MzMzMJmJAmpmZmZkfZUBmZmZmZhhoQDMzMzMzEWtAAAAAAAAKbkBmZmZmZoFwQM3MzMzM/XFAMzMzMzN6c0CamZmZmfZ0QAAAAAAAc3ZAZmZmZmbvd0DNzMzMzGt5QDMzMzMz6HpAmpmZmZlkfEAAAAAAAOF9QGZmZmZmXX9AZmZmZuZsgECamZmZGSuBQM3MzMxM6YFAAAAAAICngkAzMzMzs2WDQGZmZmbmI4RAmpmZmRnihEDNzMzMTKCFQAAAAACAXoZAMzMzM7Mch0BmZmZm5tqHQJqZmZkZmYhAzczMzExXiUAAAAAAgBWKQDMzMzOz04pAZmZmZuaRi0CamZmZGVCMQM3MzMxMDo1AAAAAAIDMjUAzMzMzs4qOQGZmZmbmSI9A\",\"dtype\":\"float64\",\"shape\":[75]}},\"selected\":{\"id\":\"3a94e8e9-67d0-4921-85f5-bcfcb8201629\",\"type\":\"Selection\"},\"selection_policy\":{\"id\":\"f43c0c18-6076-494d-9a38-3c3a8afcc6cb\",\"type\":\"UnionRenderers\"}},\"id\":\"3d6610e9-406f-41ac-a197-4afcab5f74aa\",\"type\":\"ColumnDataSource\"},{\"attributes\":{\"active_drag\":\"auto\",\"active_inspect\":\"auto\",\"active_scroll\":\"auto\",\"active_tap\":\"auto\",\"tools\":[{\"id\":\"14e8e66f-cae1-4ace-823e-aa0a63a50691\",\"type\":\"PanTool\"},{\"id\":\"6cddc274-8de2-43d1-90b9-103cb4736c7b\",\"type\":\"WheelZoomTool\"},{\"id\":\"78837d0e-7e3e-4acb-af46-8c2874c9fbdf\",\"type\":\"BoxZoomTool\"},{\"id\":\"5bbc84ad-e9c8-4451-9aa4-1b9e6d3f0039\",\"type\":\"SaveTool\"},{\"id\":\"d2e30af6-0ade-4758-839b-58d4570310d5\",\"type\":\"ResetTool\"},{\"id\":\"a9fd137d-12ea-4b56-b6aa-023e96c5826f\",\"type\":\"HelpTool\"}]},\"id\":\"4c57460a-7a69-438b-adaa-e5fb9f387f01\",\"type\":\"Toolbar\"},{\"attributes\":{\"line_alpha\":0.6585603442625794,\"line_color\":\"#9467bd\",\"line_dash\":[2,4],\"line_width\":3.720060789794627,\"x\":{\"field\":\"x\"},\"y\":{\"field\":\"y\"}},\"id\":\"80bedb98-5127-48d9-9770-329eaa1e8ba7\",\"type\":\"Line\"},{\"attributes\":{\"callback\":null,\"data\":{\"x\":{\"__ndarray__\":\"k9/kr3cc2j+T3+SvdxzaP5Pf5K93HNo/k9/kr3cc2j+T3+SvdxzaP5Pf5K93HNo/IhgopXcc2j8iGCildxzaP7FQa5p3HNo/QImuj3cc2j/PwfGEdxzaP+0yeG93HNo/KBWFRHcc2j/zL9UOdxzaP2r07rh2HNo/HZsVOHYc2j+4zRJsdRzaP3du8yl0HNo/tNBKMXIc2j8+DMbrbhzaP9DE6HdpHNo/TAl3HWAc2j+KbsUXUBzaP4x0s/0zHNo/yuK8BwEc2j8wSNmmoRvaP0BvZP3qGto/0oHVJogZ2j+PVnOI0RbaPzxfu81+Edo/iWrfFgsH2j9KVLmahvLZPy+8Fh1eytk/++k/a3582T/9OJKy4ufYP/+H5PlG09c/bZSScc4A1j+UGMI5POfTP5Cg+DHmrtE/JnI94Vfyzj/gyI86Mr3KP9V8zyd23cY/rpGwsUNjwz92NC8DpVPAPyQgT2B0WLs/tm0QlHjMtj/LVHcbivGyP7qz4XaJZq8/poDVDev4qT83v8TM/HKlP4l1DaeKsaE/1HKxszIrnT8RNwq9vAiYP2jArJLAzZM/NXZPPyRTkD+t3n5Mre+KPyVoH20UQIY/ZL5RZfdogj+CYdB0PId+P5X+NYvdX3k/3w/kRcsmdT884V/jfrBxP1xpYzYSsm0/7vwNoAAGaT+1GH5ozSxlP1EAnElh/2E/+I1ME/i7Xj+ZlGnRjl1aPy2DYhLLuVY/X7gQN+muUz+NDA/tpSFRP097CLK3900//4tvQRlXSj/ZoS/3qENHPw9k+5gopUQ/\",\"dtype\":\"float64\",\"shape\":[75]},\"y\":{\"__ndarray__\":\"YTJVMCqpMz8tQxzr4jZKPy9uowG8BVI/+n5qvHSTWD8VjErqBDRhP+CcEaW9wWc/CRueXinLcD/UK2UZ4lh3P/yp8dJNYoA/x7q4jQbwhj92cRsN4C2QP/5l9+RhoZY/WDm0yHa+nz8Sg8DKoUWmPyo6kst/SK8/J6CJsOHptT/J5T+k376+P8UgsHJokcU/ih9j7lpCzj+e76fGSzfVP4enV8oyxN0//yH99nXg5D8qOpLLf0jtP2FUUiegifQ/c9cS8kHP/D+/DpwzojQEQIEmwoanVwxAVOOlm8TgE0Dgvg6cM+IbQAMJih9jjiNAH/RsVn1uK0CTqYJRST0zQHicoiO5/DpAaCJseHrtQkDNzMzMzIxKQM3MzMzMeFJAZmZmZmZqWEAAAAAAAFxeQM3MzMzMJmJAmpmZmZkfZUBmZmZmZhhoQDMzMzMzEWtAAAAAAAAKbkBmZmZmZoFwQM3MzMzM/XFAMzMzMzN6c0CamZmZmfZ0QAAAAAAAc3ZAZmZmZmbvd0DNzMzMzGt5QDMzMzMz6HpAmpmZmZlkfEAAAAAAAOF9QGZmZmZmXX9AZmZmZuZsgECamZmZGSuBQM3MzMxM6YFAAAAAAICngkAzMzMzs2WDQGZmZmbmI4RAmpmZmRnihEDNzMzMTKCFQAAAAACAXoZAMzMzM7Mch0BmZmZm5tqHQJqZmZkZmYhAzczMzExXiUAAAAAAgBWKQDMzMzOz04pAZmZmZuaRi0CamZmZGVCMQM3MzMxMDo1AAAAAAIDMjUAzMzMzs4qOQGZmZmbmSI9A\",\"dtype\":\"float64\",\"shape\":[75]}},\"selected\":{\"id\":\"e74be7ce-851e-4f70-b111-2ae9434c221e\",\"type\":\"Selection\"},\"selection_policy\":{\"id\":\"fccd6a2a-cd17-4c09-b3c3-4d0feab9c8f2\",\"type\":\"UnionRenderers\"}},\"id\":\"a7aeaf4d-a7ec-41d8-8aa0-d1f07c117a7b\",\"type\":\"ColumnDataSource\"},{\"attributes\":{\"line_alpha\":0.1,\"line_color\":\"#1f77b4\",\"line_dash\":[6],\"line_width\":2.6100338799018634,\"x\":{\"field\":\"x\"},\"y\":{\"field\":\"y\"}},\"id\":\"f9f8fb4b-1db0-4c8a-bf30-2c0927fc1477\",\"type\":\"Line\"},{\"attributes\":{\"source\":{\"id\":\"3d6610e9-406f-41ac-a197-4afcab5f74aa\",\"type\":\"ColumnDataSource\"}},\"id\":\"a156656a-7931-4fe8-9bb2-d3fe2910728e\",\"type\":\"CDSView\"},{\"attributes\":{},\"id\":\"c85c3457-239a-4df9-b962-045f6a851051\",\"type\":\"BasicTicker\"},{\"attributes\":{\"line_alpha\":0.9071347683426458,\"line_color\":\"#dbdb8d\",\"line_dash\":[2,4],\"line_width\":1.4742071602458204,\"x\":{\"field\":\"x\"},\"y\":{\"field\":\"y\"}},\"id\":\"bc35d2a6-87ba-4253-aabc-1be2963cfa1c\",\"type\":\"Line\"},{\"attributes\":{\"line_alpha\":0.1,\"line_color\":\"#1f77b4\",\"line_width\":1.7411399762387365,\"x\":{\"field\":\"x\"},\"y\":{\"field\":\"y\"}},\"id\":\"cc159b0f-b3cc-48ee-874c-fad4720ec9c3\",\"type\":\"Line\"},{\"attributes\":{\"data_source\":{\"id\":\"addb6291-c819-4f7b-a899-b79f494060e2\",\"type\":\"ColumnDataSource\"},\"glyph\":{\"id\":\"8906cd35-fc78-4033-a7ac-56966bcc0256\",\"type\":\"Line\"},\"hover_glyph\":null,\"muted_glyph\":null,\"nonselection_glyph\":{\"id\":\"cc159b0f-b3cc-48ee-874c-fad4720ec9c3\",\"type\":\"Line\"},\"selection_glyph\":null,\"view\":{\"id\":\"9fae4e92-4016-4f27-b3bf-6b87d970026c\",\"type\":\"CDSView\"}},\"id\":\"c2034db7-55ce-4fd6-bcbc-464284b88e5f\",\"type\":\"GlyphRenderer\"},{\"attributes\":{},\"id\":\"c147e047-ceff-4434-bd1e-3ae2a50e9c78\",\"type\":\"LinearScale\"},{\"attributes\":{\"data_source\":{\"id\":\"a7aeaf4d-a7ec-41d8-8aa0-d1f07c117a7b\",\"type\":\"ColumnDataSource\"},\"glyph\":{\"id\":\"80bedb98-5127-48d9-9770-329eaa1e8ba7\",\"type\":\"Line\"},\"hover_glyph\":null,\"muted_glyph\":null,\"nonselection_glyph\":{\"id\":\"fafec6aa-7d6b-4caa-9ad1-e8d4cbef54bc\",\"type\":\"Line\"},\"selection_glyph\":null,\"view\":{\"id\":\"3b0dc87a-a764-4c3d-ac70-aad7a76d10f9\",\"type\":\"CDSView\"}},\"id\":\"3d651600-6abf-4c7e-a719-6089e11eedf7\",\"type\":\"GlyphRenderer\"},{\"attributes\":{\"source\":{\"id\":\"a7aeaf4d-a7ec-41d8-8aa0-d1f07c117a7b\",\"type\":\"ColumnDataSource\"}},\"id\":\"3b0dc87a-a764-4c3d-ac70-aad7a76d10f9\",\"type\":\"CDSView\"},{\"attributes\":{},\"id\":\"14e8e66f-cae1-4ace-823e-aa0a63a50691\",\"type\":\"PanTool\"},{\"attributes\":{\"callback\":null,\"data\":{\"x\":{\"__ndarray__\":\"CEkTreRM+j8sF2Sq5Ez6PywXZKrkTPo/T+W0p+RM+j9zswWl5Ez6P5eBVqLkTPo/3h34nORM+j9KiOqU5Ez6P/yOfofkTPo/02Njd+RM+j84cYtc5Ez6P1CFRzTkTPo/hQqK9uNM+j8gnfSd40z6PxvgvBfjTPo/S6jHU+JM+j850Y004Uz6P0YLbYzfTPo/7ndJGN1M+j9/sCFy2Uz6P1gF5vjTTPo/vPWSrctM+j+eB7mDv0z6P+KpiTauTPo/YHFZAZVM+j/xsuxqbkz6PxHz9jEwTPo/6IKf3cZL+j+DhTh7DEv6P/bDvlO3Sfo/GLdNyDlH+j9RcfP4g0L6P9CBQMKLOfo/BFIoLG0o+j/3e1os4gf6P3PDa263yvk/70sFLvJf+T+/OEQeudz4P5t8zGouRfg/PyWdNwSd9z+J6efyi+f2P4Q9eZrEJ/Y/8a28omNg9T9DYN1f2pP0P39BPUNZxPM/dujsS9Pz8j+2O1qLBSTyP4nUtItpVvE/MQSlDSyM8D+Yc4RnnYzvPzaAr885C+4/sCTUZ2KV7D85Snc6BCzrP50eZ9zMz+k/yAyvfzKB6D/NeaWwe0DnPxinzmHGDeY/Fp9EfA7p5D8tuHqpM9LjP0hK/lD+yOI/BBqN+CXN4T9CSy4xXN7gPw1slWBx+N8/v+GRupVM3j/pjHs1OLjcP1zEHKljOts/Z6BLmx7S2T8zTuiabn7YP4on9URbPtc/bOtE1fEQ1j9SmqzVR/XUP2hYEPN66tM/p+Ehra3v0j9E1Ar0BQTSP1/XSHWuJtE/\",\"dtype\":\"float64\",\"shape\":[75]},\"y\":{\"__ndarray__\":\"YTJVMCqpMz8tQxzr4jZKPy9uowG8BVI/+n5qvHSTWD8VjErqBDRhP+CcEaW9wWc/CRueXinLcD/UK2UZ4lh3P/yp8dJNYoA/x7q4jQbwhj92cRsN4C2QP/5l9+RhoZY/WDm0yHa+nz8Sg8DKoUWmPyo6kst/SK8/J6CJsOHptT/J5T+k376+P8UgsHJokcU/ih9j7lpCzj+e76fGSzfVP4enV8oyxN0//yH99nXg5D8qOpLLf0jtP2FUUiegifQ/c9cS8kHP/D+/DpwzojQEQIEmwoanVwxAVOOlm8TgE0Dgvg6cM+IbQAMJih9jjiNAH/RsVn1uK0CTqYJRST0zQHicoiO5/DpAaCJseHrtQkDNzMzMzIxKQM3MzMzMeFJAZmZmZmZqWEAAAAAAAFxeQM3MzMzMJmJAmpmZmZkfZUBmZmZmZhhoQDMzMzMzEWtAAAAAAAAKbkBmZmZmZoFwQM3MzMzM/XFAMzMzMzN6c0CamZmZmfZ0QAAAAAAAc3ZAZmZmZmbvd0DNzMzMzGt5QDMzMzMz6HpAmpmZmZlkfEAAAAAAAOF9QGZmZmZmXX9AZmZmZuZsgECamZmZGSuBQM3MzMxM6YFAAAAAAICngkAzMzMzs2WDQGZmZmbmI4RAmpmZmRnihEDNzMzMTKCFQAAAAACAXoZAMzMzM7Mch0BmZmZm5tqHQJqZmZkZmYhAzczMzExXiUAAAAAAgBWKQDMzMzOz04pAZmZmZuaRi0CamZmZGVCMQM3MzMxMDo1AAAAAAIDMjUAzMzMzs4qOQGZmZmbmSI9A\",\"dtype\":\"float64\",\"shape\":[75]}},\"selected\":{\"id\":\"4cc150a6-c0ad-4dc3-b4ea-281bb90a60c6\",\"type\":\"Selection\"},\"selection_policy\":{\"id\":\"13431899-59d4-4049-97c0-8f68d36f0bc2\",\"type\":\"UnionRenderers\"}},\"id\":\"331fe37f-79ff-4d84-b291-dbe204dc7df6\",\"type\":\"ColumnDataSource\"},{\"attributes\":{},\"id\":\"5bbc84ad-e9c8-4451-9aa4-1b9e6d3f0039\",\"type\":\"SaveTool\"},{\"attributes\":{\"dimension\":1,\"plot\":{\"id\":\"5f922513-f665-442e-b87b-4501bca45ae8\",\"subtype\":\"Figure\",\"type\":\"Plot\"},\"ticker\":{\"id\":\"c85c3457-239a-4df9-b962-045f6a851051\",\"type\":\"BasicTicker\"}},\"id\":\"57a2b09c-07d7-4579-b937-c3c778db9e07\",\"type\":\"Grid\"},{\"attributes\":{\"source\":{\"id\":\"01bb074c-66f7-4849-9b79-353411d5413e\",\"type\":\"ColumnDataSource\"}},\"id\":\"c8cf0c73-e317-45cf-bf51-9afa958d3b39\",\"type\":\"CDSView\"},{\"attributes\":{\"bottom_units\":\"screen\",\"fill_alpha\":{\"value\":0.5},\"fill_color\":{\"value\":\"lightgrey\"},\"left_units\":\"screen\",\"level\":\"overlay\",\"line_alpha\":{\"value\":1.0},\"line_color\":{\"value\":\"black\"},\"line_dash\":[4,4],\"line_width\":{\"value\":2},\"plot\":null,\"render_mode\":\"css\",\"right_units\":\"screen\",\"top_units\":\"screen\"},\"id\":\"d2ea6fa3-0e34-462d-bf56-36675b06314c\",\"type\":\"BoxAnnotation\"},{\"attributes\":{},\"id\":\"13431899-59d4-4049-97c0-8f68d36f0bc2\",\"type\":\"UnionRenderers\"},{\"attributes\":{},\"id\":\"81cd3469-1afd-440a-be0f-daec16cd388d\",\"type\":\"BasicTicker\"},{\"attributes\":{\"callback\":null,\"end\":0.01,\"start\":1020},\"id\":\"8081a156-1485-4b4a-81b5-0328d155e20c\",\"type\":\"Range1d\"},{\"attributes\":{\"overlay\":{\"id\":\"d2ea6fa3-0e34-462d-bf56-36675b06314c\",\"type\":\"BoxAnnotation\"}},\"id\":\"78837d0e-7e3e-4acb-af46-8c2874c9fbdf\",\"type\":\"BoxZoomTool\"},{\"attributes\":{},\"id\":\"6cddc274-8de2-43d1-90b9-103cb4736c7b\",\"type\":\"WheelZoomTool\"},{\"attributes\":{},\"id\":\"50283bb8-474b-4918-af29-c921d6550bfc\",\"type\":\"LinearScale\"},{\"attributes\":{\"callback\":null,\"end\":222.2170124804,\"start\":-2.2001684404},\"id\":\"9902e228-1c94-44fc-b7df-00e3f3551663\",\"type\":\"Range1d\"},{\"attributes\":{\"plot\":{\"id\":\"5f922513-f665-442e-b87b-4501bca45ae8\",\"subtype\":\"Figure\",\"type\":\"Plot\"},\"ticker\":{\"id\":\"81cd3469-1afd-440a-be0f-daec16cd388d\",\"type\":\"BasicTicker\"}},\"id\":\"fdd51757-8fc7-47cd-962e-5912e72cbaea\",\"type\":\"Grid\"},{\"attributes\":{},\"id\":\"a9fd137d-12ea-4b56-b6aa-023e96c5826f\",\"type\":\"HelpTool\"},{\"attributes\":{},\"id\":\"d2e30af6-0ade-4758-839b-58d4570310d5\",\"type\":\"ResetTool\"},{\"attributes\":{},\"id\":\"fccd6a2a-cd17-4c09-b3c3-4d0feab9c8f2\",\"type\":\"UnionRenderers\"}],\"root_ids\":[\"5f922513-f665-442e-b87b-4501bca45ae8\"]},\"title\":\"Bokeh Application\",\"version\":\"0.12.16\"}};\n",
       "  var render_items = [{\"docid\":\"584db08f-7797-4a95-ad72-684f63252e02\",\"elementid\":\"183a5020-4d82-47e6-a48f-5b80f3111aa2\",\"modelid\":\"5f922513-f665-442e-b87b-4501bca45ae8\"}];\n",
       "  root.Bokeh.embed.embed_items_notebook(docs_json, render_items);\n",
       "\n",
       "  }\n",
       "  if (root.Bokeh !== undefined) {\n",
       "    embed_document(root);\n",
       "  } else {\n",
       "    var attempts = 0;\n",
       "    var timer = setInterval(function(root) {\n",
       "      if (root.Bokeh !== undefined) {\n",
       "        embed_document(root);\n",
       "        clearInterval(timer);\n",
       "      }\n",
       "      attempts++;\n",
       "      if (attempts > 100) {\n",
       "        console.log(\"Bokeh: ERROR: Unable to run BokehJS code because BokehJS library is missing\")\n",
       "        clearInterval(timer);\n",
       "      }\n",
       "    }, 10, root)\n",
       "  }\n",
       "})(window);"
      ],
      "application/vnd.bokehjs_exec.v0+json": ""
     },
     "metadata": {
      "application/vnd.bokehjs_exec.v0+json": {
       "id": "5f922513-f665-442e-b87b-4501bca45ae8"
      }
     },
     "output_type": "display_data"
    }
   ],
   "source": [
    "flux = pd.read_csv(PATH/'fort.403', sep=r'\\s+', header=None)\n",
    "flux.set_index(0, inplace=True)\n",
    "flux.index.names = ['pressure']\n",
    "flux.columns.names = ['g']\n",
    "\n",
    "pltdata = [{'srs':xr.DataArray(flux[g]),\n",
    "            'label':f'{g}',\n",
    "            'color':np.random.choice(all_palettes['Category20'][20]),\n",
    "            'alpha':np.random.uniform(.5, 1.),\n",
    "            'line_width':np.random.uniform(1, 5),\n",
    "            'line_dash':np.random.choice(['solid', 'dashed', 'dotted', 'dotdash', 'dashdot'])} for g in flux]\n",
    "\n",
    "show(plt_vert_profile_bokeh(pltdata=pltdata, xlabel='flux'))"
   ]
  },
  {
   "cell_type": "code",
   "execution_count": 58,
   "metadata": {},
   "outputs": [
    {
     "data": {
      "text/html": [
       "\n",
       "<div class=\"bk-root\">\n",
       "    <div class=\"bk-plotdiv\" id=\"c613d529-df82-4334-905b-e4bec4f197c4\"></div>\n",
       "</div>"
      ]
     },
     "metadata": {},
     "output_type": "display_data"
    },
    {
     "data": {
      "application/javascript": [
       "(function(root) {\n",
       "  function embed_document(root) {\n",
       "    \n",
       "  var docs_json = {\"3f07f0ac-fca9-4176-86d7-47c943bbe284\":{\"roots\":{\"references\":[{\"attributes\":{\"data_source\":{\"id\":\"dc69f7dd-7396-4890-b698-61c1981848a3\",\"type\":\"ColumnDataSource\"},\"glyph\":{\"id\":\"649e75f6-ba52-4157-9423-06fe7cb104a6\",\"type\":\"Line\"},\"hover_glyph\":null,\"muted_glyph\":null,\"nonselection_glyph\":{\"id\":\"af46efca-b76e-40bd-83a2-05226a31c5d4\",\"type\":\"Line\"},\"selection_glyph\":null,\"view\":{\"id\":\"a38b1f90-1a63-42e0-95ae-997d9c0cbb64\",\"type\":\"CDSView\"}},\"id\":\"6f33b6f4-25ae-49da-b736-d1b2068ebe05\",\"type\":\"GlyphRenderer\"},{\"attributes\":{\"line_alpha\":0.1,\"line_color\":\"#1f77b4\",\"line_width\":3.3108260262610645,\"x\":{\"field\":\"x\"},\"y\":{\"field\":\"y\"}},\"id\":\"71d074f3-4940-48cb-8e81-37f4e66266bb\",\"type\":\"Line\"},{\"attributes\":{\"callback\":null,\"data\":{\"x\":{\"__ndarray__\":\"2fgCabV2QT+PD+XRrr5BP9vfVeYYVkI/AG/kLoD4Qj/zmaISjaRDP2tUltcAW0Q/1PcSEZsbRT8AoolFRuZFP6tp7lMbvUY/G+nz7huhRz8HFKBcCZNIPxVJw0IQlEk/d2rsGkakSj8xcCeutqRLPwlpdKSGeEw/5RbrAvs7TT/X+kOvFgpOP7sGhVo2504/YJd+FSLYTz+970pYPHFQP7uEXAyS/FA/ko5Zk/r0UD+H9lbJbDVQP2/6iqD3504/YD+j+CEETj9QQCz+Y99NP0ZXbSffpk4/usDlsWZkUD86Ki/gAlxSPxp+P077WlU/vSVS/feeWT9GQjrAvJVfP1AREi9w9WM/htM4imKoaT96vLmNQJtwP3hJ987DZHU/dUONIYRwej8AlhHuABV/Pxxq6xKbsIE/x+Z4P02xgz9bOaTm5Y+FP7ZOljnhToc/uLS35zvwiD8fmmDVrHWKPw2wh90U4os/QG6ebsk/jT9rBwpZaZSOP+xP4nMn2I8/NvPcKbqBkD97vgOPsQuRP5hlV3PjipE/aGWxA53/kT/MOutsK2qSP5DrETDbypI/teKX0fohkz8JJorS1m+TP2oywl+8tJM/H0/krPzwkz+mKPrw6iSUP9++s+LAUJQ/dtZ2LBl0lD/IYlk4YpCUP8fOJWYHppQ/MSBBEnK1lD9tCRI+CL+UP9tCBNolw5Q/asC9vhjClD+VtyOcFryUPyNA+uQwsZQ/uwZDPmShlD/0NIGe3YyUP/cRCfAndJQ/kIuDrvFXlD+RlUZpwjiUP96mJl7xFpQ/\",\"dtype\":\"float64\",\"shape\":[75]},\"y\":{\"__ndarray__\":\"YTJVMCqpMz8tQxzr4jZKPy9uowG8BVI/+n5qvHSTWD8VjErqBDRhP+CcEaW9wWc/CRueXinLcD/UK2UZ4lh3P/yp8dJNYoA/x7q4jQbwhj92cRsN4C2QP/5l9+RhoZY/WDm0yHa+nz8Sg8DKoUWmPyo6kst/SK8/J6CJsOHptT/J5T+k376+P8UgsHJokcU/ih9j7lpCzj+e76fGSzfVP4enV8oyxN0//yH99nXg5D8qOpLLf0jtP2FUUiegifQ/c9cS8kHP/D+/DpwzojQEQIEmwoanVwxAVOOlm8TgE0Dgvg6cM+IbQAMJih9jjiNAH/RsVn1uK0CTqYJRST0zQHicoiO5/DpAaCJseHrtQkDNzMzMzIxKQM3MzMzMeFJAZmZmZmZqWEAAAAAAAFxeQM3MzMzMJmJAmpmZmZkfZUBmZmZmZhhoQDMzMzMzEWtAAAAAAAAKbkBmZmZmZoFwQM3MzMzM/XFAMzMzMzN6c0CamZmZmfZ0QAAAAAAAc3ZAZmZmZmbvd0DNzMzMzGt5QDMzMzMz6HpAmpmZmZlkfEAAAAAAAOF9QGZmZmZmXX9AZmZmZuZsgECamZmZGSuBQM3MzMxM6YFAAAAAAICngkAzMzMzs2WDQGZmZmbmI4RAmpmZmRnihEDNzMzMTKCFQAAAAACAXoZAMzMzM7Mch0BmZmZm5tqHQJqZmZkZmYhAzczMzExXiUAAAAAAgBWKQDMzMzOz04pAZmZmZuaRi0CamZmZGVCMQM3MzMxMDo1AAAAAAIDMjUAzMzMzs4qOQGZmZmbmSI9A\",\"dtype\":\"float64\",\"shape\":[75]}},\"selected\":{\"id\":\"bc2c571f-c5b1-4c44-b71d-24841bb8d0e5\",\"type\":\"Selection\"},\"selection_policy\":{\"id\":\"b188b02d-015b-4426-9c5b-a3b854b4dd89\",\"type\":\"UnionRenderers\"}},\"id\":\"d5eee840-d16c-40f5-8a64-4fd7905612ef\",\"type\":\"ColumnDataSource\"},{\"attributes\":{\"data_source\":{\"id\":\"8aad89f4-8f9a-40a7-a06b-b4971f1dbc1d\",\"type\":\"ColumnDataSource\"},\"glyph\":{\"id\":\"139f1008-f0cf-4dc0-81ff-e418c7cac794\",\"type\":\"Line\"},\"hover_glyph\":null,\"muted_glyph\":null,\"nonselection_glyph\":{\"id\":\"71d074f3-4940-48cb-8e81-37f4e66266bb\",\"type\":\"Line\"},\"selection_glyph\":null,\"view\":{\"id\":\"51337fc5-5954-4c63-81ab-117c4246b6cb\",\"type\":\"CDSView\"}},\"id\":\"88c205ca-1386-4839-bf3d-f774ba5630da\",\"type\":\"GlyphRenderer\"},{\"attributes\":{\"source\":{\"id\":\"8aad89f4-8f9a-40a7-a06b-b4971f1dbc1d\",\"type\":\"ColumnDataSource\"}},\"id\":\"51337fc5-5954-4c63-81ab-117c4246b6cb\",\"type\":\"CDSView\"},{\"attributes\":{\"line_alpha\":0.8301631487143261,\"line_color\":\"#c7c7c7\",\"line_dash\":[2,4],\"line_width\":1.580569377092933,\"x\":{\"field\":\"x\"},\"y\":{\"field\":\"y\"}},\"id\":\"f0c9c35f-6cb8-4813-b100-6f38b0d57fe3\",\"type\":\"Line\"},{\"attributes\":{\"callback\":null,\"data\":{\"x\":{\"__ndarray__\":\"NOHys+ykWT+AU6vxytxZPyOaaZC8Ulo/9/kYQZ3RWj+fZz+UYFhbPyW/bqZ851s/HmD3Z1B+XD8dqinJOhxdP+yPi8XKw10/rF52NoF1Xj/Ltpkr/zFfP5zH3ffa+V8/uzznuGRmYD+Oaben9chgP886unyxGGE/2zkovF9gYT/d2AXmlalhP6hqaQtb9WE/M0hmmlVEYj9C+jd525ZiP6WckiAa5WI/t3Sz3CWzYj+zznz3XOBhPykjTw529WA/rzc5lW8qYD+SgsAtzABfP49sEcWi8V0/hQfuvGROXT8YNF/rczFdP0e/hY6Afl0/PeJGgIkuXj+qkJ9LQGVfP0Ln+8r/u2A/QlNdXaFRYj+BvVfn94FkP61mhFTdZWc/JfrnLxWXaj/Y2S1Vq6dtP/v00CW5T3A/nKH6/x/EcT8omSATvjFzPxz/cB0EmXQ/OlwnBUj6dT+khngc7VV3P/KOW+Vsrng/9MaDDGgSej8vQiVsR4p7P9wGIHveCX0/pDIoR7+Ffj9C6Qsh5/1/P6HQVzWtuYA/RbkTcPhygT/QE8douiqCP23Ut4rN4II/uzbI4gaVgz+0TK9iK0eEP8dvwJ369oQ/s1JScS2khT+gcobBgE6GP9fD8kKV9YY/m+0jGlGYhz8fB05L5jeIP3EEZ/ho1Ig//SZer/ptiT8jM1FjxgSKPxYLz43hmIo/L4WsEzwqiz+/myy9T7iLP9ecKK7PQYw/JLOblcTEjD8t6x/A+T+NP8Egp7dYtI0/ZYLpzQskjj+iVgNa25COP4LYRvq8+44/\",\"dtype\":\"float64\",\"shape\":[75]},\"y\":{\"__ndarray__\":\"YTJVMCqpMz8tQxzr4jZKPy9uowG8BVI/+n5qvHSTWD8VjErqBDRhP+CcEaW9wWc/CRueXinLcD/UK2UZ4lh3P/yp8dJNYoA/x7q4jQbwhj92cRsN4C2QP/5l9+RhoZY/WDm0yHa+nz8Sg8DKoUWmPyo6kst/SK8/J6CJsOHptT/J5T+k376+P8UgsHJokcU/ih9j7lpCzj+e76fGSzfVP4enV8oyxN0//yH99nXg5D8qOpLLf0jtP2FUUiegifQ/c9cS8kHP/D+/DpwzojQEQIEmwoanVwxAVOOlm8TgE0Dgvg6cM+IbQAMJih9jjiNAH/RsVn1uK0CTqYJRST0zQHicoiO5/DpAaCJseHrtQkDNzMzMzIxKQM3MzMzMeFJAZmZmZmZqWEAAAAAAAFxeQM3MzMzMJmJAmpmZmZkfZUBmZmZmZhhoQDMzMzMzEWtAAAAAAAAKbkBmZmZmZoFwQM3MzMzM/XFAMzMzMzN6c0CamZmZmfZ0QAAAAAAAc3ZAZmZmZmbvd0DNzMzMzGt5QDMzMzMz6HpAmpmZmZlkfEAAAAAAAOF9QGZmZmZmXX9AZmZmZuZsgECamZmZGSuBQM3MzMxM6YFAAAAAAICngkAzMzMzs2WDQGZmZmbmI4RAmpmZmRnihEDNzMzMTKCFQAAAAACAXoZAMzMzM7Mch0BmZmZm5tqHQJqZmZkZmYhAzczMzExXiUAAAAAAgBWKQDMzMzOz04pAZmZmZuaRi0CamZmZGVCMQM3MzMxMDo1AAAAAAIDMjUAzMzMzs4qOQGZmZmbmSI9A\",\"dtype\":\"float64\",\"shape\":[75]}},\"selected\":{\"id\":\"f305b63c-6337-44eb-8e56-02c2944faa52\",\"type\":\"Selection\"},\"selection_policy\":{\"id\":\"642a46ec-d4e6-4dde-b519-4204a14cb793\",\"type\":\"UnionRenderers\"}},\"id\":\"cac1ce81-903a-49da-99f2-8a02887c048e\",\"type\":\"ColumnDataSource\"},{\"attributes\":{\"active_drag\":\"auto\",\"active_inspect\":\"auto\",\"active_scroll\":\"auto\",\"active_tap\":\"auto\",\"tools\":[{\"id\":\"23684db1-7124-4fd2-b169-cd1f29f0cba1\",\"type\":\"PanTool\"},{\"id\":\"b36dc3d4-f666-417c-afd1-9c43f9a484bb\",\"type\":\"WheelZoomTool\"},{\"id\":\"fe7881f3-04a2-47fb-9286-d81edd64a347\",\"type\":\"BoxZoomTool\"},{\"id\":\"93e4dd58-87aa-4f7f-9706-a98933bc127e\",\"type\":\"SaveTool\"},{\"id\":\"992ab1b8-316e-4994-bfed-a0891499682a\",\"type\":\"ResetTool\"},{\"id\":\"3665bfb6-6a0a-4244-8409-79d0e72a71e7\",\"type\":\"HelpTool\"}]},\"id\":\"abf80192-98c7-476d-b841-0aba9e8299ca\",\"type\":\"Toolbar\"},{\"attributes\":{\"line_alpha\":0.1,\"line_color\":\"#1f77b4\",\"line_dash\":[2,4],\"line_width\":1.580569377092933,\"x\":{\"field\":\"x\"},\"y\":{\"field\":\"y\"}},\"id\":\"77892d95-effd-4acd-aa64-7334d5d6bcee\",\"type\":\"Line\"},{\"attributes\":{\"data_source\":{\"id\":\"d5eee840-d16c-40f5-8a64-4fd7905612ef\",\"type\":\"ColumnDataSource\"},\"glyph\":{\"id\":\"f0c9c35f-6cb8-4813-b100-6f38b0d57fe3\",\"type\":\"Line\"},\"hover_glyph\":null,\"muted_glyph\":null,\"nonselection_glyph\":{\"id\":\"77892d95-effd-4acd-aa64-7334d5d6bcee\",\"type\":\"Line\"},\"selection_glyph\":null,\"view\":{\"id\":\"a6b9134e-0a71-49a2-87a9-83a6689257c3\",\"type\":\"CDSView\"}},\"id\":\"397959b3-a289-4625-b806-706554701528\",\"type\":\"GlyphRenderer\"},{\"attributes\":{\"source\":{\"id\":\"d5eee840-d16c-40f5-8a64-4fd7905612ef\",\"type\":\"ColumnDataSource\"}},\"id\":\"a6b9134e-0a71-49a2-87a9-83a6689257c3\",\"type\":\"CDSView\"},{\"attributes\":{},\"id\":\"489137f4-2c82-4b5b-a53a-11f9facce9da\",\"type\":\"LinearScale\"},{\"attributes\":{\"line_alpha\":0.1,\"line_color\":\"#1f77b4\",\"line_width\":4.302140992141078,\"x\":{\"field\":\"x\"},\"y\":{\"field\":\"y\"}},\"id\":\"af46efca-b76e-40bd-83a2-05226a31c5d4\",\"type\":\"Line\"},{\"attributes\":{\"line_alpha\":0.9256457702447852,\"line_color\":\"#e377c2\",\"line_dash\":[2,4,6,4],\"line_width\":4.0443909454755875,\"x\":{\"field\":\"x\"},\"y\":{\"field\":\"y\"}},\"id\":\"ed11c087-2ce2-42b0-88f7-5acbff8bd316\",\"type\":\"Line\"},{\"attributes\":{\"items\":[{\"id\":\"23524da5-dc3d-41ee-b6a1-3a8937909603\",\"type\":\"LegendItem\"},{\"id\":\"078cfaa5-0474-43e7-8ea2-d795bbdf3b0a\",\"type\":\"LegendItem\"},{\"id\":\"5a2fb251-1c37-443d-8a41-e7578b08aaea\",\"type\":\"LegendItem\"},{\"id\":\"bde694c5-2403-48cd-827c-2b36481d373f\",\"type\":\"LegendItem\"},{\"id\":\"7697e6df-26fe-4694-bed4-ad78dfc56a62\",\"type\":\"LegendItem\"},{\"id\":\"34751c7d-ccb5-486e-bcae-41e0e8e53185\",\"type\":\"LegendItem\"},{\"id\":\"90baf3b1-bd6c-4955-9685-12109424ed76\",\"type\":\"LegendItem\"},{\"id\":\"1df16862-857a-449c-bc7e-cb387e781af3\",\"type\":\"LegendItem\"}],\"label_text_font_size\":{\"value\":\"8pt\"},\"location\":\"top_center\",\"orientation\":\"horizontal\",\"plot\":{\"id\":\"7a216de6-efc2-4a5f-a8d0-f8bf7d4e99ca\",\"subtype\":\"Figure\",\"type\":\"Plot\"}},\"id\":\"52f81cef-1b4f-4e58-9138-3bac7241a6dc\",\"type\":\"Legend\"},{\"attributes\":{\"plot\":null,\"text\":\"\"},\"id\":\"ec82d2b0-69b8-45f8-a6a6-1c8cf2b59f27\",\"type\":\"Title\"},{\"attributes\":{\"line_alpha\":0.1,\"line_color\":\"#1f77b4\",\"line_dash\":[2,4,6,4],\"line_width\":4.0443909454755875,\"x\":{\"field\":\"x\"},\"y\":{\"field\":\"y\"}},\"id\":\"0635d9dd-5cc5-449c-9fdc-a9bbce60b3bd\",\"type\":\"Line\"},{\"attributes\":{\"data_source\":{\"id\":\"cac1ce81-903a-49da-99f2-8a02887c048e\",\"type\":\"ColumnDataSource\"},\"glyph\":{\"id\":\"ed11c087-2ce2-42b0-88f7-5acbff8bd316\",\"type\":\"Line\"},\"hover_glyph\":null,\"muted_glyph\":null,\"nonselection_glyph\":{\"id\":\"0635d9dd-5cc5-449c-9fdc-a9bbce60b3bd\",\"type\":\"Line\"},\"selection_glyph\":null,\"view\":{\"id\":\"8782bba6-4cad-4767-91ca-fafee4d1264d\",\"type\":\"CDSView\"}},\"id\":\"bc215d9c-8228-42f3-a386-2ba6b208cdbf\",\"type\":\"GlyphRenderer\"},{\"attributes\":{\"callback\":null,\"end\":0.0204784368,\"start\":-0.0002027568},\"id\":\"3a738075-814b-45eb-b35f-9aa5a9ca8f4d\",\"type\":\"Range1d\"},{\"attributes\":{\"plot\":{\"id\":\"7a216de6-efc2-4a5f-a8d0-f8bf7d4e99ca\",\"subtype\":\"Figure\",\"type\":\"Plot\"},\"ticker\":{\"id\":\"ac4fadb5-8d11-4864-bb9c-12667e79959e\",\"type\":\"BasicTicker\"}},\"id\":\"0502b3c0-5b05-4a6a-9492-d9470146c1ea\",\"type\":\"Grid\"},{\"attributes\":{\"source\":{\"id\":\"cac1ce81-903a-49da-99f2-8a02887c048e\",\"type\":\"ColumnDataSource\"}},\"id\":\"8782bba6-4cad-4767-91ca-fafee4d1264d\",\"type\":\"CDSView\"},{\"attributes\":{\"callback\":null,\"data\":{\"x\":{\"__ndarray__\":\"N9Q5UPHJjD9k7960jf2MP92+u1MJaI0/6BTkZyPXjT97zmlYhEmOP1APG3Ypv44/5t3k+QQ3jz82jv3R3K+PPwtUEE3qFZA/G2klhHlVkD9cfQq6nJaQP1tJI01Z2ZA/13/GGmgdkT9SWsnYGluRP+5qJM8WjJE/Gxmaoae3kT+7AvoSZOORP5KGZBI/EJI/LbBLfe4+kj8skXZp5G+SP9jvqoOTn5I/AxshTQaRkj+5vCC/CjKSP6o2MKC0w5E/zl9TraZnkT8zsjsPtCORP1m0jBaY/JA/eQug79kAkT+tPYHq/jWRP9+ejJaog5E/WdoM5JfJkT9GgdtmbOCRPzK/onRMipE/NyzTUB9YkD+fxfdq7LeLP38tdbHlbIQ/u7zWMfDUej8QNoZKbfNwPxRtGh2IE2U/MvhFU4cmWj8i89CQVFNQPztWhPZFnUQ//kiN4LFlOj/ywDL8yCkxP1d96GHsrSY/dVH8MRB4Hj/YBx9rws0UPzlqXGpK0ww/JkCo5s08BD/QxTI/L8P8PhcFqEY7sPQ+goh5+xgY7j55hIn1/B/mPlwrLWURceA+xKhSUN2e2D6aGSboaZ/SPrFJhjX4b8w+a065HXXPxT4ZHpgvcdzAPv+Lb0EZV7o+wKZaTc+itD5EymhHHkawPrZoIug/1qk+2Acfa8LNpD6N7bWg98agPkivvJry15o+Ooww4o55lT7vcccXxHKRPtDAAnckh40+wZ12vsAoiD52gw309SGEPitppCkrG4A+SK+8mvLXej46jDDijnl1PrN66gVdynI+\",\"dtype\":\"float64\",\"shape\":[75]},\"y\":{\"__ndarray__\":\"YTJVMCqpMz8tQxzr4jZKPy9uowG8BVI/+n5qvHSTWD8VjErqBDRhP+CcEaW9wWc/CRueXinLcD/UK2UZ4lh3P/yp8dJNYoA/x7q4jQbwhj92cRsN4C2QP/5l9+RhoZY/WDm0yHa+nz8Sg8DKoUWmPyo6kst/SK8/J6CJsOHptT/J5T+k376+P8UgsHJokcU/ih9j7lpCzj+e76fGSzfVP4enV8oyxN0//yH99nXg5D8qOpLLf0jtP2FUUiegifQ/c9cS8kHP/D+/DpwzojQEQIEmwoanVwxAVOOlm8TgE0Dgvg6cM+IbQAMJih9jjiNAH/RsVn1uK0CTqYJRST0zQHicoiO5/DpAaCJseHrtQkDNzMzMzIxKQM3MzMzMeFJAZmZmZmZqWEAAAAAAAFxeQM3MzMzMJmJAmpmZmZkfZUBmZmZmZhhoQDMzMzMzEWtAAAAAAAAKbkBmZmZmZoFwQM3MzMzM/XFAMzMzMzN6c0CamZmZmfZ0QAAAAAAAc3ZAZmZmZmbvd0DNzMzMzGt5QDMzMzMz6HpAmpmZmZlkfEAAAAAAAOF9QGZmZmZmXX9AZmZmZuZsgECamZmZGSuBQM3MzMxM6YFAAAAAAICngkAzMzMzs2WDQGZmZmbmI4RAmpmZmRnihEDNzMzMTKCFQAAAAACAXoZAMzMzM7Mch0BmZmZm5tqHQJqZmZkZmYhAzczMzExXiUAAAAAAgBWKQDMzMzOz04pAZmZmZuaRi0CamZmZGVCMQM3MzMxMDo1AAAAAAIDMjUAzMzMzs4qOQGZmZmbmSI9A\",\"dtype\":\"float64\",\"shape\":[75]}},\"selected\":{\"id\":\"ee4b0ee0-58dd-47fc-b3f6-c671441c0f73\",\"type\":\"Selection\"},\"selection_policy\":{\"id\":\"4ef1a6e2-300d-4508-9bf0-7692a02a0aab\",\"type\":\"UnionRenderers\"}},\"id\":\"61d8c498-29a7-441b-95c3-bd942f9abb0d\",\"type\":\"ColumnDataSource\"},{\"attributes\":{},\"id\":\"2beecaee-e51a-4451-a0c7-da0125496c18\",\"type\":\"LinearScale\"},{\"attributes\":{\"label\":{\"value\":\"1\"},\"renderers\":[{\"id\":\"e90ae982-2058-4358-a4f5-b25e442c2b7f\",\"type\":\"GlyphRenderer\"}]},\"id\":\"23524da5-dc3d-41ee-b6a1-3a8937909603\",\"type\":\"LegendItem\"},{\"attributes\":{\"axis_label\":\"heatg\",\"formatter\":{\"id\":\"cce45944-717a-45b3-9952-ea1531d43dc8\",\"type\":\"BasicTickFormatter\"},\"plot\":{\"id\":\"7a216de6-efc2-4a5f-a8d0-f8bf7d4e99ca\",\"subtype\":\"Figure\",\"type\":\"Plot\"},\"ticker\":{\"id\":\"ac4fadb5-8d11-4864-bb9c-12667e79959e\",\"type\":\"BasicTicker\"}},\"id\":\"3db0c94e-a681-4386-876f-08424640f979\",\"type\":\"LinearAxis\"},{\"attributes\":{\"axis_label\":\"pressure [mb]\",\"formatter\":{\"id\":\"7780574f-6b0d-4347-a82d-9c92890ad572\",\"type\":\"BasicTickFormatter\"},\"plot\":{\"id\":\"7a216de6-efc2-4a5f-a8d0-f8bf7d4e99ca\",\"subtype\":\"Figure\",\"type\":\"Plot\"},\"ticker\":{\"id\":\"b40540a1-8fa8-4ec4-b418-d7089464ef57\",\"type\":\"BasicTicker\"}},\"id\":\"feccd588-5dd5-4d5b-ace8-1c12faf368de\",\"type\":\"LinearAxis\"},{\"attributes\":{\"label\":{\"value\":\"2\"},\"renderers\":[{\"id\":\"2656617f-3090-4cd4-8ffa-440456adb524\",\"type\":\"GlyphRenderer\"}]},\"id\":\"078cfaa5-0474-43e7-8ea2-d795bbdf3b0a\",\"type\":\"LegendItem\"},{\"attributes\":{},\"id\":\"b40540a1-8fa8-4ec4-b418-d7089464ef57\",\"type\":\"BasicTicker\"},{\"attributes\":{\"line_alpha\":0.1,\"line_color\":\"#1f77b4\",\"line_dash\":[6,4,2,4],\"line_width\":2.1026415865734926,\"x\":{\"field\":\"x\"},\"y\":{\"field\":\"y\"}},\"id\":\"8d5167f6-d686-4cd4-9985-b9975ecab743\",\"type\":\"Line\"},{\"attributes\":{\"label\":{\"value\":\"3\"},\"renderers\":[{\"id\":\"a7342cdd-277a-4d16-af60-c3fbae75705f\",\"type\":\"GlyphRenderer\"}]},\"id\":\"5a2fb251-1c37-443d-8a41-e7578b08aaea\",\"type\":\"LegendItem\"},{\"attributes\":{},\"id\":\"ac4fadb5-8d11-4864-bb9c-12667e79959e\",\"type\":\"BasicTicker\"},{\"attributes\":{\"label\":{\"value\":\"4\"},\"renderers\":[{\"id\":\"a4aebaa9-7b8d-476f-8197-f5ef9529f38e\",\"type\":\"GlyphRenderer\"}]},\"id\":\"bde694c5-2403-48cd-827c-2b36481d373f\",\"type\":\"LegendItem\"},{\"attributes\":{\"dimension\":1,\"plot\":{\"id\":\"7a216de6-efc2-4a5f-a8d0-f8bf7d4e99ca\",\"subtype\":\"Figure\",\"type\":\"Plot\"},\"ticker\":{\"id\":\"b40540a1-8fa8-4ec4-b418-d7089464ef57\",\"type\":\"BasicTicker\"}},\"id\":\"4054dc62-c53c-4e66-91af-968926feb162\",\"type\":\"Grid\"},{\"attributes\":{\"line_alpha\":0.504309012159528,\"line_color\":\"#c5b0d5\",\"line_dash\":[6,4,2,4],\"line_width\":2.1026415865734926,\"x\":{\"field\":\"x\"},\"y\":{\"field\":\"y\"}},\"id\":\"f482cba2-c535-447b-ad2f-1c09bd34f5d0\",\"type\":\"Line\"},{\"attributes\":{\"label\":{\"value\":\"5\"},\"renderers\":[{\"id\":\"6f33b6f4-25ae-49da-b736-d1b2068ebe05\",\"type\":\"GlyphRenderer\"}]},\"id\":\"7697e6df-26fe-4694-bed4-ad78dfc56a62\",\"type\":\"LegendItem\"},{\"attributes\":{\"source\":{\"id\":\"3faf6d94-a3b3-4a20-909e-eec93ce4b15d\",\"type\":\"ColumnDataSource\"}},\"id\":\"d117974a-97e0-48cd-b845-baf6071c1a79\",\"type\":\"CDSView\"},{\"attributes\":{\"label\":{\"value\":\"6\"},\"renderers\":[{\"id\":\"88c205ca-1386-4839-bf3d-f774ba5630da\",\"type\":\"GlyphRenderer\"}]},\"id\":\"34751c7d-ccb5-486e-bcae-41e0e8e53185\",\"type\":\"LegendItem\"},{\"attributes\":{\"label\":{\"value\":\"7\"},\"renderers\":[{\"id\":\"397959b3-a289-4625-b806-706554701528\",\"type\":\"GlyphRenderer\"}]},\"id\":\"90baf3b1-bd6c-4955-9685-12109424ed76\",\"type\":\"LegendItem\"},{\"attributes\":{\"label\":{\"value\":\"8\"},\"renderers\":[{\"id\":\"bc215d9c-8228-42f3-a386-2ba6b208cdbf\",\"type\":\"GlyphRenderer\"}]},\"id\":\"1df16862-857a-449c-bc7e-cb387e781af3\",\"type\":\"LegendItem\"},{\"attributes\":{\"source\":{\"id\":\"03066718-95a5-4424-bf6b-bb5542a3694b\",\"type\":\"ColumnDataSource\"}},\"id\":\"a4375256-8f55-4de6-822a-75d8f6536199\",\"type\":\"CDSView\"},{\"attributes\":{},\"id\":\"e8f64060-5436-4d7e-9221-bd8107447ece\",\"type\":\"Selection\"},{\"attributes\":{\"bottom_units\":\"screen\",\"fill_alpha\":{\"value\":0.5},\"fill_color\":{\"value\":\"lightgrey\"},\"left_units\":\"screen\",\"level\":\"overlay\",\"line_alpha\":{\"value\":1.0},\"line_color\":{\"value\":\"black\"},\"line_dash\":[4,4],\"line_width\":{\"value\":2},\"plot\":null,\"render_mode\":\"css\",\"right_units\":\"screen\",\"top_units\":\"screen\"},\"id\":\"3404e0be-cb91-4a8a-a591-413208f45bd0\",\"type\":\"BoxAnnotation\"},{\"attributes\":{\"data_source\":{\"id\":\"74b10af4-ee64-418d-b03d-94dab6c4fb9e\",\"type\":\"ColumnDataSource\"},\"glyph\":{\"id\":\"f482cba2-c535-447b-ad2f-1c09bd34f5d0\",\"type\":\"Line\"},\"hover_glyph\":null,\"muted_glyph\":null,\"nonselection_glyph\":{\"id\":\"8d5167f6-d686-4cd4-9985-b9975ecab743\",\"type\":\"Line\"},\"selection_glyph\":null,\"view\":{\"id\":\"f3505111-da3b-4ea9-ad38-c8761babe67f\",\"type\":\"CDSView\"}},\"id\":\"2656617f-3090-4cd4-8ffa-440456adb524\",\"type\":\"GlyphRenderer\"},{\"attributes\":{\"line_alpha\":0.955933660510931,\"line_color\":\"#1f77b4\",\"line_width\":4.302140992141078,\"x\":{\"field\":\"x\"},\"y\":{\"field\":\"y\"}},\"id\":\"649e75f6-ba52-4157-9423-06fe7cb104a6\",\"type\":\"Line\"},{\"attributes\":{},\"id\":\"b36dc3d4-f666-417c-afd1-9c43f9a484bb\",\"type\":\"WheelZoomTool\"},{\"attributes\":{},\"id\":\"23684db1-7124-4fd2-b169-cd1f29f0cba1\",\"type\":\"PanTool\"},{\"attributes\":{},\"id\":\"25c13987-c035-4195-b3d3-04618cd22170\",\"type\":\"UnionRenderers\"},{\"attributes\":{\"callback\":null,\"data\":{\"x\":{\"__ndarray__\":\"j0e6sH9owD+a1ZaVgV7AP7M4awlcS8A/QhnT4Vs3wD+axEkvpCLAP4vb7DgTDcA/ArF0V9nrvz9pMPQlp7i/P2BAipUsgr8/RvNbz2tHvz8fIMrdCAe/PyMnXUQlv74/onrOimZtvj/3eHzWkBO+P8x7Wk3wsL0/o8qTGMI5vT+BogWqd5+8Pz3TKn5817s/jI2SuhHUuj9bRT1MFIS5P3vrLhan1rc/MNIwIYvZtT9pquXWvXizPw0NF/vDfbA/3ziEhe7tqT8UFWAOcWKiP5ocRlqNmZY/016OaEzShj//5ZzQ0rJxP73fDQ6bbVM/b8iSe7JJKz9IwgC6Fsr1Pu9xxxfEcrE+Ooww4o55VT4AAAAAAAAAAAAAAAAAAAAAAAAAAAAAAAAAAAAAAAAAAAAAAAAAAAAAAAAAAAAAAAAAAAAAAAAAAAAAAAAAAAAAAAAAAAAAAAAAAAAAAAAAAAAAAAAAAAAAAAAAAAAAAAAAAAAAAAAAAAAAAAAAAAAAAAAAAAAAAAAAAAAAAAAAAAAAAAAAAAAAAAAAAAAAAAAAAAAAAAAAAAAAAAAAAAAAAAAAAAAAAAAAAAAAAAAAAAAAAAAAAAAAAAAAAAAAAAAAAAAAAAAAAAAAAAAAAAAAAAAAAAAAAAAAAAAAAAAAAAAAAAAAAAAAAAAAAAAAAAAAAAAAAAAAAAAAAAAAAAAAAAAAAAAAAAAAAAAAAAAAAAAAAAAAAAAAAAAAAAAAAAAAAAAAAAAAAAAAAAAAAAAAAAAAAAAAAAAAAAAAAAAAAAAAAAAAAAAA\",\"dtype\":\"float64\",\"shape\":[75]},\"y\":{\"__ndarray__\":\"YTJVMCqpMz8tQxzr4jZKPy9uowG8BVI/+n5qvHSTWD8VjErqBDRhP+CcEaW9wWc/CRueXinLcD/UK2UZ4lh3P/yp8dJNYoA/x7q4jQbwhj92cRsN4C2QP/5l9+RhoZY/WDm0yHa+nz8Sg8DKoUWmPyo6kst/SK8/J6CJsOHptT/J5T+k376+P8UgsHJokcU/ih9j7lpCzj+e76fGSzfVP4enV8oyxN0//yH99nXg5D8qOpLLf0jtP2FUUiegifQ/c9cS8kHP/D+/DpwzojQEQIEmwoanVwxAVOOlm8TgE0Dgvg6cM+IbQAMJih9jjiNAH/RsVn1uK0CTqYJRST0zQHicoiO5/DpAaCJseHrtQkDNzMzMzIxKQM3MzMzMeFJAZmZmZmZqWEAAAAAAAFxeQM3MzMzMJmJAmpmZmZkfZUBmZmZmZhhoQDMzMzMzEWtAAAAAAAAKbkBmZmZmZoFwQM3MzMzM/XFAMzMzMzN6c0CamZmZmfZ0QAAAAAAAc3ZAZmZmZmbvd0DNzMzMzGt5QDMzMzMz6HpAmpmZmZlkfEAAAAAAAOF9QGZmZmZmXX9AZmZmZuZsgECamZmZGSuBQM3MzMxM6YFAAAAAAICngkAzMzMzs2WDQGZmZmbmI4RAmpmZmRnihEDNzMzMTKCFQAAAAACAXoZAMzMzM7Mch0BmZmZm5tqHQJqZmZkZmYhAzczMzExXiUAAAAAAgBWKQDMzMzOz04pAZmZmZuaRi0CamZmZGVCMQM3MzMxMDo1AAAAAAIDMjUAzMzMzs4qOQGZmZmbmSI9A\",\"dtype\":\"float64\",\"shape\":[75]}},\"selected\":{\"id\":\"bb42ecc7-9642-4057-a61d-af342d116339\",\"type\":\"Selection\"},\"selection_policy\":{\"id\":\"86d5cf3f-3714-4200-b049-dbc99fbd3879\",\"type\":\"UnionRenderers\"}},\"id\":\"3faf6d94-a3b3-4a20-909e-eec93ce4b15d\",\"type\":\"ColumnDataSource\"},{\"attributes\":{\"overlay\":{\"id\":\"3404e0be-cb91-4a8a-a591-413208f45bd0\",\"type\":\"BoxAnnotation\"}},\"id\":\"fe7881f3-04a2-47fb-9286-d81edd64a347\",\"type\":\"BoxZoomTool\"},{\"attributes\":{\"callback\":null,\"end\":0.01,\"start\":1020},\"id\":\"d0fd3bf0-179f-463a-8ddd-30c6031a9ce5\",\"type\":\"Range1d\"},{\"attributes\":{\"source\":{\"id\":\"74b10af4-ee64-418d-b03d-94dab6c4fb9e\",\"type\":\"ColumnDataSource\"}},\"id\":\"f3505111-da3b-4ea9-ad38-c8761babe67f\",\"type\":\"CDSView\"},{\"attributes\":{},\"id\":\"992ab1b8-316e-4994-bfed-a0891499682a\",\"type\":\"ResetTool\"},{\"attributes\":{\"line_alpha\":0.7192007695996304,\"line_color\":\"#17becf\",\"line_dash\":[6],\"line_width\":3.4777940203272544,\"x\":{\"field\":\"x\"},\"y\":{\"field\":\"y\"}},\"id\":\"45f24992-bca3-453f-b09b-e76707d2d733\",\"type\":\"Line\"},{\"attributes\":{},\"id\":\"3665bfb6-6a0a-4244-8409-79d0e72a71e7\",\"type\":\"HelpTool\"},{\"attributes\":{},\"id\":\"93e4dd58-87aa-4f7f-9706-a98933bc127e\",\"type\":\"SaveTool\"},{\"attributes\":{\"data_source\":{\"id\":\"03066718-95a5-4424-bf6b-bb5542a3694b\",\"type\":\"ColumnDataSource\"},\"glyph\":{\"id\":\"8586340e-8c12-4f3f-b4f0-95cb03b330b4\",\"type\":\"Line\"},\"hover_glyph\":null,\"muted_glyph\":null,\"nonselection_glyph\":{\"id\":\"255160c8-84b6-4f93-94d4-1b177fb3ec81\",\"type\":\"Line\"},\"selection_glyph\":null,\"view\":{\"id\":\"a4375256-8f55-4de6-822a-75d8f6536199\",\"type\":\"CDSView\"}},\"id\":\"a4aebaa9-7b8d-476f-8197-f5ef9529f38e\",\"type\":\"GlyphRenderer\"},{\"attributes\":{\"line_alpha\":0.8730236142777315,\"line_color\":\"#e377c2\",\"line_dash\":[2,4],\"line_width\":1.9484677223116758,\"x\":{\"field\":\"x\"},\"y\":{\"field\":\"y\"}},\"id\":\"715383ae-bef1-443c-ac83-c05fbf2eb19d\",\"type\":\"Line\"},{\"attributes\":{\"data_source\":{\"id\":\"3faf6d94-a3b3-4a20-909e-eec93ce4b15d\",\"type\":\"ColumnDataSource\"},\"glyph\":{\"id\":\"715383ae-bef1-443c-ac83-c05fbf2eb19d\",\"type\":\"Line\"},\"hover_glyph\":null,\"muted_glyph\":null,\"nonselection_glyph\":{\"id\":\"89547a1e-ebf8-4be4-883a-a2b304bf8043\",\"type\":\"Line\"},\"selection_glyph\":null,\"view\":{\"id\":\"d117974a-97e0-48cd-b845-baf6071c1a79\",\"type\":\"CDSView\"}},\"id\":\"e90ae982-2058-4358-a4f5-b25e442c2b7f\",\"type\":\"GlyphRenderer\"},{\"attributes\":{},\"id\":\"86d5cf3f-3714-4200-b049-dbc99fbd3879\",\"type\":\"UnionRenderers\"},{\"attributes\":{\"line_alpha\":0.1,\"line_color\":\"#1f77b4\",\"line_dash\":[2,4],\"line_width\":1.9484677223116758,\"x\":{\"field\":\"x\"},\"y\":{\"field\":\"y\"}},\"id\":\"89547a1e-ebf8-4be4-883a-a2b304bf8043\",\"type\":\"Line\"},{\"attributes\":{},\"id\":\"cce45944-717a-45b3-9952-ea1531d43dc8\",\"type\":\"BasicTickFormatter\"},{\"attributes\":{\"callback\":null,\"data\":{\"x\":{\"__ndarray__\":\"fL+oD+pDcz8o+1vA031zP55SsXPL9XM/X3Fhct1zdD+Rn+gVqvZ0PzdUa+VOfnU/toPP3jIKdj/n8nIampl2P8G46QkqLnc/SsN8ux3Idz9CJEOOrWd4P5nP4lonDXk/c8tYfiq4eT8MYyTerlV6P4C8Np9j1Xo/EXuZD6VJez/v+3lLIMJ7PwKRbhmqQXw/Xfd3Mg/LfD/tbnVrX2F9P39ad7mp/X0/V91V1ez9fT/14+WfzzZ9PwPBLWnWY3w/8+TcHmvjez8Nl8kuIM17P+1XbFnfPHw/3Zs66kNyfT8GjXDFi6Z/P8UZ5KqJcIE/eIwbTP2bgz9oPgh9wG6GP601MbDQ/4k/095c0+4djj9kOY3d0w+RP9QHedptWZI/ZhSJEdtAkj/2YXs1WQaRP5et9UVCW44/pnshDTwxij/yPtACmxCGP/CDmPDwQ4I/6FND8gDcfT8oCz5RAjB4PyPOsye7eHM/7ImuCz84bz+uD4hjn/hoPxeIliMB9mM/8/JLL/fqXz8GfSsKootZPw27WrQhe1Q/hCkt0Kx0UD/nCqXl9oFKP8jEGB4caEU/42JWOf5VQT9BzVZ/ACk8P0vML1qy8DY/JsjGi56+Mj8iBpF31LkuPy/Sk0tGQik/OQuc6MrSJD/yfVCbYTghPwekUFjakBw/MFqy8BbEFz96kxlOHdQTP9YRsOtRlxA/0tJotE3YCz/2dDsc2WwHPxHv7yICxAM/JEmMddy2AD8kGaSmflr8Plj5TJOlGPg+EOq/WveH9D6N6IXY7IrxPhnkT9D9B+4+\",\"dtype\":\"float64\",\"shape\":[75]},\"y\":{\"__ndarray__\":\"YTJVMCqpMz8tQxzr4jZKPy9uowG8BVI/+n5qvHSTWD8VjErqBDRhP+CcEaW9wWc/CRueXinLcD/UK2UZ4lh3P/yp8dJNYoA/x7q4jQbwhj92cRsN4C2QP/5l9+RhoZY/WDm0yHa+nz8Sg8DKoUWmPyo6kst/SK8/J6CJsOHptT/J5T+k376+P8UgsHJokcU/ih9j7lpCzj+e76fGSzfVP4enV8oyxN0//yH99nXg5D8qOpLLf0jtP2FUUiegifQ/c9cS8kHP/D+/DpwzojQEQIEmwoanVwxAVOOlm8TgE0Dgvg6cM+IbQAMJih9jjiNAH/RsVn1uK0CTqYJRST0zQHicoiO5/DpAaCJseHrtQkDNzMzMzIxKQM3MzMzMeFJAZmZmZmZqWEAAAAAAAFxeQM3MzMzMJmJAmpmZmZkfZUBmZmZmZhhoQDMzMzMzEWtAAAAAAAAKbkBmZmZmZoFwQM3MzMzM/XFAMzMzMzN6c0CamZmZmfZ0QAAAAAAAc3ZAZmZmZmbvd0DNzMzMzGt5QDMzMzMz6HpAmpmZmZlkfEAAAAAAAOF9QGZmZmZmXX9AZmZmZuZsgECamZmZGSuBQM3MzMxM6YFAAAAAAICngkAzMzMzs2WDQGZmZmbmI4RAmpmZmRnihEDNzMzMTKCFQAAAAACAXoZAMzMzM7Mch0BmZmZm5tqHQJqZmZkZmYhAzczMzExXiUAAAAAAgBWKQDMzMzOz04pAZmZmZuaRi0CamZmZGVCMQM3MzMxMDo1AAAAAAIDMjUAzMzMzs4qOQGZmZmbmSI9A\",\"dtype\":\"float64\",\"shape\":[75]}},\"selected\":{\"id\":\"51c5013c-5361-49ce-968d-d28b57385b9d\",\"type\":\"Selection\"},\"selection_policy\":{\"id\":\"25c13987-c035-4195-b3d3-04618cd22170\",\"type\":\"UnionRenderers\"}},\"id\":\"03066718-95a5-4424-bf6b-bb5542a3694b\",\"type\":\"ColumnDataSource\"},{\"attributes\":{},\"id\":\"1228fd06-ae1b-4e0a-9dd5-4be6565ca087\",\"type\":\"UnionRenderers\"},{\"attributes\":{},\"id\":\"51c5013c-5361-49ce-968d-d28b57385b9d\",\"type\":\"Selection\"},{\"attributes\":{\"callback\":null,\"data\":{\"x\":{\"__ndarray__\":\"Ebzn4YBtpT/H//TRb4ClP2nCWb7spqU/OU/pHuHNpT90rJwHwfSlPz5L41l6G6Y/LBpCADZBpj8N8M0E/WSmP0M9GtpCiKY/w5AH6N+qpj/gT0t7nMymPwDaPRYu7aY/Pkc/dQcMpz+KvWHsziSnP2piyzwDNKc/Ur3zk4M8pz87LUfh3T6nPwsMWd3qOac//U6TGW8rpz/SjIfvqw+nP3CTtI/T36Y/RGxNRtd9pj9+cpDnZdqlP+DDX3InAaU/Li8r2j31oz80eGcGVKyiP/z4Mu5ZGaE/d9GAD5hmnj8VPWz5s+WZP0CzuaRJrZQ/Y/aJboP7jT9TpyzYgOeCP31jY7kAj3M/7G7YlRrKXj+qgWI7SutAP4WryXRkvBg/OWUsoj+X7T5M1zzcSLjEPo3ttaD3xqA+K2mkKSsbgD4raaQpKxtgPjqMMOKOeUU+AAAAAAAAAAAAAAAAAAAAAAAAAAAAAAAAAAAAAAAAAAAAAAAAAAAAAAAAAAAAAAAAAAAAAAAAAAAAAAAAAAAAAAAAAAAAAAAAAAAAAAAAAAAAAAAAAAAAAAAAAAAAAAAAAAAAAAAAAAAAAAAAAAAAAAAAAAAAAAAAAAAAAAAAAAAAAAAAAAAAAAAAAAAAAAAAAAAAAAAAAAAAAAAAAAAAAAAAAAAAAAAAAAAAAAAAAAAAAAAAAAAAAAAAAAAAAAAAAAAAAAAAAAAAAAAAAAAAAAAAAAAAAAAAAAAAAAAAAAAAAAAAAAAAAAAAAAAAAAAAAAAAAAAAAAAAAAAAAAAAAAAAAAAAAAAA\",\"dtype\":\"float64\",\"shape\":[75]},\"y\":{\"__ndarray__\":\"YTJVMCqpMz8tQxzr4jZKPy9uowG8BVI/+n5qvHSTWD8VjErqBDRhP+CcEaW9wWc/CRueXinLcD/UK2UZ4lh3P/yp8dJNYoA/x7q4jQbwhj92cRsN4C2QP/5l9+RhoZY/WDm0yHa+nz8Sg8DKoUWmPyo6kst/SK8/J6CJsOHptT/J5T+k376+P8UgsHJokcU/ih9j7lpCzj+e76fGSzfVP4enV8oyxN0//yH99nXg5D8qOpLLf0jtP2FUUiegifQ/c9cS8kHP/D+/DpwzojQEQIEmwoanVwxAVOOlm8TgE0Dgvg6cM+IbQAMJih9jjiNAH/RsVn1uK0CTqYJRST0zQHicoiO5/DpAaCJseHrtQkDNzMzMzIxKQM3MzMzMeFJAZmZmZmZqWEAAAAAAAFxeQM3MzMzMJmJAmpmZmZkfZUBmZmZmZhhoQDMzMzMzEWtAAAAAAAAKbkBmZmZmZoFwQM3MzMzM/XFAMzMzMzN6c0CamZmZmfZ0QAAAAAAAc3ZAZmZmZmbvd0DNzMzMzGt5QDMzMzMz6HpAmpmZmZlkfEAAAAAAAOF9QGZmZmZmXX9AZmZmZuZsgECamZmZGSuBQM3MzMxM6YFAAAAAAICngkAzMzMzs2WDQGZmZmbmI4RAmpmZmRnihEDNzMzMTKCFQAAAAACAXoZAMzMzM7Mch0BmZmZm5tqHQJqZmZkZmYhAzczMzExXiUAAAAAAgBWKQDMzMzOz04pAZmZmZuaRi0CamZmZGVCMQM3MzMxMDo1AAAAAAIDMjUAzMzMzs4qOQGZmZmbmSI9A\",\"dtype\":\"float64\",\"shape\":[75]}},\"selected\":{\"id\":\"8d9daab8-b3a8-49f9-b1d7-5cf1b9693b4d\",\"type\":\"Selection\"},\"selection_policy\":{\"id\":\"663fd01f-4d1d-4285-bbfc-0abd119f9ce3\",\"type\":\"UnionRenderers\"}},\"id\":\"74b10af4-ee64-418d-b03d-94dab6c4fb9e\",\"type\":\"ColumnDataSource\"},{\"attributes\":{\"line_alpha\":0.1,\"line_color\":\"#1f77b4\",\"line_dash\":[6],\"line_width\":3.4777940203272544,\"x\":{\"field\":\"x\"},\"y\":{\"field\":\"y\"}},\"id\":\"763b3650-ab14-4b8f-b8de-e44ccf3605a9\",\"type\":\"Line\"},{\"attributes\":{},\"id\":\"663fd01f-4d1d-4285-bbfc-0abd119f9ce3\",\"type\":\"UnionRenderers\"},{\"attributes\":{\"callback\":null,\"data\":{\"x\":{\"__ndarray__\":\"+Rp6cupWIT/qXTjnEtQhP5cNnWTM2SI/TNxspFP0Iz98lUJBpSElP/HkR7puYyY/rMp8D7C5Jz+1ac/ZwCUpP2Wizv1Rqyo/SKnf4GZMLD+4XpFnsAwuPwujcnbf7y8/Kt6vn1H8MD/gMkShp/kxP/CuzL6f2DI/WMyENmu2Mz87UgEgvLA0P2JqKg/70jU/zdEdo8ArNz8+DZTr2M44Py+J1DBTxTo/6i+q+7YWPD+3IYzA1KY8P4TP3jIK9j0/ljCqd35yQD85s8DLyv5CP5+4NUzh/0Y/ffiFma4OTT/uKAj90PVSP08v5wjPOlk/DbxBUSz5YD+WVugorPlmP89tgKFgKW8/3KQ/hzsPdT8V280h4zB8P7fKuE7Ic4I/udbFCgrFhj8gOeNFcG2KP72ihC4bfI0/UxKnzRf/jz9jcL07bAGRPwmNu5xtyZE//4hPz/Vckj8no4gUHMGSP14sLZ+8+pI/umnxMXEOkz8jyqwYjQCTP2XUSls71ZI/itSsGiGPkj8sV8vftTKSP+l3J8AsxJE/n3b4a7JGkT8eqzF0Lr2QP05zG6JEKpA/85vb56Ugjz/TFAFO7+KNP2jGy2gen4w/FiYAvXhYiz+hl5u50RGKP3hPs3pmzYg/FkGts2uMhz/lcNZ14lGGP4U3UlMeH4U/BEeXcTL1gz9HdTqQ9dSCP7pi674Iv4E/0rUGIeazgD8sp/OXzGd/PzLF4liTfn0/6pWyDHGsez/3y2lHWPF5PzQary/ITHg/k7anmg++dj8vQuNPdUR1P50csj9Y33M/\",\"dtype\":\"float64\",\"shape\":[75]},\"y\":{\"__ndarray__\":\"YTJVMCqpMz8tQxzr4jZKPy9uowG8BVI/+n5qvHSTWD8VjErqBDRhP+CcEaW9wWc/CRueXinLcD/UK2UZ4lh3P/yp8dJNYoA/x7q4jQbwhj92cRsN4C2QP/5l9+RhoZY/WDm0yHa+nz8Sg8DKoUWmPyo6kst/SK8/J6CJsOHptT/J5T+k376+P8UgsHJokcU/ih9j7lpCzj+e76fGSzfVP4enV8oyxN0//yH99nXg5D8qOpLLf0jtP2FUUiegifQ/c9cS8kHP/D+/DpwzojQEQIEmwoanVwxAVOOlm8TgE0Dgvg6cM+IbQAMJih9jjiNAH/RsVn1uK0CTqYJRST0zQHicoiO5/DpAaCJseHrtQkDNzMzMzIxKQM3MzMzMeFJAZmZmZmZqWEAAAAAAAFxeQM3MzMzMJmJAmpmZmZkfZUBmZmZmZhhoQDMzMzMzEWtAAAAAAAAKbkBmZmZmZoFwQM3MzMzM/XFAMzMzMzN6c0CamZmZmfZ0QAAAAAAAc3ZAZmZmZmbvd0DNzMzMzGt5QDMzMzMz6HpAmpmZmZlkfEAAAAAAAOF9QGZmZmZmXX9AZmZmZuZsgECamZmZGSuBQM3MzMxM6YFAAAAAAICngkAzMzMzs2WDQGZmZmbmI4RAmpmZmRnihEDNzMzMTKCFQAAAAACAXoZAMzMzM7Mch0BmZmZm5tqHQJqZmZkZmYhAzczMzExXiUAAAAAAgBWKQDMzMzOz04pAZmZmZuaRi0CamZmZGVCMQM3MzMxMDo1AAAAAAIDMjUAzMzMzs4qOQGZmZmbmSI9A\",\"dtype\":\"float64\",\"shape\":[75]}},\"selected\":{\"id\":\"e8f64060-5436-4d7e-9221-bd8107447ece\",\"type\":\"Selection\"},\"selection_policy\":{\"id\":\"1228fd06-ae1b-4e0a-9dd5-4be6565ca087\",\"type\":\"UnionRenderers\"}},\"id\":\"8aad89f4-8f9a-40a7-a06b-b4971f1dbc1d\",\"type\":\"ColumnDataSource\"},{\"attributes\":{},\"id\":\"b188b02d-015b-4426-9c5b-a3b854b4dd89\",\"type\":\"UnionRenderers\"},{\"attributes\":{},\"id\":\"4ef1a6e2-300d-4508-9bf0-7692a02a0aab\",\"type\":\"UnionRenderers\"},{\"attributes\":{\"data_source\":{\"id\":\"61d8c498-29a7-441b-95c3-bd942f9abb0d\",\"type\":\"ColumnDataSource\"},\"glyph\":{\"id\":\"45f24992-bca3-453f-b09b-e76707d2d733\",\"type\":\"Line\"},\"hover_glyph\":null,\"muted_glyph\":null,\"nonselection_glyph\":{\"id\":\"763b3650-ab14-4b8f-b8de-e44ccf3605a9\",\"type\":\"Line\"},\"selection_glyph\":null,\"view\":{\"id\":\"008392fc-f461-4199-8589-32b57b2e13b1\",\"type\":\"CDSView\"}},\"id\":\"a7342cdd-277a-4d16-af60-c3fbae75705f\",\"type\":\"GlyphRenderer\"},{\"attributes\":{},\"id\":\"bc2c571f-c5b1-4c44-b71d-24841bb8d0e5\",\"type\":\"Selection\"},{\"attributes\":{},\"id\":\"7780574f-6b0d-4347-a82d-9c92890ad572\",\"type\":\"BasicTickFormatter\"},{\"attributes\":{\"source\":{\"id\":\"61d8c498-29a7-441b-95c3-bd942f9abb0d\",\"type\":\"ColumnDataSource\"}},\"id\":\"008392fc-f461-4199-8589-32b57b2e13b1\",\"type\":\"CDSView\"},{\"attributes\":{},\"id\":\"bb42ecc7-9642-4057-a61d-af342d116339\",\"type\":\"Selection\"},{\"attributes\":{\"line_alpha\":0.1,\"line_color\":\"#1f77b4\",\"line_dash\":[2,4],\"line_width\":1.1111565286396186,\"x\":{\"field\":\"x\"},\"y\":{\"field\":\"y\"}},\"id\":\"255160c8-84b6-4f93-94d4-1b177fb3ec81\",\"type\":\"Line\"},{\"attributes\":{},\"id\":\"8d9daab8-b3a8-49f9-b1d7-5cf1b9693b4d\",\"type\":\"Selection\"},{\"attributes\":{},\"id\":\"f305b63c-6337-44eb-8e56-02c2944faa52\",\"type\":\"Selection\"},{\"attributes\":{},\"id\":\"642a46ec-d4e6-4dde-b519-4204a14cb793\",\"type\":\"UnionRenderers\"},{\"attributes\":{},\"id\":\"ba0f675c-9f35-4681-8fbb-174f91097dba\",\"type\":\"Selection\"},{\"attributes\":{\"line_alpha\":0.6227749212167745,\"line_color\":\"#2ca02c\",\"line_dash\":[2,4],\"line_width\":1.1111565286396186,\"x\":{\"field\":\"x\"},\"y\":{\"field\":\"y\"}},\"id\":\"8586340e-8c12-4f3f-b4f0-95cb03b330b4\",\"type\":\"Line\"},{\"attributes\":{\"callback\":null,\"data\":{\"x\":{\"__ndarray__\":\"ZDPRMTGn9T7zbo9SxzL2PszNmsw2P/c+Zi8day1p+D7S2fJfWrP5PhDNG6u9Hfs+ZyEJFBSz/D7oHJfMDHb+PvWOCecJOgA/Wh737/JbAT/gMZevJqoCP87hWu1hLwQ/jNJr1L/7BT/DpXxr1AEIP2EVsYDwPgo/HfmL8i/2DD8H1eUYuTwQPyhSDiT3jRI/1/5rzC2lFT8Oy/K3NdAZP8qiE7ZdcB8/OhX8eOBKIz9pPynFVBsoP0B6N9T3My8/BLfFZ3jUND8AyMf2c208P+aCK4ezrkM/nuF60pF1Sz8ytzEsNTFTP49Jb0302Fo/dcTGYdXFYj/EWVNRoy1qP3ztPmyOGHI/Gs0dP0ypeD9Sy5xPmXKAP0tBdXtiAIU/jT84PBCbiD/Fmy0HF36KP/uqv9K31Io/T+/ajHDmiT+NEeT7PQyIP5qF6qTGnYU/dpXFL4Lngj8GQCZjxiWAPwxid+wtBns/pLHuBm4wdj9SBB8g6+txP13LO7lslWw/m+y4RKKOZj8m7fyR2KRhPylhv4oAZVs/94PLdPkgVT9ZzWvTdTRQP3gWlNTPvEg/qpZb9+LNQj8IqNMuZH08PwS2GHb3hDU/IcDxzgQ3MD+BGikheWMoP9N9CMPjTyI/U9WAGFN2Gz9WAjEitJIUPyol/Dmizg4/keAdS+UOBz+0hEqWckIBP7ZoIug/1vk+QraoJvNV8z4d+YvyL/bsPruRHiudtOU+RMpoRx5G4D6sR44y6nPYPvaHfzv9XtI+NmSwoDiZyz7YBx9rws3EPt3scr6WX78+\",\"dtype\":\"float64\",\"shape\":[75]},\"y\":{\"__ndarray__\":\"YTJVMCqpMz8tQxzr4jZKPy9uowG8BVI/+n5qvHSTWD8VjErqBDRhP+CcEaW9wWc/CRueXinLcD/UK2UZ4lh3P/yp8dJNYoA/x7q4jQbwhj92cRsN4C2QP/5l9+RhoZY/WDm0yHa+nz8Sg8DKoUWmPyo6kst/SK8/J6CJsOHptT/J5T+k376+P8UgsHJokcU/ih9j7lpCzj+e76fGSzfVP4enV8oyxN0//yH99nXg5D8qOpLLf0jtP2FUUiegifQ/c9cS8kHP/D+/DpwzojQEQIEmwoanVwxAVOOlm8TgE0Dgvg6cM+IbQAMJih9jjiNAH/RsVn1uK0CTqYJRST0zQHicoiO5/DpAaCJseHrtQkDNzMzMzIxKQM3MzMzMeFJAZmZmZmZqWEAAAAAAAFxeQM3MzMzMJmJAmpmZmZkfZUBmZmZmZhhoQDMzMzMzEWtAAAAAAAAKbkBmZmZmZoFwQM3MzMzM/XFAMzMzMzN6c0CamZmZmfZ0QAAAAAAAc3ZAZmZmZmbvd0DNzMzMzGt5QDMzMzMz6HpAmpmZmZlkfEAAAAAAAOF9QGZmZmZmXX9AZmZmZuZsgECamZmZGSuBQM3MzMxM6YFAAAAAAICngkAzMzMzs2WDQGZmZmbmI4RAmpmZmRnihEDNzMzMTKCFQAAAAACAXoZAMzMzM7Mch0BmZmZm5tqHQJqZmZkZmYhAzczMzExXiUAAAAAAgBWKQDMzMzOz04pAZmZmZuaRi0CamZmZGVCMQM3MzMxMDo1AAAAAAIDMjUAzMzMzs4qOQGZmZmbmSI9A\",\"dtype\":\"float64\",\"shape\":[75]}},\"selected\":{\"id\":\"ba0f675c-9f35-4681-8fbb-174f91097dba\",\"type\":\"Selection\"},\"selection_policy\":{\"id\":\"cf40249d-5f0f-4d4f-b54c-8de29da9a5e1\",\"type\":\"UnionRenderers\"}},\"id\":\"dc69f7dd-7396-4890-b698-61c1981848a3\",\"type\":\"ColumnDataSource\"},{\"attributes\":{\"line_alpha\":0.7249339611183295,\"line_color\":\"#9edae5\",\"line_width\":3.3108260262610645,\"x\":{\"field\":\"x\"},\"y\":{\"field\":\"y\"}},\"id\":\"139f1008-f0cf-4dc0-81ff-e418c7cac794\",\"type\":\"Line\"},{\"attributes\":{\"above\":[{\"id\":\"52f81cef-1b4f-4e58-9138-3bac7241a6dc\",\"type\":\"Legend\"}],\"below\":[{\"id\":\"3db0c94e-a681-4386-876f-08424640f979\",\"type\":\"LinearAxis\"}],\"left\":[{\"id\":\"feccd588-5dd5-4d5b-ace8-1c12faf368de\",\"type\":\"LinearAxis\"}],\"plot_width\":500,\"renderers\":[{\"id\":\"3db0c94e-a681-4386-876f-08424640f979\",\"type\":\"LinearAxis\"},{\"id\":\"0502b3c0-5b05-4a6a-9492-d9470146c1ea\",\"type\":\"Grid\"},{\"id\":\"feccd588-5dd5-4d5b-ace8-1c12faf368de\",\"type\":\"LinearAxis\"},{\"id\":\"4054dc62-c53c-4e66-91af-968926feb162\",\"type\":\"Grid\"},{\"id\":\"3404e0be-cb91-4a8a-a591-413208f45bd0\",\"type\":\"BoxAnnotation\"},{\"id\":\"e90ae982-2058-4358-a4f5-b25e442c2b7f\",\"type\":\"GlyphRenderer\"},{\"id\":\"2656617f-3090-4cd4-8ffa-440456adb524\",\"type\":\"GlyphRenderer\"},{\"id\":\"a7342cdd-277a-4d16-af60-c3fbae75705f\",\"type\":\"GlyphRenderer\"},{\"id\":\"a4aebaa9-7b8d-476f-8197-f5ef9529f38e\",\"type\":\"GlyphRenderer\"},{\"id\":\"6f33b6f4-25ae-49da-b736-d1b2068ebe05\",\"type\":\"GlyphRenderer\"},{\"id\":\"88c205ca-1386-4839-bf3d-f774ba5630da\",\"type\":\"GlyphRenderer\"},{\"id\":\"397959b3-a289-4625-b806-706554701528\",\"type\":\"GlyphRenderer\"},{\"id\":\"bc215d9c-8228-42f3-a386-2ba6b208cdbf\",\"type\":\"GlyphRenderer\"},{\"id\":\"52f81cef-1b4f-4e58-9138-3bac7241a6dc\",\"type\":\"Legend\"}],\"title\":{\"id\":\"ec82d2b0-69b8-45f8-a6a6-1c8cf2b59f27\",\"type\":\"Title\"},\"toolbar\":{\"id\":\"abf80192-98c7-476d-b841-0aba9e8299ca\",\"type\":\"Toolbar\"},\"x_range\":{\"id\":\"3a738075-814b-45eb-b35f-9aa5a9ca8f4d\",\"type\":\"Range1d\"},\"x_scale\":{\"id\":\"2beecaee-e51a-4451-a0c7-da0125496c18\",\"type\":\"LinearScale\"},\"y_range\":{\"id\":\"d0fd3bf0-179f-463a-8ddd-30c6031a9ce5\",\"type\":\"Range1d\"},\"y_scale\":{\"id\":\"489137f4-2c82-4b5b-a53a-11f9facce9da\",\"type\":\"LinearScale\"}},\"id\":\"7a216de6-efc2-4a5f-a8d0-f8bf7d4e99ca\",\"subtype\":\"Figure\",\"type\":\"Plot\"},{\"attributes\":{\"source\":{\"id\":\"dc69f7dd-7396-4890-b698-61c1981848a3\",\"type\":\"ColumnDataSource\"}},\"id\":\"a38b1f90-1a63-42e0-95ae-997d9c0cbb64\",\"type\":\"CDSView\"},{\"attributes\":{},\"id\":\"cf40249d-5f0f-4d4f-b54c-8de29da9a5e1\",\"type\":\"UnionRenderers\"},{\"attributes\":{},\"id\":\"ee4b0ee0-58dd-47fc-b3f6-c671441c0f73\",\"type\":\"Selection\"}],\"root_ids\":[\"7a216de6-efc2-4a5f-a8d0-f8bf7d4e99ca\"]},\"title\":\"Bokeh Application\",\"version\":\"0.12.16\"}};\n",
       "  var render_items = [{\"docid\":\"3f07f0ac-fca9-4176-86d7-47c943bbe284\",\"elementid\":\"c613d529-df82-4334-905b-e4bec4f197c4\",\"modelid\":\"7a216de6-efc2-4a5f-a8d0-f8bf7d4e99ca\"}];\n",
       "  root.Bokeh.embed.embed_items_notebook(docs_json, render_items);\n",
       "\n",
       "  }\n",
       "  if (root.Bokeh !== undefined) {\n",
       "    embed_document(root);\n",
       "  } else {\n",
       "    var attempts = 0;\n",
       "    var timer = setInterval(function(root) {\n",
       "      if (root.Bokeh !== undefined) {\n",
       "        embed_document(root);\n",
       "        clearInterval(timer);\n",
       "      }\n",
       "      attempts++;\n",
       "      if (attempts > 100) {\n",
       "        console.log(\"Bokeh: ERROR: Unable to run BokehJS code because BokehJS library is missing\")\n",
       "        clearInterval(timer);\n",
       "      }\n",
       "    }, 10, root)\n",
       "  }\n",
       "})(window);"
      ],
      "application/vnd.bokehjs_exec.v0+json": ""
     },
     "metadata": {
      "application/vnd.bokehjs_exec.v0+json": {
       "id": "7a216de6-efc2-4a5f-a8d0-f8bf7d4e99ca"
      }
     },
     "output_type": "display_data"
    },
    {
     "data": {
      "text/html": [
       "\n",
       "<div class=\"bk-root\">\n",
       "    <div class=\"bk-plotdiv\" id=\"e2aa4cc3-5291-4f83-92cf-c6eb0a6add1a\"></div>\n",
       "</div>"
      ]
     },
     "metadata": {},
     "output_type": "display_data"
    },
    {
     "data": {
      "application/javascript": [
       "(function(root) {\n",
       "  function embed_document(root) {\n",
       "    \n",
       "  var docs_json = {\"c6f2ed21-c5d6-4929-92e6-e9348904e9d1\":{\"roots\":{\"references\":[{\"attributes\":{},\"id\":\"abad05b2-7e07-4789-80c1-7ea9b31200a4\",\"type\":\"UnionRenderers\"},{\"attributes\":{\"callback\":null,\"end\":0.01,\"start\":1020},\"id\":\"f731b826-f661-402d-97ed-379eb5402e36\",\"type\":\"Range1d\"},{\"attributes\":{},\"id\":\"b0219533-51be-4241-8255-3722911940bd\",\"type\":\"Selection\"},{\"attributes\":{},\"id\":\"438907bf-9fcd-4d81-8802-e18b303c1841\",\"type\":\"UnionRenderers\"},{\"attributes\":{\"source\":{\"id\":\"7da2afd3-ac59-4825-a6f2-b9803e9aebf6\",\"type\":\"ColumnDataSource\"}},\"id\":\"b663d14d-38be-4142-989a-cd6d4a0d9f8c\",\"type\":\"CDSView\"},{\"attributes\":{},\"id\":\"dbabaa8c-2b7f-4029-81fb-d686cb135768\",\"type\":\"Selection\"},{\"attributes\":{},\"id\":\"7b2868c4-9b62-4234-896e-6cdfe067b242\",\"type\":\"UnionRenderers\"},{\"attributes\":{\"line_alpha\":0.6227749212167745,\"line_color\":\"#2ca02c\",\"line_dash\":[2,4],\"line_width\":1.1111565286396186,\"x\":{\"field\":\"x\"},\"y\":{\"field\":\"y\"}},\"id\":\"2ab4ad17-a7d1-44f4-80b9-c13371b3f475\",\"type\":\"Line\"},{\"attributes\":{},\"id\":\"30ac697a-1768-4bea-a486-dbce1a92ef1d\",\"type\":\"Selection\"},{\"attributes\":{},\"id\":\"b2226a3f-0d9c-4aaa-b275-0abca3b11f7a\",\"type\":\"UnionRenderers\"},{\"attributes\":{},\"id\":\"269e1359-2563-4495-9614-db076824a3b8\",\"type\":\"Selection\"},{\"attributes\":{},\"id\":\"fd679a6e-566f-48ad-a0e5-10c7b473051b\",\"type\":\"UnionRenderers\"},{\"attributes\":{\"callback\":null,\"data\":{\"x\":{\"__ndarray__\":\"fL+oD+pDcz8o+1vA031zP55SsXPL9XM/X3Fhct1zdD+Rn+gVqvZ0PzdUa+VOfnU/toPP3jIKdj/n8nIampl2P8G46QkqLnc/SsN8ux3Idz9CJEOOrWd4P5nP4lonDXk/c8tYfiq4eT8MYyTerlV6P4C8Np9j1Xo/EXuZD6VJez/v+3lLIMJ7PwKRbhmqQXw/Xfd3Mg/LfD/tbnVrX2F9P39ad7mp/X0/V91V1ez9fT/14+WfzzZ9PwPBLWnWY3w/8+TcHmvjez8Nl8kuIM17P+1XbFnfPHw/3Zs66kNyfT8GjXDFi6Z/P8UZ5KqJcIE/eIwbTP2bgz9oPgh9wG6GP601MbDQ/4k/095c0+4djj9kOY3d0w+RP9QHedptWZI/ZhSJEdtAkj/2YXs1WQaRP5et9UVCW44/pnshDTwxij/yPtACmxCGP/CDmPDwQ4I/6FND8gDcfT8oCz5RAjB4PyPOsye7eHM/7ImuCz84bz+uD4hjn/hoPxeIliMB9mM/8/JLL/fqXz8GfSsKootZPw27WrQhe1Q/hCkt0Kx0UD/nCqXl9oFKP8jEGB4caEU/42JWOf5VQT9BzVZ/ACk8P0vML1qy8DY/JsjGi56+Mj8iBpF31LkuPy/Sk0tGQik/OQuc6MrSJD/yfVCbYTghPwekUFjakBw/MFqy8BbEFz96kxlOHdQTP9YRsOtRlxA/0tJotE3YCz/2dDsc2WwHPxHv7yICxAM/JEmMddy2AD8kGaSmflr8Plj5TJOlGPg+EOq/WveH9D6N6IXY7IrxPhnkT9D9B+4+\",\"dtype\":\"float64\",\"shape\":[75]},\"y\":{\"__ndarray__\":\"YTJVMCqpMz8tQxzr4jZKPy9uowG8BVI/+n5qvHSTWD8VjErqBDRhP+CcEaW9wWc/CRueXinLcD/UK2UZ4lh3P/yp8dJNYoA/x7q4jQbwhj92cRsN4C2QP/5l9+RhoZY/WDm0yHa+nz8Sg8DKoUWmPyo6kst/SK8/J6CJsOHptT/J5T+k376+P8UgsHJokcU/ih9j7lpCzj+e76fGSzfVP4enV8oyxN0//yH99nXg5D8qOpLLf0jtP2FUUiegifQ/c9cS8kHP/D+/DpwzojQEQIEmwoanVwxAVOOlm8TgE0Dgvg6cM+IbQAMJih9jjiNAH/RsVn1uK0CTqYJRST0zQHicoiO5/DpAaCJseHrtQkDNzMzMzIxKQM3MzMzMeFJAZmZmZmZqWEAAAAAAAFxeQM3MzMzMJmJAmpmZmZkfZUBmZmZmZhhoQDMzMzMzEWtAAAAAAAAKbkBmZmZmZoFwQM3MzMzM/XFAMzMzMzN6c0CamZmZmfZ0QAAAAAAAc3ZAZmZmZmbvd0DNzMzMzGt5QDMzMzMz6HpAmpmZmZlkfEAAAAAAAOF9QGZmZmZmXX9AZmZmZuZsgECamZmZGSuBQM3MzMxM6YFAAAAAAICngkAzMzMzs2WDQGZmZmbmI4RAmpmZmRnihEDNzMzMTKCFQAAAAACAXoZAMzMzM7Mch0BmZmZm5tqHQJqZmZkZmYhAzczMzExXiUAAAAAAgBWKQDMzMzOz04pAZmZmZuaRi0CamZmZGVCMQM3MzMxMDo1AAAAAAIDMjUAzMzMzs4qOQGZmZmbmSI9A\",\"dtype\":\"float64\",\"shape\":[75]}},\"selected\":{\"id\":\"cc3cab0b-e67c-4217-9f1e-87ac523e6d68\",\"type\":\"Selection\"},\"selection_policy\":{\"id\":\"abad05b2-7e07-4789-80c1-7ea9b31200a4\",\"type\":\"UnionRenderers\"}},\"id\":\"5903f787-c4c5-4cf1-9f0e-d714ed6d550b\",\"type\":\"ColumnDataSource\"},{\"attributes\":{\"data_source\":{\"id\":\"7da2afd3-ac59-4825-a6f2-b9803e9aebf6\",\"type\":\"ColumnDataSource\"},\"glyph\":{\"id\":\"ac7755aa-b20c-4223-906f-c05f72b4ffe8\",\"type\":\"Line\"},\"hover_glyph\":null,\"muted_glyph\":null,\"nonselection_glyph\":{\"id\":\"df0fcf3a-ac28-40b5-a7a4-ffa9d67a6efd\",\"type\":\"Line\"},\"selection_glyph\":null,\"view\":{\"id\":\"b663d14d-38be-4142-989a-cd6d4a0d9f8c\",\"type\":\"CDSView\"}},\"id\":\"7bdcae65-5102-4867-8998-1558c9a36981\",\"type\":\"GlyphRenderer\"},{\"attributes\":{\"active_drag\":\"auto\",\"active_inspect\":\"auto\",\"active_scroll\":\"auto\",\"active_tap\":\"auto\",\"tools\":[{\"id\":\"9a0dedca-e024-4154-8ab9-dcd20b61d6ae\",\"type\":\"PanTool\"},{\"id\":\"9364868d-1133-49ac-b326-1b62916f1837\",\"type\":\"WheelZoomTool\"},{\"id\":\"d654b097-41d9-4d82-aa4e-3d8bfa4d7fa9\",\"type\":\"BoxZoomTool\"},{\"id\":\"5dce883f-203e-4627-9fcf-bc1e93465a47\",\"type\":\"SaveTool\"},{\"id\":\"4fe6bcc8-9b1d-4d75-a934-05c51c9106c1\",\"type\":\"ResetTool\"},{\"id\":\"de292948-131e-4a09-8a46-e5c774d8ec6d\",\"type\":\"HelpTool\"}]},\"id\":\"5b3c4436-70bd-4e18-b928-9c0b0af7a577\",\"type\":\"Toolbar\"},{\"attributes\":{\"callback\":null,\"data\":{\"x\":{\"__ndarray__\":\"Ebzn4YBtpT/H//TRb4ClP2nCWb7spqU/OU/pHuHNpT90rJwHwfSlPz5L41l6G6Y/LBpCADZBpj8N8M0E/WSmP0M9GtpCiKY/w5AH6N+qpj/gT0t7nMymPwDaPRYu7aY/Pkc/dQcMpz+KvWHsziSnP2piyzwDNKc/Ur3zk4M8pz87LUfh3T6nPwsMWd3qOac//U6TGW8rpz/SjIfvqw+nP3CTtI/T36Y/RGxNRtd9pj9+cpDnZdqlP+DDX3InAaU/Li8r2j31oz80eGcGVKyiP/z4Mu5ZGaE/d9GAD5hmnj8VPWz5s+WZP0CzuaRJrZQ/Y/aJboP7jT9TpyzYgOeCP31jY7kAj3M/7G7YlRrKXj+qgWI7SutAP4WryXRkvBg/OWUsoj+X7T5M1zzcSLjEPo3ttaD3xqA+K2mkKSsbgD4raaQpKxtgPjqMMOKOeUU+AAAAAAAAAAAAAAAAAAAAAAAAAAAAAAAAAAAAAAAAAAAAAAAAAAAAAAAAAAAAAAAAAAAAAAAAAAAAAAAAAAAAAAAAAAAAAAAAAAAAAAAAAAAAAAAAAAAAAAAAAAAAAAAAAAAAAAAAAAAAAAAAAAAAAAAAAAAAAAAAAAAAAAAAAAAAAAAAAAAAAAAAAAAAAAAAAAAAAAAAAAAAAAAAAAAAAAAAAAAAAAAAAAAAAAAAAAAAAAAAAAAAAAAAAAAAAAAAAAAAAAAAAAAAAAAAAAAAAAAAAAAAAAAAAAAAAAAAAAAAAAAAAAAAAAAAAAAAAAAAAAAAAAAAAAAAAAAAAAAAAAAAAAAAAAAA\",\"dtype\":\"float64\",\"shape\":[75]},\"y\":{\"__ndarray__\":\"YTJVMCqpMz8tQxzr4jZKPy9uowG8BVI/+n5qvHSTWD8VjErqBDRhP+CcEaW9wWc/CRueXinLcD/UK2UZ4lh3P/yp8dJNYoA/x7q4jQbwhj92cRsN4C2QP/5l9+RhoZY/WDm0yHa+nz8Sg8DKoUWmPyo6kst/SK8/J6CJsOHptT/J5T+k376+P8UgsHJokcU/ih9j7lpCzj+e76fGSzfVP4enV8oyxN0//yH99nXg5D8qOpLLf0jtP2FUUiegifQ/c9cS8kHP/D+/DpwzojQEQIEmwoanVwxAVOOlm8TgE0Dgvg6cM+IbQAMJih9jjiNAH/RsVn1uK0CTqYJRST0zQHicoiO5/DpAaCJseHrtQkDNzMzMzIxKQM3MzMzMeFJAZmZmZmZqWEAAAAAAAFxeQM3MzMzMJmJAmpmZmZkfZUBmZmZmZhhoQDMzMzMzEWtAAAAAAAAKbkBmZmZmZoFwQM3MzMzM/XFAMzMzMzN6c0CamZmZmfZ0QAAAAAAAc3ZAZmZmZmbvd0DNzMzMzGt5QDMzMzMz6HpAmpmZmZlkfEAAAAAAAOF9QGZmZmZmXX9AZmZmZuZsgECamZmZGSuBQM3MzMxM6YFAAAAAAICngkAzMzMzs2WDQGZmZmbmI4RAmpmZmRnihEDNzMzMTKCFQAAAAACAXoZAMzMzM7Mch0BmZmZm5tqHQJqZmZkZmYhAzczMzExXiUAAAAAAgBWKQDMzMzOz04pAZmZmZuaRi0CamZmZGVCMQM3MzMxMDo1AAAAAAIDMjUAzMzMzs4qOQGZmZmbmSI9A\",\"dtype\":\"float64\",\"shape\":[75]}},\"selected\":{\"id\":\"476751f8-c027-40f5-9908-831cef040743\",\"type\":\"Selection\"},\"selection_policy\":{\"id\":\"fb263e01-b868-4e7c-a6f7-79ac7d6341ed\",\"type\":\"UnionRenderers\"}},\"id\":\"a717b5fd-ca6f-410c-aa5d-60ba951f0a33\",\"type\":\"ColumnDataSource\"},{\"attributes\":{\"line_alpha\":0.1,\"line_color\":\"#1f77b4\",\"line_width\":4.302140992141078,\"x\":{\"field\":\"x\"},\"y\":{\"field\":\"y\"}},\"id\":\"9d963269-a6ce-48db-a6ed-4db898f096f4\",\"type\":\"Line\"},{\"attributes\":{\"callback\":null,\"end\":0.0204784368,\"start\":-0.0002027568},\"id\":\"813f9f01-71af-420c-a0f6-7b59c4e2bb51\",\"type\":\"Range1d\"},{\"attributes\":{\"callback\":null,\"data\":{\"x\":{\"__ndarray__\":\"+Rp6cupWIT/qXTjnEtQhP5cNnWTM2SI/TNxspFP0Iz98lUJBpSElP/HkR7puYyY/rMp8D7C5Jz+1ac/ZwCUpP2Wizv1Rqyo/SKnf4GZMLD+4XpFnsAwuPwujcnbf7y8/Kt6vn1H8MD/gMkShp/kxP/CuzL6f2DI/WMyENmu2Mz87UgEgvLA0P2JqKg/70jU/zdEdo8ArNz8+DZTr2M44Py+J1DBTxTo/6i+q+7YWPD+3IYzA1KY8P4TP3jIK9j0/ljCqd35yQD85s8DLyv5CP5+4NUzh/0Y/ffiFma4OTT/uKAj90PVSP08v5wjPOlk/DbxBUSz5YD+WVugorPlmP89tgKFgKW8/3KQ/hzsPdT8V280h4zB8P7fKuE7Ic4I/udbFCgrFhj8gOeNFcG2KP72ihC4bfI0/UxKnzRf/jz9jcL07bAGRPwmNu5xtyZE//4hPz/Vckj8no4gUHMGSP14sLZ+8+pI/umnxMXEOkz8jyqwYjQCTP2XUSls71ZI/itSsGiGPkj8sV8vftTKSP+l3J8AsxJE/n3b4a7JGkT8eqzF0Lr2QP05zG6JEKpA/85vb56Ugjz/TFAFO7+KNP2jGy2gen4w/FiYAvXhYiz+hl5u50RGKP3hPs3pmzYg/FkGts2uMhz/lcNZ14lGGP4U3UlMeH4U/BEeXcTL1gz9HdTqQ9dSCP7pi674Iv4E/0rUGIeazgD8sp/OXzGd/PzLF4liTfn0/6pWyDHGsez/3y2lHWPF5PzQary/ITHg/k7anmg++dj8vQuNPdUR1P50csj9Y33M/\",\"dtype\":\"float64\",\"shape\":[75]},\"y\":{\"__ndarray__\":\"YTJVMCqpMz8tQxzr4jZKPy9uowG8BVI/+n5qvHSTWD8VjErqBDRhP+CcEaW9wWc/CRueXinLcD/UK2UZ4lh3P/yp8dJNYoA/x7q4jQbwhj92cRsN4C2QP/5l9+RhoZY/WDm0yHa+nz8Sg8DKoUWmPyo6kst/SK8/J6CJsOHptT/J5T+k376+P8UgsHJokcU/ih9j7lpCzj+e76fGSzfVP4enV8oyxN0//yH99nXg5D8qOpLLf0jtP2FUUiegifQ/c9cS8kHP/D+/DpwzojQEQIEmwoanVwxAVOOlm8TgE0Dgvg6cM+IbQAMJih9jjiNAH/RsVn1uK0CTqYJRST0zQHicoiO5/DpAaCJseHrtQkDNzMzMzIxKQM3MzMzMeFJAZmZmZmZqWEAAAAAAAFxeQM3MzMzMJmJAmpmZmZkfZUBmZmZmZhhoQDMzMzMzEWtAAAAAAAAKbkBmZmZmZoFwQM3MzMzM/XFAMzMzMzN6c0CamZmZmfZ0QAAAAAAAc3ZAZmZmZmbvd0DNzMzMzGt5QDMzMzMz6HpAmpmZmZlkfEAAAAAAAOF9QGZmZmZmXX9AZmZmZuZsgECamZmZGSuBQM3MzMxM6YFAAAAAAICngkAzMzMzs2WDQGZmZmbmI4RAmpmZmRnihEDNzMzMTKCFQAAAAACAXoZAMzMzM7Mch0BmZmZm5tqHQJqZmZkZmYhAzczMzExXiUAAAAAAgBWKQDMzMzOz04pAZmZmZuaRi0CamZmZGVCMQM3MzMxMDo1AAAAAAIDMjUAzMzMzs4qOQGZmZmbmSI9A\",\"dtype\":\"float64\",\"shape\":[75]}},\"selected\":{\"id\":\"dbabaa8c-2b7f-4029-81fb-d686cb135768\",\"type\":\"Selection\"},\"selection_policy\":{\"id\":\"7b2868c4-9b62-4234-896e-6cdfe067b242\",\"type\":\"UnionRenderers\"}},\"id\":\"80ac069b-d11e-4ccc-9b29-fb55b7705372\",\"type\":\"ColumnDataSource\"},{\"attributes\":{\"data_source\":{\"id\":\"0b706f08-3225-474f-8a6a-fc9e3f7a8764\",\"type\":\"ColumnDataSource\"},\"glyph\":{\"id\":\"bff76329-1f76-4628-b398-003e80b7cba6\",\"type\":\"Line\"},\"hover_glyph\":null,\"muted_glyph\":null,\"nonselection_glyph\":{\"id\":\"9d963269-a6ce-48db-a6ed-4db898f096f4\",\"type\":\"Line\"},\"selection_glyph\":null,\"view\":{\"id\":\"b410a80f-f1fb-4e44-8b00-64934935460a\",\"type\":\"CDSView\"}},\"id\":\"b0733a93-ea93-402b-80cd-4cb11df92423\",\"type\":\"GlyphRenderer\"},{\"attributes\":{},\"id\":\"9ae946c8-027d-4ded-8772-175440426a2d\",\"type\":\"LinearScale\"},{\"attributes\":{\"plot\":{\"id\":\"d61c4d71-f496-4517-9754-992979569114\",\"subtype\":\"Figure\",\"type\":\"Plot\"},\"ticker\":{\"id\":\"a6af9401-7bf0-42f2-9cf2-0508185f9682\",\"type\":\"BasicTicker\"}},\"id\":\"343cba87-8f67-48de-96ae-676627e4ed00\",\"type\":\"Grid\"},{\"attributes\":{\"callback\":null,\"data\":{\"x\":{\"__ndarray__\":\"ZDPRMTGn9T7zbo9SxzL2PszNmsw2P/c+Zi8day1p+D7S2fJfWrP5PhDNG6u9Hfs+ZyEJFBSz/D7oHJfMDHb+PvWOCecJOgA/Wh737/JbAT/gMZevJqoCP87hWu1hLwQ/jNJr1L/7BT/DpXxr1AEIP2EVsYDwPgo/HfmL8i/2DD8H1eUYuTwQPyhSDiT3jRI/1/5rzC2lFT8Oy/K3NdAZP8qiE7ZdcB8/OhX8eOBKIz9pPynFVBsoP0B6N9T3My8/BLfFZ3jUND8AyMf2c208P+aCK4ezrkM/nuF60pF1Sz8ytzEsNTFTP49Jb0302Fo/dcTGYdXFYj/EWVNRoy1qP3ztPmyOGHI/Gs0dP0ypeD9Sy5xPmXKAP0tBdXtiAIU/jT84PBCbiD/Fmy0HF36KP/uqv9K31Io/T+/ajHDmiT+NEeT7PQyIP5qF6qTGnYU/dpXFL4Lngj8GQCZjxiWAPwxid+wtBns/pLHuBm4wdj9SBB8g6+txP13LO7lslWw/m+y4RKKOZj8m7fyR2KRhPylhv4oAZVs/94PLdPkgVT9ZzWvTdTRQP3gWlNTPvEg/qpZb9+LNQj8IqNMuZH08PwS2GHb3hDU/IcDxzgQ3MD+BGikheWMoP9N9CMPjTyI/U9WAGFN2Gz9WAjEitJIUPyol/Dmizg4/keAdS+UOBz+0hEqWckIBP7ZoIug/1vk+QraoJvNV8z4d+YvyL/bsPruRHiudtOU+RMpoRx5G4D6sR44y6nPYPvaHfzv9XtI+NmSwoDiZyz7YBx9rws3EPt3scr6WX78+\",\"dtype\":\"float64\",\"shape\":[75]},\"y\":{\"__ndarray__\":\"YTJVMCqpMz8tQxzr4jZKPy9uowG8BVI/+n5qvHSTWD8VjErqBDRhP+CcEaW9wWc/CRueXinLcD/UK2UZ4lh3P/yp8dJNYoA/x7q4jQbwhj92cRsN4C2QP/5l9+RhoZY/WDm0yHa+nz8Sg8DKoUWmPyo6kst/SK8/J6CJsOHptT/J5T+k376+P8UgsHJokcU/ih9j7lpCzj+e76fGSzfVP4enV8oyxN0//yH99nXg5D8qOpLLf0jtP2FUUiegifQ/c9cS8kHP/D+/DpwzojQEQIEmwoanVwxAVOOlm8TgE0Dgvg6cM+IbQAMJih9jjiNAH/RsVn1uK0CTqYJRST0zQHicoiO5/DpAaCJseHrtQkDNzMzMzIxKQM3MzMzMeFJAZmZmZmZqWEAAAAAAAFxeQM3MzMzMJmJAmpmZmZkfZUBmZmZmZhhoQDMzMzMzEWtAAAAAAAAKbkBmZmZmZoFwQM3MzMzM/XFAMzMzMzN6c0CamZmZmfZ0QAAAAAAAc3ZAZmZmZmbvd0DNzMzMzGt5QDMzMzMz6HpAmpmZmZlkfEAAAAAAAOF9QGZmZmZmXX9AZmZmZuZsgECamZmZGSuBQM3MzMxM6YFAAAAAAICngkAzMzMzs2WDQGZmZmbmI4RAmpmZmRnihEDNzMzMTKCFQAAAAACAXoZAMzMzM7Mch0BmZmZm5tqHQJqZmZkZmYhAzczMzExXiUAAAAAAgBWKQDMzMzOz04pAZmZmZuaRi0CamZmZGVCMQM3MzMxMDo1AAAAAAIDMjUAzMzMzs4qOQGZmZmbmSI9A\",\"dtype\":\"float64\",\"shape\":[75]}},\"selected\":{\"id\":\"b0219533-51be-4241-8255-3722911940bd\",\"type\":\"Selection\"},\"selection_policy\":{\"id\":\"438907bf-9fcd-4d81-8802-e18b303c1841\",\"type\":\"UnionRenderers\"}},\"id\":\"0b706f08-3225-474f-8a6a-fc9e3f7a8764\",\"type\":\"ColumnDataSource\"},{\"attributes\":{\"line_alpha\":0.955933660510931,\"line_color\":\"#1f77b4\",\"line_width\":4.302140992141078,\"x\":{\"field\":\"x\"},\"y\":{\"field\":\"y\"}},\"id\":\"bff76329-1f76-4628-b398-003e80b7cba6\",\"type\":\"Line\"},{\"attributes\":{\"line_alpha\":0.1,\"line_color\":\"#1f77b4\",\"line_dash\":[2,4],\"line_width\":1.1111565286396186,\"x\":{\"field\":\"x\"},\"y\":{\"field\":\"y\"}},\"id\":\"86431606-6376-4615-82fe-bcd8f5e3d87d\",\"type\":\"Line\"},{\"attributes\":{\"source\":{\"id\":\"5903f787-c4c5-4cf1-9f0e-d714ed6d550b\",\"type\":\"ColumnDataSource\"}},\"id\":\"9077342b-4573-4197-aa45-7c5fde2601f9\",\"type\":\"CDSView\"},{\"attributes\":{\"source\":{\"id\":\"36a40df6-fd2f-4540-86e1-e495b512f4bc\",\"type\":\"ColumnDataSource\"}},\"id\":\"3aa79bb4-5a21-4d60-a4cf-a5de4f169412\",\"type\":\"CDSView\"},{\"attributes\":{\"data_source\":{\"id\":\"5903f787-c4c5-4cf1-9f0e-d714ed6d550b\",\"type\":\"ColumnDataSource\"},\"glyph\":{\"id\":\"2ab4ad17-a7d1-44f4-80b9-c13371b3f475\",\"type\":\"Line\"},\"hover_glyph\":null,\"muted_glyph\":null,\"nonselection_glyph\":{\"id\":\"86431606-6376-4615-82fe-bcd8f5e3d87d\",\"type\":\"Line\"},\"selection_glyph\":null,\"view\":{\"id\":\"9077342b-4573-4197-aa45-7c5fde2601f9\",\"type\":\"CDSView\"}},\"id\":\"8f0a4b33-6699-4fd0-8018-1004cece7ace\",\"type\":\"GlyphRenderer\"},{\"attributes\":{\"source\":{\"id\":\"0b706f08-3225-474f-8a6a-fc9e3f7a8764\",\"type\":\"ColumnDataSource\"}},\"id\":\"b410a80f-f1fb-4e44-8b00-64934935460a\",\"type\":\"CDSView\"},{\"attributes\":{\"items\":[{\"id\":\"7f4a70cf-7be4-4fe8-94c5-dc109a086abe\",\"type\":\"LegendItem\"},{\"id\":\"2c62aeef-c21b-4508-a3f5-f9ab875b7805\",\"type\":\"LegendItem\"},{\"id\":\"2a25aaf5-c154-4b74-8e23-5a95a816198f\",\"type\":\"LegendItem\"},{\"id\":\"10295b54-59d0-4e38-9c48-7521f049ce50\",\"type\":\"LegendItem\"},{\"id\":\"a8a6cc2a-368d-421a-b9e9-22a7d6ebbacb\",\"type\":\"LegendItem\"},{\"id\":\"faab1557-2529-47fa-874e-4f1a68f9b89d\",\"type\":\"LegendItem\"},{\"id\":\"90d25bc6-8519-4e3c-a3df-ff148db41f07\",\"type\":\"LegendItem\"},{\"id\":\"892b4a65-4aed-4b2d-9d43-d487b7bc32be\",\"type\":\"LegendItem\"}],\"label_text_font_size\":{\"value\":\"8pt\"},\"location\":\"top_center\",\"orientation\":\"horizontal\",\"plot\":{\"id\":\"d61c4d71-f496-4517-9754-992979569114\",\"subtype\":\"Figure\",\"type\":\"Plot\"}},\"id\":\"5f28965f-0df6-448b-8301-93bde703f237\",\"type\":\"Legend\"},{\"attributes\":{\"line_alpha\":0.7249339611183295,\"line_color\":\"#9edae5\",\"line_width\":3.3108260262610645,\"x\":{\"field\":\"x\"},\"y\":{\"field\":\"y\"}},\"id\":\"95606914-3a60-443a-8193-e6c6f7a9468b\",\"type\":\"Line\"},{\"attributes\":{\"above\":[{\"id\":\"5f28965f-0df6-448b-8301-93bde703f237\",\"type\":\"Legend\"}],\"below\":[{\"id\":\"3e6228c1-d594-4158-a328-e24117ac8855\",\"type\":\"LinearAxis\"}],\"left\":[{\"id\":\"68a6a54f-3dab-4cb9-802a-11bd37292449\",\"type\":\"LogAxis\"}],\"plot_width\":500,\"renderers\":[{\"id\":\"3e6228c1-d594-4158-a328-e24117ac8855\",\"type\":\"LinearAxis\"},{\"id\":\"343cba87-8f67-48de-96ae-676627e4ed00\",\"type\":\"Grid\"},{\"id\":\"68a6a54f-3dab-4cb9-802a-11bd37292449\",\"type\":\"LogAxis\"},{\"id\":\"177c103d-062a-43ff-86da-e7cddd875244\",\"type\":\"Grid\"},{\"id\":\"1e7c1f57-588d-4b83-9b2d-1edf8dcb8098\",\"type\":\"BoxAnnotation\"},{\"id\":\"1cadf657-0741-4418-afed-540b5a180378\",\"type\":\"GlyphRenderer\"},{\"id\":\"6c690c2c-569b-4554-86c4-fb0b8b682b56\",\"type\":\"GlyphRenderer\"},{\"id\":\"7bdcae65-5102-4867-8998-1558c9a36981\",\"type\":\"GlyphRenderer\"},{\"id\":\"8f0a4b33-6699-4fd0-8018-1004cece7ace\",\"type\":\"GlyphRenderer\"},{\"id\":\"b0733a93-ea93-402b-80cd-4cb11df92423\",\"type\":\"GlyphRenderer\"},{\"id\":\"158ec248-053c-4047-b605-7cca1b1cdffa\",\"type\":\"GlyphRenderer\"},{\"id\":\"7a0a4d87-9202-4d61-93a6-aa0ba5b654be\",\"type\":\"GlyphRenderer\"},{\"id\":\"d1076ad9-062a-4bc9-b958-3ce9213b939c\",\"type\":\"GlyphRenderer\"},{\"id\":\"5f28965f-0df6-448b-8301-93bde703f237\",\"type\":\"Legend\"}],\"title\":{\"id\":\"93607f5e-1219-40ae-93a5-62226a8d1de8\",\"type\":\"Title\"},\"toolbar\":{\"id\":\"5b3c4436-70bd-4e18-b928-9c0b0af7a577\",\"type\":\"Toolbar\"},\"x_range\":{\"id\":\"813f9f01-71af-420c-a0f6-7b59c4e2bb51\",\"type\":\"Range1d\"},\"x_scale\":{\"id\":\"9ae946c8-027d-4ded-8772-175440426a2d\",\"type\":\"LinearScale\"},\"y_range\":{\"id\":\"f731b826-f661-402d-97ed-379eb5402e36\",\"type\":\"Range1d\"},\"y_scale\":{\"id\":\"f57ca8b0-d5ad-4b4c-a897-15fd19465745\",\"type\":\"LogScale\"}},\"id\":\"d61c4d71-f496-4517-9754-992979569114\",\"subtype\":\"Figure\",\"type\":\"Plot\"},{\"attributes\":{\"callback\":null,\"data\":{\"x\":{\"__ndarray__\":\"2fgCabV2QT+PD+XRrr5BP9vfVeYYVkI/AG/kLoD4Qj/zmaISjaRDP2tUltcAW0Q/1PcSEZsbRT8AoolFRuZFP6tp7lMbvUY/G+nz7huhRz8HFKBcCZNIPxVJw0IQlEk/d2rsGkakSj8xcCeutqRLPwlpdKSGeEw/5RbrAvs7TT/X+kOvFgpOP7sGhVo2504/YJd+FSLYTz+970pYPHFQP7uEXAyS/FA/ko5Zk/r0UD+H9lbJbDVQP2/6iqD3504/YD+j+CEETj9QQCz+Y99NP0ZXbSffpk4/usDlsWZkUD86Ki/gAlxSPxp+P077WlU/vSVS/feeWT9GQjrAvJVfP1AREi9w9WM/htM4imKoaT96vLmNQJtwP3hJ987DZHU/dUONIYRwej8AlhHuABV/Pxxq6xKbsIE/x+Z4P02xgz9bOaTm5Y+FP7ZOljnhToc/uLS35zvwiD8fmmDVrHWKPw2wh90U4os/QG6ebsk/jT9rBwpZaZSOP+xP4nMn2I8/NvPcKbqBkD97vgOPsQuRP5hlV3PjipE/aGWxA53/kT/MOutsK2qSP5DrETDbypI/teKX0fohkz8JJorS1m+TP2oywl+8tJM/H0/krPzwkz+mKPrw6iSUP9++s+LAUJQ/dtZ2LBl0lD/IYlk4YpCUP8fOJWYHppQ/MSBBEnK1lD9tCRI+CL+UP9tCBNolw5Q/asC9vhjClD+VtyOcFryUPyNA+uQwsZQ/uwZDPmShlD/0NIGe3YyUP/cRCfAndJQ/kIuDrvFXlD+RlUZpwjiUP96mJl7xFpQ/\",\"dtype\":\"float64\",\"shape\":[75]},\"y\":{\"__ndarray__\":\"YTJVMCqpMz8tQxzr4jZKPy9uowG8BVI/+n5qvHSTWD8VjErqBDRhP+CcEaW9wWc/CRueXinLcD/UK2UZ4lh3P/yp8dJNYoA/x7q4jQbwhj92cRsN4C2QP/5l9+RhoZY/WDm0yHa+nz8Sg8DKoUWmPyo6kst/SK8/J6CJsOHptT/J5T+k376+P8UgsHJokcU/ih9j7lpCzj+e76fGSzfVP4enV8oyxN0//yH99nXg5D8qOpLLf0jtP2FUUiegifQ/c9cS8kHP/D+/DpwzojQEQIEmwoanVwxAVOOlm8TgE0Dgvg6cM+IbQAMJih9jjiNAH/RsVn1uK0CTqYJRST0zQHicoiO5/DpAaCJseHrtQkDNzMzMzIxKQM3MzMzMeFJAZmZmZmZqWEAAAAAAAFxeQM3MzMzMJmJAmpmZmZkfZUBmZmZmZhhoQDMzMzMzEWtAAAAAAAAKbkBmZmZmZoFwQM3MzMzM/XFAMzMzMzN6c0CamZmZmfZ0QAAAAAAAc3ZAZmZmZmbvd0DNzMzMzGt5QDMzMzMz6HpAmpmZmZlkfEAAAAAAAOF9QGZmZmZmXX9AZmZmZuZsgECamZmZGSuBQM3MzMxM6YFAAAAAAICngkAzMzMzs2WDQGZmZmbmI4RAmpmZmRnihEDNzMzMTKCFQAAAAACAXoZAMzMzM7Mch0BmZmZm5tqHQJqZmZkZmYhAzczMzExXiUAAAAAAgBWKQDMzMzOz04pAZmZmZuaRi0CamZmZGVCMQM3MzMxMDo1AAAAAAIDMjUAzMzMzs4qOQGZmZmbmSI9A\",\"dtype\":\"float64\",\"shape\":[75]}},\"selected\":{\"id\":\"30ac697a-1768-4bea-a486-dbce1a92ef1d\",\"type\":\"Selection\"},\"selection_policy\":{\"id\":\"b2226a3f-0d9c-4aaa-b275-0abca3b11f7a\",\"type\":\"UnionRenderers\"}},\"id\":\"b023f99b-5b68-47e5-a177-fc4a6d1c9334\",\"type\":\"ColumnDataSource\"},{\"attributes\":{},\"id\":\"f57ca8b0-d5ad-4b4c-a897-15fd19465745\",\"type\":\"LogScale\"},{\"attributes\":{\"line_alpha\":0.1,\"line_color\":\"#1f77b4\",\"line_width\":3.3108260262610645,\"x\":{\"field\":\"x\"},\"y\":{\"field\":\"y\"}},\"id\":\"73579aaa-210d-4532-8b3b-0a3d3bdf37a4\",\"type\":\"Line\"},{\"attributes\":{\"axis_label\":\"heat\",\"formatter\":{\"id\":\"5ecf7491-74dc-4eae-b357-edcd29e5adcf\",\"type\":\"BasicTickFormatter\"},\"plot\":{\"id\":\"d61c4d71-f496-4517-9754-992979569114\",\"subtype\":\"Figure\",\"type\":\"Plot\"},\"ticker\":{\"id\":\"a6af9401-7bf0-42f2-9cf2-0508185f9682\",\"type\":\"BasicTicker\"}},\"id\":\"3e6228c1-d594-4158-a328-e24117ac8855\",\"type\":\"LinearAxis\"},{\"attributes\":{\"data_source\":{\"id\":\"80ac069b-d11e-4ccc-9b29-fb55b7705372\",\"type\":\"ColumnDataSource\"},\"glyph\":{\"id\":\"95606914-3a60-443a-8193-e6c6f7a9468b\",\"type\":\"Line\"},\"hover_glyph\":null,\"muted_glyph\":null,\"nonselection_glyph\":{\"id\":\"73579aaa-210d-4532-8b3b-0a3d3bdf37a4\",\"type\":\"Line\"},\"selection_glyph\":null,\"view\":{\"id\":\"a76a017e-eaa7-46f4-8df8-4506f1a0220b\",\"type\":\"CDSView\"}},\"id\":\"158ec248-053c-4047-b605-7cca1b1cdffa\",\"type\":\"GlyphRenderer\"},{\"attributes\":{},\"id\":\"a6af9401-7bf0-42f2-9cf2-0508185f9682\",\"type\":\"BasicTicker\"},{\"attributes\":{\"source\":{\"id\":\"80ac069b-d11e-4ccc-9b29-fb55b7705372\",\"type\":\"ColumnDataSource\"}},\"id\":\"a76a017e-eaa7-46f4-8df8-4506f1a0220b\",\"type\":\"CDSView\"},{\"attributes\":{\"axis_label\":\"pressure [mb]\",\"formatter\":{\"id\":\"269762fb-c206-4e90-9491-b3040c9c837c\",\"type\":\"LogTickFormatter\"},\"plot\":{\"id\":\"d61c4d71-f496-4517-9754-992979569114\",\"subtype\":\"Figure\",\"type\":\"Plot\"},\"ticker\":{\"id\":\"64d4ed6c-ebe5-4994-b3f3-ce2837c93b05\",\"type\":\"LogTicker\"}},\"id\":\"68a6a54f-3dab-4cb9-802a-11bd37292449\",\"type\":\"LogAxis\"},{\"attributes\":{\"line_alpha\":0.8301631487143261,\"line_color\":\"#c7c7c7\",\"line_dash\":[2,4],\"line_width\":1.580569377092933,\"x\":{\"field\":\"x\"},\"y\":{\"field\":\"y\"}},\"id\":\"a6fb673a-470f-4803-abe4-9e0f6ffb6b14\",\"type\":\"Line\"},{\"attributes\":{\"callback\":null,\"data\":{\"x\":{\"__ndarray__\":\"NOHys+ykWT+AU6vxytxZPyOaaZC8Ulo/9/kYQZ3RWj+fZz+UYFhbPyW/bqZ851s/HmD3Z1B+XD8dqinJOhxdP+yPi8XKw10/rF52NoF1Xj/Ltpkr/zFfP5zH3ffa+V8/uzznuGRmYD+Oaben9chgP886unyxGGE/2zkovF9gYT/d2AXmlalhP6hqaQtb9WE/M0hmmlVEYj9C+jd525ZiP6WckiAa5WI/t3Sz3CWzYj+zznz3XOBhPykjTw529WA/rzc5lW8qYD+SgsAtzABfP49sEcWi8V0/hQfuvGROXT8YNF/rczFdP0e/hY6Afl0/PeJGgIkuXj+qkJ9LQGVfP0Ln+8r/u2A/QlNdXaFRYj+BvVfn94FkP61mhFTdZWc/JfrnLxWXaj/Y2S1Vq6dtP/v00CW5T3A/nKH6/x/EcT8omSATvjFzPxz/cB0EmXQ/OlwnBUj6dT+khngc7VV3P/KOW+Vsrng/9MaDDGgSej8vQiVsR4p7P9wGIHveCX0/pDIoR7+Ffj9C6Qsh5/1/P6HQVzWtuYA/RbkTcPhygT/QE8douiqCP23Ut4rN4II/uzbI4gaVgz+0TK9iK0eEP8dvwJ369oQ/s1JScS2khT+gcobBgE6GP9fD8kKV9YY/m+0jGlGYhz8fB05L5jeIP3EEZ/ho1Ig//SZer/ptiT8jM1FjxgSKPxYLz43hmIo/L4WsEzwqiz+/myy9T7iLP9ecKK7PQYw/JLOblcTEjD8t6x/A+T+NP8Egp7dYtI0/ZYLpzQskjj+iVgNa25COP4LYRvq8+44/\",\"dtype\":\"float64\",\"shape\":[75]},\"y\":{\"__ndarray__\":\"YTJVMCqpMz8tQxzr4jZKPy9uowG8BVI/+n5qvHSTWD8VjErqBDRhP+CcEaW9wWc/CRueXinLcD/UK2UZ4lh3P/yp8dJNYoA/x7q4jQbwhj92cRsN4C2QP/5l9+RhoZY/WDm0yHa+nz8Sg8DKoUWmPyo6kst/SK8/J6CJsOHptT/J5T+k376+P8UgsHJokcU/ih9j7lpCzj+e76fGSzfVP4enV8oyxN0//yH99nXg5D8qOpLLf0jtP2FUUiegifQ/c9cS8kHP/D+/DpwzojQEQIEmwoanVwxAVOOlm8TgE0Dgvg6cM+IbQAMJih9jjiNAH/RsVn1uK0CTqYJRST0zQHicoiO5/DpAaCJseHrtQkDNzMzMzIxKQM3MzMzMeFJAZmZmZmZqWEAAAAAAAFxeQM3MzMzMJmJAmpmZmZkfZUBmZmZmZhhoQDMzMzMzEWtAAAAAAAAKbkBmZmZmZoFwQM3MzMzM/XFAMzMzMzN6c0CamZmZmfZ0QAAAAAAAc3ZAZmZmZmbvd0DNzMzMzGt5QDMzMzMz6HpAmpmZmZlkfEAAAAAAAOF9QGZmZmZmXX9AZmZmZuZsgECamZmZGSuBQM3MzMxM6YFAAAAAAICngkAzMzMzs2WDQGZmZmbmI4RAmpmZmRnihEDNzMzMTKCFQAAAAACAXoZAMzMzM7Mch0BmZmZm5tqHQJqZmZkZmYhAzczMzExXiUAAAAAAgBWKQDMzMzOz04pAZmZmZuaRi0CamZmZGVCMQM3MzMxMDo1AAAAAAIDMjUAzMzMzs4qOQGZmZmbmSI9A\",\"dtype\":\"float64\",\"shape\":[75]}},\"selected\":{\"id\":\"269e1359-2563-4495-9614-db076824a3b8\",\"type\":\"Selection\"},\"selection_policy\":{\"id\":\"fd679a6e-566f-48ad-a0e5-10c7b473051b\",\"type\":\"UnionRenderers\"}},\"id\":\"ece73077-abaf-4865-a233-4f71bfa2baca\",\"type\":\"ColumnDataSource\"},{\"attributes\":{\"num_minor_ticks\":10},\"id\":\"64d4ed6c-ebe5-4994-b3f3-ce2837c93b05\",\"type\":\"LogTicker\"},{\"attributes\":{\"line_alpha\":0.1,\"line_color\":\"#1f77b4\",\"line_dash\":[2,4],\"line_width\":1.580569377092933,\"x\":{\"field\":\"x\"},\"y\":{\"field\":\"y\"}},\"id\":\"225896f7-c6a2-47d0-af2b-dc122747e3d6\",\"type\":\"Line\"},{\"attributes\":{\"dimension\":1,\"plot\":{\"id\":\"d61c4d71-f496-4517-9754-992979569114\",\"subtype\":\"Figure\",\"type\":\"Plot\"},\"ticker\":{\"id\":\"64d4ed6c-ebe5-4994-b3f3-ce2837c93b05\",\"type\":\"LogTicker\"}},\"id\":\"177c103d-062a-43ff-86da-e7cddd875244\",\"type\":\"Grid\"},{\"attributes\":{\"data_source\":{\"id\":\"b023f99b-5b68-47e5-a177-fc4a6d1c9334\",\"type\":\"ColumnDataSource\"},\"glyph\":{\"id\":\"a6fb673a-470f-4803-abe4-9e0f6ffb6b14\",\"type\":\"Line\"},\"hover_glyph\":null,\"muted_glyph\":null,\"nonselection_glyph\":{\"id\":\"225896f7-c6a2-47d0-af2b-dc122747e3d6\",\"type\":\"Line\"},\"selection_glyph\":null,\"view\":{\"id\":\"b66265b3-09e4-4281-a686-2b2d77250fe4\",\"type\":\"CDSView\"}},\"id\":\"7a0a4d87-9202-4d61-93a6-aa0ba5b654be\",\"type\":\"GlyphRenderer\"},{\"attributes\":{\"source\":{\"id\":\"b023f99b-5b68-47e5-a177-fc4a6d1c9334\",\"type\":\"ColumnDataSource\"}},\"id\":\"b66265b3-09e4-4281-a686-2b2d77250fe4\",\"type\":\"CDSView\"},{\"attributes\":{\"line_alpha\":0.9256457702447852,\"line_color\":\"#e377c2\",\"line_dash\":[2,4,6,4],\"line_width\":4.0443909454755875,\"x\":{\"field\":\"x\"},\"y\":{\"field\":\"y\"}},\"id\":\"6f96b104-40ef-467c-b50b-974ce25b62ed\",\"type\":\"Line\"},{\"attributes\":{\"line_alpha\":0.8730236142777315,\"line_color\":\"#e377c2\",\"line_dash\":[2,4],\"line_width\":1.9484677223116758,\"x\":{\"field\":\"x\"},\"y\":{\"field\":\"y\"}},\"id\":\"9f7b6f2f-737a-43dd-80d9-c4bb5fdcde39\",\"type\":\"Line\"},{\"attributes\":{\"bottom_units\":\"screen\",\"fill_alpha\":{\"value\":0.5},\"fill_color\":{\"value\":\"lightgrey\"},\"left_units\":\"screen\",\"level\":\"overlay\",\"line_alpha\":{\"value\":1.0},\"line_color\":{\"value\":\"black\"},\"line_dash\":[4,4],\"line_width\":{\"value\":2},\"plot\":null,\"render_mode\":\"css\",\"right_units\":\"screen\",\"top_units\":\"screen\"},\"id\":\"1e7c1f57-588d-4b83-9b2d-1edf8dcb8098\",\"type\":\"BoxAnnotation\"},{\"attributes\":{\"line_alpha\":0.1,\"line_color\":\"#1f77b4\",\"line_dash\":[2,4,6,4],\"line_width\":4.0443909454755875,\"x\":{\"field\":\"x\"},\"y\":{\"field\":\"y\"}},\"id\":\"afd6cc8d-6eb8-4d6a-9607-fd08dee1eb41\",\"type\":\"Line\"},{\"attributes\":{},\"id\":\"9a0dedca-e024-4154-8ab9-dcd20b61d6ae\",\"type\":\"PanTool\"},{\"attributes\":{\"data_source\":{\"id\":\"ece73077-abaf-4865-a233-4f71bfa2baca\",\"type\":\"ColumnDataSource\"},\"glyph\":{\"id\":\"6f96b104-40ef-467c-b50b-974ce25b62ed\",\"type\":\"Line\"},\"hover_glyph\":null,\"muted_glyph\":null,\"nonselection_glyph\":{\"id\":\"afd6cc8d-6eb8-4d6a-9607-fd08dee1eb41\",\"type\":\"Line\"},\"selection_glyph\":null,\"view\":{\"id\":\"be745506-8be8-47f0-ab15-69deb30f99be\",\"type\":\"CDSView\"}},\"id\":\"d1076ad9-062a-4bc9-b958-3ce9213b939c\",\"type\":\"GlyphRenderer\"},{\"attributes\":{\"source\":{\"id\":\"ece73077-abaf-4865-a233-4f71bfa2baca\",\"type\":\"ColumnDataSource\"}},\"id\":\"be745506-8be8-47f0-ab15-69deb30f99be\",\"type\":\"CDSView\"},{\"attributes\":{},\"id\":\"9364868d-1133-49ac-b326-1b62916f1837\",\"type\":\"WheelZoomTool\"},{\"attributes\":{\"overlay\":{\"id\":\"1e7c1f57-588d-4b83-9b2d-1edf8dcb8098\",\"type\":\"BoxAnnotation\"}},\"id\":\"d654b097-41d9-4d82-aa4e-3d8bfa4d7fa9\",\"type\":\"BoxZoomTool\"},{\"attributes\":{},\"id\":\"5dce883f-203e-4627-9fcf-bc1e93465a47\",\"type\":\"SaveTool\"},{\"attributes\":{\"data_source\":{\"id\":\"36a40df6-fd2f-4540-86e1-e495b512f4bc\",\"type\":\"ColumnDataSource\"},\"glyph\":{\"id\":\"9f7b6f2f-737a-43dd-80d9-c4bb5fdcde39\",\"type\":\"Line\"},\"hover_glyph\":null,\"muted_glyph\":null,\"nonselection_glyph\":{\"id\":\"13abaaa4-1739-4e7d-a404-9da061c644d0\",\"type\":\"Line\"},\"selection_glyph\":null,\"view\":{\"id\":\"3aa79bb4-5a21-4d60-a4cf-a5de4f169412\",\"type\":\"CDSView\"}},\"id\":\"1cadf657-0741-4418-afed-540b5a180378\",\"type\":\"GlyphRenderer\"},{\"attributes\":{\"label\":{\"value\":\"1\"},\"renderers\":[{\"id\":\"1cadf657-0741-4418-afed-540b5a180378\",\"type\":\"GlyphRenderer\"}]},\"id\":\"7f4a70cf-7be4-4fe8-94c5-dc109a086abe\",\"type\":\"LegendItem\"},{\"attributes\":{},\"id\":\"4fe6bcc8-9b1d-4d75-a934-05c51c9106c1\",\"type\":\"ResetTool\"},{\"attributes\":{},\"id\":\"de292948-131e-4a09-8a46-e5c774d8ec6d\",\"type\":\"HelpTool\"},{\"attributes\":{\"label\":{\"value\":\"2\"},\"renderers\":[{\"id\":\"6c690c2c-569b-4554-86c4-fb0b8b682b56\",\"type\":\"GlyphRenderer\"}]},\"id\":\"2c62aeef-c21b-4508-a3f5-f9ab875b7805\",\"type\":\"LegendItem\"},{\"attributes\":{\"label\":{\"value\":\"3\"},\"renderers\":[{\"id\":\"7bdcae65-5102-4867-8998-1558c9a36981\",\"type\":\"GlyphRenderer\"}]},\"id\":\"2a25aaf5-c154-4b74-8e23-5a95a816198f\",\"type\":\"LegendItem\"},{\"attributes\":{\"callback\":null,\"data\":{\"x\":{\"__ndarray__\":\"j0e6sH9owD+a1ZaVgV7AP7M4awlcS8A/QhnT4Vs3wD+axEkvpCLAP4vb7DgTDcA/ArF0V9nrvz9pMPQlp7i/P2BAipUsgr8/RvNbz2tHvz8fIMrdCAe/PyMnXUQlv74/onrOimZtvj/3eHzWkBO+P8x7Wk3wsL0/o8qTGMI5vT+BogWqd5+8Pz3TKn5817s/jI2SuhHUuj9bRT1MFIS5P3vrLhan1rc/MNIwIYvZtT9pquXWvXizPw0NF/vDfbA/3ziEhe7tqT8UFWAOcWKiP5ocRlqNmZY/016OaEzShj//5ZzQ0rJxP73fDQ6bbVM/b8iSe7JJKz9IwgC6Fsr1Pu9xxxfEcrE+Ooww4o55VT4AAAAAAAAAAAAAAAAAAAAAAAAAAAAAAAAAAAAAAAAAAAAAAAAAAAAAAAAAAAAAAAAAAAAAAAAAAAAAAAAAAAAAAAAAAAAAAAAAAAAAAAAAAAAAAAAAAAAAAAAAAAAAAAAAAAAAAAAAAAAAAAAAAAAAAAAAAAAAAAAAAAAAAAAAAAAAAAAAAAAAAAAAAAAAAAAAAAAAAAAAAAAAAAAAAAAAAAAAAAAAAAAAAAAAAAAAAAAAAAAAAAAAAAAAAAAAAAAAAAAAAAAAAAAAAAAAAAAAAAAAAAAAAAAAAAAAAAAAAAAAAAAAAAAAAAAAAAAAAAAAAAAAAAAAAAAAAAAAAAAAAAAAAAAAAAAAAAAAAAAAAAAAAAAAAAAAAAAAAAAAAAAAAAAAAAAAAAAAAAAAAAAAAAAAAAAAAAAAAAAAAAAAAAAAAAAAAAAA\",\"dtype\":\"float64\",\"shape\":[75]},\"y\":{\"__ndarray__\":\"YTJVMCqpMz8tQxzr4jZKPy9uowG8BVI/+n5qvHSTWD8VjErqBDRhP+CcEaW9wWc/CRueXinLcD/UK2UZ4lh3P/yp8dJNYoA/x7q4jQbwhj92cRsN4C2QP/5l9+RhoZY/WDm0yHa+nz8Sg8DKoUWmPyo6kst/SK8/J6CJsOHptT/J5T+k376+P8UgsHJokcU/ih9j7lpCzj+e76fGSzfVP4enV8oyxN0//yH99nXg5D8qOpLLf0jtP2FUUiegifQ/c9cS8kHP/D+/DpwzojQEQIEmwoanVwxAVOOlm8TgE0Dgvg6cM+IbQAMJih9jjiNAH/RsVn1uK0CTqYJRST0zQHicoiO5/DpAaCJseHrtQkDNzMzMzIxKQM3MzMzMeFJAZmZmZmZqWEAAAAAAAFxeQM3MzMzMJmJAmpmZmZkfZUBmZmZmZhhoQDMzMzMzEWtAAAAAAAAKbkBmZmZmZoFwQM3MzMzM/XFAMzMzMzN6c0CamZmZmfZ0QAAAAAAAc3ZAZmZmZmbvd0DNzMzMzGt5QDMzMzMz6HpAmpmZmZlkfEAAAAAAAOF9QGZmZmZmXX9AZmZmZuZsgECamZmZGSuBQM3MzMxM6YFAAAAAAICngkAzMzMzs2WDQGZmZmbmI4RAmpmZmRnihEDNzMzMTKCFQAAAAACAXoZAMzMzM7Mch0BmZmZm5tqHQJqZmZkZmYhAzczMzExXiUAAAAAAgBWKQDMzMzOz04pAZmZmZuaRi0CamZmZGVCMQM3MzMxMDo1AAAAAAIDMjUAzMzMzs4qOQGZmZmbmSI9A\",\"dtype\":\"float64\",\"shape\":[75]}},\"selected\":{\"id\":\"3306847b-0524-43c2-b3ea-acd34a0c9d33\",\"type\":\"Selection\"},\"selection_policy\":{\"id\":\"9abfbe35-30a7-4843-8603-8b60c90035e9\",\"type\":\"UnionRenderers\"}},\"id\":\"36a40df6-fd2f-4540-86e1-e495b512f4bc\",\"type\":\"ColumnDataSource\"},{\"attributes\":{\"line_alpha\":0.7192007695996304,\"line_color\":\"#17becf\",\"line_dash\":[6],\"line_width\":3.4777940203272544,\"x\":{\"field\":\"x\"},\"y\":{\"field\":\"y\"}},\"id\":\"ac7755aa-b20c-4223-906f-c05f72b4ffe8\",\"type\":\"Line\"},{\"attributes\":{\"label\":{\"value\":\"4\"},\"renderers\":[{\"id\":\"8f0a4b33-6699-4fd0-8018-1004cece7ace\",\"type\":\"GlyphRenderer\"}]},\"id\":\"10295b54-59d0-4e38-9c48-7521f049ce50\",\"type\":\"LegendItem\"},{\"attributes\":{\"label\":{\"value\":\"5\"},\"renderers\":[{\"id\":\"b0733a93-ea93-402b-80cd-4cb11df92423\",\"type\":\"GlyphRenderer\"}]},\"id\":\"a8a6cc2a-368d-421a-b9e9-22a7d6ebbacb\",\"type\":\"LegendItem\"},{\"attributes\":{},\"id\":\"3306847b-0524-43c2-b3ea-acd34a0c9d33\",\"type\":\"Selection\"},{\"attributes\":{\"label\":{\"value\":\"6\"},\"renderers\":[{\"id\":\"158ec248-053c-4047-b605-7cca1b1cdffa\",\"type\":\"GlyphRenderer\"}]},\"id\":\"faab1557-2529-47fa-874e-4f1a68f9b89d\",\"type\":\"LegendItem\"},{\"attributes\":{\"label\":{\"value\":\"7\"},\"renderers\":[{\"id\":\"7a0a4d87-9202-4d61-93a6-aa0ba5b654be\",\"type\":\"GlyphRenderer\"}]},\"id\":\"90d25bc6-8519-4e3c-a3df-ff148db41f07\",\"type\":\"LegendItem\"},{\"attributes\":{\"callback\":null,\"data\":{\"x\":{\"__ndarray__\":\"N9Q5UPHJjD9k7960jf2MP92+u1MJaI0/6BTkZyPXjT97zmlYhEmOP1APG3Ypv44/5t3k+QQ3jz82jv3R3K+PPwtUEE3qFZA/G2klhHlVkD9cfQq6nJaQP1tJI01Z2ZA/13/GGmgdkT9SWsnYGluRP+5qJM8WjJE/Gxmaoae3kT+7AvoSZOORP5KGZBI/EJI/LbBLfe4+kj8skXZp5G+SP9jvqoOTn5I/AxshTQaRkj+5vCC/CjKSP6o2MKC0w5E/zl9TraZnkT8zsjsPtCORP1m0jBaY/JA/eQug79kAkT+tPYHq/jWRP9+ejJaog5E/WdoM5JfJkT9GgdtmbOCRPzK/onRMipE/NyzTUB9YkD+fxfdq7LeLP38tdbHlbIQ/u7zWMfDUej8QNoZKbfNwPxRtGh2IE2U/MvhFU4cmWj8i89CQVFNQPztWhPZFnUQ//kiN4LFlOj/ywDL8yCkxP1d96GHsrSY/dVH8MRB4Hj/YBx9rws0UPzlqXGpK0ww/JkCo5s08BD/QxTI/L8P8PhcFqEY7sPQ+goh5+xgY7j55hIn1/B/mPlwrLWURceA+xKhSUN2e2D6aGSboaZ/SPrFJhjX4b8w+a065HXXPxT4ZHpgvcdzAPv+Lb0EZV7o+wKZaTc+itD5EymhHHkawPrZoIug/1qk+2Acfa8LNpD6N7bWg98agPkivvJry15o+Ooww4o55lT7vcccXxHKRPtDAAnckh40+wZ12vsAoiD52gw309SGEPitppCkrG4A+SK+8mvLXej46jDDijnl1PrN66gVdynI+\",\"dtype\":\"float64\",\"shape\":[75]},\"y\":{\"__ndarray__\":\"YTJVMCqpMz8tQxzr4jZKPy9uowG8BVI/+n5qvHSTWD8VjErqBDRhP+CcEaW9wWc/CRueXinLcD/UK2UZ4lh3P/yp8dJNYoA/x7q4jQbwhj92cRsN4C2QP/5l9+RhoZY/WDm0yHa+nz8Sg8DKoUWmPyo6kst/SK8/J6CJsOHptT/J5T+k376+P8UgsHJokcU/ih9j7lpCzj+e76fGSzfVP4enV8oyxN0//yH99nXg5D8qOpLLf0jtP2FUUiegifQ/c9cS8kHP/D+/DpwzojQEQIEmwoanVwxAVOOlm8TgE0Dgvg6cM+IbQAMJih9jjiNAH/RsVn1uK0CTqYJRST0zQHicoiO5/DpAaCJseHrtQkDNzMzMzIxKQM3MzMzMeFJAZmZmZmZqWEAAAAAAAFxeQM3MzMzMJmJAmpmZmZkfZUBmZmZmZhhoQDMzMzMzEWtAAAAAAAAKbkBmZmZmZoFwQM3MzMzM/XFAMzMzMzN6c0CamZmZmfZ0QAAAAAAAc3ZAZmZmZmbvd0DNzMzMzGt5QDMzMzMz6HpAmpmZmZlkfEAAAAAAAOF9QGZmZmZmXX9AZmZmZuZsgECamZmZGSuBQM3MzMxM6YFAAAAAAICngkAzMzMzs2WDQGZmZmbmI4RAmpmZmRnihEDNzMzMTKCFQAAAAACAXoZAMzMzM7Mch0BmZmZm5tqHQJqZmZkZmYhAzczMzExXiUAAAAAAgBWKQDMzMzOz04pAZmZmZuaRi0CamZmZGVCMQM3MzMxMDo1AAAAAAIDMjUAzMzMzs4qOQGZmZmbmSI9A\",\"dtype\":\"float64\",\"shape\":[75]}},\"selected\":{\"id\":\"7e40a98b-a696-4280-ac13-051dfdfa7447\",\"type\":\"Selection\"},\"selection_policy\":{\"id\":\"424a55e8-4a95-47c3-93b9-40c412800d89\",\"type\":\"UnionRenderers\"}},\"id\":\"7da2afd3-ac59-4825-a6f2-b9803e9aebf6\",\"type\":\"ColumnDataSource\"},{\"attributes\":{\"label\":{\"value\":\"8\"},\"renderers\":[{\"id\":\"d1076ad9-062a-4bc9-b958-3ce9213b939c\",\"type\":\"GlyphRenderer\"}]},\"id\":\"892b4a65-4aed-4b2d-9d43-d487b7bc32be\",\"type\":\"LegendItem\"},{\"attributes\":{\"line_alpha\":0.504309012159528,\"line_color\":\"#c5b0d5\",\"line_dash\":[6,4,2,4],\"line_width\":2.1026415865734926,\"x\":{\"field\":\"x\"},\"y\":{\"field\":\"y\"}},\"id\":\"1f4fad31-fd43-4cd5-936b-e2bf8c12287f\",\"type\":\"Line\"},{\"attributes\":{\"source\":{\"id\":\"a717b5fd-ca6f-410c-aa5d-60ba951f0a33\",\"type\":\"ColumnDataSource\"}},\"id\":\"30311aed-20ea-47e0-b0b2-fa5af961d4b9\",\"type\":\"CDSView\"},{\"attributes\":{\"data_source\":{\"id\":\"a717b5fd-ca6f-410c-aa5d-60ba951f0a33\",\"type\":\"ColumnDataSource\"},\"glyph\":{\"id\":\"1f4fad31-fd43-4cd5-936b-e2bf8c12287f\",\"type\":\"Line\"},\"hover_glyph\":null,\"muted_glyph\":null,\"nonselection_glyph\":{\"id\":\"d45f8eaf-13fd-4af6-9758-edbee9837df1\",\"type\":\"Line\"},\"selection_glyph\":null,\"view\":{\"id\":\"30311aed-20ea-47e0-b0b2-fa5af961d4b9\",\"type\":\"CDSView\"}},\"id\":\"6c690c2c-569b-4554-86c4-fb0b8b682b56\",\"type\":\"GlyphRenderer\"},{\"attributes\":{\"line_alpha\":0.1,\"line_color\":\"#1f77b4\",\"line_dash\":[6],\"line_width\":3.4777940203272544,\"x\":{\"field\":\"x\"},\"y\":{\"field\":\"y\"}},\"id\":\"df0fcf3a-ac28-40b5-a7a4-ffa9d67a6efd\",\"type\":\"Line\"},{\"attributes\":{},\"id\":\"fb263e01-b868-4e7c-a6f7-79ac7d6341ed\",\"type\":\"UnionRenderers\"},{\"attributes\":{},\"id\":\"476751f8-c027-40f5-9908-831cef040743\",\"type\":\"Selection\"},{\"attributes\":{},\"id\":\"7e40a98b-a696-4280-ac13-051dfdfa7447\",\"type\":\"Selection\"},{\"attributes\":{},\"id\":\"9abfbe35-30a7-4843-8603-8b60c90035e9\",\"type\":\"UnionRenderers\"},{\"attributes\":{\"line_alpha\":0.1,\"line_color\":\"#1f77b4\",\"line_dash\":[2,4],\"line_width\":1.9484677223116758,\"x\":{\"field\":\"x\"},\"y\":{\"field\":\"y\"}},\"id\":\"13abaaa4-1739-4e7d-a404-9da061c644d0\",\"type\":\"Line\"},{\"attributes\":{},\"id\":\"cc3cab0b-e67c-4217-9f1e-87ac523e6d68\",\"type\":\"Selection\"},{\"attributes\":{\"plot\":null,\"text\":\"\"},\"id\":\"93607f5e-1219-40ae-93a5-62226a8d1de8\",\"type\":\"Title\"},{\"attributes\":{\"line_alpha\":0.1,\"line_color\":\"#1f77b4\",\"line_dash\":[6,4,2,4],\"line_width\":2.1026415865734926,\"x\":{\"field\":\"x\"},\"y\":{\"field\":\"y\"}},\"id\":\"d45f8eaf-13fd-4af6-9758-edbee9837df1\",\"type\":\"Line\"},{\"attributes\":{\"ticker\":null},\"id\":\"269762fb-c206-4e90-9491-b3040c9c837c\",\"type\":\"LogTickFormatter\"},{\"attributes\":{},\"id\":\"5ecf7491-74dc-4eae-b357-edcd29e5adcf\",\"type\":\"BasicTickFormatter\"},{\"attributes\":{},\"id\":\"424a55e8-4a95-47c3-93b9-40c412800d89\",\"type\":\"UnionRenderers\"}],\"root_ids\":[\"d61c4d71-f496-4517-9754-992979569114\"]},\"title\":\"Bokeh Application\",\"version\":\"0.12.16\"}};\n",
       "  var render_items = [{\"docid\":\"c6f2ed21-c5d6-4929-92e6-e9348904e9d1\",\"elementid\":\"e2aa4cc3-5291-4f83-92cf-c6eb0a6add1a\",\"modelid\":\"d61c4d71-f496-4517-9754-992979569114\"}];\n",
       "  root.Bokeh.embed.embed_items_notebook(docs_json, render_items);\n",
       "\n",
       "  }\n",
       "  if (root.Bokeh !== undefined) {\n",
       "    embed_document(root);\n",
       "  } else {\n",
       "    var attempts = 0;\n",
       "    var timer = setInterval(function(root) {\n",
       "      if (root.Bokeh !== undefined) {\n",
       "        embed_document(root);\n",
       "        clearInterval(timer);\n",
       "      }\n",
       "      attempts++;\n",
       "      if (attempts > 100) {\n",
       "        console.log(\"Bokeh: ERROR: Unable to run BokehJS code because BokehJS library is missing\")\n",
       "        clearInterval(timer);\n",
       "      }\n",
       "    }, 10, root)\n",
       "  }\n",
       "})(window);"
      ],
      "application/vnd.bokehjs_exec.v0+json": ""
     },
     "metadata": {
      "application/vnd.bokehjs_exec.v0+json": {
       "id": "d61c4d71-f496-4517-9754-992979569114"
      }
     },
     "output_type": "display_data"
    }
   ],
   "source": [
    "heatg = pd.read_csv(PATH/'fort.400', header=None, sep=r'\\s+')\n",
    "heatg.set_index(0, inplace=True)\n",
    "heatg.index.names = ['pressure']\n",
    "heatg.columns.names = ['g']\n",
    "\n",
    "pltdata = [{'srs':xr.DataArray(heatg[g]),\n",
    "            'label':f'{g}',\n",
    "            'color':np.random.choice(all_palettes['Category20'][20]),\n",
    "            'alpha':np.random.uniform(.5, 1.),\n",
    "            'line_width':np.random.uniform(1, 5),\n",
    "            'line_dash':np.random.choice(['solid', 'dashed', 'dotted', 'dotdash', 'dashdot'])} for g in heatg]\n",
    "\n",
    "fig_linp = plt_vert_profile_bokeh(pltdata=pltdata, xlabel='heatg')\n",
    "fig_logp = plt_vert_profile_bokeh(pltdata=pltdata, y_axis_type='log', xlabel='heat')\n",
    "show(fig_linp)\n",
    "show(fig_logp)\n",
    "#show(gridplot(fig_linp, fig_logp, ncols=2))"
   ]
  },
  {
   "cell_type": "code",
   "execution_count": 48,
   "metadata": {
    "scrolled": false
   },
   "outputs": [
    {
     "data": {
      "text/html": [
       "\n",
       "<div class=\"bk-root\">\n",
       "    <div class=\"bk-plotdiv\" id=\"4be0542b-de81-4343-82f3-c7fdb3db8e52\"></div>\n",
       "</div>"
      ]
     },
     "metadata": {},
     "output_type": "display_data"
    },
    {
     "data": {
      "application/javascript": [
       "(function(root) {\n",
       "  function embed_document(root) {\n",
       "    \n",
       "  var docs_json = {\"6221f163-5676-4458-be8e-badcd8248743\":{\"roots\":{\"references\":[{\"attributes\":{\"line_alpha\":0.8422455125498389,\"line_color\":\"#9edae5\",\"line_dash\":[2,4,6,4],\"line_width\":2.2961352952226513,\"x\":{\"field\":\"x\"},\"y\":{\"field\":\"y\"}},\"id\":\"36cc12ef-c459-488e-bbd6-dd0fdfdbe140\",\"type\":\"Line\"},{\"attributes\":{\"source\":{\"id\":\"813f257a-c479-40ea-8b66-e2948fd139a2\",\"type\":\"ColumnDataSource\"}},\"id\":\"9514a386-8077-4c59-af4d-6dd3ee71f2ae\",\"type\":\"CDSView\"},{\"attributes\":{\"label\":{\"value\":\"tfluxg\"},\"renderers\":[{\"id\":\"ea9550f0-29b8-4b8a-a2db-546f38d6a4ac\",\"type\":\"GlyphRenderer\"}]},\"id\":\"e7a9aab3-a2b2-470a-bdeb-281f6191e7cc\",\"type\":\"LegendItem\"},{\"attributes\":{\"label\":{\"value\":\"tflux\"},\"renderers\":[{\"id\":\"131280c1-4c2a-4f51-91c7-c9a7216c48da\",\"type\":\"GlyphRenderer\"}]},\"id\":\"37ff0723-76cd-401f-b840-219c81325ce2\",\"type\":\"LegendItem\"},{\"attributes\":{},\"id\":\"28692650-4975-4e8b-bb9b-6e2dbacd2b9e\",\"type\":\"BasicTickFormatter\"},{\"attributes\":{},\"id\":\"5ea3ed13-ef4c-4fce-8180-bf08f088f872\",\"type\":\"Selection\"},{\"attributes\":{\"line_alpha\":0.7982308337832704,\"line_color\":\"#d62728\",\"line_dash\":[6,4,2,4],\"line_width\":1.5513075178112778,\"x\":{\"field\":\"x\"},\"y\":{\"field\":\"y\"}},\"id\":\"a86e8f24-d907-4818-8e6d-9ba526e68c98\",\"type\":\"Line\"},{\"attributes\":{\"callback\":null,\"end\":0.01,\"start\":1020},\"id\":\"ea01740c-76cd-48df-9c24-db6ab48e6a6f\",\"type\":\"Range1d\"},{\"attributes\":{\"plot\":{\"id\":\"dbf65082-fc8e-4f00-99d0-8c88068fbfdf\",\"subtype\":\"Figure\",\"type\":\"Plot\"},\"ticker\":{\"id\":\"813f5659-c039-49f3-98b7-18172a709b4a\",\"type\":\"BasicTicker\"}},\"id\":\"45226f0a-13f2-4b1f-b4fd-e9d5eacd5605\",\"type\":\"Grid\"},{\"attributes\":{},\"id\":\"476e85db-62c5-4da0-b68d-569dd8ea4aa5\",\"type\":\"LinearScale\"},{\"attributes\":{},\"id\":\"dc17aa69-8354-4319-9e27-8be6193c43dd\",\"type\":\"SaveTool\"},{\"attributes\":{},\"id\":\"0fbaca67-a1de-4af3-bdac-4dd6872716c6\",\"type\":\"PanTool\"},{\"attributes\":{\"line_alpha\":0.1,\"line_color\":\"#1f77b4\",\"line_dash\":[6,4,2,4],\"line_width\":1.5513075178112778,\"x\":{\"field\":\"x\"},\"y\":{\"field\":\"y\"}},\"id\":\"31b383b0-6944-462c-8517-92535fa32173\",\"type\":\"Line\"},{\"attributes\":{\"source\":{\"id\":\"8afab347-f500-4736-957a-b2705d6586a4\",\"type\":\"ColumnDataSource\"}},\"id\":\"627bb1fa-6671-493d-98cb-f4edf8c32723\",\"type\":\"CDSView\"},{\"attributes\":{},\"id\":\"21e066af-d432-41fa-8911-e2043c4f7e13\",\"type\":\"BasicTickFormatter\"},{\"attributes\":{},\"id\":\"de9b2fe0-fe62-4f6c-8baa-c54bb2d2b261\",\"type\":\"HelpTool\"},{\"attributes\":{\"callback\":null,\"data\":{\"x\":{\"__ndarray__\":\"hxbZzvd3bED+YOC593dsQHWr56T3d2xA7fXuj/d3bEBkQPZ693dsQNuK/WX3d2xAQWoTJ/d3bEClSSno9ndsQIJzRpT2d2xATDJyFvZ3bEB90LNZ9XdsQBFOC170d2xAhPV/DvN3bECu8C4X8XdsQAmKH2Pud2xA+aBns+p3bEDBPjp15XdsQLHXuz/ed2xAdlQ1QdR3bEAp6PaSxndsQLaEfNCzd2xAfGZJgJp3bEC28/3UeHdsQKOSOgFNd2xAfqmfNxV3bEDvIHam0HZsQDcC8bp+dmxAqME0DB92bEBNhA1Pr3VsQDm536EodWxA443MI390bECso6oJonNsQC0+BcB4cmxArrZif9lwbEANiXssfW5sQP5g4Ln3amxA/d6mP/tlbEBxsaIG02BsQJcXYB+dW2xAM8SxLm5WbECx+bg2VFFsQJ0MjpJXTGxAPSe9b3xHbEBhqwSLw0JsQFRq9kArPmxA3NyYnrA5bEAkI2dhTzVsQJT7HYoCMWxA4zsx68UsbEDQXKeRlihsQFUYWwhyJGxAh/4JLlYgbEBQATCeQRxsQDMzMzMzGGxA6+dNRSoUbEA/3qtWJhBsQCGrWz0nDGxAj05d+SwIbEACE7h1NwRsQIhjXdxGAGxAwGA3bFv8a0BAKzBkdfhrQB4uOe6U9GtA4x5LH7rwa0CdaFch5exrQE0LXvQV6WtA9wZfmEzla0CWW1oNieFrQLW+SGjL3WtAzHoxlBPaa0D+ZffkYdZrQFvri4S20mtAbsDnhxHPa0C/mgMEc8trQD0P7s7ax2tAXWiu00jEa0A=\",\"dtype\":\"float64\",\"shape\":[76]},\"y\":{\"__ndarray__\":\"AAAAAAAAAABhMlUwKqlDP5LLf0i/fU0/YTJVMCqpUz9fB84ZUdpbP2EyVTAqqWM/XwfOGVHaaz9hMlUwKqlzP1OWIY51cXs/VcGopE5Agz/A7J48LNSKP0hQ/Bhz15I/s3vysFBrmj9/+zpwzoiiP6YKRiV1Aqo/xm00gLdAsj+amZmZmZm5P4V80LNZ9cE/jSjtDb4wyT9Ei2zn+6nRP7wFEhQ/xtg/qaROQBNh4T9Wn6ut2F/oP39qvHSTGPE/s+pztRX79z8Z4lgXt9EAQGQ730+NlwdAzojS3uCLEED2KFyPwjUXQNc07zhFRyBAL90kBoHVJkBPQBNhwwMwQBBYObTIdjZAppvEILCCP0D99nXgnBlGQAAAAAAAAE9AmpmZmZlxVUAzMzMzM2NbQGZmZmZmqmBAMzMzMzOjY0AAAAAAAJxmQM3MzMzMlGlAmpmZmZmNbEBmZmZmZoZvQJqZmZmZP3FAAAAAAAC8ckBmZmZmZjh0QM3MzMzMtHVAMzMzMzMxd0CamZmZma14QAAAAAAAKnpAZmZmZmame0DNzMzMzCJ9QDMzMzMzn35AzczMzMwNgEAAAAAAAMyAQDMzMzMzioFAZmZmZmZIgkCamZmZmQaDQM3MzMzMxINAAAAAAACDhEAzMzMzM0GFQGZmZmZm/4VAmpmZmZm9hkDNzMzMzHuHQAAAAAAAOohAMzMzMzP4iEBmZmZmZraJQJqZmZmZdIpAzczMzMwyi0AAAAAAAPGLQDMzMzMzr4xAZmZmZmZtjUCamZmZmSuOQM3MzMzM6Y5AAAAAAACoj0A=\",\"dtype\":\"float64\",\"shape\":[76]}},\"selected\":{\"id\":\"840e1947-f1c2-4b0f-8523-000e26d730ce\",\"type\":\"Selection\"},\"selection_policy\":{\"id\":\"afad3e57-70d7-47ca-9ff0-9effcfd7d82e\",\"type\":\"UnionRenderers\"}},\"id\":\"8afab347-f500-4736-957a-b2705d6586a4\",\"type\":\"ColumnDataSource\"},{\"attributes\":{\"axis_label\":\"flux\",\"formatter\":{\"id\":\"28692650-4975-4e8b-bb9b-6e2dbacd2b9e\",\"type\":\"BasicTickFormatter\"},\"plot\":{\"id\":\"dbf65082-fc8e-4f00-99d0-8c88068fbfdf\",\"subtype\":\"Figure\",\"type\":\"Plot\"},\"ticker\":{\"id\":\"813f5659-c039-49f3-98b7-18172a709b4a\",\"type\":\"BasicTicker\"}},\"id\":\"61820cb7-723d-454d-84d0-4e4cbcded8a9\",\"type\":\"LinearAxis\"},{\"attributes\":{},\"id\":\"d4664553-8652-41fc-ad93-735e8057df7c\",\"type\":\"BasicTicker\"},{\"attributes\":{\"plot\":null,\"text\":\"\"},\"id\":\"d0767431-83b0-442e-96c5-f90cefa38d71\",\"type\":\"Title\"},{\"attributes\":{\"data_source\":{\"id\":\"813f257a-c479-40ea-8b66-e2948fd139a2\",\"type\":\"ColumnDataSource\"},\"glyph\":{\"id\":\"36cc12ef-c459-488e-bbd6-dd0fdfdbe140\",\"type\":\"Line\"},\"hover_glyph\":null,\"muted_glyph\":null,\"nonselection_glyph\":{\"id\":\"1dc5db09-0a36-4508-a767-8e7328b0d381\",\"type\":\"Line\"},\"selection_glyph\":null,\"view\":{\"id\":\"9514a386-8077-4c59-af4d-6dd3ee71f2ae\",\"type\":\"CDSView\"}},\"id\":\"131280c1-4c2a-4f51-91c7-c9a7216c48da\",\"type\":\"GlyphRenderer\"},{\"attributes\":{},\"id\":\"813f5659-c039-49f3-98b7-18172a709b4a\",\"type\":\"BasicTicker\"},{\"attributes\":{\"overlay\":{\"id\":\"c8ee5d10-8a29-41c4-a652-787790997c25\",\"type\":\"BoxAnnotation\"}},\"id\":\"022bcabd-bbcd-4ac2-a9a1-11f223da1d84\",\"type\":\"BoxZoomTool\"},{\"attributes\":{\"active_drag\":\"auto\",\"active_inspect\":\"auto\",\"active_scroll\":\"auto\",\"active_tap\":\"auto\",\"tools\":[{\"id\":\"0fbaca67-a1de-4af3-bdac-4dd6872716c6\",\"type\":\"PanTool\"},{\"id\":\"78f71c9a-00e1-4b7d-b1d3-90ecab6c8820\",\"type\":\"WheelZoomTool\"},{\"id\":\"022bcabd-bbcd-4ac2-a9a1-11f223da1d84\",\"type\":\"BoxZoomTool\"},{\"id\":\"dc17aa69-8354-4319-9e27-8be6193c43dd\",\"type\":\"SaveTool\"},{\"id\":\"1594138a-5b69-4510-8683-402e41141596\",\"type\":\"ResetTool\"},{\"id\":\"de9b2fe0-fe62-4f6c-8baa-c54bb2d2b261\",\"type\":\"HelpTool\"}]},\"id\":\"a46688e1-3cae-4b43-b597-914996f6a6de\",\"type\":\"Toolbar\"},{\"attributes\":{\"axis_label\":\"pressure [mb]\",\"formatter\":{\"id\":\"21e066af-d432-41fa-8911-e2043c4f7e13\",\"type\":\"BasicTickFormatter\"},\"plot\":{\"id\":\"dbf65082-fc8e-4f00-99d0-8c88068fbfdf\",\"subtype\":\"Figure\",\"type\":\"Plot\"},\"ticker\":{\"id\":\"d4664553-8652-41fc-ad93-735e8057df7c\",\"type\":\"BasicTicker\"}},\"id\":\"518c4d4c-d080-40e6-8ed5-bfa575d8cba6\",\"type\":\"LinearAxis\"},{\"attributes\":{\"above\":[{\"id\":\"6dcc54fd-9366-41c4-8fb9-8a5baa9720e4\",\"type\":\"Legend\"}],\"below\":[{\"id\":\"61820cb7-723d-454d-84d0-4e4cbcded8a9\",\"type\":\"LinearAxis\"}],\"left\":[{\"id\":\"518c4d4c-d080-40e6-8ed5-bfa575d8cba6\",\"type\":\"LinearAxis\"}],\"plot_width\":500,\"renderers\":[{\"id\":\"61820cb7-723d-454d-84d0-4e4cbcded8a9\",\"type\":\"LinearAxis\"},{\"id\":\"45226f0a-13f2-4b1f-b4fd-e9d5eacd5605\",\"type\":\"Grid\"},{\"id\":\"518c4d4c-d080-40e6-8ed5-bfa575d8cba6\",\"type\":\"LinearAxis\"},{\"id\":\"c9b49186-ff38-4101-8c4a-72fd0b1e47b3\",\"type\":\"Grid\"},{\"id\":\"c8ee5d10-8a29-41c4-a652-787790997c25\",\"type\":\"BoxAnnotation\"},{\"id\":\"131280c1-4c2a-4f51-91c7-c9a7216c48da\",\"type\":\"GlyphRenderer\"},{\"id\":\"ea9550f0-29b8-4b8a-a2db-546f38d6a4ac\",\"type\":\"GlyphRenderer\"},{\"id\":\"6dcc54fd-9366-41c4-8fb9-8a5baa9720e4\",\"type\":\"Legend\"}],\"title\":{\"id\":\"d0767431-83b0-442e-96c5-f90cefa38d71\",\"type\":\"Title\"},\"toolbar\":{\"id\":\"a46688e1-3cae-4b43-b597-914996f6a6de\",\"type\":\"Toolbar\"},\"x_range\":{\"id\":\"b2f4b947-2894-4a70-ac5f-f3fc8e7c882d\",\"type\":\"Range1d\"},\"x_scale\":{\"id\":\"476e85db-62c5-4da0-b68d-569dd8ea4aa5\",\"type\":\"LinearScale\"},\"y_range\":{\"id\":\"ea01740c-76cd-48df-9c24-db6ab48e6a6f\",\"type\":\"Range1d\"},\"y_scale\":{\"id\":\"c42b4497-b730-454d-933c-d76ee7350f12\",\"type\":\"LinearScale\"}},\"id\":\"dbf65082-fc8e-4f00-99d0-8c88068fbfdf\",\"subtype\":\"Figure\",\"type\":\"Plot\"},{\"attributes\":{},\"id\":\"840e1947-f1c2-4b0f-8523-000e26d730ce\",\"type\":\"Selection\"},{\"attributes\":{\"items\":[{\"id\":\"37ff0723-76cd-401f-b840-219c81325ce2\",\"type\":\"LegendItem\"},{\"id\":\"e7a9aab3-a2b2-470a-bdeb-281f6191e7cc\",\"type\":\"LegendItem\"}],\"label_text_font_size\":{\"value\":\"8pt\"},\"location\":\"top_center\",\"orientation\":\"horizontal\",\"plot\":{\"id\":\"dbf65082-fc8e-4f00-99d0-8c88068fbfdf\",\"subtype\":\"Figure\",\"type\":\"Plot\"}},\"id\":\"6dcc54fd-9366-41c4-8fb9-8a5baa9720e4\",\"type\":\"Legend\"},{\"attributes\":{},\"id\":\"78f71c9a-00e1-4b7d-b1d3-90ecab6c8820\",\"type\":\"WheelZoomTool\"},{\"attributes\":{\"bottom_units\":\"screen\",\"fill_alpha\":{\"value\":0.5},\"fill_color\":{\"value\":\"lightgrey\"},\"left_units\":\"screen\",\"level\":\"overlay\",\"line_alpha\":{\"value\":1.0},\"line_color\":{\"value\":\"black\"},\"line_dash\":[4,4],\"line_width\":{\"value\":2},\"plot\":null,\"render_mode\":\"css\",\"right_units\":\"screen\",\"top_units\":\"screen\"},\"id\":\"c8ee5d10-8a29-41c4-a652-787790997c25\",\"type\":\"BoxAnnotation\"},{\"attributes\":{},\"id\":\"c42b4497-b730-454d-933c-d76ee7350f12\",\"type\":\"LinearScale\"},{\"attributes\":{\"dimension\":1,\"plot\":{\"id\":\"dbf65082-fc8e-4f00-99d0-8c88068fbfdf\",\"subtype\":\"Figure\",\"type\":\"Plot\"},\"ticker\":{\"id\":\"d4664553-8652-41fc-ad93-735e8057df7c\",\"type\":\"BasicTicker\"}},\"id\":\"c9b49186-ff38-4101-8c4a-72fd0b1e47b3\",\"type\":\"Grid\"},{\"attributes\":{\"callback\":null,\"end\":227.4036357,\"start\":222.0817143},\"id\":\"b2f4b947-2894-4a70-ac5f-f3fc8e7c882d\",\"type\":\"Range1d\"},{\"attributes\":{\"callback\":null,\"data\":{\"x\":{\"__ndarray__\":\"hxbZzvd3bED+YOC593dsQHWr56T3d2xA7fXuj/d3bEBkQPZ693dsQFLVBFH3d2xAQWoTJ/d3bEClSSno9ndsQPm9TX/2d2xAw3x5AfZ3bEDzGrtE9XdsQADjGTT0d2xA6dSVz/J3bECKGkzD8HdsQF3+Q/rtd2xAs/ShC+p3bEBoJ4Oj5HdsQL6fGi/dd2xAXkax3NJ3bEDuA5DaxHdsQOF/K9mxd2xAHaz/c5h3bEB7D5ccd3dsQNMwfERMd2xAH20csRZ3bEBpjNZR1XZsQMFWCRaHdmxA+1I/byp2bEC4I5wWvHVsQFDkSdI1dWxAQWX8+4x0bEAMe9rhr3NsQBdNZyeDcmxAXmOXqN5wbEAGgZVDi25sQEW7Cik/a2xATl35LM9mbEBagSGrW2JsQFQ6WP/nXWxAiNf1C3ZZbEB0RpT2BlVsQF4z+WabUGxAjErqBDRMbEA2zTtO0UdsQH6R0JZzQ2xAiG2LMhs/bEALtaZ5xzpsQAXFjzF3NmxAT8djBioybED/JhQi4C1sQDS6g9iZKWxAjKGcaFclbEAF3V7SGCFsQMRCrWneHGxAUIiAQ6gYbEDPg7uzdhRsQFKgT+RJEGxA+7MfKSIMbEDdKR2s/wdsQBrYKsHiA2xA2pQrvMv/a0BNofMau/trQP+ye/Kw92tAm1Wfq63za0CrPldbse9rQEHZlCu862tA5dpQMc7na0C5GW7A5+NrQL+V7NgI4GtAGyWvzjHca0DwnZj1YthrQHRBfcuc1GtA3FAxzt/Qa0AmzLT9K81rQGUe+YOByWtAmUf+YODFa0A=\",\"dtype\":\"float64\",\"shape\":[76]},\"y\":{\"__ndarray__\":\"AAAAAAAAAABhMlUwKqlDP5LLf0i/fU0/YTJVMCqpUz9fB84ZUdpbP2EyVTAqqWM/XwfOGVHaaz9hMlUwKqlzP1OWIY51cXs/VcGopE5Agz/A7J48LNSKP0hQ/Bhz15I/s3vysFBrmj9/+zpwzoiiP6YKRiV1Aqo/xm00gLdAsj+amZmZmZm5P4V80LNZ9cE/jSjtDb4wyT9Ei2zn+6nRP7wFEhQ/xtg/qaROQBNh4T9Wn6ut2F/oP39qvHSTGPE/s+pztRX79z8Z4lgXt9EAQGQ730+NlwdAzojS3uCLEED2KFyPwjUXQNc07zhFRyBAL90kBoHVJkBPQBNhwwMwQBBYObTIdjZAppvEILCCP0D99nXgnBlGQAAAAAAAAE9AmpmZmZlxVUAzMzMzM2NbQGZmZmZmqmBAMzMzMzOjY0AAAAAAAJxmQM3MzMzMlGlAmpmZmZmNbEBmZmZmZoZvQJqZmZmZP3FAAAAAAAC8ckBmZmZmZjh0QM3MzMzMtHVAMzMzMzMxd0CamZmZma14QAAAAAAAKnpAZmZmZmame0DNzMzMzCJ9QDMzMzMzn35AzczMzMwNgEAAAAAAAMyAQDMzMzMzioFAZmZmZmZIgkCamZmZmQaDQM3MzMzMxINAAAAAAACDhEAzMzMzM0GFQGZmZmZm/4VAmpmZmZm9hkDNzMzMzHuHQAAAAAAAOohAMzMzMzP4iEBmZmZmZraJQJqZmZmZdIpAzczMzMwyi0AAAAAAAPGLQDMzMzMzr4xAZmZmZmZtjUCamZmZmSuOQM3MzMzM6Y5AAAAAAACoj0A=\",\"dtype\":\"float64\",\"shape\":[76]}},\"selected\":{\"id\":\"5ea3ed13-ef4c-4fce-8180-bf08f088f872\",\"type\":\"Selection\"},\"selection_policy\":{\"id\":\"17b27c98-0ff3-437f-bd89-509de8865c55\",\"type\":\"UnionRenderers\"}},\"id\":\"813f257a-c479-40ea-8b66-e2948fd139a2\",\"type\":\"ColumnDataSource\"},{\"attributes\":{},\"id\":\"1594138a-5b69-4510-8683-402e41141596\",\"type\":\"ResetTool\"},{\"attributes\":{},\"id\":\"afad3e57-70d7-47ca-9ff0-9effcfd7d82e\",\"type\":\"UnionRenderers\"},{\"attributes\":{},\"id\":\"17b27c98-0ff3-437f-bd89-509de8865c55\",\"type\":\"UnionRenderers\"},{\"attributes\":{\"line_alpha\":0.1,\"line_color\":\"#1f77b4\",\"line_dash\":[2,4,6,4],\"line_width\":2.2961352952226513,\"x\":{\"field\":\"x\"},\"y\":{\"field\":\"y\"}},\"id\":\"1dc5db09-0a36-4508-a767-8e7328b0d381\",\"type\":\"Line\"},{\"attributes\":{\"data_source\":{\"id\":\"8afab347-f500-4736-957a-b2705d6586a4\",\"type\":\"ColumnDataSource\"},\"glyph\":{\"id\":\"a86e8f24-d907-4818-8e6d-9ba526e68c98\",\"type\":\"Line\"},\"hover_glyph\":null,\"muted_glyph\":null,\"nonselection_glyph\":{\"id\":\"31b383b0-6944-462c-8517-92535fa32173\",\"type\":\"Line\"},\"selection_glyph\":null,\"view\":{\"id\":\"627bb1fa-6671-493d-98cb-f4edf8c32723\",\"type\":\"CDSView\"}},\"id\":\"ea9550f0-29b8-4b8a-a2db-546f38d6a4ac\",\"type\":\"GlyphRenderer\"}],\"root_ids\":[\"dbf65082-fc8e-4f00-99d0-8c88068fbfdf\"]},\"title\":\"Bokeh Application\",\"version\":\"0.12.16\"}};\n",
       "  var render_items = [{\"docid\":\"6221f163-5676-4458-be8e-badcd8248743\",\"elementid\":\"4be0542b-de81-4343-82f3-c7fdb3db8e52\",\"modelid\":\"dbf65082-fc8e-4f00-99d0-8c88068fbfdf\"}];\n",
       "  root.Bokeh.embed.embed_items_notebook(docs_json, render_items);\n",
       "\n",
       "  }\n",
       "  if (root.Bokeh !== undefined) {\n",
       "    embed_document(root);\n",
       "  } else {\n",
       "    var attempts = 0;\n",
       "    var timer = setInterval(function(root) {\n",
       "      if (root.Bokeh !== undefined) {\n",
       "        embed_document(root);\n",
       "        clearInterval(timer);\n",
       "      }\n",
       "      attempts++;\n",
       "      if (attempts > 100) {\n",
       "        console.log(\"Bokeh: ERROR: Unable to run BokehJS code because BokehJS library is missing\")\n",
       "        clearInterval(timer);\n",
       "      }\n",
       "    }, 10, root)\n",
       "  }\n",
       "})(window);"
      ],
      "application/vnd.bokehjs_exec.v0+json": ""
     },
     "metadata": {
      "application/vnd.bokehjs_exec.v0+json": {
       "id": "dbf65082-fc8e-4f00-99d0-8c88068fbfdf"
      }
     },
     "output_type": "display_data"
    }
   ],
   "source": [
    "flux = pd.read_csv(PATH/'fort.9', sep=r'\\s+', skiprows=2, header=None)\n",
    "flux.set_index(0, inplace=True)\n",
    "flux.index.names = ['pressure']\n",
    "flux.columns = ['tflux', 'tfluxg']\n",
    "\n",
    "pltdata = [{'srs':xr.DataArray(flux[m]),\n",
    "            'label':f'{m}',\n",
    "            'color':np.random.choice(all_palettes['Category20'][20]),\n",
    "            'alpha':np.random.uniform(.5, 1.),\n",
    "            'line_width':np.random.uniform(1, 5),\n",
    "            'line_dash':np.random.choice(['solid', 'dashed', 'dotted', 'dotdash', 'dashdot'])} for m in flux]\n",
    "\n",
    "show(plt_vert_profile_bokeh(pltdata=pltdata, xlabel='flux'))"
   ]
  },
  {
   "cell_type": "code",
   "execution_count": 50,
   "metadata": {},
   "outputs": [
    {
     "data": {
      "text/html": [
       "\n",
       "<div class=\"bk-root\">\n",
       "    <div class=\"bk-plotdiv\" id=\"633ca15d-54a6-4f4c-8f37-64b18dcac12e\"></div>\n",
       "</div>"
      ]
     },
     "metadata": {},
     "output_type": "display_data"
    },
    {
     "data": {
      "application/javascript": [
       "(function(root) {\n",
       "  function embed_document(root) {\n",
       "    \n",
       "  var docs_json = {\"fc64141c-9840-484c-8822-9d10f1b5d189\":{\"roots\":{\"references\":[{\"attributes\":{\"dimension\":1,\"plot\":{\"id\":\"0cd8301b-340e-43af-beeb-ba8a07015c61\",\"subtype\":\"Figure\",\"type\":\"Plot\"},\"ticker\":{\"id\":\"b9aec759-5298-4343-82b9-50e58263f214\",\"type\":\"BasicTicker\"}},\"id\":\"c3f0b705-c847-40ed-a8cc-c9dc05f1260a\",\"type\":\"Grid\"},{\"attributes\":{\"label\":{\"value\":\"theat\"},\"renderers\":[{\"id\":\"f39f42e2-0f29-4dae-a144-0ecefa094e69\",\"type\":\"GlyphRenderer\"}]},\"id\":\"12bd7ea6-b632-4069-abf1-0eb7e63a8a26\",\"type\":\"LegendItem\"},{\"attributes\":{\"active_drag\":\"auto\",\"active_inspect\":\"auto\",\"active_scroll\":\"auto\",\"active_tap\":\"auto\",\"tools\":[{\"id\":\"3b6bfc77-b127-468c-a8f4-b53bf5a07b95\",\"type\":\"PanTool\"},{\"id\":\"d8b6d788-a6b3-4b65-87a3-eb34963bf397\",\"type\":\"WheelZoomTool\"},{\"id\":\"b5173300-aa73-4895-b878-3da7e640cd0f\",\"type\":\"BoxZoomTool\"},{\"id\":\"980d429f-5efd-4cd3-a3ec-439f0949586b\",\"type\":\"SaveTool\"},{\"id\":\"a26dc9f1-5416-4b3e-98b2-4ffbea2c2cb0\",\"type\":\"ResetTool\"},{\"id\":\"d40c3495-4add-47d3-b2d3-f5ae6ad9133c\",\"type\":\"HelpTool\"}]},\"id\":\"67a68d73-9b34-4727-afcc-14faf7e99fb9\",\"type\":\"Toolbar\"},{\"attributes\":{},\"id\":\"7ef75446-cd98-492f-b4fe-cabe688c468b\",\"type\":\"BasicTickFormatter\"},{\"attributes\":{\"callback\":null,\"data\":{\"x\":{\"__ndarray__\":\"ni+s0WF0yD/D85TNA3XIP/6ksSiyd8g/bUSkZEF6yD8j0j5vjXzIP5wYs6Fyfsg/HrleaOh+yD8eSQ9kuXzIP3aAs9ZIecg/MvrZ4RJ0yD8/bypSYWzIPwbs7io5Ycg/gE3ONz9RyD87WcV2UjrIP52Zw2KSGcg/xtqEIKzrxz+IJYo1AavHP63zdwhGUsc/hPX71U7axj+nQU0E3DnGP53jL28GZsU/ZLopSOBNxD8x28KxNt/CPykxW/RGFME/2WYZmMv8vT8fDlS+Toe5PxHZ7rt1QLU/bhsEJR6zsT+1rV4sqWauPzF8ZVpyR6s/9LBI+lFgqT8+iK5VzFKoP6FIOZDcN6g/BRkBFY4gqT82ftkk3LeqPzGroDdPVKw/MzLpa21MrT++8qR16ZmtP4G/DIRscq0/2StFVcD7rD947OvpuFSsP9FNrJ1ylqs/oYc18P7Tqj9he/utfBqqP5RCizI8cqk/SIbir0XiqD/Eu3VhGG6oP+P2T2DPEag/poJpnHbGpz8PGeKaM4mnP1REXdaKV6c/WVmRh3Qupz8Yg8EUaQunP8qqpQxe7KY/CmwIbb3Ppj+CwRzaU7SmP96NBYVBmaY/uK2QZup9pj9kD6PW6mGmP/u+6o7mRKY/m2mpWfMlpj82x16URQamP9/F+3H75aU/XXfr4z7FpT9p80k4PqSlP5bmHF0hg6U/WQ8lewBipT+p9ul4zEClPwrwYR8yH6U/IMxQian8pD+rPQ2U69ikPwCAMZVdtKQ/04bD0sCPpD+/Xd1OrmukP8Rv8Y10SKQ/\",\"dtype\":\"float64\",\"shape\":[75]},\"y\":{\"__ndarray__\":\"YTJVMCqpMz8tQxzr4jZKPy9uowG8BVI/+n5qvHSTWD8VjErqBDRhP+CcEaW9wWc/CRueXinLcD/UK2UZ4lh3P/yp8dJNYoA/x7q4jQbwhj92cRsN4C2QP/5l9+RhoZY/WDm0yHa+nz8Sg8DKoUWmPyo6kst/SK8/J6CJsOHptT/J5T+k376+P8UgsHJokcU/ih9j7lpCzj+e76fGSzfVP4enV8oyxN0//yH99nXg5D8qOpLLf0jtP2FUUiegifQ/c9cS8kHP/D+/DpwzojQEQIEmwoanVwxAVOOlm8TgE0Dgvg6cM+IbQAMJih9jjiNAH/RsVn1uK0CTqYJRST0zQHicoiO5/DpAaCJseHrtQkDNzMzMzIxKQM3MzMzMeFJAZmZmZmZqWEAAAAAAAFxeQM3MzMzMJmJAmpmZmZkfZUBmZmZmZhhoQDMzMzMzEWtAAAAAAAAKbkBmZmZmZoFwQM3MzMzM/XFAMzMzMzN6c0CamZmZmfZ0QAAAAAAAc3ZAZmZmZmbvd0DNzMzMzGt5QDMzMzMz6HpAmpmZmZlkfEAAAAAAAOF9QGZmZmZmXX9AZmZmZuZsgECamZmZGSuBQM3MzMxM6YFAAAAAAICngkAzMzMzs2WDQGZmZmbmI4RAmpmZmRnihEDNzMzMTKCFQAAAAACAXoZAMzMzM7Mch0BmZmZm5tqHQJqZmZkZmYhAzczMzExXiUAAAAAAgBWKQDMzMzOz04pAZmZmZuaRi0CamZmZGVCMQM3MzMxMDo1AAAAAAIDMjUAzMzMzs4qOQGZmZmbmSI9A\",\"dtype\":\"float64\",\"shape\":[75]}},\"selected\":{\"id\":\"683f7fa8-2218-4bbb-8464-854fbf69b9d7\",\"type\":\"Selection\"},\"selection_policy\":{\"id\":\"4b5a1bb9-8c23-45fc-9c43-30cc8ee0885f\",\"type\":\"UnionRenderers\"}},\"id\":\"8acd1a8b-c800-4137-813f-3a6be176f262\",\"type\":\"ColumnDataSource\"},{\"attributes\":{},\"id\":\"bbbc7084-2606-45da-8383-cd69a58f29f6\",\"type\":\"Selection\"},{\"attributes\":{\"line_alpha\":0.6425758562606367,\"line_color\":\"#e377c2\",\"line_width\":1.7076305706815829,\"x\":{\"field\":\"x\"},\"y\":{\"field\":\"y\"}},\"id\":\"a84e31bb-2411-4229-b517-297fadd3b142\",\"type\":\"Line\"},{\"attributes\":{\"axis_label\":\"pressure [mb]\",\"formatter\":{\"id\":\"7ef75446-cd98-492f-b4fe-cabe688c468b\",\"type\":\"BasicTickFormatter\"},\"plot\":{\"id\":\"0cd8301b-340e-43af-beeb-ba8a07015c61\",\"subtype\":\"Figure\",\"type\":\"Plot\"},\"ticker\":{\"id\":\"b9aec759-5298-4343-82b9-50e58263f214\",\"type\":\"BasicTicker\"}},\"id\":\"bd00f0c1-18e6-414c-b42f-1050763c5acb\",\"type\":\"LinearAxis\"},{\"attributes\":{\"callback\":null,\"end\":0.01,\"start\":1020},\"id\":\"5577a8ef-6781-4a01-b524-a9042ba88df7\",\"type\":\"Range1d\"},{\"attributes\":{},\"id\":\"86c0db93-cb15-48e9-85c9-d891e3fe5c7a\",\"type\":\"LinearScale\"},{\"attributes\":{\"source\":{\"id\":\"f1704b3c-9cb4-4ab8-935d-0e9cc2d00795\",\"type\":\"ColumnDataSource\"}},\"id\":\"978d498b-ac6e-460e-ab2b-4cbd09277f38\",\"type\":\"CDSView\"},{\"attributes\":{},\"id\":\"3b6bfc77-b127-468c-a8f4-b53bf5a07b95\",\"type\":\"PanTool\"},{\"attributes\":{},\"id\":\"b9119ba6-2514-4edf-8526-3fb00098cf44\",\"type\":\"UnionRenderers\"},{\"attributes\":{},\"id\":\"a26dc9f1-5416-4b3e-98b2-4ffbea2c2cb0\",\"type\":\"ResetTool\"},{\"attributes\":{},\"id\":\"fa89a6e6-1d72-4ea6-8aeb-85c3c6be975e\",\"type\":\"BasicTickFormatter\"},{\"attributes\":{\"callback\":null,\"data\":{\"x\":{\"__ndarray__\":\"P+nASQXbyT9t0mUYFNnJP8SLz66M18k/3+ucTeTVyT/1XbZC/dPJPx9lxAWg0ck/S9gr6pvNyT9UprmRicbJP7I5OQnGvck/9nrWuZKyyT/KWKep6aPJP4qAt/5lkMk/ZVj/xiJ2yT9BI78bXlLJP+MAuGEtIck/0eeCfs/dyD/uva4VI4HIP7x0OF+RBMg/3NSjHfVfxz/6a4nHC4rGP37lIGyhecU/llt7G3IexD+45o7+l2vCP1qMkVetbcA/gu/L05iUvD96HKPInF+4P5C/1bY4lbQ/RMjUuJJ4sT9OZjh1UE+uPxkpKeqrL6s/sfLT0dRfqT8jWCywjZmoP48+3pK5hag/Z+R/NJTBqD9b6+6ucQWpP7nAqwbdNak/i7bXQMJJqT8fM2m2n0qpP2+d4uWnQKk//fILp7MwqT8Aqtl/dBypP9JWoVjZBKk/qbcvNXzqqD+comXVzs2oP5HhJfbYr6g//31CTV+VqD/WOnE5XoGoP9IlFAlDcKg/Fu5kiTFdqD8fOhRwlUioP5ID2V80M6g/D4aVZeMcqD/DMg31gQWoP5+YzOP27Kc/PXDftCrTpz9K6R2XBrinP4OqLGV0m6c/QQ1j+159pz95mkhAt12nP3I6weVOPKc/PqC/EkAYpz/3Zf4L4/KmP/PYIqtTzKY/wSi11bSkpj/fDXHFKHymP5JeL6jKUqY/8A46MqAopj8wDSZyf/2lP2Vx/5Hp0KU/Dq0lTx+ipT9ewOSpu3ClP4jy5B47PaU/y+PdT5UIpT8029PdjtOkPzoC+nWOnqQ/\",\"dtype\":\"float64\",\"shape\":[75]},\"y\":{\"__ndarray__\":\"YTJVMCqpMz8tQxzr4jZKPy9uowG8BVI/+n5qvHSTWD8VjErqBDRhP+CcEaW9wWc/CRueXinLcD/UK2UZ4lh3P/yp8dJNYoA/x7q4jQbwhj92cRsN4C2QP/5l9+RhoZY/WDm0yHa+nz8Sg8DKoUWmPyo6kst/SK8/J6CJsOHptT/J5T+k376+P8UgsHJokcU/ih9j7lpCzj+e76fGSzfVP4enV8oyxN0//yH99nXg5D8qOpLLf0jtP2FUUiegifQ/c9cS8kHP/D+/DpwzojQEQIEmwoanVwxAVOOlm8TgE0Dgvg6cM+IbQAMJih9jjiNAH/RsVn1uK0CTqYJRST0zQHicoiO5/DpAaCJseHrtQkDNzMzMzIxKQM3MzMzMeFJAZmZmZmZqWEAAAAAAAFxeQM3MzMzMJmJAmpmZmZkfZUBmZmZmZhhoQDMzMzMzEWtAAAAAAAAKbkBmZmZmZoFwQM3MzMzM/XFAMzMzMzN6c0CamZmZmfZ0QAAAAAAAc3ZAZmZmZmbvd0DNzMzMzGt5QDMzMzMz6HpAmpmZmZlkfEAAAAAAAOF9QGZmZmZmXX9AZmZmZuZsgECamZmZGSuBQM3MzMxM6YFAAAAAAICngkAzMzMzs2WDQGZmZmbmI4RAmpmZmRnihEDNzMzMTKCFQAAAAACAXoZAMzMzM7Mch0BmZmZm5tqHQJqZmZkZmYhAzczMzExXiUAAAAAAgBWKQDMzMzOz04pAZmZmZuaRi0CamZmZGVCMQM3MzMxMDo1AAAAAAIDMjUAzMzMzs4qOQGZmZmbmSI9A\",\"dtype\":\"float64\",\"shape\":[75]}},\"selected\":{\"id\":\"bbbc7084-2606-45da-8383-cd69a58f29f6\",\"type\":\"Selection\"},\"selection_policy\":{\"id\":\"b9119ba6-2514-4edf-8526-3fb00098cf44\",\"type\":\"UnionRenderers\"}},\"id\":\"f1704b3c-9cb4-4ab8-935d-0e9cc2d00795\",\"type\":\"ColumnDataSource\"},{\"attributes\":{\"callback\":null,\"end\":0.0579968759,\"start\":0.039433294099999995},\"id\":\"d20cda82-b34a-4a06-a702-fc54bc435966\",\"type\":\"Range1d\"},{\"attributes\":{},\"id\":\"683f7fa8-2218-4bbb-8464-854fbf69b9d7\",\"type\":\"Selection\"},{\"attributes\":{\"axis_label\":\"heat\",\"formatter\":{\"id\":\"fa89a6e6-1d72-4ea6-8aeb-85c3c6be975e\",\"type\":\"BasicTickFormatter\"},\"plot\":{\"id\":\"0cd8301b-340e-43af-beeb-ba8a07015c61\",\"subtype\":\"Figure\",\"type\":\"Plot\"},\"ticker\":{\"id\":\"eb2b0053-5ae7-4763-9604-5dc5848389d2\",\"type\":\"BasicTicker\"}},\"id\":\"9f455ed2-55e5-4dd2-93cc-92e0d05e66b2\",\"type\":\"LinearAxis\"},{\"attributes\":{},\"id\":\"d8b6d788-a6b3-4b65-87a3-eb34963bf397\",\"type\":\"WheelZoomTool\"},{\"attributes\":{},\"id\":\"4b5a1bb9-8c23-45fc-9c43-30cc8ee0885f\",\"type\":\"UnionRenderers\"},{\"attributes\":{\"line_alpha\":0.1,\"line_color\":\"#1f77b4\",\"line_width\":1.7076305706815829,\"x\":{\"field\":\"x\"},\"y\":{\"field\":\"y\"}},\"id\":\"7257c9ab-bc20-4cde-95ec-21497abd2dc5\",\"type\":\"Line\"},{\"attributes\":{},\"id\":\"b9aec759-5298-4343-82b9-50e58263f214\",\"type\":\"BasicTicker\"},{\"attributes\":{\"above\":[{\"id\":\"fd8e99cf-bed2-404b-a0bf-62076ead97d4\",\"type\":\"Legend\"}],\"below\":[{\"id\":\"9f455ed2-55e5-4dd2-93cc-92e0d05e66b2\",\"type\":\"LinearAxis\"}],\"left\":[{\"id\":\"bd00f0c1-18e6-414c-b42f-1050763c5acb\",\"type\":\"LinearAxis\"}],\"plot_width\":500,\"renderers\":[{\"id\":\"9f455ed2-55e5-4dd2-93cc-92e0d05e66b2\",\"type\":\"LinearAxis\"},{\"id\":\"fa08b8fb-3799-45d7-b77b-1b8615cb2b44\",\"type\":\"Grid\"},{\"id\":\"bd00f0c1-18e6-414c-b42f-1050763c5acb\",\"type\":\"LinearAxis\"},{\"id\":\"c3f0b705-c847-40ed-a8cc-c9dc05f1260a\",\"type\":\"Grid\"},{\"id\":\"192e0e6b-9857-4675-858a-2c1baec5bfee\",\"type\":\"BoxAnnotation\"},{\"id\":\"f39f42e2-0f29-4dae-a144-0ecefa094e69\",\"type\":\"GlyphRenderer\"},{\"id\":\"ae1bc1d8-a70e-4eb4-badb-7f907a9fdfab\",\"type\":\"GlyphRenderer\"},{\"id\":\"fd8e99cf-bed2-404b-a0bf-62076ead97d4\",\"type\":\"Legend\"}],\"title\":{\"id\":\"531da5b1-ccca-44fe-aecb-099752b9620f\",\"type\":\"Title\"},\"toolbar\":{\"id\":\"67a68d73-9b34-4727-afcc-14faf7e99fb9\",\"type\":\"Toolbar\"},\"x_range\":{\"id\":\"d20cda82-b34a-4a06-a702-fc54bc435966\",\"type\":\"Range1d\"},\"x_scale\":{\"id\":\"6885ca15-e144-4790-b108-add7b37c137e\",\"type\":\"LinearScale\"},\"y_range\":{\"id\":\"5577a8ef-6781-4a01-b524-a9042ba88df7\",\"type\":\"Range1d\"},\"y_scale\":{\"id\":\"86c0db93-cb15-48e9-85c9-d891e3fe5c7a\",\"type\":\"LinearScale\"}},\"id\":\"0cd8301b-340e-43af-beeb-ba8a07015c61\",\"subtype\":\"Figure\",\"type\":\"Plot\"},{\"attributes\":{\"overlay\":{\"id\":\"192e0e6b-9857-4675-858a-2c1baec5bfee\",\"type\":\"BoxAnnotation\"}},\"id\":\"b5173300-aa73-4895-b878-3da7e640cd0f\",\"type\":\"BoxZoomTool\"},{\"attributes\":{\"data_source\":{\"id\":\"8acd1a8b-c800-4137-813f-3a6be176f262\",\"type\":\"ColumnDataSource\"},\"glyph\":{\"id\":\"a84e31bb-2411-4229-b517-297fadd3b142\",\"type\":\"Line\"},\"hover_glyph\":null,\"muted_glyph\":null,\"nonselection_glyph\":{\"id\":\"7257c9ab-bc20-4cde-95ec-21497abd2dc5\",\"type\":\"Line\"},\"selection_glyph\":null,\"view\":{\"id\":\"00bd933c-834b-499b-8177-c25200c1bfa9\",\"type\":\"CDSView\"}},\"id\":\"ae1bc1d8-a70e-4eb4-badb-7f907a9fdfab\",\"type\":\"GlyphRenderer\"},{\"attributes\":{\"line_alpha\":0.8033476432397613,\"line_color\":\"#e377c2\",\"line_dash\":[6],\"line_width\":3.332544522964216,\"x\":{\"field\":\"x\"},\"y\":{\"field\":\"y\"}},\"id\":\"5a995624-648e-4de8-91d5-4301672a83e4\",\"type\":\"Line\"},{\"attributes\":{\"label\":{\"value\":\"theatg\"},\"renderers\":[{\"id\":\"ae1bc1d8-a70e-4eb4-badb-7f907a9fdfab\",\"type\":\"GlyphRenderer\"}]},\"id\":\"05387f42-2397-48e9-89c5-d9c6c7d4333f\",\"type\":\"LegendItem\"},{\"attributes\":{},\"id\":\"6885ca15-e144-4790-b108-add7b37c137e\",\"type\":\"LinearScale\"},{\"attributes\":{\"source\":{\"id\":\"8acd1a8b-c800-4137-813f-3a6be176f262\",\"type\":\"ColumnDataSource\"}},\"id\":\"00bd933c-834b-499b-8177-c25200c1bfa9\",\"type\":\"CDSView\"},{\"attributes\":{},\"id\":\"eb2b0053-5ae7-4763-9604-5dc5848389d2\",\"type\":\"BasicTicker\"},{\"attributes\":{},\"id\":\"d40c3495-4add-47d3-b2d3-f5ae6ad9133c\",\"type\":\"HelpTool\"},{\"attributes\":{\"bottom_units\":\"screen\",\"fill_alpha\":{\"value\":0.5},\"fill_color\":{\"value\":\"lightgrey\"},\"left_units\":\"screen\",\"level\":\"overlay\",\"line_alpha\":{\"value\":1.0},\"line_color\":{\"value\":\"black\"},\"line_dash\":[4,4],\"line_width\":{\"value\":2},\"plot\":null,\"render_mode\":\"css\",\"right_units\":\"screen\",\"top_units\":\"screen\"},\"id\":\"192e0e6b-9857-4675-858a-2c1baec5bfee\",\"type\":\"BoxAnnotation\"},{\"attributes\":{\"plot\":null,\"text\":\"\"},\"id\":\"531da5b1-ccca-44fe-aecb-099752b9620f\",\"type\":\"Title\"},{\"attributes\":{\"line_alpha\":0.1,\"line_color\":\"#1f77b4\",\"line_dash\":[6],\"line_width\":3.332544522964216,\"x\":{\"field\":\"x\"},\"y\":{\"field\":\"y\"}},\"id\":\"d184f4b8-156a-4155-a134-a097c1b7e72d\",\"type\":\"Line\"},{\"attributes\":{\"data_source\":{\"id\":\"f1704b3c-9cb4-4ab8-935d-0e9cc2d00795\",\"type\":\"ColumnDataSource\"},\"glyph\":{\"id\":\"5a995624-648e-4de8-91d5-4301672a83e4\",\"type\":\"Line\"},\"hover_glyph\":null,\"muted_glyph\":null,\"nonselection_glyph\":{\"id\":\"d184f4b8-156a-4155-a134-a097c1b7e72d\",\"type\":\"Line\"},\"selection_glyph\":null,\"view\":{\"id\":\"978d498b-ac6e-460e-ab2b-4cbd09277f38\",\"type\":\"CDSView\"}},\"id\":\"f39f42e2-0f29-4dae-a144-0ecefa094e69\",\"type\":\"GlyphRenderer\"},{\"attributes\":{},\"id\":\"980d429f-5efd-4cd3-a3ec-439f0949586b\",\"type\":\"SaveTool\"},{\"attributes\":{\"items\":[{\"id\":\"12bd7ea6-b632-4069-abf1-0eb7e63a8a26\",\"type\":\"LegendItem\"},{\"id\":\"05387f42-2397-48e9-89c5-d9c6c7d4333f\",\"type\":\"LegendItem\"}],\"label_text_font_size\":{\"value\":\"8pt\"},\"location\":\"top_center\",\"orientation\":\"horizontal\",\"plot\":{\"id\":\"0cd8301b-340e-43af-beeb-ba8a07015c61\",\"subtype\":\"Figure\",\"type\":\"Plot\"}},\"id\":\"fd8e99cf-bed2-404b-a0bf-62076ead97d4\",\"type\":\"Legend\"},{\"attributes\":{\"plot\":{\"id\":\"0cd8301b-340e-43af-beeb-ba8a07015c61\",\"subtype\":\"Figure\",\"type\":\"Plot\"},\"ticker\":{\"id\":\"eb2b0053-5ae7-4763-9604-5dc5848389d2\",\"type\":\"BasicTicker\"}},\"id\":\"fa08b8fb-3799-45d7-b77b-1b8615cb2b44\",\"type\":\"Grid\"}],\"root_ids\":[\"0cd8301b-340e-43af-beeb-ba8a07015c61\"]},\"title\":\"Bokeh Application\",\"version\":\"0.12.16\"}};\n",
       "  var render_items = [{\"docid\":\"fc64141c-9840-484c-8822-9d10f1b5d189\",\"elementid\":\"633ca15d-54a6-4f4c-8f37-64b18dcac12e\",\"modelid\":\"0cd8301b-340e-43af-beeb-ba8a07015c61\"}];\n",
       "  root.Bokeh.embed.embed_items_notebook(docs_json, render_items);\n",
       "\n",
       "  }\n",
       "  if (root.Bokeh !== undefined) {\n",
       "    embed_document(root);\n",
       "  } else {\n",
       "    var attempts = 0;\n",
       "    var timer = setInterval(function(root) {\n",
       "      if (root.Bokeh !== undefined) {\n",
       "        embed_document(root);\n",
       "        clearInterval(timer);\n",
       "      }\n",
       "      attempts++;\n",
       "      if (attempts > 100) {\n",
       "        console.log(\"Bokeh: ERROR: Unable to run BokehJS code because BokehJS library is missing\")\n",
       "        clearInterval(timer);\n",
       "      }\n",
       "    }, 10, root)\n",
       "  }\n",
       "})(window);"
      ],
      "application/vnd.bokehjs_exec.v0+json": ""
     },
     "metadata": {
      "application/vnd.bokehjs_exec.v0+json": {
       "id": "0cd8301b-340e-43af-beeb-ba8a07015c61"
      }
     },
     "output_type": "display_data"
    }
   ],
   "source": [
    "cool = pd.read_csv(PATH/'fort.10', sep=r'\\s+', header=None)\n",
    "cool.set_index(0, inplace=True)\n",
    "cool.index.names = ['pressure']\n",
    "cool.columns = ['theat', 'theatg']\n",
    "\n",
    "pltdata = [{'srs':xr.DataArray(cool[m]),\n",
    "            'label':f'{m}',\n",
    "            'color':np.random.choice(all_palettes['Category20'][20]),\n",
    "            'alpha':np.random.uniform(.5, 1.),\n",
    "            'line_width':np.random.uniform(1, 5),\n",
    "            'line_dash':np.random.choice(['solid', 'dashed', 'dotted', 'dotdash', 'dashdot'])} for m in cool]\n",
    "\n",
    "show(plt_vert_profile_bokeh(pltdata=pltdata, xlabel='heat'))"
   ]
  },
  {
   "cell_type": "code",
   "execution_count": 52,
   "metadata": {},
   "outputs": [
    {
     "data": {
      "text/html": [
       "<script>\n",
       "code_show=true; \n",
       "function code_toggle() {\n",
       " if (code_show){\n",
       " $('div.input').hide();\n",
       " } else {\n",
       " $('div.input').show();\n",
       " }\n",
       " code_show = !code_show\n",
       "} \n",
       "$( document ).ready(code_toggle);\n",
       "</script>\n",
       "<form action=\"javascript:code_toggle()\"><input type=\"submit\" value=\"Click here to toggle on/off the raw code.\"></form>"
      ],
      "text/plain": [
       "<IPython.core.display.HTML object>"
      ]
     },
     "execution_count": 52,
     "metadata": {},
     "output_type": "execute_result"
    }
   ],
   "source": [
    "display.HTML('''<script>\n",
    "code_show=true; \n",
    "function code_toggle() {\n",
    " if (code_show){\n",
    " $('div.input').hide();\n",
    " } else {\n",
    " $('div.input').show();\n",
    " }\n",
    " code_show = !code_show\n",
    "} \n",
    "$( document ).ready(code_toggle);\n",
    "</script>\n",
    "<form action=\"javascript:code_toggle()\"><input type=\"submit\" value=\"Click here to toggle on/off the raw code.\"></form>''')"
   ]
  },
  {
   "cell_type": "code",
   "execution_count": null,
   "metadata": {
    "collapsed": true
   },
   "outputs": [],
   "source": []
  },
  {
   "cell_type": "code",
   "execution_count": null,
   "metadata": {
    "collapsed": true
   },
   "outputs": [],
   "source": []
  },
  {
   "cell_type": "code",
   "execution_count": null,
   "metadata": {
    "collapsed": true
   },
   "outputs": [],
   "source": []
  },
  {
   "cell_type": "code",
   "execution_count": null,
   "metadata": {
    "collapsed": true
   },
   "outputs": [],
   "source": []
  },
  {
   "cell_type": "code",
   "execution_count": null,
   "metadata": {
    "collapsed": true
   },
   "outputs": [],
   "source": []
  },
  {
   "cell_type": "code",
   "execution_count": null,
   "metadata": {
    "collapsed": true
   },
   "outputs": [],
   "source": []
  },
  {
   "cell_type": "code",
   "execution_count": null,
   "metadata": {
    "collapsed": true
   },
   "outputs": [],
   "source": []
  },
  {
   "cell_type": "code",
   "execution_count": null,
   "metadata": {
    "collapsed": true
   },
   "outputs": [],
   "source": []
  },
  {
   "cell_type": "code",
   "execution_count": null,
   "metadata": {
    "collapsed": true
   },
   "outputs": [],
   "source": []
  },
  {
   "cell_type": "code",
   "execution_count": null,
   "metadata": {
    "collapsed": true
   },
   "outputs": [],
   "source": []
  },
  {
   "cell_type": "code",
   "execution_count": null,
   "metadata": {
    "collapsed": true
   },
   "outputs": [],
   "source": []
  },
  {
   "cell_type": "code",
   "execution_count": null,
   "metadata": {
    "collapsed": true
   },
   "outputs": [],
   "source": []
  },
  {
   "cell_type": "code",
   "execution_count": null,
   "metadata": {
    "collapsed": true
   },
   "outputs": [],
   "source": []
  }
 ],
 "metadata": {
  "kernelspec": {
   "display_name": "Python 3",
   "language": "python",
   "name": "python3"
  },
  "language_info": {
   "codemirror_mode": {
    "name": "ipython",
    "version": 3
   },
   "file_extension": ".py",
   "mimetype": "text/x-python",
   "name": "python",
   "nbconvert_exporter": "python",
   "pygments_lexer": "ipython3",
   "version": "3.6.7"
  }
 },
 "nbformat": 4,
 "nbformat_minor": 2
}
