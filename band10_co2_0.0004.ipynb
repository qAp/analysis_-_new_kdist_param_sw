{
 "cells": [
  {
   "cell_type": "code",
   "execution_count": 31,
   "metadata": {},
   "outputs": [
    {
     "data": {
      "text/html": [
       "\n",
       "    <div class=\"bk-root\">\n",
       "        <a href=\"https://bokeh.pydata.org\" target=\"_blank\" class=\"bk-logo bk-logo-small bk-logo-notebook\"></a>\n",
       "        <span id=\"ee256d5e-50eb-4bf9-86dd-783d5d8b6233\">Loading BokehJS ...</span>\n",
       "    </div>"
      ]
     },
     "metadata": {},
     "output_type": "display_data"
    },
    {
     "data": {
      "application/javascript": [
       "\n",
       "(function(root) {\n",
       "  function now() {\n",
       "    return new Date();\n",
       "  }\n",
       "\n",
       "  var force = true;\n",
       "\n",
       "  if (typeof (root._bokeh_onload_callbacks) === \"undefined\" || force === true) {\n",
       "    root._bokeh_onload_callbacks = [];\n",
       "    root._bokeh_is_loading = undefined;\n",
       "  }\n",
       "\n",
       "  var JS_MIME_TYPE = 'application/javascript';\n",
       "  var HTML_MIME_TYPE = 'text/html';\n",
       "  var EXEC_MIME_TYPE = 'application/vnd.bokehjs_exec.v0+json';\n",
       "  var CLASS_NAME = 'output_bokeh rendered_html';\n",
       "\n",
       "  /**\n",
       "   * Render data to the DOM node\n",
       "   */\n",
       "  function render(props, node) {\n",
       "    var script = document.createElement(\"script\");\n",
       "    node.appendChild(script);\n",
       "  }\n",
       "\n",
       "  /**\n",
       "   * Handle when an output is cleared or removed\n",
       "   */\n",
       "  function handleClearOutput(event, handle) {\n",
       "    var cell = handle.cell;\n",
       "\n",
       "    var id = cell.output_area._bokeh_element_id;\n",
       "    var server_id = cell.output_area._bokeh_server_id;\n",
       "    // Clean up Bokeh references\n",
       "    if (id !== undefined) {\n",
       "      Bokeh.index[id].model.document.clear();\n",
       "      delete Bokeh.index[id];\n",
       "    }\n",
       "\n",
       "    if (server_id !== undefined) {\n",
       "      // Clean up Bokeh references\n",
       "      var cmd = \"from bokeh.io.state import curstate; print(curstate().uuid_to_server['\" + server_id + \"'].get_sessions()[0].document.roots[0]._id)\";\n",
       "      cell.notebook.kernel.execute(cmd, {\n",
       "        iopub: {\n",
       "          output: function(msg) {\n",
       "            var element_id = msg.content.text.trim();\n",
       "            Bokeh.index[element_id].model.document.clear();\n",
       "            delete Bokeh.index[element_id];\n",
       "          }\n",
       "        }\n",
       "      });\n",
       "      // Destroy server and session\n",
       "      var cmd = \"import bokeh.io.notebook as ion; ion.destroy_server('\" + server_id + \"')\";\n",
       "      cell.notebook.kernel.execute(cmd);\n",
       "    }\n",
       "  }\n",
       "\n",
       "  /**\n",
       "   * Handle when a new output is added\n",
       "   */\n",
       "  function handleAddOutput(event, handle) {\n",
       "    var output_area = handle.output_area;\n",
       "    var output = handle.output;\n",
       "\n",
       "    // limit handleAddOutput to display_data with EXEC_MIME_TYPE content only\n",
       "    if ((output.output_type != \"display_data\") || (!output.data.hasOwnProperty(EXEC_MIME_TYPE))) {\n",
       "      return\n",
       "    }\n",
       "\n",
       "    var toinsert = output_area.element.find(\".\" + CLASS_NAME.split(' ')[0]);\n",
       "\n",
       "    if (output.metadata[EXEC_MIME_TYPE][\"id\"] !== undefined) {\n",
       "      toinsert[toinsert.length - 1].firstChild.textContent = output.data[JS_MIME_TYPE];\n",
       "      // store reference to embed id on output_area\n",
       "      output_area._bokeh_element_id = output.metadata[EXEC_MIME_TYPE][\"id\"];\n",
       "    }\n",
       "    if (output.metadata[EXEC_MIME_TYPE][\"server_id\"] !== undefined) {\n",
       "      var bk_div = document.createElement(\"div\");\n",
       "      bk_div.innerHTML = output.data[HTML_MIME_TYPE];\n",
       "      var script_attrs = bk_div.children[0].attributes;\n",
       "      for (var i = 0; i < script_attrs.length; i++) {\n",
       "        toinsert[toinsert.length - 1].firstChild.setAttribute(script_attrs[i].name, script_attrs[i].value);\n",
       "      }\n",
       "      // store reference to server id on output_area\n",
       "      output_area._bokeh_server_id = output.metadata[EXEC_MIME_TYPE][\"server_id\"];\n",
       "    }\n",
       "  }\n",
       "\n",
       "  function register_renderer(events, OutputArea) {\n",
       "\n",
       "    function append_mime(data, metadata, element) {\n",
       "      // create a DOM node to render to\n",
       "      var toinsert = this.create_output_subarea(\n",
       "        metadata,\n",
       "        CLASS_NAME,\n",
       "        EXEC_MIME_TYPE\n",
       "      );\n",
       "      this.keyboard_manager.register_events(toinsert);\n",
       "      // Render to node\n",
       "      var props = {data: data, metadata: metadata[EXEC_MIME_TYPE]};\n",
       "      render(props, toinsert[toinsert.length - 1]);\n",
       "      element.append(toinsert);\n",
       "      return toinsert\n",
       "    }\n",
       "\n",
       "    /* Handle when an output is cleared or removed */\n",
       "    events.on('clear_output.CodeCell', handleClearOutput);\n",
       "    events.on('delete.Cell', handleClearOutput);\n",
       "\n",
       "    /* Handle when a new output is added */\n",
       "    events.on('output_added.OutputArea', handleAddOutput);\n",
       "\n",
       "    /**\n",
       "     * Register the mime type and append_mime function with output_area\n",
       "     */\n",
       "    OutputArea.prototype.register_mime_type(EXEC_MIME_TYPE, append_mime, {\n",
       "      /* Is output safe? */\n",
       "      safe: true,\n",
       "      /* Index of renderer in `output_area.display_order` */\n",
       "      index: 0\n",
       "    });\n",
       "  }\n",
       "\n",
       "  // register the mime type if in Jupyter Notebook environment and previously unregistered\n",
       "  if (root.Jupyter !== undefined) {\n",
       "    var events = require('base/js/events');\n",
       "    var OutputArea = require('notebook/js/outputarea').OutputArea;\n",
       "\n",
       "    if (OutputArea.prototype.mime_types().indexOf(EXEC_MIME_TYPE) == -1) {\n",
       "      register_renderer(events, OutputArea);\n",
       "    }\n",
       "  }\n",
       "\n",
       "  \n",
       "  if (typeof (root._bokeh_timeout) === \"undefined\" || force === true) {\n",
       "    root._bokeh_timeout = Date.now() + 5000;\n",
       "    root._bokeh_failed_load = false;\n",
       "  }\n",
       "\n",
       "  var NB_LOAD_WARNING = {'data': {'text/html':\n",
       "     \"<div style='background-color: #fdd'>\\n\"+\n",
       "     \"<p>\\n\"+\n",
       "     \"BokehJS does not appear to have successfully loaded. If loading BokehJS from CDN, this \\n\"+\n",
       "     \"may be due to a slow or bad network connection. Possible fixes:\\n\"+\n",
       "     \"</p>\\n\"+\n",
       "     \"<ul>\\n\"+\n",
       "     \"<li>re-rerun `output_notebook()` to attempt to load from CDN again, or</li>\\n\"+\n",
       "     \"<li>use INLINE resources instead, as so:</li>\\n\"+\n",
       "     \"</ul>\\n\"+\n",
       "     \"<code>\\n\"+\n",
       "     \"from bokeh.resources import INLINE\\n\"+\n",
       "     \"output_notebook(resources=INLINE)\\n\"+\n",
       "     \"</code>\\n\"+\n",
       "     \"</div>\"}};\n",
       "\n",
       "  function display_loaded() {\n",
       "    var el = document.getElementById(\"ee256d5e-50eb-4bf9-86dd-783d5d8b6233\");\n",
       "    if (el != null) {\n",
       "      el.textContent = \"BokehJS is loading...\";\n",
       "    }\n",
       "    if (root.Bokeh !== undefined) {\n",
       "      if (el != null) {\n",
       "        el.textContent = \"BokehJS \" + root.Bokeh.version + \" successfully loaded.\";\n",
       "      }\n",
       "    } else if (Date.now() < root._bokeh_timeout) {\n",
       "      setTimeout(display_loaded, 100)\n",
       "    }\n",
       "  }\n",
       "\n",
       "\n",
       "  function run_callbacks() {\n",
       "    try {\n",
       "      root._bokeh_onload_callbacks.forEach(function(callback) { callback() });\n",
       "    }\n",
       "    finally {\n",
       "      delete root._bokeh_onload_callbacks\n",
       "    }\n",
       "    console.info(\"Bokeh: all callbacks have finished\");\n",
       "  }\n",
       "\n",
       "  function load_libs(js_urls, callback) {\n",
       "    root._bokeh_onload_callbacks.push(callback);\n",
       "    if (root._bokeh_is_loading > 0) {\n",
       "      console.log(\"Bokeh: BokehJS is being loaded, scheduling callback at\", now());\n",
       "      return null;\n",
       "    }\n",
       "    if (js_urls == null || js_urls.length === 0) {\n",
       "      run_callbacks();\n",
       "      return null;\n",
       "    }\n",
       "    console.log(\"Bokeh: BokehJS not loaded, scheduling load and callback at\", now());\n",
       "    root._bokeh_is_loading = js_urls.length;\n",
       "    for (var i = 0; i < js_urls.length; i++) {\n",
       "      var url = js_urls[i];\n",
       "      var s = document.createElement('script');\n",
       "      s.src = url;\n",
       "      s.async = false;\n",
       "      s.onreadystatechange = s.onload = function() {\n",
       "        root._bokeh_is_loading--;\n",
       "        if (root._bokeh_is_loading === 0) {\n",
       "          console.log(\"Bokeh: all BokehJS libraries loaded\");\n",
       "          run_callbacks()\n",
       "        }\n",
       "      };\n",
       "      s.onerror = function() {\n",
       "        console.warn(\"failed to load library \" + url);\n",
       "      };\n",
       "      console.log(\"Bokeh: injecting script tag for BokehJS library: \", url);\n",
       "      document.getElementsByTagName(\"head\")[0].appendChild(s);\n",
       "    }\n",
       "  };var element = document.getElementById(\"ee256d5e-50eb-4bf9-86dd-783d5d8b6233\");\n",
       "  if (element == null) {\n",
       "    console.log(\"Bokeh: ERROR: autoload.js configured with elementid 'ee256d5e-50eb-4bf9-86dd-783d5d8b6233' but no matching script tag was found. \")\n",
       "    return false;\n",
       "  }\n",
       "\n",
       "  var js_urls = [\"https://cdn.pydata.org/bokeh/release/bokeh-0.12.16.min.js\", \"https://cdn.pydata.org/bokeh/release/bokeh-widgets-0.12.16.min.js\", \"https://cdn.pydata.org/bokeh/release/bokeh-tables-0.12.16.min.js\", \"https://cdn.pydata.org/bokeh/release/bokeh-gl-0.12.16.min.js\"];\n",
       "\n",
       "  var inline_js = [\n",
       "    function(Bokeh) {\n",
       "      Bokeh.set_log_level(\"info\");\n",
       "    },\n",
       "    \n",
       "    function(Bokeh) {\n",
       "      \n",
       "    },\n",
       "    function(Bokeh) {\n",
       "      console.log(\"Bokeh: injecting CSS: https://cdn.pydata.org/bokeh/release/bokeh-0.12.16.min.css\");\n",
       "      Bokeh.embed.inject_css(\"https://cdn.pydata.org/bokeh/release/bokeh-0.12.16.min.css\");\n",
       "      console.log(\"Bokeh: injecting CSS: https://cdn.pydata.org/bokeh/release/bokeh-widgets-0.12.16.min.css\");\n",
       "      Bokeh.embed.inject_css(\"https://cdn.pydata.org/bokeh/release/bokeh-widgets-0.12.16.min.css\");\n",
       "      console.log(\"Bokeh: injecting CSS: https://cdn.pydata.org/bokeh/release/bokeh-tables-0.12.16.min.css\");\n",
       "      Bokeh.embed.inject_css(\"https://cdn.pydata.org/bokeh/release/bokeh-tables-0.12.16.min.css\");\n",
       "    }\n",
       "  ];\n",
       "\n",
       "  function run_inline_js() {\n",
       "    \n",
       "    if ((root.Bokeh !== undefined) || (force === true)) {\n",
       "      for (var i = 0; i < inline_js.length; i++) {\n",
       "        inline_js[i].call(root, root.Bokeh);\n",
       "      }if (force === true) {\n",
       "        display_loaded();\n",
       "      }} else if (Date.now() < root._bokeh_timeout) {\n",
       "      setTimeout(run_inline_js, 100);\n",
       "    } else if (!root._bokeh_failed_load) {\n",
       "      console.log(\"Bokeh: BokehJS failed to load within specified timeout.\");\n",
       "      root._bokeh_failed_load = true;\n",
       "    } else if (force !== true) {\n",
       "      var cell = $(document.getElementById(\"ee256d5e-50eb-4bf9-86dd-783d5d8b6233\")).parents('.cell').data().cell;\n",
       "      cell.output_area.append_execute_result(NB_LOAD_WARNING)\n",
       "    }\n",
       "\n",
       "  }\n",
       "\n",
       "  if (root._bokeh_is_loading === 0) {\n",
       "    console.log(\"Bokeh: BokehJS loaded, going straight to plotting\");\n",
       "    run_inline_js();\n",
       "  } else {\n",
       "    load_libs(js_urls, function() {\n",
       "      console.log(\"Bokeh: BokehJS plotting callback run at\", now());\n",
       "      run_inline_js();\n",
       "    });\n",
       "  }\n",
       "}(window));"
      ],
      "application/vnd.bokehjs_load.v0+json": "\n(function(root) {\n  function now() {\n    return new Date();\n  }\n\n  var force = true;\n\n  if (typeof (root._bokeh_onload_callbacks) === \"undefined\" || force === true) {\n    root._bokeh_onload_callbacks = [];\n    root._bokeh_is_loading = undefined;\n  }\n\n  \n\n  \n  if (typeof (root._bokeh_timeout) === \"undefined\" || force === true) {\n    root._bokeh_timeout = Date.now() + 5000;\n    root._bokeh_failed_load = false;\n  }\n\n  var NB_LOAD_WARNING = {'data': {'text/html':\n     \"<div style='background-color: #fdd'>\\n\"+\n     \"<p>\\n\"+\n     \"BokehJS does not appear to have successfully loaded. If loading BokehJS from CDN, this \\n\"+\n     \"may be due to a slow or bad network connection. Possible fixes:\\n\"+\n     \"</p>\\n\"+\n     \"<ul>\\n\"+\n     \"<li>re-rerun `output_notebook()` to attempt to load from CDN again, or</li>\\n\"+\n     \"<li>use INLINE resources instead, as so:</li>\\n\"+\n     \"</ul>\\n\"+\n     \"<code>\\n\"+\n     \"from bokeh.resources import INLINE\\n\"+\n     \"output_notebook(resources=INLINE)\\n\"+\n     \"</code>\\n\"+\n     \"</div>\"}};\n\n  function display_loaded() {\n    var el = document.getElementById(\"ee256d5e-50eb-4bf9-86dd-783d5d8b6233\");\n    if (el != null) {\n      el.textContent = \"BokehJS is loading...\";\n    }\n    if (root.Bokeh !== undefined) {\n      if (el != null) {\n        el.textContent = \"BokehJS \" + root.Bokeh.version + \" successfully loaded.\";\n      }\n    } else if (Date.now() < root._bokeh_timeout) {\n      setTimeout(display_loaded, 100)\n    }\n  }\n\n\n  function run_callbacks() {\n    try {\n      root._bokeh_onload_callbacks.forEach(function(callback) { callback() });\n    }\n    finally {\n      delete root._bokeh_onload_callbacks\n    }\n    console.info(\"Bokeh: all callbacks have finished\");\n  }\n\n  function load_libs(js_urls, callback) {\n    root._bokeh_onload_callbacks.push(callback);\n    if (root._bokeh_is_loading > 0) {\n      console.log(\"Bokeh: BokehJS is being loaded, scheduling callback at\", now());\n      return null;\n    }\n    if (js_urls == null || js_urls.length === 0) {\n      run_callbacks();\n      return null;\n    }\n    console.log(\"Bokeh: BokehJS not loaded, scheduling load and callback at\", now());\n    root._bokeh_is_loading = js_urls.length;\n    for (var i = 0; i < js_urls.length; i++) {\n      var url = js_urls[i];\n      var s = document.createElement('script');\n      s.src = url;\n      s.async = false;\n      s.onreadystatechange = s.onload = function() {\n        root._bokeh_is_loading--;\n        if (root._bokeh_is_loading === 0) {\n          console.log(\"Bokeh: all BokehJS libraries loaded\");\n          run_callbacks()\n        }\n      };\n      s.onerror = function() {\n        console.warn(\"failed to load library \" + url);\n      };\n      console.log(\"Bokeh: injecting script tag for BokehJS library: \", url);\n      document.getElementsByTagName(\"head\")[0].appendChild(s);\n    }\n  };var element = document.getElementById(\"ee256d5e-50eb-4bf9-86dd-783d5d8b6233\");\n  if (element == null) {\n    console.log(\"Bokeh: ERROR: autoload.js configured with elementid 'ee256d5e-50eb-4bf9-86dd-783d5d8b6233' but no matching script tag was found. \")\n    return false;\n  }\n\n  var js_urls = [\"https://cdn.pydata.org/bokeh/release/bokeh-0.12.16.min.js\", \"https://cdn.pydata.org/bokeh/release/bokeh-widgets-0.12.16.min.js\", \"https://cdn.pydata.org/bokeh/release/bokeh-tables-0.12.16.min.js\", \"https://cdn.pydata.org/bokeh/release/bokeh-gl-0.12.16.min.js\"];\n\n  var inline_js = [\n    function(Bokeh) {\n      Bokeh.set_log_level(\"info\");\n    },\n    \n    function(Bokeh) {\n      \n    },\n    function(Bokeh) {\n      console.log(\"Bokeh: injecting CSS: https://cdn.pydata.org/bokeh/release/bokeh-0.12.16.min.css\");\n      Bokeh.embed.inject_css(\"https://cdn.pydata.org/bokeh/release/bokeh-0.12.16.min.css\");\n      console.log(\"Bokeh: injecting CSS: https://cdn.pydata.org/bokeh/release/bokeh-widgets-0.12.16.min.css\");\n      Bokeh.embed.inject_css(\"https://cdn.pydata.org/bokeh/release/bokeh-widgets-0.12.16.min.css\");\n      console.log(\"Bokeh: injecting CSS: https://cdn.pydata.org/bokeh/release/bokeh-tables-0.12.16.min.css\");\n      Bokeh.embed.inject_css(\"https://cdn.pydata.org/bokeh/release/bokeh-tables-0.12.16.min.css\");\n    }\n  ];\n\n  function run_inline_js() {\n    \n    if ((root.Bokeh !== undefined) || (force === true)) {\n      for (var i = 0; i < inline_js.length; i++) {\n        inline_js[i].call(root, root.Bokeh);\n      }if (force === true) {\n        display_loaded();\n      }} else if (Date.now() < root._bokeh_timeout) {\n      setTimeout(run_inline_js, 100);\n    } else if (!root._bokeh_failed_load) {\n      console.log(\"Bokeh: BokehJS failed to load within specified timeout.\");\n      root._bokeh_failed_load = true;\n    } else if (force !== true) {\n      var cell = $(document.getElementById(\"ee256d5e-50eb-4bf9-86dd-783d5d8b6233\")).parents('.cell').data().cell;\n      cell.output_area.append_execute_result(NB_LOAD_WARNING)\n    }\n\n  }\n\n  if (root._bokeh_is_loading === 0) {\n    console.log(\"Bokeh: BokehJS loaded, going straight to plotting\");\n    run_inline_js();\n  } else {\n    load_libs(js_urls, function() {\n      console.log(\"Bokeh: BokehJS plotting callback run at\", now());\n      run_inline_js();\n    });\n  }\n}(window));"
     },
     "metadata": {},
     "output_type": "display_data"
    }
   ],
   "source": [
    "%reload_ext autoreload\n",
    "%autoreload 2\n",
    "%matplotlib inline\n",
    "from IPython import display\n",
    "from pathlib import *\n",
    "import pandas as pd\n",
    "import xarray as xr\n",
    "from bokeh.palettes import all_palettes\n",
    "from bokeh.io import show, output_notebook\n",
    "from climatools.plot.plot import *\n",
    "output_notebook()"
   ]
  },
  {
   "cell_type": "code",
   "execution_count": 2,
   "metadata": {},
   "outputs": [
    {
     "name": "stdout",
     "output_type": "stream",
     "text": [
      "atmosphere_profiles  fort.400  HITRAN\t\t\t   new.dat\r\n",
      "co2.2012\t     fort.401  lblcom.f\t\t\t   o3.2012\r\n",
      "co2_DEC24.2012\t     fort.402  lblcom.f~\t\t   o3abs.data\r\n",
      "fort.10\t\t     fort.403  lblnew-bestfit-sw.f\t   README.md\r\n",
      "fort.19\t\t     fort.9    lblnew-sw.exe\t\t   README.md~\r\n",
      "fort.20\t\t     h2o.2012  LBLSW_overlapping_190213.f\r\n"
     ]
    }
   ],
   "source": [
    "! ls ../crdnew-sw/"
   ]
  },
  {
   "cell_type": "code",
   "execution_count": 3,
   "metadata": {
    "collapsed": true
   },
   "outputs": [],
   "source": [
    "PATH = Path('../crdnew-sw')"
   ]
  },
  {
   "cell_type": "code",
   "execution_count": 8,
   "metadata": {},
   "outputs": [],
   "source": [
    "np.random.seed(30)"
   ]
  },
  {
   "cell_type": "code",
   "execution_count": 16,
   "metadata": {},
   "outputs": [
    {
     "data": {
      "text/html": [
       "\n",
       "<div class=\"bk-root\">\n",
       "    <div class=\"bk-plotdiv\" id=\"647fef31-1064-4eca-940a-e3ec30dd3fb6\"></div>\n",
       "</div>"
      ]
     },
     "metadata": {},
     "output_type": "display_data"
    },
    {
     "data": {
      "application/javascript": [
       "(function(root) {\n",
       "  function embed_document(root) {\n",
       "    \n",
       "  var docs_json = {\"54e18984-694a-43dc-ae99-a05ed68dd481\":{\"roots\":{\"references\":[{\"attributes\":{\"active_drag\":\"auto\",\"active_inspect\":\"auto\",\"active_scroll\":\"auto\",\"active_tap\":\"auto\",\"tools\":[{\"id\":\"4a204b31-85c0-46d2-92f1-f2e9a4dea6ba\",\"type\":\"PanTool\"},{\"id\":\"1d143be7-cfb7-47bb-a080-53c8da0e123c\",\"type\":\"WheelZoomTool\"},{\"id\":\"e3c366bc-6fd8-4603-b5e2-a6ed649c410d\",\"type\":\"BoxZoomTool\"},{\"id\":\"8c394131-efe8-47e8-96ff-a7ed7247e118\",\"type\":\"SaveTool\"},{\"id\":\"1e6e891f-e488-4448-9ad0-429e16c53fc2\",\"type\":\"ResetTool\"},{\"id\":\"d4092014-e115-4953-b52d-50241800a882\",\"type\":\"HelpTool\"}]},\"id\":\"31427e11-f9ab-4086-87b4-72adfe5cbaff\",\"type\":\"Toolbar\"},{\"attributes\":{\"callback\":null,\"data\":{\"x\":{\"__ndarray__\":\"goW8s7Bm4D/JIV6usGbgP8khXq6wZuA/ySFerrBm4D8Rvv+osGbgPxG+/6iwZuA/WFqho7Bm4D+g9kKesGbgP+eS5JiwZuA/vWfJiLBm4D+UPK54sGbgP0Hmd1iwZuA/fMiELbBm4D/WGxjtr2bgP9wYdYyvZuA/ZZSA+65m4D+P/8AkrmbgP5Y8Q92sZuA/Q2ZX76pm4D8tsp3vp2bgP/oMqDejZuA/5piotZtm4D/gHvjWj2bgPx9Ethx9ZuA/iBc8M15m4D/xcNCYKGbgP/8CpKrHZeA/f3Gh2RJl4D/oVZVkumPgPyTjg2QiYeA/1Zb4qxlc4D8+aRPtS1LgP4cxjjYzP+A/aYpj0TIa4D+7rR1anqbfP1gVp3sZnN4/TzuhfObR3D+llWufyLLaP+AG5xkcYdg/OfYmZdb71T8mFfDfepzTP+Xc3E4RVtE/0AoMWd1qzj/degvzN4TKPyowbObz/sY/B9F738/bwz9tNW/FkxfBP7Nzw4QLWL0/g2tREzsiuT+P9Zo/In21P77SAWJ1WLI/VOCmN4pJrz8asNy5zaeqP2PmCggQsqY/15pzEVtRoz8ttBBwSnGgP7Q1hULC/5s/KIoEEbHalz/lZ12C11eUP3U0sztJX5E/7muwsq64jT9huyDHe3qJP/LvEiAz5YU/5S7bsYXegj+kDEVPBFCAP7o32P5CTXw/7SJUwnakeD8SSC6kaIp1P9e4o6Qs6HI/6JCrw5eqcD+KY/JAQ4NtP19cDf3RP2o/v6YgokV0Zz+1IkEjng1lP/GcDBLL+2I/\",\"dtype\":\"float64\",\"shape\":[75]},\"y\":{\"__ndarray__\":\"YTJVMCqpMz8tQxzr4jZKPy9uowG8BVI/+n5qvHSTWD8VjErqBDRhP+CcEaW9wWc/CRueXinLcD/UK2UZ4lh3P/yp8dJNYoA/x7q4jQbwhj92cRsN4C2QP/5l9+RhoZY/WDm0yHa+nz8Sg8DKoUWmPyo6kst/SK8/J6CJsOHptT/J5T+k376+P8UgsHJokcU/ih9j7lpCzj+e76fGSzfVP4enV8oyxN0//yH99nXg5D8qOpLLf0jtP2FUUiegifQ/c9cS8kHP/D+/DpwzojQEQIEmwoanVwxAVOOlm8TgE0Dgvg6cM+IbQAMJih9jjiNAH/RsVn1uK0CTqYJRST0zQHicoiO5/DpAaCJseHrtQkDNzMzMzIxKQM3MzMzMeFJAZmZmZmZqWEAAAAAAAFxeQM3MzMzMJmJAmpmZmZkfZUBmZmZmZhhoQDMzMzMzEWtAAAAAAAAKbkBmZmZmZoFwQM3MzMzM/XFAMzMzMzN6c0CamZmZmfZ0QAAAAAAAc3ZAZmZmZmbvd0DNzMzMzGt5QDMzMzMz6HpAmpmZmZlkfEAAAAAAAOF9QGZmZmZmXX9AZmZmZuZsgECamZmZGSuBQM3MzMxM6YFAAAAAAICngkAzMzMzs2WDQGZmZmbmI4RAmpmZmRnihEDNzMzMTKCFQAAAAACAXoZAMzMzM7Mch0BmZmZm5tqHQJqZmZkZmYhAzczMzExXiUAAAAAAgBWKQDMzMzOz04pAZmZmZuaRi0CamZmZGVCMQM3MzMxMDo1AAAAAAIDMjUAzMzMzs4qOQGZmZmbmSI9A\",\"dtype\":\"float64\",\"shape\":[75]}},\"selected\":{\"id\":\"9c9cc8c7-4d0b-4be2-aa30-cb2795ebad66\",\"type\":\"Selection\"},\"selection_policy\":{\"id\":\"515c7c0a-a988-4e22-9a0d-f37127121b42\",\"type\":\"UnionRenderers\"}},\"id\":\"8e7f7935-10a7-4cd0-9ef2-6b87b0c36868\",\"type\":\"ColumnDataSource\"},{\"attributes\":{},\"id\":\"83113534-ce93-442e-a54b-ad3504e826b1\",\"type\":\"UnionRenderers\"},{\"attributes\":{\"line_alpha\":0.1,\"line_color\":\"#1f77b4\",\"line_dash\":[2,4],\"line_width\":1.4190210182922294,\"x\":{\"field\":\"x\"},\"y\":{\"field\":\"y\"}},\"id\":\"e28e744d-7c0e-406e-8d9e-6df51c62f3e4\",\"type\":\"Line\"},{\"attributes\":{\"line_alpha\":0.1,\"line_color\":\"#1f77b4\",\"line_dash\":[2,4],\"line_width\":4.257478340442533,\"x\":{\"field\":\"x\"},\"y\":{\"field\":\"y\"}},\"id\":\"e93c9ffb-4529-4d51-974f-f32b66b401f3\",\"type\":\"Line\"},{\"attributes\":{},\"id\":\"4a40c19f-056f-4cdc-a44b-ca774f9b945c\",\"type\":\"LinearScale\"},{\"attributes\":{\"callback\":null,\"data\":{\"x\":{\"__ndarray__\":\"ocVKsxYC+j/Fk5uwFgL6P8WTm7AWAvo/6GHsrRYC+j/oYeytFgL6PwwwPasWAvo/MP6NqBYC+j93mi+jFgL6P7820Z0WAvo/Tm8UkxYC+j9IEkqAFgL6P4lRIWgWAvo/fpeMQhYC+j9sgC0KFgL6P+NER7QVAvo/luttMxUC+j9+F9d0FAL6P21AnVUTAvo/enp8rREC+j/4uz0pDwL6P+ikc1ULAvo/D5M2dgUC+j+cTpHH/AH6P94QFXDwAfo/mheSWd4B+j83EFhawgH6P8b0SnqUAfo/VGKud0UB+j8HrQtotwD6PylA872v//k/KOHXgr39+T9QogzyBvr5PwY9o8bn8vk/ZtTfvzfl+T9ll15RAMv5P+9hSLFQmfk/3Zzn28RB+T8XwVoQJdX4P6W8NTSOVvg/vV0n3MjI9z/a4GUCVS73P0spnml4ifY/NZumU0fc9T9n0PFNqij1P1c7L7phcPQ/kAsYbgq18z8kEn0lLfjyP4/WpB0vO/I/ZwCYADZ/8T/RG5NqRMXwP42wj+syDvA/nG1NPma17j90ayW2s1btP8CMELtCAew/9yKYcte16j94l+4iCnXpP7BWUMVLP+g/iFcGk+oU5z/7EEwcFvblP1zTk2Tj4uQ/g3PCW1Lb4z8sFdAbWd/iP4Wsl3TO7uE/9tLS5HsJ4T8Nk4ADIC/gP+zT2Pvgvt4/fsqtIDg03T9NeFPbl73bP+ZFgZlKWto/ZlQRVZUJ2T/EWTJDusrXPxR9mYP7nNY/8aCXWZ1/1T/LvPKs5nHUPwFRD1Uhc9M/\",\"dtype\":\"float64\",\"shape\":[75]},\"y\":{\"__ndarray__\":\"YTJVMCqpMz8tQxzr4jZKPy9uowG8BVI/+n5qvHSTWD8VjErqBDRhP+CcEaW9wWc/CRueXinLcD/UK2UZ4lh3P/yp8dJNYoA/x7q4jQbwhj92cRsN4C2QP/5l9+RhoZY/WDm0yHa+nz8Sg8DKoUWmPyo6kst/SK8/J6CJsOHptT/J5T+k376+P8UgsHJokcU/ih9j7lpCzj+e76fGSzfVP4enV8oyxN0//yH99nXg5D8qOpLLf0jtP2FUUiegifQ/c9cS8kHP/D+/DpwzojQEQIEmwoanVwxAVOOlm8TgE0Dgvg6cM+IbQAMJih9jjiNAH/RsVn1uK0CTqYJRST0zQHicoiO5/DpAaCJseHrtQkDNzMzMzIxKQM3MzMzMeFJAZmZmZmZqWEAAAAAAAFxeQM3MzMzMJmJAmpmZmZkfZUBmZmZmZhhoQDMzMzMzEWtAAAAAAAAKbkBmZmZmZoFwQM3MzMzM/XFAMzMzMzN6c0CamZmZmfZ0QAAAAAAAc3ZAZmZmZmbvd0DNzMzMzGt5QDMzMzMz6HpAmpmZmZlkfEAAAAAAAOF9QGZmZmZmXX9AZmZmZuZsgECamZmZGSuBQM3MzMxM6YFAAAAAAICngkAzMzMzs2WDQGZmZmbmI4RAmpmZmRnihEDNzMzMTKCFQAAAAACAXoZAMzMzM7Mch0BmZmZm5tqHQJqZmZkZmYhAzczMzExXiUAAAAAAgBWKQDMzMzOz04pAZmZmZuaRi0CamZmZGVCMQM3MzMxMDo1AAAAAAIDMjUAzMzMzs4qOQGZmZmbmSI9A\",\"dtype\":\"float64\",\"shape\":[75]}},\"selected\":{\"id\":\"1800d09e-543b-46ea-9bd8-64a7d018c6b8\",\"type\":\"Selection\"},\"selection_policy\":{\"id\":\"0a16cfa8-8480-4b27-a3df-967768a7a12c\",\"type\":\"UnionRenderers\"}},\"id\":\"a82aa5fa-317f-4da3-b8c5-0785a169d614\",\"type\":\"ColumnDataSource\"},{\"attributes\":{\"data_source\":{\"id\":\"8e7f7935-10a7-4cd0-9ef2-6b87b0c36868\",\"type\":\"ColumnDataSource\"},\"glyph\":{\"id\":\"b0d1d6ee-4074-4907-a4cb-efbc5b97a3c6\",\"type\":\"Line\"},\"hover_glyph\":null,\"muted_glyph\":null,\"nonselection_glyph\":{\"id\":\"e93c9ffb-4529-4d51-974f-f32b66b401f3\",\"type\":\"Line\"},\"selection_glyph\":null,\"view\":{\"id\":\"5f128a69-e11a-4c53-966e-0afb1e004556\",\"type\":\"CDSView\"}},\"id\":\"24ad15ab-37a3-4d60-a666-b383c21d70fd\",\"type\":\"GlyphRenderer\"},{\"attributes\":{\"items\":[{\"id\":\"c15a682f-f142-4273-9fa9-15b1c300d227\",\"type\":\"LegendItem\"},{\"id\":\"2c9a17ab-02cb-4a22-bc8b-4e7bba3209fc\",\"type\":\"LegendItem\"},{\"id\":\"ca718558-7aa7-4e2f-ae7a-4528e2b2e476\",\"type\":\"LegendItem\"},{\"id\":\"63df5402-eeaa-4864-9c78-8d170b3736b6\",\"type\":\"LegendItem\"},{\"id\":\"52685c3f-56e3-46e8-b72e-16761d8198a5\",\"type\":\"LegendItem\"},{\"id\":\"d7093b78-d84d-41eb-af58-01f05403a4b3\",\"type\":\"LegendItem\"},{\"id\":\"465f5c3a-af51-41f1-b38c-285d03182196\",\"type\":\"LegendItem\"},{\"id\":\"4e6cffb2-402e-4b7b-bf7a-9ff8c9960ee3\",\"type\":\"LegendItem\"}],\"label_text_font_size\":{\"value\":\"8pt\"},\"location\":\"top_center\",\"orientation\":\"horizontal\",\"plot\":{\"id\":\"52376c43-a48b-4a15-84cc-33dae228e873\",\"subtype\":\"Figure\",\"type\":\"Plot\"}},\"id\":\"13d49413-6d85-4b4f-8678-6228fd4bb776\",\"type\":\"Legend\"},{\"attributes\":{\"callback\":null,\"end\":222.2015326043,\"start\":-2.2000151743000003},\"id\":\"39cd68ba-b802-4c9b-bfe7-2353239b9085\",\"type\":\"Range1d\"},{\"attributes\":{\"plot\":{\"id\":\"52376c43-a48b-4a15-84cc-33dae228e873\",\"subtype\":\"Figure\",\"type\":\"Plot\"},\"ticker\":{\"id\":\"07c0ac99-1ba4-441a-8aea-8190e7bd6b58\",\"type\":\"BasicTicker\"}},\"id\":\"e1441751-ef71-4cb6-b989-828250f856ad\",\"type\":\"Grid\"},{\"attributes\":{\"callback\":null,\"data\":{\"x\":{\"__ndarray__\":\"2tW7qnlv4D+q7WgUeW/gPwRB/NN4b+A/wqG3eHhv4D91SN73d2/gP/MJVUF3b+A/oPNDOnZv4D9xSxa9dG/gP6Lz2J5yb+A/GnhilG9v4D8ocrE3a2/gP535cvJkb+A/Wt1F81tv4D/YIWn9Tm/gPyMBvGg8b+A/Nj5R4SFv4D9z6YgR/G7gP1MHNyHGbuA/qm8NKnlu4D9Ut4owC27gPxv89fFtbeA/fMVku4xs4D+ngThyUWvgP9Bbn+aiaeA/PrydM1hn4D8MJpv+LmTgPwkMBpXAX+A/GGfC5WdZ4D+myVIMDFDgPwxFFVnGQeA/5WB4HVgr4D+hFXNrLQfgPyNizlx1l98/MwvdutXS3j8NVYxO8ZPdP8DaxfK2q9s/I6uV6LAr2T/Os+Wepv3WP171oYexN9U/1QgeW6bR0z+cD7Z1w7jSP+nOG0Ai2tE/dmOs/FMm0T+7i6SbzJHQPzqriS49FNA/w6cQ+l9Pzz+yziE+6o7OPyEo0Ioc4M0/E8KbHNs+zT9dUL4kvqjMP+pQdsgHHMw/Z8R59mSXyz+hh3cM0RnLP19rQpx/oso/l59lJ80wyj8IZpZONcTJP7zW90RLXMk//WKdx7T4yD+3KLNBJpnIP5RjmRtfPcg/M9LeIijlxz+CCdRJU5DHP1EtQ5iyPsc/QHkOGxvwxj/2Ij25ZKTGPzVUtXJpW8Y/AxOP9gUVxj+O0I24GdHFP+kJbEqJj8U/Jjy6dEBQxT9o2L1PNBPFPx2pABBe2MQ/V6j7IbKfxD+wjiWkHGnEP8iRMeuDNMQ/\",\"dtype\":\"float64\",\"shape\":[75]},\"y\":{\"__ndarray__\":\"YTJVMCqpMz8tQxzr4jZKPy9uowG8BVI/+n5qvHSTWD8VjErqBDRhP+CcEaW9wWc/CRueXinLcD/UK2UZ4lh3P/yp8dJNYoA/x7q4jQbwhj92cRsN4C2QP/5l9+RhoZY/WDm0yHa+nz8Sg8DKoUWmPyo6kst/SK8/J6CJsOHptT/J5T+k376+P8UgsHJokcU/ih9j7lpCzj+e76fGSzfVP4enV8oyxN0//yH99nXg5D8qOpLLf0jtP2FUUiegifQ/c9cS8kHP/D+/DpwzojQEQIEmwoanVwxAVOOlm8TgE0Dgvg6cM+IbQAMJih9jjiNAH/RsVn1uK0CTqYJRST0zQHicoiO5/DpAaCJseHrtQkDNzMzMzIxKQM3MzMzMeFJAZmZmZmZqWEAAAAAAAFxeQM3MzMzMJmJAmpmZmZkfZUBmZmZmZhhoQDMzMzMzEWtAAAAAAAAKbkBmZmZmZoFwQM3MzMzM/XFAMzMzMzN6c0CamZmZmfZ0QAAAAAAAc3ZAZmZmZmbvd0DNzMzMzGt5QDMzMzMz6HpAmpmZmZlkfEAAAAAAAOF9QGZmZmZmXX9AZmZmZuZsgECamZmZGSuBQM3MzMxM6YFAAAAAAICngkAzMzMzs2WDQGZmZmbmI4RAmpmZmRnihEDNzMzMTKCFQAAAAACAXoZAMzMzM7Mch0BmZmZm5tqHQJqZmZkZmYhAzczMzExXiUAAAAAAgBWKQDMzMzOz04pAZmZmZuaRi0CamZmZGVCMQM3MzMxMDo1AAAAAAIDMjUAzMzMzs4qOQGZmZmbmSI9A\",\"dtype\":\"float64\",\"shape\":[75]}},\"selected\":{\"id\":\"c9c29aaa-865f-44c5-b884-23d498cfce34\",\"type\":\"Selection\"},\"selection_policy\":{\"id\":\"83113534-ce93-442e-a54b-ad3504e826b1\",\"type\":\"UnionRenderers\"}},\"id\":\"74e25a6f-432b-4ffc-a681-2b1600abfb39\",\"type\":\"ColumnDataSource\"},{\"attributes\":{},\"id\":\"c9c29aaa-865f-44c5-b884-23d498cfce34\",\"type\":\"Selection\"},{\"attributes\":{\"line_alpha\":0.6696835281756712,\"line_color\":\"#ff9896\",\"line_dash\":[2,4],\"line_width\":4.257478340442533,\"x\":{\"field\":\"x\"},\"y\":{\"field\":\"y\"}},\"id\":\"b0d1d6ee-4074-4907-a4cb-efbc5b97a3c6\",\"type\":\"Line\"},{\"attributes\":{},\"id\":\"44a69f56-70c7-4f2a-86f7-f2dde1c2db5f\",\"type\":\"LinearScale\"},{\"attributes\":{\"line_alpha\":0.6651419132376224,\"line_color\":\"#d62728\",\"line_dash\":[2,4],\"line_width\":1.4190210182922294,\"x\":{\"field\":\"x\"},\"y\":{\"field\":\"y\"}},\"id\":\"4fa8a47b-ce4a-4321-96c2-7b53803d1fe8\",\"type\":\"Line\"},{\"attributes\":{\"source\":{\"id\":\"74e25a6f-432b-4ffc-a681-2b1600abfb39\",\"type\":\"ColumnDataSource\"}},\"id\":\"2aa8ceb8-142f-4e42-b1df-28016ce39850\",\"type\":\"CDSView\"},{\"attributes\":{\"data_source\":{\"id\":\"74e25a6f-432b-4ffc-a681-2b1600abfb39\",\"type\":\"ColumnDataSource\"},\"glyph\":{\"id\":\"4fa8a47b-ce4a-4321-96c2-7b53803d1fe8\",\"type\":\"Line\"},\"hover_glyph\":null,\"muted_glyph\":null,\"nonselection_glyph\":{\"id\":\"e28e744d-7c0e-406e-8d9e-6df51c62f3e4\",\"type\":\"Line\"},\"selection_glyph\":null,\"view\":{\"id\":\"2aa8ceb8-142f-4e42-b1df-28016ce39850\",\"type\":\"CDSView\"}},\"id\":\"749a09ac-7f28-4900-981a-507f3f72affd\",\"type\":\"GlyphRenderer\"},{\"attributes\":{\"axis_label\":\"flux\",\"formatter\":{\"id\":\"8c5ecd16-5b52-4ab9-a53d-9a8401e1407d\",\"type\":\"BasicTickFormatter\"},\"plot\":{\"id\":\"52376c43-a48b-4a15-84cc-33dae228e873\",\"subtype\":\"Figure\",\"type\":\"Plot\"},\"ticker\":{\"id\":\"07c0ac99-1ba4-441a-8aea-8190e7bd6b58\",\"type\":\"BasicTicker\"}},\"id\":\"66254d34-dc90-4b96-86cc-6ac016ad30fa\",\"type\":\"LinearAxis\"},{\"attributes\":{\"axis_label\":\"pressure [mb]\",\"formatter\":{\"id\":\"0ed44520-7237-44bd-afe3-a24fec394602\",\"type\":\"BasicTickFormatter\"},\"plot\":{\"id\":\"52376c43-a48b-4a15-84cc-33dae228e873\",\"subtype\":\"Figure\",\"type\":\"Plot\"},\"ticker\":{\"id\":\"8471a8cf-1e36-4f85-b1ad-04380f66dc33\",\"type\":\"BasicTicker\"}},\"id\":\"c302c3c5-d460-4bb9-a0f9-e7f2d89823a1\",\"type\":\"LinearAxis\"},{\"attributes\":{\"callback\":null,\"data\":{\"x\":{\"__ndarray__\":\"ED//PXjttT9smIDjW+21P36S+U9Q7bU/jA/1sz/ttT+ejBrhJ+21P1y2a3wF7bU/maQqVNTstT9qzk3djey1P57Omd0o7LU/1lcV6ZfrtT/tgVZgyOq1P512hBWf6bU/d3cycvXntT/eYOJulOW1P33xoDQv4rU/0QUWPFzdtT9LjExdhda1P59hYtrUzLU/FbC6YR2/tT8gK7ZRtqu1P6J675hPkLU/ILKrPapptT8e9xABRTS1P4Ha+5Yx7LQ/HFk7ggKMtD+clDjhFAy0P7+7Mvt+YrM/GdX5ImeCsj/pNpfRflqxP0X23mtKqq8/tTIjtMy/qz8VmnfevvWmP6pgVFInoKE/vCPffFX0mD/jWLSMFpiQP2MTFYEcWoU/F4Ub+Gqqez8Tx+zyzh10PzvuKXPSf28/pKAEy0vdaT//H0haAfBlP+ouPyYIDWM/xPaszt7XYD8i9zrKPTReP161lQtTY1s/aWlV6A8PWT9BYtyJaRFXP2p+wvq7TlU/Z1m95Pu5Uz+2W5p0vkxSPydka6YQAlE/TKgB/2urTz93H9McUYhNP4pUOWnxlEs/k50K+gPMST8VzV4RVylIPydc+l35qEY/lben1LpHRT/q1GxQwQJEPxhubZ9d10I/LYomaWHDQT+f9DJIycRAP4B6lpR5sz8/K6xt7fEAPj+oJpicoG48P0doV2MB+jo/lWaxHDqgOT9DZAV98V44PyXxCxJPNDc/cGGbXKUeNj98VuO2xxw1P6JxE3uJLTQ/OlRbA75PMz+cn+qpOIIyP15steJ2wzE/\",\"dtype\":\"float64\",\"shape\":[75]},\"y\":{\"__ndarray__\":\"YTJVMCqpMz8tQxzr4jZKPy9uowG8BVI/+n5qvHSTWD8VjErqBDRhP+CcEaW9wWc/CRueXinLcD/UK2UZ4lh3P/yp8dJNYoA/x7q4jQbwhj92cRsN4C2QP/5l9+RhoZY/WDm0yHa+nz8Sg8DKoUWmPyo6kst/SK8/J6CJsOHptT/J5T+k376+P8UgsHJokcU/ih9j7lpCzj+e76fGSzfVP4enV8oyxN0//yH99nXg5D8qOpLLf0jtP2FUUiegifQ/c9cS8kHP/D+/DpwzojQEQIEmwoanVwxAVOOlm8TgE0Dgvg6cM+IbQAMJih9jjiNAH/RsVn1uK0CTqYJRST0zQHicoiO5/DpAaCJseHrtQkDNzMzMzIxKQM3MzMzMeFJAZmZmZmZqWEAAAAAAAFxeQM3MzMzMJmJAmpmZmZkfZUBmZmZmZhhoQDMzMzMzEWtAAAAAAAAKbkBmZmZmZoFwQM3MzMzM/XFAMzMzMzN6c0CamZmZmfZ0QAAAAAAAc3ZAZmZmZmbvd0DNzMzMzGt5QDMzMzMz6HpAmpmZmZlkfEAAAAAAAOF9QGZmZmZmXX9AZmZmZuZsgECamZmZGSuBQM3MzMxM6YFAAAAAAICngkAzMzMzs2WDQGZmZmbmI4RAmpmZmRnihEDNzMzMTKCFQAAAAACAXoZAMzMzM7Mch0BmZmZm5tqHQJqZmZkZmYhAzczMzExXiUAAAAAAgBWKQDMzMzOz04pAZmZmZuaRi0CamZmZGVCMQM3MzMxMDo1AAAAAAIDMjUAzMzMzs4qOQGZmZmbmSI9A\",\"dtype\":\"float64\",\"shape\":[75]}},\"selected\":{\"id\":\"c9a4958e-2a97-49f2-a1a1-3aa670432356\",\"type\":\"Selection\"},\"selection_policy\":{\"id\":\"1eb68a1c-935b-4414-8892-e897bec01883\",\"type\":\"UnionRenderers\"}},\"id\":\"bb785ca8-ef2c-43b3-9fc1-eec3f2f80b5e\",\"type\":\"ColumnDataSource\"},{\"attributes\":{\"source\":{\"id\":\"8e7f7935-10a7-4cd0-9ef2-6b87b0c36868\",\"type\":\"ColumnDataSource\"}},\"id\":\"5f128a69-e11a-4c53-966e-0afb1e004556\",\"type\":\"CDSView\"},{\"attributes\":{\"line_alpha\":0.7128108758239509,\"line_color\":\"#9467bd\",\"line_width\":3.076457346836103,\"x\":{\"field\":\"x\"},\"y\":{\"field\":\"y\"}},\"id\":\"e2223603-be45-4f97-a4ff-fa6c7eb564e0\",\"type\":\"Line\"},{\"attributes\":{},\"id\":\"8471a8cf-1e36-4f85-b1ad-04380f66dc33\",\"type\":\"BasicTicker\"},{\"attributes\":{\"callback\":null,\"data\":{\"x\":{\"__ndarray__\":\"W8064/uKEkD2Zzfh+4oSQH+bi+D7ihJACM/f3/uKEkCjadzd+4oSQD4E2dv7ihJA6gV+2PuKEkAyoh/T+4oSQBTZvcv7ihJAoxEBwfuKEkACGjqw+4oSQLslvZj7ihJAFNErdfuKEkBWuCdA+4oSQNne+vL6ihJAPuSQgfqKEkDCAtLd+YoSQKR5le/4ihJApVlNlfeKEkDiu6Sc9YoSQDDFybvyihJAnncIiO6KEkAYZCas6IoSQARAcPDgihJAkoOnytaKEkDbgq0ryYoSQPaBP1e2ihJA4DNMTJuKEkBCZbJucooSQF5YqzQxihJAvyPPmsSJEkCQU8/dCYkSQDmExwrAhxJAt170kWuFEkDn4JnQJIESQDG0OjlDeRJAK0Gx24hrEkCytxgsaloSQM7ipLQnRhJAt3g+JPguEkAHeFb7CRUSQA6Oq/SH+BFAwyQiHZrZEUBDRIN3ZrgRQNn8x1sRlRFAUlBh17xvEUAQ3okfhEgRQFok1Kl+HxFApjG1AMj0EEAvb+3IgcgQQBX9JdLLmhBAN9R7bMNrEECqEuE2hTsQQB5hICEtChBA+3d95qyvD0CuGKadN0kPQBJJeGsu4Q5AtLU6EMR3DkB/SwD+KQ0OQHU+PEuQoQ1AaYciUSY1DUBKI+ouHsgMQOPgNVyiWgxAnFEUZNvsC0BzbDXS734LQF3u/j4EEQtA6FZCVjujCkBQ/5sPtjUKQIuEvg2UyAlAADv1UPRbCUDQKjOl9e8IQALYHd61hAhA6SJsFVAaCECnEzvg27AHQM4sU91tSAdA\",\"dtype\":\"float64\",\"shape\":[75]},\"y\":{\"__ndarray__\":\"YTJVMCqpMz8tQxzr4jZKPy9uowG8BVI/+n5qvHSTWD8VjErqBDRhP+CcEaW9wWc/CRueXinLcD/UK2UZ4lh3P/yp8dJNYoA/x7q4jQbwhj92cRsN4C2QP/5l9+RhoZY/WDm0yHa+nz8Sg8DKoUWmPyo6kst/SK8/J6CJsOHptT/J5T+k376+P8UgsHJokcU/ih9j7lpCzj+e76fGSzfVP4enV8oyxN0//yH99nXg5D8qOpLLf0jtP2FUUiegifQ/c9cS8kHP/D+/DpwzojQEQIEmwoanVwxAVOOlm8TgE0Dgvg6cM+IbQAMJih9jjiNAH/RsVn1uK0CTqYJRST0zQHicoiO5/DpAaCJseHrtQkDNzMzMzIxKQM3MzMzMeFJAZmZmZmZqWEAAAAAAAFxeQM3MzMzMJmJAmpmZmZkfZUBmZmZmZhhoQDMzMzMzEWtAAAAAAAAKbkBmZmZmZoFwQM3MzMzM/XFAMzMzMzN6c0CamZmZmfZ0QAAAAAAAc3ZAZmZmZmbvd0DNzMzMzGt5QDMzMzMz6HpAmpmZmZlkfEAAAAAAAOF9QGZmZmZmXX9AZmZmZuZsgECamZmZGSuBQM3MzMxM6YFAAAAAAICngkAzMzMzs2WDQGZmZmbmI4RAmpmZmRnihEDNzMzMTKCFQAAAAACAXoZAMzMzM7Mch0BmZmZm5tqHQJqZmZkZmYhAzczMzExXiUAAAAAAgBWKQDMzMzOz04pAZmZmZuaRi0CamZmZGVCMQM3MzMxMDo1AAAAAAIDMjUAzMzMzs4qOQGZmZmbmSI9A\",\"dtype\":\"float64\",\"shape\":[75]}},\"selected\":{\"id\":\"48f54334-eeca-48bb-89d1-650d20e863a3\",\"type\":\"Selection\"},\"selection_policy\":{\"id\":\"36158892-ccff-4c3d-bcd4-61af49048ffb\",\"type\":\"UnionRenderers\"}},\"id\":\"b7a8714b-5135-4184-9e60-55445aaba9d6\",\"type\":\"ColumnDataSource\"},{\"attributes\":{},\"id\":\"07c0ac99-1ba4-441a-8aea-8190e7bd6b58\",\"type\":\"BasicTicker\"},{\"attributes\":{\"line_alpha\":0.1,\"line_color\":\"#1f77b4\",\"line_width\":3.076457346836103,\"x\":{\"field\":\"x\"},\"y\":{\"field\":\"y\"}},\"id\":\"420348ec-b459-428e-ad76-af759c4ccc70\",\"type\":\"Line\"},{\"attributes\":{\"data_source\":{\"id\":\"a82aa5fa-317f-4da3-b8c5-0785a169d614\",\"type\":\"ColumnDataSource\"},\"glyph\":{\"id\":\"e2223603-be45-4f97-a4ff-fa6c7eb564e0\",\"type\":\"Line\"},\"hover_glyph\":null,\"muted_glyph\":null,\"nonselection_glyph\":{\"id\":\"420348ec-b459-428e-ad76-af759c4ccc70\",\"type\":\"Line\"},\"selection_glyph\":null,\"view\":{\"id\":\"07a3acef-8eef-4b82-b3d6-c72c6e8be991\",\"type\":\"CDSView\"}},\"id\":\"0c2a6a1b-4208-49b6-82d9-55976e40d4e4\",\"type\":\"GlyphRenderer\"},{\"attributes\":{\"dimension\":1,\"plot\":{\"id\":\"52376c43-a48b-4a15-84cc-33dae228e873\",\"subtype\":\"Figure\",\"type\":\"Plot\"},\"ticker\":{\"id\":\"8471a8cf-1e36-4f85-b1ad-04380f66dc33\",\"type\":\"BasicTicker\"}},\"id\":\"7f16d43f-b1a0-47c0-99e2-121820e22a80\",\"type\":\"Grid\"},{\"attributes\":{\"source\":{\"id\":\"a82aa5fa-317f-4da3-b8c5-0785a169d614\",\"type\":\"ColumnDataSource\"}},\"id\":\"07a3acef-8eef-4b82-b3d6-c72c6e8be991\",\"type\":\"CDSView\"},{\"attributes\":{\"data_source\":{\"id\":\"c6c3dbf7-d7cc-4191-94fb-526277fe25f1\",\"type\":\"ColumnDataSource\"},\"glyph\":{\"id\":\"9b11b515-bbfc-410b-b77b-f058515472ab\",\"type\":\"Line\"},\"hover_glyph\":null,\"muted_glyph\":null,\"nonselection_glyph\":{\"id\":\"c9b4061e-1817-4ce7-8465-903a00ea38c4\",\"type\":\"Line\"},\"selection_glyph\":null,\"view\":{\"id\":\"fd32091b-ca6d-46e5-a3fb-2d4c2bbca309\",\"type\":\"CDSView\"}},\"id\":\"529c334f-3ceb-4163-aa4b-26a80637ac85\",\"type\":\"GlyphRenderer\"},{\"attributes\":{\"line_alpha\":0.6825949921950119,\"line_color\":\"#c5b0d5\",\"line_dash\":[6,4,2,4],\"line_width\":1.1913235966057227,\"x\":{\"field\":\"x\"},\"y\":{\"field\":\"y\"}},\"id\":\"e1b152cd-104a-46a8-8027-db4b37a154d2\",\"type\":\"Line\"},{\"attributes\":{},\"id\":\"3412cf8c-11b8-4bcf-a09d-d7e120e510dc\",\"type\":\"Selection\"},{\"attributes\":{\"callback\":null,\"data\":{\"x\":{\"__ndarray__\":\"3+AsoXKAa0DOFeegcoBrQNw9zKBygGtAvkqhoHKAa0B1PGagcoBrQJ20FaBygGtAqDman3KAa0DNDumecoBrQOIY8p1ygGtAyGSKnHKAa0D/oIGacoBrQNpgl5dygGtA8qJlk3KAa0BfFFaNcoBrQLcQooRygGtAuGsyeHKAa0DIH29mcoBrQNZaFE1ygGtA41TnKHKAa0B3M0D1cYBrQHhzfqtxgGtAOsssQnGAa0CCGiGwcIBrQIpqfOxvgGtAilLG6G6Aa0DRnViObYBrQLoFnr1rgGtAb5pfSWmAa0A7FbLrZYBrQJyTMDZhgGtAfnRFhFqAa0A00WvcUIBrQGoVHrBCgGtATc9HWy2Aa0ArB0huDIBrQK9hI5zYf2tAkSy7u4l/a0DhcqNlMH9rQEjgzSLNfmtAhzToU2B+a0CsR44y6n1rQOEOUPFqfWtA02VSv+J8a0A7SaHJUXxrQIpDcDu4e2tAlS3tLxZ7a0Anb/xga3prQOTxelG3eWtAyxW91/l4a0AB3iMXM3hrQO15JzRjd2tAVGJLTYp2a0B9xeCCqHVrQKKwUfe9dGtAgiyXz8pza0CfI48zz3JrQLMuqE7LcWtA7Ho3UL9wa0ClXp5rq29rQL7sCdiPbmtAgo3K0Wxta0A9sj2jQmxrQApi4ocRa2tAt087utlpa0CEUBhzm2hrQK4yS+lWZ2tAQcBzUgxma0DOWiPlu2RrQP7mi95lY2tAKmmLjApia0Bt7OlVqmBrQNmiWLBFX2tA5XceBd1da0DwUT2hcFxrQFoxdboAW2tA\",\"dtype\":\"float64\",\"shape\":[75]},\"y\":{\"__ndarray__\":\"YTJVMCqpMz8tQxzr4jZKPy9uowG8BVI/+n5qvHSTWD8VjErqBDRhP+CcEaW9wWc/CRueXinLcD/UK2UZ4lh3P/yp8dJNYoA/x7q4jQbwhj92cRsN4C2QP/5l9+RhoZY/WDm0yHa+nz8Sg8DKoUWmPyo6kst/SK8/J6CJsOHptT/J5T+k376+P8UgsHJokcU/ih9j7lpCzj+e76fGSzfVP4enV8oyxN0//yH99nXg5D8qOpLLf0jtP2FUUiegifQ/c9cS8kHP/D+/DpwzojQEQIEmwoanVwxAVOOlm8TgE0Dgvg6cM+IbQAMJih9jjiNAH/RsVn1uK0CTqYJRST0zQHicoiO5/DpAaCJseHrtQkDNzMzMzIxKQM3MzMzMeFJAZmZmZmZqWEAAAAAAAFxeQM3MzMzMJmJAmpmZmZkfZUBmZmZmZhhoQDMzMzMzEWtAAAAAAAAKbkBmZmZmZoFwQM3MzMzM/XFAMzMzMzN6c0CamZmZmfZ0QAAAAAAAc3ZAZmZmZmbvd0DNzMzMzGt5QDMzMzMz6HpAmpmZmZlkfEAAAAAAAOF9QGZmZmZmXX9AZmZmZuZsgECamZmZGSuBQM3MzMxM6YFAAAAAAICngkAzMzMzs2WDQGZmZmbmI4RAmpmZmRnihEDNzMzMTKCFQAAAAACAXoZAMzMzM7Mch0BmZmZm5tqHQJqZmZkZmYhAzczMzExXiUAAAAAAgBWKQDMzMzOz04pAZmZmZuaRi0CamZmZGVCMQM3MzMxMDo1AAAAAAIDMjUAzMzMzs4qOQGZmZmbmSI9A\",\"dtype\":\"float64\",\"shape\":[75]}},\"selected\":{\"id\":\"c4e341ad-fa15-4f57-9305-6feb43f7c0d0\",\"type\":\"Selection\"},\"selection_policy\":{\"id\":\"9c6cd85b-5976-4394-a4ab-094aef0d0b44\",\"type\":\"UnionRenderers\"}},\"id\":\"5beff913-1a1e-424e-a4d4-2f115a9cc23d\",\"type\":\"ColumnDataSource\"},{\"attributes\":{\"line_alpha\":0.1,\"line_color\":\"#1f77b4\",\"line_dash\":[6,4,2,4],\"line_width\":1.1913235966057227,\"x\":{\"field\":\"x\"},\"y\":{\"field\":\"y\"}},\"id\":\"6e0e766a-be4f-4bae-805b-ccb4f3d13a34\",\"type\":\"Line\"},{\"attributes\":{\"data_source\":{\"id\":\"b7a8714b-5135-4184-9e60-55445aaba9d6\",\"type\":\"ColumnDataSource\"},\"glyph\":{\"id\":\"e1b152cd-104a-46a8-8027-db4b37a154d2\",\"type\":\"Line\"},\"hover_glyph\":null,\"muted_glyph\":null,\"nonselection_glyph\":{\"id\":\"6e0e766a-be4f-4bae-805b-ccb4f3d13a34\",\"type\":\"Line\"},\"selection_glyph\":null,\"view\":{\"id\":\"982920f7-12be-42a1-8616-322d95a594b2\",\"type\":\"CDSView\"}},\"id\":\"1ec58577-195e-40f2-898e-e09534019485\",\"type\":\"GlyphRenderer\"},{\"attributes\":{\"source\":{\"id\":\"c6c3dbf7-d7cc-4191-94fb-526277fe25f1\",\"type\":\"ColumnDataSource\"}},\"id\":\"fd32091b-ca6d-46e5-a3fb-2d4c2bbca309\",\"type\":\"CDSView\"},{\"attributes\":{\"source\":{\"id\":\"b7a8714b-5135-4184-9e60-55445aaba9d6\",\"type\":\"ColumnDataSource\"}},\"id\":\"982920f7-12be-42a1-8616-322d95a594b2\",\"type\":\"CDSView\"},{\"attributes\":{\"bottom_units\":\"screen\",\"fill_alpha\":{\"value\":0.5},\"fill_color\":{\"value\":\"lightgrey\"},\"left_units\":\"screen\",\"level\":\"overlay\",\"line_alpha\":{\"value\":1.0},\"line_color\":{\"value\":\"black\"},\"line_dash\":[4,4],\"line_width\":{\"value\":2},\"plot\":null,\"render_mode\":\"css\",\"right_units\":\"screen\",\"top_units\":\"screen\"},\"id\":\"d4014965-3117-493e-aeb3-0e0628acdd05\",\"type\":\"BoxAnnotation\"},{\"attributes\":{\"line_alpha\":0.8466775297485354,\"line_color\":\"#8c564b\",\"line_dash\":[2,4,6,4],\"line_width\":2.2537470136034354,\"x\":{\"field\":\"x\"},\"y\":{\"field\":\"y\"}},\"id\":\"1c8b84c4-6421-4400-a437-21e1d0d59630\",\"type\":\"Line\"},{\"attributes\":{\"line_alpha\":0.1,\"line_color\":\"#1f77b4\",\"line_dash\":[2,4,6,4],\"line_width\":2.2537470136034354,\"x\":{\"field\":\"x\"},\"y\":{\"field\":\"y\"}},\"id\":\"57eef8e3-6f34-4f0e-a1cb-201b9396339f\",\"type\":\"Line\"},{\"attributes\":{},\"id\":\"521dee16-1bfc-46fa-a9fd-5107fb920998\",\"type\":\"UnionRenderers\"},{\"attributes\":{\"data_source\":{\"id\":\"5beff913-1a1e-424e-a4d4-2f115a9cc23d\",\"type\":\"ColumnDataSource\"},\"glyph\":{\"id\":\"1c8b84c4-6421-4400-a437-21e1d0d59630\",\"type\":\"Line\"},\"hover_glyph\":null,\"muted_glyph\":null,\"nonselection_glyph\":{\"id\":\"57eef8e3-6f34-4f0e-a1cb-201b9396339f\",\"type\":\"Line\"},\"selection_glyph\":null,\"view\":{\"id\":\"c3365070-3c48-4742-b624-e58b85c26f25\",\"type\":\"CDSView\"}},\"id\":\"b94b78b7-3aa7-4695-8b59-3cce6fe02b09\",\"type\":\"GlyphRenderer\"},{\"attributes\":{},\"id\":\"1d143be7-cfb7-47bb-a080-53c8da0e123c\",\"type\":\"WheelZoomTool\"},{\"attributes\":{\"line_alpha\":0.6060404156957073,\"line_color\":\"#ffbb78\",\"line_dash\":[6,4,2,4],\"line_width\":2.0691726733058378,\"x\":{\"field\":\"x\"},\"y\":{\"field\":\"y\"}},\"id\":\"9b11b515-bbfc-410b-b77b-f058515472ab\",\"type\":\"Line\"},{\"attributes\":{\"source\":{\"id\":\"5beff913-1a1e-424e-a4d4-2f115a9cc23d\",\"type\":\"ColumnDataSource\"}},\"id\":\"c3365070-3c48-4742-b624-e58b85c26f25\",\"type\":\"CDSView\"},{\"attributes\":{},\"id\":\"4a204b31-85c0-46d2-92f1-f2e9a4dea6ba\",\"type\":\"PanTool\"},{\"attributes\":{\"plot\":null,\"text\":\"\"},\"id\":\"960773b0-a7b0-4b13-90e8-36f1b6d399c2\",\"type\":\"Title\"},{\"attributes\":{},\"id\":\"727050ee-1302-4df5-94a1-f8cca9e5f896\",\"type\":\"Selection\"},{\"attributes\":{\"overlay\":{\"id\":\"d4014965-3117-493e-aeb3-0e0628acdd05\",\"type\":\"BoxAnnotation\"}},\"id\":\"e3c366bc-6fd8-4603-b5e2-a6ed649c410d\",\"type\":\"BoxZoomTool\"},{\"attributes\":{},\"id\":\"1e6e891f-e488-4448-9ad0-429e16c53fc2\",\"type\":\"ResetTool\"},{\"attributes\":{\"label\":{\"value\":\"1\"},\"renderers\":[{\"id\":\"529c334f-3ceb-4163-aa4b-26a80637ac85\",\"type\":\"GlyphRenderer\"}]},\"id\":\"c15a682f-f142-4273-9fa9-15b1c300d227\",\"type\":\"LegendItem\"},{\"attributes\":{\"label\":{\"value\":\"2\"},\"renderers\":[{\"id\":\"31eec0b0-a256-4b9e-b643-e10d485bf0b9\",\"type\":\"GlyphRenderer\"}]},\"id\":\"2c9a17ab-02cb-4a22-bc8b-4e7bba3209fc\",\"type\":\"LegendItem\"},{\"attributes\":{},\"id\":\"d4092014-e115-4953-b52d-50241800a882\",\"type\":\"HelpTool\"},{\"attributes\":{\"source\":{\"id\":\"f0d42fbc-266f-4db4-b73f-070dc19c463d\",\"type\":\"ColumnDataSource\"}},\"id\":\"9c1eb26c-4e02-44ac-9935-a70d72d70615\",\"type\":\"CDSView\"},{\"attributes\":{},\"id\":\"0ed44520-7237-44bd-afe3-a24fec394602\",\"type\":\"BasicTickFormatter\"},{\"attributes\":{},\"id\":\"8c394131-efe8-47e8-96ff-a7ed7247e118\",\"type\":\"SaveTool\"},{\"attributes\":{\"callback\":null,\"end\":0.01,\"start\":1020},\"id\":\"daca8ad7-48ce-4036-a1f6-32711b4973ac\",\"type\":\"Range1d\"},{\"attributes\":{\"label\":{\"value\":\"3\"},\"renderers\":[{\"id\":\"ca488375-13d6-4ca0-9aab-c8f716c428b8\",\"type\":\"GlyphRenderer\"}]},\"id\":\"ca718558-7aa7-4e2f-ae7a-4528e2b2e476\",\"type\":\"LegendItem\"},{\"attributes\":{},\"id\":\"48f54334-eeca-48bb-89d1-650d20e863a3\",\"type\":\"Selection\"},{\"attributes\":{\"line_alpha\":0.9094879683774579,\"line_color\":\"#98df8a\",\"line_dash\":[6,4,2,4],\"line_width\":1.652723569437807,\"x\":{\"field\":\"x\"},\"y\":{\"field\":\"y\"}},\"id\":\"b3a84fe9-9181-4946-aee1-33f7526854fe\",\"type\":\"Line\"},{\"attributes\":{\"callback\":null,\"data\":{\"x\":{\"__ndarray__\":\"bMjkeRW+pz/tRfY5Jb2nPwHVJuvDvKc/C/M3BDu8pz/Ow0toebunP32yIJxouqc/v/STvee4pz91JTyAybanPw6ebHfNs6c/1c84YJmvpz93hV9mr6mnP9B9ObNdoac/KlT1+qyVpz/RuyX3Q4WnPx4D7IJFbqc/v/vbTCJOpz/y7ulmViGnP3M4qR4f46Y/hdstCx6Npj/FLwYg/xamPzfnO1NDdqU/JrVIwfCdpD/IZA7V1oCjPxHBetRGEqI/ytPiIcZKoD9VzWIYZlecP2qhhYBTipc/GGEGOsVwkj+ShFS8V86KP7wF8QVWo4E/YMRGclw6dD9rwu4i6SZjPwU6D/6wa0w/4r04K4EYMT/8mAeXKw8UP90ORzbbBfg+fHwhaPWj2z5eIknWAvfDPqZOer7q8bA+K2mkKSsboD6N7bWg98aQPrN66gVdyoI+wZ12vsAoeD5Ir7ya8tdqPitppCkrG2A+Ooww4o55VT46jDDijnlVPjqMMOKOeUU+Ooww4o55RT46jDDijnlFPgAAAAAAAAAAAAAAAAAAAAAAAAAAAAAAAAAAAAAAAAAAAAAAAAAAAAAAAAAAAAAAAAAAAAAAAAAAAAAAAAAAAAAAAAAAAAAAAAAAAAAAAAAAAAAAAAAAAAAAAAAAAAAAAAAAAAAAAAAAAAAAAAAAAAAAAAAAAAAAAAAAAAAAAAAAAAAAAAAAAAAAAAAAAAAAAAAAAAAAAAAAAAAAAAAAAAAAAAAAAAAAAAAAAAAAAAAAAAAAAAAAAAAAAAAAAAAAAAAAAAAAAAAA\",\"dtype\":\"float64\",\"shape\":[75]},\"y\":{\"__ndarray__\":\"YTJVMCqpMz8tQxzr4jZKPy9uowG8BVI/+n5qvHSTWD8VjErqBDRhP+CcEaW9wWc/CRueXinLcD/UK2UZ4lh3P/yp8dJNYoA/x7q4jQbwhj92cRsN4C2QP/5l9+RhoZY/WDm0yHa+nz8Sg8DKoUWmPyo6kst/SK8/J6CJsOHptT/J5T+k376+P8UgsHJokcU/ih9j7lpCzj+e76fGSzfVP4enV8oyxN0//yH99nXg5D8qOpLLf0jtP2FUUiegifQ/c9cS8kHP/D+/DpwzojQEQIEmwoanVwxAVOOlm8TgE0Dgvg6cM+IbQAMJih9jjiNAH/RsVn1uK0CTqYJRST0zQHicoiO5/DpAaCJseHrtQkDNzMzMzIxKQM3MzMzMeFJAZmZmZmZqWEAAAAAAAFxeQM3MzMzMJmJAmpmZmZkfZUBmZmZmZhhoQDMzMzMzEWtAAAAAAAAKbkBmZmZmZoFwQM3MzMzM/XFAMzMzMzN6c0CamZmZmfZ0QAAAAAAAc3ZAZmZmZmbvd0DNzMzMzGt5QDMzMzMz6HpAmpmZmZlkfEAAAAAAAOF9QGZmZmZmXX9AZmZmZuZsgECamZmZGSuBQM3MzMxM6YFAAAAAAICngkAzMzMzs2WDQGZmZmbmI4RAmpmZmRnihEDNzMzMTKCFQAAAAACAXoZAMzMzM7Mch0BmZmZm5tqHQJqZmZkZmYhAzczMzExXiUAAAAAAgBWKQDMzMzOz04pAZmZmZuaRi0CamZmZGVCMQM3MzMxMDo1AAAAAAIDMjUAzMzMzs4qOQGZmZmbmSI9A\",\"dtype\":\"float64\",\"shape\":[75]}},\"selected\":{\"id\":\"3412cf8c-11b8-4bcf-a09d-d7e120e510dc\",\"type\":\"Selection\"},\"selection_policy\":{\"id\":\"61fb665c-9fde-4dd5-95ee-11fca029fcd3\",\"type\":\"UnionRenderers\"}},\"id\":\"c6c3dbf7-d7cc-4191-94fb-526277fe25f1\",\"type\":\"ColumnDataSource\"},{\"attributes\":{\"label\":{\"value\":\"4\"},\"renderers\":[{\"id\":\"749a09ac-7f28-4900-981a-507f3f72affd\",\"type\":\"GlyphRenderer\"}]},\"id\":\"63df5402-eeaa-4864-9c78-8d170b3736b6\",\"type\":\"LegendItem\"},{\"attributes\":{\"label\":{\"value\":\"5\"},\"renderers\":[{\"id\":\"24ad15ab-37a3-4d60-a666-b383c21d70fd\",\"type\":\"GlyphRenderer\"}]},\"id\":\"52685c3f-56e3-46e8-b72e-16761d8198a5\",\"type\":\"LegendItem\"},{\"attributes\":{\"label\":{\"value\":\"6\"},\"renderers\":[{\"id\":\"0c2a6a1b-4208-49b6-82d9-55976e40d4e4\",\"type\":\"GlyphRenderer\"}]},\"id\":\"d7093b78-d84d-41eb-af58-01f05403a4b3\",\"type\":\"LegendItem\"},{\"attributes\":{},\"id\":\"1eb68a1c-935b-4414-8892-e897bec01883\",\"type\":\"UnionRenderers\"},{\"attributes\":{\"label\":{\"value\":\"7\"},\"renderers\":[{\"id\":\"1ec58577-195e-40f2-898e-e09534019485\",\"type\":\"GlyphRenderer\"}]},\"id\":\"465f5c3a-af51-41f1-b38c-285d03182196\",\"type\":\"LegendItem\"},{\"attributes\":{\"label\":{\"value\":\"8\"},\"renderers\":[{\"id\":\"b94b78b7-3aa7-4695-8b59-3cce6fe02b09\",\"type\":\"GlyphRenderer\"}]},\"id\":\"4e6cffb2-402e-4b7b-bf7a-9ff8c9960ee3\",\"type\":\"LegendItem\"},{\"attributes\":{\"above\":[{\"id\":\"13d49413-6d85-4b4f-8678-6228fd4bb776\",\"type\":\"Legend\"}],\"below\":[{\"id\":\"66254d34-dc90-4b96-86cc-6ac016ad30fa\",\"type\":\"LinearAxis\"}],\"left\":[{\"id\":\"c302c3c5-d460-4bb9-a0f9-e7f2d89823a1\",\"type\":\"LinearAxis\"}],\"plot_width\":500,\"renderers\":[{\"id\":\"66254d34-dc90-4b96-86cc-6ac016ad30fa\",\"type\":\"LinearAxis\"},{\"id\":\"e1441751-ef71-4cb6-b989-828250f856ad\",\"type\":\"Grid\"},{\"id\":\"c302c3c5-d460-4bb9-a0f9-e7f2d89823a1\",\"type\":\"LinearAxis\"},{\"id\":\"7f16d43f-b1a0-47c0-99e2-121820e22a80\",\"type\":\"Grid\"},{\"id\":\"d4014965-3117-493e-aeb3-0e0628acdd05\",\"type\":\"BoxAnnotation\"},{\"id\":\"529c334f-3ceb-4163-aa4b-26a80637ac85\",\"type\":\"GlyphRenderer\"},{\"id\":\"31eec0b0-a256-4b9e-b643-e10d485bf0b9\",\"type\":\"GlyphRenderer\"},{\"id\":\"ca488375-13d6-4ca0-9aab-c8f716c428b8\",\"type\":\"GlyphRenderer\"},{\"id\":\"749a09ac-7f28-4900-981a-507f3f72affd\",\"type\":\"GlyphRenderer\"},{\"id\":\"24ad15ab-37a3-4d60-a666-b383c21d70fd\",\"type\":\"GlyphRenderer\"},{\"id\":\"0c2a6a1b-4208-49b6-82d9-55976e40d4e4\",\"type\":\"GlyphRenderer\"},{\"id\":\"1ec58577-195e-40f2-898e-e09534019485\",\"type\":\"GlyphRenderer\"},{\"id\":\"b94b78b7-3aa7-4695-8b59-3cce6fe02b09\",\"type\":\"GlyphRenderer\"},{\"id\":\"13d49413-6d85-4b4f-8678-6228fd4bb776\",\"type\":\"Legend\"}],\"title\":{\"id\":\"960773b0-a7b0-4b13-90e8-36f1b6d399c2\",\"type\":\"Title\"},\"toolbar\":{\"id\":\"31427e11-f9ab-4086-87b4-72adfe5cbaff\",\"type\":\"Toolbar\"},\"x_range\":{\"id\":\"39cd68ba-b802-4c9b-bfe7-2353239b9085\",\"type\":\"Range1d\"},\"x_scale\":{\"id\":\"44a69f56-70c7-4f2a-86f7-f2dde1c2db5f\",\"type\":\"LinearScale\"},\"y_range\":{\"id\":\"daca8ad7-48ce-4036-a1f6-32711b4973ac\",\"type\":\"Range1d\"},\"y_scale\":{\"id\":\"4a40c19f-056f-4cdc-a44b-ca774f9b945c\",\"type\":\"LinearScale\"}},\"id\":\"52376c43-a48b-4a15-84cc-33dae228e873\",\"subtype\":\"Figure\",\"type\":\"Plot\"},{\"attributes\":{},\"id\":\"8c5ecd16-5b52-4ab9-a53d-9a8401e1407d\",\"type\":\"BasicTickFormatter\"},{\"attributes\":{},\"id\":\"36158892-ccff-4c3d-bcd4-61af49048ffb\",\"type\":\"UnionRenderers\"},{\"attributes\":{\"line_alpha\":0.1,\"line_color\":\"#1f77b4\",\"line_dash\":[6,4,2,4],\"line_width\":1.652723569437807,\"x\":{\"field\":\"x\"},\"y\":{\"field\":\"y\"}},\"id\":\"e732a95d-a21e-4c5f-86ba-130b143a37ac\",\"type\":\"Line\"},{\"attributes\":{\"line_alpha\":0.879059875656249,\"line_color\":\"#2ca02c\",\"line_width\":2.29327219478363,\"x\":{\"field\":\"x\"},\"y\":{\"field\":\"y\"}},\"id\":\"d084f3b4-7f77-4bcf-980c-a82332d2a77b\",\"type\":\"Line\"},{\"attributes\":{},\"id\":\"9c6cd85b-5976-4394-a4ab-094aef0d0b44\",\"type\":\"UnionRenderers\"},{\"attributes\":{\"data_source\":{\"id\":\"f0d42fbc-266f-4db4-b73f-070dc19c463d\",\"type\":\"ColumnDataSource\"},\"glyph\":{\"id\":\"b3a84fe9-9181-4946-aee1-33f7526854fe\",\"type\":\"Line\"},\"hover_glyph\":null,\"muted_glyph\":null,\"nonselection_glyph\":{\"id\":\"e732a95d-a21e-4c5f-86ba-130b143a37ac\",\"type\":\"Line\"},\"selection_glyph\":null,\"view\":{\"id\":\"9c1eb26c-4e02-44ac-9935-a70d72d70615\",\"type\":\"CDSView\"}},\"id\":\"ca488375-13d6-4ca0-9aab-c8f716c428b8\",\"type\":\"GlyphRenderer\"},{\"attributes\":{\"callback\":null,\"data\":{\"x\":{\"__ndarray__\":\"REXm28wy1D/DBvKJyDLUP6YVttHGMtQ/JFd3TcQy1D8mVwyywDLUP0FLFZS7MtQ/8fQIPbQy1D+doTSrqTLUPwTyeJyaMtQ/D/L294Qy1D8H/r8DZjLUPzD10pg5MtQ/Axwp+Pkx1D+12omznjHUP1crbjccMdQ/1BzuXWIw1D/2T2hAWi/UPw+kg9ziLdQ/i28Hbs0r1D+qoz4k1yjUP/uQO5WhJNQ/+ZyBsqUe1D8dMPb7URbUP+c1VXsBC9Q/amQdr7z70z+tmJ2HC+fTP+jBvEvSytM/ZohCT/Oj0z+p7rpMh23TP0Su7VDBH9M/Xzu999yu0j+1IRhqwQnSP0SuqzTvGdE/fRP55BeUzz+y2CYVjTXMP7I/uwnfd8g/8TBpY1cgxT8g7DW57wPDP06KZtCWlME/H3S/+cOFwD9uXNYvnmK/P0x/gs0xB74/fz6A+/DivD/M1rgGz+e7P3ia7YZEDLs/ktS+kEBJuj+MEWg04pe5P9oSoENs8rg/PrAl3BJWuD+lwF1RpcG3P1NcdgRHNLc/1ujunUWttj/ZNrUBEiy2P9ilHWk2sLU/m2t/BFE5tT/yNKodD8e0P0necz8rWbQ/TSC62mnvsz9BZuOYl4mzP1WkX66HJ7M/9y0pLRLJsj9saHcGFW6yP9DQw/lpFrI/iD1hR+vBsT+/opVac3CxP93Ws3PcIbE/t/eAqwLWsD8wHef0xIywPxPo2c0IRrA/4BzHcr8BsD877ilz0n+vPzyaNFcXAa8/EZex20aHrj8Zwc5mOBKuP/XWRI+toa0/\",\"dtype\":\"float64\",\"shape\":[75]},\"y\":{\"__ndarray__\":\"YTJVMCqpMz8tQxzr4jZKPy9uowG8BVI/+n5qvHSTWD8VjErqBDRhP+CcEaW9wWc/CRueXinLcD/UK2UZ4lh3P/yp8dJNYoA/x7q4jQbwhj92cRsN4C2QP/5l9+RhoZY/WDm0yHa+nz8Sg8DKoUWmPyo6kst/SK8/J6CJsOHptT/J5T+k376+P8UgsHJokcU/ih9j7lpCzj+e76fGSzfVP4enV8oyxN0//yH99nXg5D8qOpLLf0jtP2FUUiegifQ/c9cS8kHP/D+/DpwzojQEQIEmwoanVwxAVOOlm8TgE0Dgvg6cM+IbQAMJih9jjiNAH/RsVn1uK0CTqYJRST0zQHicoiO5/DpAaCJseHrtQkDNzMzMzIxKQM3MzMzMeFJAZmZmZmZqWEAAAAAAAFxeQM3MzMzMJmJAmpmZmZkfZUBmZmZmZhhoQDMzMzMzEWtAAAAAAAAKbkBmZmZmZoFwQM3MzMzM/XFAMzMzMzN6c0CamZmZmfZ0QAAAAAAAc3ZAZmZmZmbvd0DNzMzMzGt5QDMzMzMz6HpAmpmZmZlkfEAAAAAAAOF9QGZmZmZmXX9AZmZmZuZsgECamZmZGSuBQM3MzMxM6YFAAAAAAICngkAzMzMzs2WDQGZmZmbmI4RAmpmZmRnihEDNzMzMTKCFQAAAAACAXoZAMzMzM7Mch0BmZmZm5tqHQJqZmZkZmYhAzczMzExXiUAAAAAAgBWKQDMzMzOz04pAZmZmZuaRi0CamZmZGVCMQM3MzMxMDo1AAAAAAIDMjUAzMzMzs4qOQGZmZmbmSI9A\",\"dtype\":\"float64\",\"shape\":[75]}},\"selected\":{\"id\":\"727050ee-1302-4df5-94a1-f8cca9e5f896\",\"type\":\"Selection\"},\"selection_policy\":{\"id\":\"521dee16-1bfc-46fa-a9fd-5107fb920998\",\"type\":\"UnionRenderers\"}},\"id\":\"f0d42fbc-266f-4db4-b73f-070dc19c463d\",\"type\":\"ColumnDataSource\"},{\"attributes\":{},\"id\":\"c4e341ad-fa15-4f57-9305-6feb43f7c0d0\",\"type\":\"Selection\"},{\"attributes\":{},\"id\":\"c9a4958e-2a97-49f2-a1a1-3aa670432356\",\"type\":\"Selection\"},{\"attributes\":{},\"id\":\"1800d09e-543b-46ea-9bd8-64a7d018c6b8\",\"type\":\"Selection\"},{\"attributes\":{\"line_alpha\":0.1,\"line_color\":\"#1f77b4\",\"line_dash\":[6,4,2,4],\"line_width\":2.0691726733058378,\"x\":{\"field\":\"x\"},\"y\":{\"field\":\"y\"}},\"id\":\"c9b4061e-1817-4ce7-8465-903a00ea38c4\",\"type\":\"Line\"},{\"attributes\":{},\"id\":\"0a16cfa8-8480-4b27-a3df-967768a7a12c\",\"type\":\"UnionRenderers\"},{\"attributes\":{\"line_alpha\":0.1,\"line_color\":\"#1f77b4\",\"line_width\":2.29327219478363,\"x\":{\"field\":\"x\"},\"y\":{\"field\":\"y\"}},\"id\":\"756c9a45-a5a9-40bd-8583-a7102e8d47af\",\"type\":\"Line\"},{\"attributes\":{},\"id\":\"61fb665c-9fde-4dd5-95ee-11fca029fcd3\",\"type\":\"UnionRenderers\"},{\"attributes\":{},\"id\":\"515c7c0a-a988-4e22-9a0d-f37127121b42\",\"type\":\"UnionRenderers\"},{\"attributes\":{\"data_source\":{\"id\":\"bb785ca8-ef2c-43b3-9fc1-eec3f2f80b5e\",\"type\":\"ColumnDataSource\"},\"glyph\":{\"id\":\"d084f3b4-7f77-4bcf-980c-a82332d2a77b\",\"type\":\"Line\"},\"hover_glyph\":null,\"muted_glyph\":null,\"nonselection_glyph\":{\"id\":\"756c9a45-a5a9-40bd-8583-a7102e8d47af\",\"type\":\"Line\"},\"selection_glyph\":null,\"view\":{\"id\":\"667739c8-d943-4b16-b09e-fc6ee79a62be\",\"type\":\"CDSView\"}},\"id\":\"31eec0b0-a256-4b9e-b643-e10d485bf0b9\",\"type\":\"GlyphRenderer\"},{\"attributes\":{\"source\":{\"id\":\"bb785ca8-ef2c-43b3-9fc1-eec3f2f80b5e\",\"type\":\"ColumnDataSource\"}},\"id\":\"667739c8-d943-4b16-b09e-fc6ee79a62be\",\"type\":\"CDSView\"},{\"attributes\":{},\"id\":\"9c9cc8c7-4d0b-4be2-aa30-cb2795ebad66\",\"type\":\"Selection\"}],\"root_ids\":[\"52376c43-a48b-4a15-84cc-33dae228e873\"]},\"title\":\"Bokeh Application\",\"version\":\"0.12.16\"}};\n",
       "  var render_items = [{\"docid\":\"54e18984-694a-43dc-ae99-a05ed68dd481\",\"elementid\":\"647fef31-1064-4eca-940a-e3ec30dd3fb6\",\"modelid\":\"52376c43-a48b-4a15-84cc-33dae228e873\"}];\n",
       "  root.Bokeh.embed.embed_items_notebook(docs_json, render_items);\n",
       "\n",
       "  }\n",
       "  if (root.Bokeh !== undefined) {\n",
       "    embed_document(root);\n",
       "  } else {\n",
       "    var attempts = 0;\n",
       "    var timer = setInterval(function(root) {\n",
       "      if (root.Bokeh !== undefined) {\n",
       "        embed_document(root);\n",
       "        clearInterval(timer);\n",
       "      }\n",
       "      attempts++;\n",
       "      if (attempts > 100) {\n",
       "        console.log(\"Bokeh: ERROR: Unable to run BokehJS code because BokehJS library is missing\")\n",
       "        clearInterval(timer);\n",
       "      }\n",
       "    }, 10, root)\n",
       "  }\n",
       "})(window);"
      ],
      "application/vnd.bokehjs_exec.v0+json": ""
     },
     "metadata": {
      "application/vnd.bokehjs_exec.v0+json": {
       "id": "52376c43-a48b-4a15-84cc-33dae228e873"
      }
     },
     "output_type": "display_data"
    }
   ],
   "source": [
    "flux = pd.read_csv(PATH/'fort.403', sep=r'\\s+', header=None)\n",
    "flux.set_index(0, inplace=True)\n",
    "flux.index.names = ['pressure']\n",
    "flux.columns.names = ['g']\n",
    "\n",
    "pltdata = [{'srs':xr.DataArray(flux[g]),\n",
    "            'label': f'{g}',\n",
    "            'color':all_palettes['Category20'][20][g + 2],\n",
    "            'alpha':np.random.uniform(.5, 1.),\n",
    "            'line_width':np.random.uniform(1, 5),\n",
    "            'line_dash':np.random.choice(['solid', 'dashed', 'dotted', 'dotdash', 'dashdot'])} for g in flux]\n",
    "\n",
    "show(plt_vert_profile_bokeh(pltdata=pltdata, xlabel='flux'))"
   ]
  },
  {
   "cell_type": "code",
   "execution_count": 24,
   "metadata": {
    "scrolled": false
   },
   "outputs": [
    {
     "data": {
      "text/html": [
       "\n",
       "<div class=\"bk-root\">\n",
       "    <div class=\"bk-plotdiv\" id=\"ad75a24e-779f-4216-9f90-f45d7bd7e74d\"></div>\n",
       "</div>"
      ]
     },
     "metadata": {},
     "output_type": "display_data"
    },
    {
     "data": {
      "application/javascript": [
       "(function(root) {\n",
       "  function embed_document(root) {\n",
       "    \n",
       "  var docs_json = {\"65f56b85-6b36-46a1-9f88-bac68eebd412\":{\"roots\":{\"references\":[{\"attributes\":{\"above\":[{\"id\":\"09e2ecd5-c3c5-4ae0-b02a-f89a233f2472\",\"type\":\"Legend\"}],\"below\":[{\"id\":\"f9fea48c-8e4f-4d99-b92a-0b1f0022eb90\",\"type\":\"LinearAxis\"}],\"left\":[{\"id\":\"968c906b-d3bd-4119-b5f8-c291ef721631\",\"type\":\"LinearAxis\"}],\"plot_width\":500,\"renderers\":[{\"id\":\"f9fea48c-8e4f-4d99-b92a-0b1f0022eb90\",\"type\":\"LinearAxis\"},{\"id\":\"c71e03f9-2854-43b6-8c2f-0c3db7f2caf5\",\"type\":\"Grid\"},{\"id\":\"968c906b-d3bd-4119-b5f8-c291ef721631\",\"type\":\"LinearAxis\"},{\"id\":\"2824053d-bc0b-470b-b2a9-45656c358c4f\",\"type\":\"Grid\"},{\"id\":\"990e0af4-c3a7-446b-9428-b5d8bf240406\",\"type\":\"BoxAnnotation\"},{\"id\":\"338fa557-eeec-4346-96d8-32b02724d169\",\"type\":\"GlyphRenderer\"},{\"id\":\"336811af-1804-4668-b3c3-526e2ef5a7a3\",\"type\":\"GlyphRenderer\"},{\"id\":\"09e2ecd5-c3c5-4ae0-b02a-f89a233f2472\",\"type\":\"Legend\"}],\"title\":{\"id\":\"102b5338-80fe-4e0e-928c-7381a71e3e91\",\"type\":\"Title\"},\"toolbar\":{\"id\":\"ed0858f6-0b6d-403e-b1ce-b34ca3a9432a\",\"type\":\"Toolbar\"},\"x_range\":{\"id\":\"8aecef72-5b74-4866-9688-40a8b817d6b1\",\"type\":\"Range1d\"},\"x_scale\":{\"id\":\"8b7a4803-7e81-494a-beca-23ad1edc1ca2\",\"type\":\"LinearScale\"},\"y_range\":{\"id\":\"d4f14779-952c-4d03-b780-a7703cf5c8e7\",\"type\":\"Range1d\"},\"y_scale\":{\"id\":\"2f96d6f2-78cb-43f6-b4c1-dcf67ec9f5e0\",\"type\":\"LinearScale\"}},\"id\":\"ee450f12-3e9a-4576-b362-9817a5d35401\",\"subtype\":\"Figure\",\"type\":\"Plot\"},{\"attributes\":{\"line_alpha\":0.1,\"line_color\":\"#1f77b4\",\"line_dash\":[6,4,2,4],\"line_width\":1.9010789788971487,\"x\":{\"field\":\"x\"},\"y\":{\"field\":\"y\"}},\"id\":\"e9501d5c-b05f-42dd-9442-e81e8b3ee61e\",\"type\":\"Line\"},{\"attributes\":{\"callback\":null,\"end\":0.01,\"start\":1020},\"id\":\"d4f14779-952c-4d03-b780-a7703cf5c8e7\",\"type\":\"Range1d\"},{\"attributes\":{\"callback\":null,\"data\":{\"x\":{\"__ndarray__\":\"hxbZzvd3bED+YOC593dsQP5g4Ln3d2xAdavnpPd3bEDt9e6P93dsQGRA9nr3d2xAUtUEUfd3bEBBahMn93dsQByUMNP2d2xA+b1Nf/Z3bEA7x4Ds9XdsQOOvyRr1d2xAZcIv9fN3bEA8Sbpm8ndsQM0jfzDwd2xA8Xub/ux3bEASMSWS6HdsQPcBSG3id2xA0oxF09l3bEA4T3XIzXdsQKtbPSe9d2xAe4MvTKZ3bED2l92Th3dsQNBJ7xtfd2xARP8EFyt3bED0/dR46XZsQIKLFTWYdmxA98ySADV2bEAvbqMBvHVsQKW9wRcmdWxAWZ4Hd2d0bECqDrkZbnNsQN4CCYofcmxAP1JEhlVwbECWJqWg221sQBu2LcpsamxAQs9m1edlbEDBHD1+b2FsQIo3Mo/8XGxAswxxrItYbEBoOjsZHFRsQNGWcymuT2xAeHqlLENLbEBmiGNd3EZsQHqNXaJ6QmxA/DVZox4+bEBB9nr3xzlsQNxLGqN1NWxAmPViKCcxbECbyTfb3CxsQAaeew+XKGxAYign2lUkbECxaDo7GSBsQHsUrkfhG2xAWkxsPq4XbEDWxW00gBNsQHo2qz5XD2xAVgkWhzMLbECQFJFhFQdsQDbDDfj8AmxAX4B9dOr+a0DEQq1p3vprQPC/lezY9mtA9WIoJ9rya0DmllZD4u5rQFp8CoDx6mtAVhNE3Qfna0DmxvSEJeNrQKu3BrZK32tAKJtyhXfba0CWsgxxrNdrQCk/qfbp02tAfGEyVTDQa0AqOpLLf8xrQLx+wW7YyGtAMC/APjrFa0A=\",\"dtype\":\"float64\",\"shape\":[76]},\"y\":{\"__ndarray__\":\"AAAAAAAAAABhMlUwKqlDP5LLf0i/fU0/YTJVMCqpUz9fB84ZUdpbP2EyVTAqqWM/XwfOGVHaaz9hMlUwKqlzP1OWIY51cXs/VcGopE5Agz/A7J48LNSKP0hQ/Bhz15I/s3vysFBrmj9/+zpwzoiiP6YKRiV1Aqo/xm00gLdAsj+amZmZmZm5P4V80LNZ9cE/jSjtDb4wyT9Ei2zn+6nRP7wFEhQ/xtg/qaROQBNh4T9Wn6ut2F/oP39qvHSTGPE/s+pztRX79z8Z4lgXt9EAQGQ730+NlwdAzojS3uCLEED2KFyPwjUXQNc07zhFRyBAL90kBoHVJkBPQBNhwwMwQBBYObTIdjZAppvEILCCP0D99nXgnBlGQAAAAAAAAE9AmpmZmZlxVUAzMzMzM2NbQGZmZmZmqmBAMzMzMzOjY0AAAAAAAJxmQM3MzMzMlGlAmpmZmZmNbEBmZmZmZoZvQJqZmZmZP3FAAAAAAAC8ckBmZmZmZjh0QM3MzMzMtHVAMzMzMzMxd0CamZmZma14QAAAAAAAKnpAZmZmZmame0DNzMzMzCJ9QDMzMzMzn35AzczMzMwNgEAAAAAAAMyAQDMzMzMzioFAZmZmZmZIgkCamZmZmQaDQM3MzMzMxINAAAAAAACDhEAzMzMzM0GFQGZmZmZm/4VAmpmZmZm9hkDNzMzMzHuHQAAAAAAAOohAMzMzMzP4iEBmZmZmZraJQJqZmZmZdIpAzczMzMwyi0AAAAAAAPGLQDMzMzMzr4xAZmZmZmZtjUCamZmZmSuOQM3MzMzM6Y5AAAAAAACoj0A=\",\"dtype\":\"float64\",\"shape\":[76]}},\"selected\":{\"id\":\"73c8e707-d1b6-4749-8721-aba11e30b202\",\"type\":\"Selection\"},\"selection_policy\":{\"id\":\"2928ea5f-4bfa-4132-86f2-18dc918c10f6\",\"type\":\"UnionRenderers\"}},\"id\":\"b494acb6-183c-48c5-b424-ae73fdb1c53f\",\"type\":\"ColumnDataSource\"},{\"attributes\":{\"data_source\":{\"id\":\"b494acb6-183c-48c5-b424-ae73fdb1c53f\",\"type\":\"ColumnDataSource\"},\"glyph\":{\"id\":\"8ceef898-775f-4ffe-9c12-983d7b9791a2\",\"type\":\"Line\"},\"hover_glyph\":null,\"muted_glyph\":null,\"nonselection_glyph\":{\"id\":\"e9501d5c-b05f-42dd-9442-e81e8b3ee61e\",\"type\":\"Line\"},\"selection_glyph\":null,\"view\":{\"id\":\"d0242a25-5b5d-40ec-8a2e-5e44e0f61c14\",\"type\":\"CDSView\"}},\"id\":\"338fa557-eeec-4346-96d8-32b02724d169\",\"type\":\"GlyphRenderer\"},{\"attributes\":{},\"id\":\"8b7a4803-7e81-494a-beca-23ad1edc1ca2\",\"type\":\"LinearScale\"},{\"attributes\":{},\"id\":\"05598b87-6212-4875-ad96-21d933fc8165\",\"type\":\"BasicTicker\"},{\"attributes\":{},\"id\":\"d0b8193f-d582-46db-bff4-14b3f96e16e1\",\"type\":\"BasicTicker\"},{\"attributes\":{\"callback\":null,\"data\":{\"x\":{\"__ndarray__\":\"hxbZzvd3bED+YOC593dsQP5g4Ln3d2xAdavnpPd3bEDt9e6P93dsQGRA9nr3d2xAUtUEUfd3bEBBahMn93dsQKVJKej2d2xA+b1Nf/Z3bEDDfHkB9ndsQGplwi/1d2xAdy0hH/R3bEDYaaSl8ndsQPD5YYTwd2xAJ71vfO13bEBa3eo56XdsQFAZ/z7jd2xAxsTm49p3bEBOXfksz3dsQPiqlQm/d2xAdF5jl6h3bEATSfQyindsQHSw/s9hd2xAsyRATS13bEApP6n26XZsQHdF8L+VdmxAp1zhXS52bECrPldbsXVsQOepDrkZdWxA+0SeJF10bEBO1qiHaHNsQARbJVgccmxA8WPMXUtwbECd9L7xtW1sQAmnBS/6aWxAjEXT2clkbEASje4gdl9sQKD9SBEZWmxAAG+BBMVUbED+vKlIhU9sQPjCZKpgSmxAE9VbA1tFbED/If32dUBsQEVfQZqxO2xA4umVsgw3bEBSMc7fhDJsQB9tHLEWLmxAXYqryr4pbEDx12SNeiVsQL6kMVpHIWxAyxXe5SIdbECnBS/6ChlsQI/axMn9FGxA+DsUBfoQbEBhPIOG/gxsQGBZaVIKCWxAsOYAwRwFbECkWG5pNQFsQBfZzvdT/WtAcEc4LXj5a0C/DpwzovVrQGsOEMzR8WtA/fuMCwfua0BhbCHIQeprQCIVxhaC5mtAuECC4sfia0Ag71UrE99rQOXVOQZk22tAfT81XrrXa0CDTDJyFtRrQBzTE5Z40GtARdPZyeDMa0AUuHU3T8lrQPvL7snDxWtAdllMbD7Ca0A=\",\"dtype\":\"float64\",\"shape\":[76]},\"y\":{\"__ndarray__\":\"AAAAAAAAAABhMlUwKqlDP5LLf0i/fU0/YTJVMCqpUz9fB84ZUdpbP2EyVTAqqWM/XwfOGVHaaz9hMlUwKqlzP1OWIY51cXs/VcGopE5Agz/A7J48LNSKP0hQ/Bhz15I/s3vysFBrmj9/+zpwzoiiP6YKRiV1Aqo/xm00gLdAsj+amZmZmZm5P4V80LNZ9cE/jSjtDb4wyT9Ei2zn+6nRP7wFEhQ/xtg/qaROQBNh4T9Wn6ut2F/oP39qvHSTGPE/s+pztRX79z8Z4lgXt9EAQGQ730+NlwdAzojS3uCLEED2KFyPwjUXQNc07zhFRyBAL90kBoHVJkBPQBNhwwMwQBBYObTIdjZAppvEILCCP0D99nXgnBlGQAAAAAAAAE9AmpmZmZlxVUAzMzMzM2NbQGZmZmZmqmBAMzMzMzOjY0AAAAAAAJxmQM3MzMzMlGlAmpmZmZmNbEBmZmZmZoZvQJqZmZmZP3FAAAAAAAC8ckBmZmZmZjh0QM3MzMzMtHVAMzMzMzMxd0CamZmZma14QAAAAAAAKnpAZmZmZmame0DNzMzMzCJ9QDMzMzMzn35AzczMzMwNgEAAAAAAAMyAQDMzMzMzioFAZmZmZmZIgkCamZmZmQaDQM3MzMzMxINAAAAAAACDhEAzMzMzM0GFQGZmZmZm/4VAmpmZmZm9hkDNzMzMzHuHQAAAAAAAOohAMzMzMzP4iEBmZmZmZraJQJqZmZmZdIpAzczMzMwyi0AAAAAAAPGLQDMzMzMzr4xAZmZmZmZtjUCamZmZmSuOQM3MzMzM6Y5AAAAAAACoj0A=\",\"dtype\":\"float64\",\"shape\":[76]}},\"selected\":{\"id\":\"9fdf28ec-7163-4401-8bca-d54589537b93\",\"type\":\"Selection\"},\"selection_policy\":{\"id\":\"02d1b529-0ca4-4557-94aa-960b1fff5d4d\",\"type\":\"UnionRenderers\"}},\"id\":\"a2ba6404-a9b2-420b-8fae-2eb1519c18b3\",\"type\":\"ColumnDataSource\"},{\"attributes\":{\"line_alpha\":0.706572792248767,\"line_color\":\"#e377c2\",\"line_dash\":[6,4,2,4],\"line_width\":1.9010789788971487,\"x\":{\"field\":\"x\"},\"y\":{\"field\":\"y\"}},\"id\":\"8ceef898-775f-4ffe-9c12-983d7b9791a2\",\"type\":\"Line\"},{\"attributes\":{\"plot\":null,\"text\":\"\"},\"id\":\"102b5338-80fe-4e0e-928c-7381a71e3e91\",\"type\":\"Title\"},{\"attributes\":{\"items\":[{\"id\":\"499adb21-3979-4498-813e-c0b5a9097538\",\"type\":\"LegendItem\"},{\"id\":\"f8f9ff5f-b686-49e1-8ab0-ac801e06e253\",\"type\":\"LegendItem\"}],\"label_text_font_size\":{\"value\":\"8pt\"},\"location\":\"top_center\",\"orientation\":\"horizontal\",\"plot\":{\"id\":\"ee450f12-3e9a-4576-b362-9817a5d35401\",\"subtype\":\"Figure\",\"type\":\"Plot\"}},\"id\":\"09e2ecd5-c3c5-4ae0-b02a-f89a233f2472\",\"type\":\"Legend\"},{\"attributes\":{\"label\":{\"value\":\"tflux\"},\"renderers\":[{\"id\":\"338fa557-eeec-4346-96d8-32b02724d169\",\"type\":\"GlyphRenderer\"}]},\"id\":\"499adb21-3979-4498-813e-c0b5a9097538\",\"type\":\"LegendItem\"},{\"attributes\":{},\"id\":\"9fdf28ec-7163-4401-8bca-d54589537b93\",\"type\":\"Selection\"},{\"attributes\":{},\"id\":\"a8878e9b-ddb0-46b3-950b-1a13dd7be727\",\"type\":\"BasicTickFormatter\"},{\"attributes\":{\"active_drag\":\"auto\",\"active_inspect\":\"auto\",\"active_scroll\":\"auto\",\"active_tap\":\"auto\",\"tools\":[{\"id\":\"c284212d-dd0c-4662-976d-cbc782512d87\",\"type\":\"PanTool\"},{\"id\":\"b0f7a88f-a8cb-416a-acc0-5f4db2438f65\",\"type\":\"WheelZoomTool\"},{\"id\":\"8eca82cc-313a-490b-8991-c78e489db196\",\"type\":\"BoxZoomTool\"},{\"id\":\"3aa76dec-3bd9-4470-8aba-a8d163f05a0c\",\"type\":\"SaveTool\"},{\"id\":\"3a17fb31-bd00-47a9-87de-6058daf49b09\",\"type\":\"ResetTool\"},{\"id\":\"0ddc6b87-3345-4ead-bf3b-120d3d521412\",\"type\":\"HelpTool\"}]},\"id\":\"ed0858f6-0b6d-403e-b1ce-b34ca3a9432a\",\"type\":\"Toolbar\"},{\"attributes\":{\"data_source\":{\"id\":\"a2ba6404-a9b2-420b-8fae-2eb1519c18b3\",\"type\":\"ColumnDataSource\"},\"glyph\":{\"id\":\"3f5bbe6f-d5ea-4e97-beef-8aabbeec726c\",\"type\":\"Line\"},\"hover_glyph\":null,\"muted_glyph\":null,\"nonselection_glyph\":{\"id\":\"918a8fd2-cd74-4d1d-8087-a75a691fc3b0\",\"type\":\"Line\"},\"selection_glyph\":null,\"view\":{\"id\":\"b3c33411-a988-40db-a224-0c6ee8600094\",\"type\":\"CDSView\"}},\"id\":\"336811af-1804-4668-b3c3-526e2ef5a7a3\",\"type\":\"GlyphRenderer\"},{\"attributes\":{\"source\":{\"id\":\"a2ba6404-a9b2-420b-8fae-2eb1519c18b3\",\"type\":\"ColumnDataSource\"}},\"id\":\"b3c33411-a988-40db-a224-0c6ee8600094\",\"type\":\"CDSView\"},{\"attributes\":{\"dimension\":1,\"plot\":{\"id\":\"ee450f12-3e9a-4576-b362-9817a5d35401\",\"subtype\":\"Figure\",\"type\":\"Plot\"},\"ticker\":{\"id\":\"d0b8193f-d582-46db-bff4-14b3f96e16e1\",\"type\":\"BasicTicker\"}},\"id\":\"2824053d-bc0b-470b-b2a9-45656c358c4f\",\"type\":\"Grid\"},{\"attributes\":{\"source\":{\"id\":\"b494acb6-183c-48c5-b424-ae73fdb1c53f\",\"type\":\"ColumnDataSource\"}},\"id\":\"d0242a25-5b5d-40ec-8a2e-5e44e0f61c14\",\"type\":\"CDSView\"},{\"attributes\":{\"line_alpha\":0.1,\"line_color\":\"#1f77b4\",\"line_dash\":[6,4,2,4],\"line_width\":4.43948969655713,\"x\":{\"field\":\"x\"},\"y\":{\"field\":\"y\"}},\"id\":\"918a8fd2-cd74-4d1d-8087-a75a691fc3b0\",\"type\":\"Line\"},{\"attributes\":{\"callback\":null,\"end\":227.37833659999998,\"start\":222.01756340000003},\"id\":\"8aecef72-5b74-4866-9688-40a8b817d6b1\",\"type\":\"Range1d\"},{\"attributes\":{\"line_alpha\":0.7218576244878085,\"line_color\":\"#9edae5\",\"line_dash\":[6,4,2,4],\"line_width\":4.43948969655713,\"x\":{\"field\":\"x\"},\"y\":{\"field\":\"y\"}},\"id\":\"3f5bbe6f-d5ea-4e97-beef-8aabbeec726c\",\"type\":\"Line\"},{\"attributes\":{\"bottom_units\":\"screen\",\"fill_alpha\":{\"value\":0.5},\"fill_color\":{\"value\":\"lightgrey\"},\"left_units\":\"screen\",\"level\":\"overlay\",\"line_alpha\":{\"value\":1.0},\"line_color\":{\"value\":\"black\"},\"line_dash\":[4,4],\"line_width\":{\"value\":2},\"plot\":null,\"render_mode\":\"css\",\"right_units\":\"screen\",\"top_units\":\"screen\"},\"id\":\"990e0af4-c3a7-446b-9428-b5d8bf240406\",\"type\":\"BoxAnnotation\"},{\"attributes\":{\"plot\":{\"id\":\"ee450f12-3e9a-4576-b362-9817a5d35401\",\"subtype\":\"Figure\",\"type\":\"Plot\"},\"ticker\":{\"id\":\"05598b87-6212-4875-ad96-21d933fc8165\",\"type\":\"BasicTicker\"}},\"id\":\"c71e03f9-2854-43b6-8c2f-0c3db7f2caf5\",\"type\":\"Grid\"},{\"attributes\":{},\"id\":\"2928ea5f-4bfa-4132-86f2-18dc918c10f6\",\"type\":\"UnionRenderers\"},{\"attributes\":{},\"id\":\"02d1b529-0ca4-4557-94aa-960b1fff5d4d\",\"type\":\"UnionRenderers\"},{\"attributes\":{\"label\":{\"value\":\"tfluxg\"},\"renderers\":[{\"id\":\"336811af-1804-4668-b3c3-526e2ef5a7a3\",\"type\":\"GlyphRenderer\"}]},\"id\":\"f8f9ff5f-b686-49e1-8ab0-ac801e06e253\",\"type\":\"LegendItem\"},{\"attributes\":{\"axis_label\":\"pressure [mb]\",\"formatter\":{\"id\":\"8d6e986a-9658-489a-a354-ee930c3838f3\",\"type\":\"BasicTickFormatter\"},\"plot\":{\"id\":\"ee450f12-3e9a-4576-b362-9817a5d35401\",\"subtype\":\"Figure\",\"type\":\"Plot\"},\"ticker\":{\"id\":\"d0b8193f-d582-46db-bff4-14b3f96e16e1\",\"type\":\"BasicTicker\"}},\"id\":\"968c906b-d3bd-4119-b5f8-c291ef721631\",\"type\":\"LinearAxis\"},{\"attributes\":{},\"id\":\"c284212d-dd0c-4662-976d-cbc782512d87\",\"type\":\"PanTool\"},{\"attributes\":{},\"id\":\"8d6e986a-9658-489a-a354-ee930c3838f3\",\"type\":\"BasicTickFormatter\"},{\"attributes\":{},\"id\":\"0ddc6b87-3345-4ead-bf3b-120d3d521412\",\"type\":\"HelpTool\"},{\"attributes\":{\"axis_label\":\"flux\",\"formatter\":{\"id\":\"a8878e9b-ddb0-46b3-950b-1a13dd7be727\",\"type\":\"BasicTickFormatter\"},\"plot\":{\"id\":\"ee450f12-3e9a-4576-b362-9817a5d35401\",\"subtype\":\"Figure\",\"type\":\"Plot\"},\"ticker\":{\"id\":\"05598b87-6212-4875-ad96-21d933fc8165\",\"type\":\"BasicTicker\"}},\"id\":\"f9fea48c-8e4f-4d99-b92a-0b1f0022eb90\",\"type\":\"LinearAxis\"},{\"attributes\":{},\"id\":\"3a17fb31-bd00-47a9-87de-6058daf49b09\",\"type\":\"ResetTool\"},{\"attributes\":{},\"id\":\"2f96d6f2-78cb-43f6-b4c1-dcf67ec9f5e0\",\"type\":\"LinearScale\"},{\"attributes\":{},\"id\":\"3aa76dec-3bd9-4470-8aba-a8d163f05a0c\",\"type\":\"SaveTool\"},{\"attributes\":{},\"id\":\"73c8e707-d1b6-4749-8721-aba11e30b202\",\"type\":\"Selection\"},{\"attributes\":{},\"id\":\"b0f7a88f-a8cb-416a-acc0-5f4db2438f65\",\"type\":\"WheelZoomTool\"},{\"attributes\":{\"overlay\":{\"id\":\"990e0af4-c3a7-446b-9428-b5d8bf240406\",\"type\":\"BoxAnnotation\"}},\"id\":\"8eca82cc-313a-490b-8991-c78e489db196\",\"type\":\"BoxZoomTool\"}],\"root_ids\":[\"ee450f12-3e9a-4576-b362-9817a5d35401\"]},\"title\":\"Bokeh Application\",\"version\":\"0.12.16\"}};\n",
       "  var render_items = [{\"docid\":\"65f56b85-6b36-46a1-9f88-bac68eebd412\",\"elementid\":\"ad75a24e-779f-4216-9f90-f45d7bd7e74d\",\"modelid\":\"ee450f12-3e9a-4576-b362-9817a5d35401\"}];\n",
       "  root.Bokeh.embed.embed_items_notebook(docs_json, render_items);\n",
       "\n",
       "  }\n",
       "  if (root.Bokeh !== undefined) {\n",
       "    embed_document(root);\n",
       "  } else {\n",
       "    var attempts = 0;\n",
       "    var timer = setInterval(function(root) {\n",
       "      if (root.Bokeh !== undefined) {\n",
       "        embed_document(root);\n",
       "        clearInterval(timer);\n",
       "      }\n",
       "      attempts++;\n",
       "      if (attempts > 100) {\n",
       "        console.log(\"Bokeh: ERROR: Unable to run BokehJS code because BokehJS library is missing\")\n",
       "        clearInterval(timer);\n",
       "      }\n",
       "    }, 10, root)\n",
       "  }\n",
       "})(window);"
      ],
      "application/vnd.bokehjs_exec.v0+json": ""
     },
     "metadata": {
      "application/vnd.bokehjs_exec.v0+json": {
       "id": "ee450f12-3e9a-4576-b362-9817a5d35401"
      }
     },
     "output_type": "display_data"
    }
   ],
   "source": [
    "flux = pd.read_csv(PATH/'fort.9', sep=r'\\s+', skiprows=2, header=None)\n",
    "flux.set_index(0, inplace=True)\n",
    "flux.index.names = ['pressure']\n",
    "flux.columns = ['tflux', 'tfluxg']\n",
    "\n",
    "pltdata = [{'srs':xr.DataArray(flux[g]),\n",
    "            'label':f'{g}',\n",
    "            'color':np.random.choice(all_palettes['Category20'][20]),\n",
    "            'alpha':np.random.uniform(.5, 1.),\n",
    "            'line_width':np.random.uniform(1, 5),\n",
    "            'line_dash':np.random.choice(['solid', 'dashed', 'dotted', 'dotdash', 'dashdot'])} for g in flux]\n",
    "\n",
    "show(plt_vert_profile_bokeh(pltdata=pltdata, xlabel='flux'))"
   ]
  },
  {
   "cell_type": "code",
   "execution_count": 29,
   "metadata": {},
   "outputs": [
    {
     "data": {
      "text/html": [
       "\n",
       "<div class=\"bk-root\">\n",
       "    <div class=\"bk-plotdiv\" id=\"11b8fdbe-b187-455b-a772-abfe395e8753\"></div>\n",
       "</div>"
      ]
     },
     "metadata": {},
     "output_type": "display_data"
    },
    {
     "data": {
      "application/javascript": [
       "(function(root) {\n",
       "  function embed_document(root) {\n",
       "    \n",
       "  var docs_json = {\"faaf9309-6e8a-433c-9914-9573a938c83a\":{\"roots\":{\"references\":[{\"attributes\":{},\"id\":\"897c2cf5-6779-48fe-8295-23943d991fb6\",\"type\":\"BasicTicker\"},{\"attributes\":{\"line_alpha\":0.7467318465102479,\"line_color\":\"#9edae5\",\"line_dash\":[6],\"line_width\":1.5744484991144598,\"x\":{\"field\":\"x\"},\"y\":{\"field\":\"y\"}},\"id\":\"98722b9b-d71a-4faf-b8d3-8dcfb1470c07\",\"type\":\"Line\"},{\"attributes\":{\"line_alpha\":0.1,\"line_color\":\"#1f77b4\",\"line_dash\":[6,4,2,4],\"line_width\":1.0557105349629148,\"x\":{\"field\":\"x\"},\"y\":{\"field\":\"y\"}},\"id\":\"fc12e722-7037-480f-82fa-fedd57e72eca\",\"type\":\"Line\"},{\"attributes\":{\"source\":{\"id\":\"2624d4c5-91ea-443b-b2c8-6a4806ffc8ec\",\"type\":\"ColumnDataSource\"}},\"id\":\"d4bcf896-b559-4051-99bd-8abd76c2a485\",\"type\":\"CDSView\"},{\"attributes\":{\"plot\":{\"id\":\"563ba726-bc4b-4ab9-82e7-61ccc2742fce\",\"subtype\":\"Figure\",\"type\":\"Plot\"},\"ticker\":{\"id\":\"897c2cf5-6779-48fe-8295-23943d991fb6\",\"type\":\"BasicTicker\"}},\"id\":\"a47146cc-684e-44e4-8651-77e8240fd0a9\",\"type\":\"Grid\"},{\"attributes\":{\"source\":{\"id\":\"5d905306-1ca1-4ce0-b2b4-0a4f26ec0c14\",\"type\":\"ColumnDataSource\"}},\"id\":\"c74521f2-f354-4e73-9d3c-9b13f006ccf2\",\"type\":\"CDSView\"},{\"attributes\":{},\"id\":\"c9c2e532-575c-4485-abb7-340938326197\",\"type\":\"Selection\"},{\"attributes\":{\"callback\":null,\"data\":{\"x\":{\"__ndarray__\":\"hxbZzvd3bED+YOC593dsQP5g4Ln3d2xAdavnpPd3bEDt9e6P93dsQGRA9nr3d2xAUtUEUfd3bEBBahMn93dsQKVJKej2d2xA+b1Nf/Z3bEDDfHkB9ndsQGplwi/1d2xAdy0hH/R3bEDYaaSl8ndsQPD5YYTwd2xAJ71vfO13bEBa3eo56XdsQFAZ/z7jd2xAxsTm49p3bEBOXfksz3dsQPiqlQm/d2xAdF5jl6h3bEATSfQyindsQHSw/s9hd2xAsyRATS13bEApP6n26XZsQHdF8L+VdmxAp1zhXS52bECrPldbsXVsQOepDrkZdWxA+0SeJF10bEBO1qiHaHNsQARbJVgccmxA8WPMXUtwbECd9L7xtW1sQAmnBS/6aWxAjEXT2clkbEASje4gdl9sQKD9SBEZWmxAAG+BBMVUbED+vKlIhU9sQPjCZKpgSmxAE9VbA1tFbED/If32dUBsQEVfQZqxO2xA4umVsgw3bEBSMc7fhDJsQB9tHLEWLmxAXYqryr4pbEDx12SNeiVsQL6kMVpHIWxAyxXe5SIdbECnBS/6ChlsQI/axMn9FGxA+DsUBfoQbEBhPIOG/gxsQGBZaVIKCWxAsOYAwRwFbECkWG5pNQFsQBfZzvdT/WtAcEc4LXj5a0C/DpwzovVrQGsOEMzR8WtA/fuMCwfua0BhbCHIQeprQCIVxhaC5mtAuECC4sfia0Ag71UrE99rQOXVOQZk22tAfT81XrrXa0CDTDJyFtRrQBzTE5Z40GtARdPZyeDMa0AUuHU3T8lrQPvL7snDxWtAdllMbD7Ca0A=\",\"dtype\":\"float64\",\"shape\":[76]},\"y\":{\"__ndarray__\":\"AAAAAAAAAABhMlUwKqlDP5LLf0i/fU0/YTJVMCqpUz9fB84ZUdpbP2EyVTAqqWM/XwfOGVHaaz9hMlUwKqlzP1OWIY51cXs/VcGopE5Agz/A7J48LNSKP0hQ/Bhz15I/s3vysFBrmj9/+zpwzoiiP6YKRiV1Aqo/xm00gLdAsj+amZmZmZm5P4V80LNZ9cE/jSjtDb4wyT9Ei2zn+6nRP7wFEhQ/xtg/qaROQBNh4T9Wn6ut2F/oP39qvHSTGPE/s+pztRX79z8Z4lgXt9EAQGQ730+NlwdAzojS3uCLEED2KFyPwjUXQNc07zhFRyBAL90kBoHVJkBPQBNhwwMwQBBYObTIdjZAppvEILCCP0D99nXgnBlGQAAAAAAAAE9AmpmZmZlxVUAzMzMzM2NbQGZmZmZmqmBAMzMzMzOjY0AAAAAAAJxmQM3MzMzMlGlAmpmZmZmNbEBmZmZmZoZvQJqZmZmZP3FAAAAAAAC8ckBmZmZmZjh0QM3MzMzMtHVAMzMzMzMxd0CamZmZma14QAAAAAAAKnpAZmZmZmame0DNzMzMzCJ9QDMzMzMzn35AzczMzMwNgEAAAAAAAMyAQDMzMzMzioFAZmZmZmZIgkCamZmZmQaDQM3MzMzMxINAAAAAAACDhEAzMzMzM0GFQGZmZmZm/4VAmpmZmZm9hkDNzMzMzHuHQAAAAAAAOohAMzMzMzP4iEBmZmZmZraJQJqZmZmZdIpAzczMzMwyi0AAAAAAAPGLQDMzMzMzr4xAZmZmZmZtjUCamZmZmSuOQM3MzMzM6Y5AAAAAAACoj0A=\",\"dtype\":\"float64\",\"shape\":[76]}},\"selected\":{\"id\":\"dd9159fc-72ec-49ee-81b8-25d79602eaed\",\"type\":\"Selection\"},\"selection_policy\":{\"id\":\"059aedd6-0a27-4bdf-8895-f2786594accd\",\"type\":\"UnionRenderers\"}},\"id\":\"2624d4c5-91ea-443b-b2c8-6a4806ffc8ec\",\"type\":\"ColumnDataSource\"},{\"attributes\":{\"label\":{\"value\":\"tfluxg\"},\"renderers\":[{\"id\":\"549883c6-0680-4307-9b92-bc2a9dacd9e3\",\"type\":\"GlyphRenderer\"}]},\"id\":\"07904307-c6b8-450c-a1fb-5881ce6a2f93\",\"type\":\"LegendItem\"},{\"attributes\":{\"dimension\":1,\"plot\":{\"id\":\"563ba726-bc4b-4ab9-82e7-61ccc2742fce\",\"subtype\":\"Figure\",\"type\":\"Plot\"},\"ticker\":{\"id\":\"9c2cf91d-2951-47f5-95ea-692e1b6a801e\",\"type\":\"BasicTicker\"}},\"id\":\"9c6a8d37-6179-4571-acd7-fbaee9f7401a\",\"type\":\"Grid\"},{\"attributes\":{},\"id\":\"059aedd6-0a27-4bdf-8895-f2786594accd\",\"type\":\"UnionRenderers\"},{\"attributes\":{\"data_source\":{\"id\":\"2624d4c5-91ea-443b-b2c8-6a4806ffc8ec\",\"type\":\"ColumnDataSource\"},\"glyph\":{\"id\":\"e287ca80-fd4e-4743-8b5b-b26768c3fcad\",\"type\":\"Line\"},\"hover_glyph\":null,\"muted_glyph\":null,\"nonselection_glyph\":{\"id\":\"fc12e722-7037-480f-82fa-fedd57e72eca\",\"type\":\"Line\"},\"selection_glyph\":null,\"view\":{\"id\":\"d4bcf896-b559-4051-99bd-8abd76c2a485\",\"type\":\"CDSView\"}},\"id\":\"549883c6-0680-4307-9b92-bc2a9dacd9e3\",\"type\":\"GlyphRenderer\"},{\"attributes\":{},\"id\":\"9c2cf91d-2951-47f5-95ea-692e1b6a801e\",\"type\":\"BasicTicker\"},{\"attributes\":{\"axis_label\":\"heat\",\"formatter\":{\"id\":\"8e0e3fc7-55a0-4803-a687-7e105210c8a4\",\"type\":\"BasicTickFormatter\"},\"plot\":{\"id\":\"563ba726-bc4b-4ab9-82e7-61ccc2742fce\",\"subtype\":\"Figure\",\"type\":\"Plot\"},\"ticker\":{\"id\":\"897c2cf5-6779-48fe-8295-23943d991fb6\",\"type\":\"BasicTicker\"}},\"id\":\"daaa48ab-9dc5-4f43-b490-06df9d9f4608\",\"type\":\"LinearAxis\"},{\"attributes\":{\"axis_label\":\"pressure [mb]\",\"formatter\":{\"id\":\"885d7c0a-6ad0-4dfe-8af9-affc1491caa2\",\"type\":\"BasicTickFormatter\"},\"plot\":{\"id\":\"563ba726-bc4b-4ab9-82e7-61ccc2742fce\",\"subtype\":\"Figure\",\"type\":\"Plot\"},\"ticker\":{\"id\":\"9c2cf91d-2951-47f5-95ea-692e1b6a801e\",\"type\":\"BasicTicker\"}},\"id\":\"61f1db61-524a-44b0-919a-f935d94c61c2\",\"type\":\"LinearAxis\"},{\"attributes\":{},\"id\":\"9dedca80-4896-46a8-a87c-4d5f83e49c5b\",\"type\":\"LinearScale\"},{\"attributes\":{},\"id\":\"057d3804-6b3d-4617-8d46-ab31d2f0b00b\",\"type\":\"UnionRenderers\"},{\"attributes\":{},\"id\":\"dd9159fc-72ec-49ee-81b8-25d79602eaed\",\"type\":\"Selection\"},{\"attributes\":{},\"id\":\"885d7c0a-6ad0-4dfe-8af9-affc1491caa2\",\"type\":\"BasicTickFormatter\"},{\"attributes\":{\"above\":[{\"id\":\"b4b3cc41-1216-40b0-bf5e-c200fc430af3\",\"type\":\"Legend\"}],\"below\":[{\"id\":\"daaa48ab-9dc5-4f43-b490-06df9d9f4608\",\"type\":\"LinearAxis\"}],\"left\":[{\"id\":\"61f1db61-524a-44b0-919a-f935d94c61c2\",\"type\":\"LinearAxis\"}],\"plot_width\":500,\"renderers\":[{\"id\":\"daaa48ab-9dc5-4f43-b490-06df9d9f4608\",\"type\":\"LinearAxis\"},{\"id\":\"a47146cc-684e-44e4-8651-77e8240fd0a9\",\"type\":\"Grid\"},{\"id\":\"61f1db61-524a-44b0-919a-f935d94c61c2\",\"type\":\"LinearAxis\"},{\"id\":\"9c6a8d37-6179-4571-acd7-fbaee9f7401a\",\"type\":\"Grid\"},{\"id\":\"d2735c75-83cc-4668-973e-166e10e8ba4e\",\"type\":\"BoxAnnotation\"},{\"id\":\"c61a853a-58b0-4070-9b92-56ad25b1e2b8\",\"type\":\"GlyphRenderer\"},{\"id\":\"549883c6-0680-4307-9b92-bc2a9dacd9e3\",\"type\":\"GlyphRenderer\"},{\"id\":\"b4b3cc41-1216-40b0-bf5e-c200fc430af3\",\"type\":\"Legend\"}],\"title\":{\"id\":\"b40d7045-ea44-4350-aff0-412f33bd24df\",\"type\":\"Title\"},\"toolbar\":{\"id\":\"daefb58c-3c84-43f1-88c2-71cf4394f11a\",\"type\":\"Toolbar\"},\"x_range\":{\"id\":\"b8b7edbe-0dd2-441b-ad82-1909b336d15b\",\"type\":\"Range1d\"},\"x_scale\":{\"id\":\"4cbafa08-d224-46a5-b4ff-bf30120de93c\",\"type\":\"LinearScale\"},\"y_range\":{\"id\":\"536c4681-9d32-48bd-b3c9-f40c48e39b80\",\"type\":\"Range1d\"},\"y_scale\":{\"id\":\"9dedca80-4896-46a8-a87c-4d5f83e49c5b\",\"type\":\"LinearScale\"}},\"id\":\"563ba726-bc4b-4ab9-82e7-61ccc2742fce\",\"subtype\":\"Figure\",\"type\":\"Plot\"},{\"attributes\":{},\"id\":\"228e0365-b52d-40c9-9728-665f9ccf57ce\",\"type\":\"PanTool\"},{\"attributes\":{\"data_source\":{\"id\":\"5d905306-1ca1-4ce0-b2b4-0a4f26ec0c14\",\"type\":\"ColumnDataSource\"},\"glyph\":{\"id\":\"98722b9b-d71a-4faf-b8d3-8dcfb1470c07\",\"type\":\"Line\"},\"hover_glyph\":null,\"muted_glyph\":null,\"nonselection_glyph\":{\"id\":\"9915511c-1257-4170-b717-3fc132fb0de2\",\"type\":\"Line\"},\"selection_glyph\":null,\"view\":{\"id\":\"c74521f2-f354-4e73-9d3c-9b13f006ccf2\",\"type\":\"CDSView\"}},\"id\":\"c61a853a-58b0-4070-9b92-56ad25b1e2b8\",\"type\":\"GlyphRenderer\"},{\"attributes\":{\"label\":{\"value\":\"tflux\"},\"renderers\":[{\"id\":\"c61a853a-58b0-4070-9b92-56ad25b1e2b8\",\"type\":\"GlyphRenderer\"}]},\"id\":\"27987acb-35d7-49e1-b9c1-60afbaac169a\",\"type\":\"LegendItem\"},{\"attributes\":{\"callback\":null,\"data\":{\"x\":{\"__ndarray__\":\"hxbZzvd3bED+YOC593dsQP5g4Ln3d2xAdavnpPd3bEDt9e6P93dsQGRA9nr3d2xAUtUEUfd3bEBBahMn93dsQByUMNP2d2xA+b1Nf/Z3bEA7x4Ds9XdsQOOvyRr1d2xAZcIv9fN3bEA8Sbpm8ndsQM0jfzDwd2xA8Xub/ux3bEASMSWS6HdsQPcBSG3id2xA0oxF09l3bEA4T3XIzXdsQKtbPSe9d2xAe4MvTKZ3bED2l92Th3dsQNBJ7xtfd2xARP8EFyt3bED0/dR46XZsQIKLFTWYdmxA98ySADV2bEAvbqMBvHVsQKW9wRcmdWxAWZ4Hd2d0bECqDrkZbnNsQN4CCYofcmxAP1JEhlVwbECWJqWg221sQBu2LcpsamxAQs9m1edlbEDBHD1+b2FsQIo3Mo/8XGxAswxxrItYbEBoOjsZHFRsQNGWcymuT2xAeHqlLENLbEBmiGNd3EZsQHqNXaJ6QmxA/DVZox4+bEBB9nr3xzlsQNxLGqN1NWxAmPViKCcxbECbyTfb3CxsQAaeew+XKGxAYign2lUkbECxaDo7GSBsQHsUrkfhG2xAWkxsPq4XbEDWxW00gBNsQHo2qz5XD2xAVgkWhzMLbECQFJFhFQdsQDbDDfj8AmxAX4B9dOr+a0DEQq1p3vprQPC/lezY9mtA9WIoJ9rya0DmllZD4u5rQFp8CoDx6mtAVhNE3Qfna0DmxvSEJeNrQKu3BrZK32tAKJtyhXfba0CWsgxxrNdrQCk/qfbp02tAfGEyVTDQa0AqOpLLf8xrQLx+wW7YyGtAMC/APjrFa0A=\",\"dtype\":\"float64\",\"shape\":[76]},\"y\":{\"__ndarray__\":\"AAAAAAAAAABhMlUwKqlDP5LLf0i/fU0/YTJVMCqpUz9fB84ZUdpbP2EyVTAqqWM/XwfOGVHaaz9hMlUwKqlzP1OWIY51cXs/VcGopE5Agz/A7J48LNSKP0hQ/Bhz15I/s3vysFBrmj9/+zpwzoiiP6YKRiV1Aqo/xm00gLdAsj+amZmZmZm5P4V80LNZ9cE/jSjtDb4wyT9Ei2zn+6nRP7wFEhQ/xtg/qaROQBNh4T9Wn6ut2F/oP39qvHSTGPE/s+pztRX79z8Z4lgXt9EAQGQ730+NlwdAzojS3uCLEED2KFyPwjUXQNc07zhFRyBAL90kBoHVJkBPQBNhwwMwQBBYObTIdjZAppvEILCCP0D99nXgnBlGQAAAAAAAAE9AmpmZmZlxVUAzMzMzM2NbQGZmZmZmqmBAMzMzMzOjY0AAAAAAAJxmQM3MzMzMlGlAmpmZmZmNbEBmZmZmZoZvQJqZmZmZP3FAAAAAAAC8ckBmZmZmZjh0QM3MzMzMtHVAMzMzMzMxd0CamZmZma14QAAAAAAAKnpAZmZmZmame0DNzMzMzCJ9QDMzMzMzn35AzczMzMwNgEAAAAAAAMyAQDMzMzMzioFAZmZmZmZIgkCamZmZmQaDQM3MzMzMxINAAAAAAACDhEAzMzMzM0GFQGZmZmZm/4VAmpmZmZm9hkDNzMzMzHuHQAAAAAAAOohAMzMzMzP4iEBmZmZmZraJQJqZmZmZdIpAzczMzMwyi0AAAAAAAPGLQDMzMzMzr4xAZmZmZmZtjUCamZmZmSuOQM3MzMzM6Y5AAAAAAACoj0A=\",\"dtype\":\"float64\",\"shape\":[76]}},\"selected\":{\"id\":\"c9c2e532-575c-4485-abb7-340938326197\",\"type\":\"Selection\"},\"selection_policy\":{\"id\":\"057d3804-6b3d-4617-8d46-ab31d2f0b00b\",\"type\":\"UnionRenderers\"}},\"id\":\"5d905306-1ca1-4ce0-b2b4-0a4f26ec0c14\",\"type\":\"ColumnDataSource\"},{\"attributes\":{\"line_alpha\":0.8030267819304325,\"line_color\":\"#9edae5\",\"line_dash\":[6,4,2,4],\"line_width\":1.0557105349629148,\"x\":{\"field\":\"x\"},\"y\":{\"field\":\"y\"}},\"id\":\"e287ca80-fd4e-4743-8b5b-b26768c3fcad\",\"type\":\"Line\"},{\"attributes\":{\"bottom_units\":\"screen\",\"fill_alpha\":{\"value\":0.5},\"fill_color\":{\"value\":\"lightgrey\"},\"left_units\":\"screen\",\"level\":\"overlay\",\"line_alpha\":{\"value\":1.0},\"line_color\":{\"value\":\"black\"},\"line_dash\":[4,4],\"line_width\":{\"value\":2},\"plot\":null,\"render_mode\":\"css\",\"right_units\":\"screen\",\"top_units\":\"screen\"},\"id\":\"d2735c75-83cc-4668-973e-166e10e8ba4e\",\"type\":\"BoxAnnotation\"},{\"attributes\":{},\"id\":\"4cbafa08-d224-46a5-b4ff-bf30120de93c\",\"type\":\"LinearScale\"},{\"attributes\":{\"line_alpha\":0.1,\"line_color\":\"#1f77b4\",\"line_dash\":[6],\"line_width\":1.5744484991144598,\"x\":{\"field\":\"x\"},\"y\":{\"field\":\"y\"}},\"id\":\"9915511c-1257-4170-b717-3fc132fb0de2\",\"type\":\"Line\"},{\"attributes\":{\"plot\":null,\"text\":\"\"},\"id\":\"b40d7045-ea44-4350-aff0-412f33bd24df\",\"type\":\"Title\"},{\"attributes\":{},\"id\":\"b020aec7-752c-4958-bf79-4f4915eee8b3\",\"type\":\"HelpTool\"},{\"attributes\":{},\"id\":\"1f0980c4-58a9-4c0b-858a-5e9d1d89c670\",\"type\":\"ResetTool\"},{\"attributes\":{\"callback\":null,\"end\":227.37833659999998,\"start\":222.01756340000003},\"id\":\"b8b7edbe-0dd2-441b-ad82-1909b336d15b\",\"type\":\"Range1d\"},{\"attributes\":{},\"id\":\"cd535f1b-f375-448d-898c-550e629e4a0f\",\"type\":\"SaveTool\"},{\"attributes\":{\"overlay\":{\"id\":\"d2735c75-83cc-4668-973e-166e10e8ba4e\",\"type\":\"BoxAnnotation\"}},\"id\":\"d166629c-9e8a-4f9c-baf5-41da50419d66\",\"type\":\"BoxZoomTool\"},{\"attributes\":{},\"id\":\"6b05ace7-fd6e-4579-95d9-daf4aa423d50\",\"type\":\"WheelZoomTool\"},{\"attributes\":{\"active_drag\":\"auto\",\"active_inspect\":\"auto\",\"active_scroll\":\"auto\",\"active_tap\":\"auto\",\"tools\":[{\"id\":\"228e0365-b52d-40c9-9728-665f9ccf57ce\",\"type\":\"PanTool\"},{\"id\":\"6b05ace7-fd6e-4579-95d9-daf4aa423d50\",\"type\":\"WheelZoomTool\"},{\"id\":\"d166629c-9e8a-4f9c-baf5-41da50419d66\",\"type\":\"BoxZoomTool\"},{\"id\":\"cd535f1b-f375-448d-898c-550e629e4a0f\",\"type\":\"SaveTool\"},{\"id\":\"1f0980c4-58a9-4c0b-858a-5e9d1d89c670\",\"type\":\"ResetTool\"},{\"id\":\"b020aec7-752c-4958-bf79-4f4915eee8b3\",\"type\":\"HelpTool\"}]},\"id\":\"daefb58c-3c84-43f1-88c2-71cf4394f11a\",\"type\":\"Toolbar\"},{\"attributes\":{},\"id\":\"8e0e3fc7-55a0-4803-a687-7e105210c8a4\",\"type\":\"BasicTickFormatter\"},{\"attributes\":{\"callback\":null,\"end\":0.01,\"start\":1020},\"id\":\"536c4681-9d32-48bd-b3c9-f40c48e39b80\",\"type\":\"Range1d\"},{\"attributes\":{\"items\":[{\"id\":\"27987acb-35d7-49e1-b9c1-60afbaac169a\",\"type\":\"LegendItem\"},{\"id\":\"07904307-c6b8-450c-a1fb-5881ce6a2f93\",\"type\":\"LegendItem\"}],\"label_text_font_size\":{\"value\":\"8pt\"},\"location\":\"top_center\",\"orientation\":\"horizontal\",\"plot\":{\"id\":\"563ba726-bc4b-4ab9-82e7-61ccc2742fce\",\"subtype\":\"Figure\",\"type\":\"Plot\"}},\"id\":\"b4b3cc41-1216-40b0-bf5e-c200fc430af3\",\"type\":\"Legend\"}],\"root_ids\":[\"563ba726-bc4b-4ab9-82e7-61ccc2742fce\"]},\"title\":\"Bokeh Application\",\"version\":\"0.12.16\"}};\n",
       "  var render_items = [{\"docid\":\"faaf9309-6e8a-433c-9914-9573a938c83a\",\"elementid\":\"11b8fdbe-b187-455b-a772-abfe395e8753\",\"modelid\":\"563ba726-bc4b-4ab9-82e7-61ccc2742fce\"}];\n",
       "  root.Bokeh.embed.embed_items_notebook(docs_json, render_items);\n",
       "\n",
       "  }\n",
       "  if (root.Bokeh !== undefined) {\n",
       "    embed_document(root);\n",
       "  } else {\n",
       "    var attempts = 0;\n",
       "    var timer = setInterval(function(root) {\n",
       "      if (root.Bokeh !== undefined) {\n",
       "        embed_document(root);\n",
       "        clearInterval(timer);\n",
       "      }\n",
       "      attempts++;\n",
       "      if (attempts > 100) {\n",
       "        console.log(\"Bokeh: ERROR: Unable to run BokehJS code because BokehJS library is missing\")\n",
       "        clearInterval(timer);\n",
       "      }\n",
       "    }, 10, root)\n",
       "  }\n",
       "})(window);"
      ],
      "application/vnd.bokehjs_exec.v0+json": ""
     },
     "metadata": {
      "application/vnd.bokehjs_exec.v0+json": {
       "id": "563ba726-bc4b-4ab9-82e7-61ccc2742fce"
      }
     },
     "output_type": "display_data"
    }
   ],
   "source": [
    "cool = pd.read_csv(PATH/'fort.10', sep=r'\\s+', header=None)\n",
    "cool.set_index(0, inplace=True)\n",
    "cool.index.names = ['pressure']\n",
    "cool.columns = ['theat', 'theatg']\n",
    "\n",
    "pltdata = [{'srs':xr.DataArray(flux[g]),\n",
    "            'label':f'{g}',\n",
    "            'color':np.random.choice(all_palettes['Category20'][20]),\n",
    "            'alpha':np.random.uniform(.5, 1.),\n",
    "            'line_width':np.random.uniform(1, 5),\n",
    "            'line_dash':np.random.choice(['solid', 'dashed', 'dotted', 'dotdash', 'dashdot'])} for g in flux]\n",
    "\n",
    "show(plt_vert_profile_bokeh(pltdata=pltdata, xlabel='heat'))"
   ]
  },
  {
   "cell_type": "code",
   "execution_count": 33,
   "metadata": {},
   "outputs": [
    {
     "data": {
      "text/html": [
       "<script>\n",
       "code_show=true; \n",
       "function code_toggle() {\n",
       " if (code_show){\n",
       " $('div.input').hide();\n",
       " } else {\n",
       " $('div.input').show();\n",
       " }\n",
       " code_show = !code_show\n",
       "} \n",
       "$( document ).ready(code_toggle);\n",
       "</script>\n",
       "<form action=\"javascript:code_toggle()\"><input type=\"submit\" value=\"Click here to toggle on/off the raw code.\"></form>"
      ],
      "text/plain": [
       "<IPython.core.display.HTML object>"
      ]
     },
     "execution_count": 33,
     "metadata": {},
     "output_type": "execute_result"
    }
   ],
   "source": [
    "display.HTML('''<script>\n",
    "code_show=true; \n",
    "function code_toggle() {\n",
    " if (code_show){\n",
    " $('div.input').hide();\n",
    " } else {\n",
    " $('div.input').show();\n",
    " }\n",
    " code_show = !code_show\n",
    "} \n",
    "$( document ).ready(code_toggle);\n",
    "</script>\n",
    "<form action=\"javascript:code_toggle()\"><input type=\"submit\" value=\"Click here to toggle on/off the raw code.\"></form>''')"
   ]
  },
  {
   "cell_type": "code",
   "execution_count": null,
   "metadata": {
    "collapsed": true
   },
   "outputs": [],
   "source": []
  },
  {
   "cell_type": "code",
   "execution_count": null,
   "metadata": {
    "collapsed": true
   },
   "outputs": [],
   "source": []
  },
  {
   "cell_type": "code",
   "execution_count": null,
   "metadata": {
    "collapsed": true
   },
   "outputs": [],
   "source": []
  },
  {
   "cell_type": "code",
   "execution_count": null,
   "metadata": {
    "collapsed": true
   },
   "outputs": [],
   "source": []
  },
  {
   "cell_type": "code",
   "execution_count": null,
   "metadata": {
    "collapsed": true
   },
   "outputs": [],
   "source": []
  },
  {
   "cell_type": "code",
   "execution_count": null,
   "metadata": {
    "collapsed": true
   },
   "outputs": [],
   "source": []
  },
  {
   "cell_type": "code",
   "execution_count": null,
   "metadata": {
    "collapsed": true
   },
   "outputs": [],
   "source": []
  },
  {
   "cell_type": "code",
   "execution_count": null,
   "metadata": {
    "collapsed": true
   },
   "outputs": [],
   "source": []
  },
  {
   "cell_type": "code",
   "execution_count": null,
   "metadata": {
    "collapsed": true
   },
   "outputs": [],
   "source": []
  },
  {
   "cell_type": "code",
   "execution_count": null,
   "metadata": {
    "collapsed": true
   },
   "outputs": [],
   "source": []
  },
  {
   "cell_type": "code",
   "execution_count": null,
   "metadata": {
    "collapsed": true
   },
   "outputs": [],
   "source": []
  },
  {
   "cell_type": "code",
   "execution_count": null,
   "metadata": {
    "collapsed": true
   },
   "outputs": [],
   "source": []
  },
  {
   "cell_type": "code",
   "execution_count": null,
   "metadata": {
    "collapsed": true
   },
   "outputs": [],
   "source": []
  }
 ],
 "metadata": {
  "kernelspec": {
   "display_name": "Python 3",
   "language": "python",
   "name": "python3"
  },
  "language_info": {
   "codemirror_mode": {
    "name": "ipython",
    "version": 3
   },
   "file_extension": ".py",
   "mimetype": "text/x-python",
   "name": "python",
   "nbconvert_exporter": "python",
   "pygments_lexer": "ipython3",
   "version": "3.6.7"
  }
 },
 "nbformat": 4,
 "nbformat_minor": 2
}
